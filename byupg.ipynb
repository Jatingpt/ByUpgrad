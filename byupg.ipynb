{
  "nbformat": 4,
  "nbformat_minor": 0,
  "metadata": {
    "colab": {
      "provenance": [],
      "authorship_tag": "ABX9TyP+Qzy6HhjNztXTBUAIESpN",
      "include_colab_link": true
    },
    "kernelspec": {
      "name": "python3",
      "display_name": "Python 3"
    },
    "language_info": {
      "name": "python"
    }
  },
  "cells": [
    {
      "cell_type": "markdown",
      "metadata": {
        "id": "view-in-github",
        "colab_type": "text"
      },
      "source": [
        "<a href=\"https://colab.research.google.com/github/Jatingpt/ByUpgrad/blob/main/byupg.ipynb\" target=\"_parent\"><img src=\"https://colab.research.google.com/assets/colab-badge.svg\" alt=\"Open In Colab\"/></a>"
      ]
    },
    {
      "cell_type": "code",
      "execution_count": null,
      "metadata": {
        "colab": {
          "base_uri": "https://localhost:8080/"
        },
        "id": "-lwcXFu-pDfh",
        "outputId": "f98125f5-e70b-4da5-bb67-8410d2ccfb59"
      },
      "outputs": [
        {
          "output_type": "stream",
          "name": "stdout",
          "text": [
            "4\n",
            "5\n",
            "10751912\n"
          ]
        }
      ],
      "source": [
        "#input method- take input as a sample 15 and convert into 16 by using input method.\n",
        "a = int(input())\n",
        "output = a + 1\n",
        "print(output)\n",
        "\n",
        "\n",
        "#to find the location of the variable\n",
        "x = 34\n",
        "print(id(x))"
      ]
    },
    {
      "cell_type": "code",
      "source": [
        "#upg ques\n",
        "x = int(input())\n",
        "y = int(input())\n",
        "\n",
        "output = x^y + (x+y)^(x-y)  #use ** instead of ^\n",
        "\n",
        "print(output)"
      ],
      "metadata": {
        "id": "Cn-eSgiW79Ym",
        "outputId": "d9773aa8-f11c-494f-f33f-cab97b9b7f0c",
        "colab": {
          "base_uri": "https://localhost:8080/"
        }
      },
      "execution_count": 8,
      "outputs": [
        {
          "output_type": "stream",
          "name": "stdout",
          "text": [
            "3\n",
            "3\n",
            "10\n"
          ]
        }
      ]
    },
    {
      "cell_type": "code",
      "source": [
        "#Write a Python program to take a temperature in degrees Celsius as input from a user and convert it to the Fahrenheit scale.\n",
        "#Hint: Temperature in Fahrenheit = (Temperature in Celsius )* (9/5) + 32\n",
        "#Sample Input: -40\n",
        "#Sample Output: -40.0\n",
        "a = int(input())\n",
        "output = a*(9/5)+32\n",
        "print(output)"
      ],
      "metadata": {
        "id": "ZybO3RGm9Bl-",
        "outputId": "802b738e-141a-4a41-80b5-37e09e887a0e",
        "colab": {
          "base_uri": "https://localhost:8080/"
        }
      },
      "execution_count": 9,
      "outputs": [
        {
          "output_type": "stream",
          "name": "stdout",
          "text": [
            "-40\n",
            "-40.0\n"
          ]
        }
      ]
    },
    {
      "cell_type": "code",
      "source": [
        "#upg coding ques\n",
        "var1=5\n",
        "var2=____(var1)\n",
        "print(var2)"
      ],
      "metadata": {
        "id": "esP381Y16qDi",
        "outputId": "19f35123-d44a-46a5-fdf1-fd893561fac0",
        "colab": {
          "base_uri": "https://localhost:8080/",
          "height": 193
        }
      },
      "execution_count": 4,
      "outputs": [
        {
          "output_type": "error",
          "ename": "NameError",
          "evalue": "name '____' is not defined",
          "traceback": [
            "\u001b[0;31m---------------------------------------------------------------------------\u001b[0m",
            "\u001b[0;31mNameError\u001b[0m                                 Traceback (most recent call last)",
            "\u001b[0;32m<ipython-input-4-fe42da59842d>\u001b[0m in \u001b[0;36m<cell line: 0>\u001b[0;34m()\u001b[0m\n\u001b[1;32m      1\u001b[0m \u001b[0;31m#upg coding ques\u001b[0m\u001b[0;34m\u001b[0m\u001b[0;34m\u001b[0m\u001b[0m\n\u001b[1;32m      2\u001b[0m \u001b[0mvar1\u001b[0m\u001b[0;34m=\u001b[0m\u001b[0;36m5\u001b[0m\u001b[0;34m\u001b[0m\u001b[0;34m\u001b[0m\u001b[0m\n\u001b[0;32m----> 3\u001b[0;31m \u001b[0mvar2\u001b[0m\u001b[0;34m=\u001b[0m\u001b[0m____\u001b[0m\u001b[0;34m(\u001b[0m\u001b[0mvar1\u001b[0m\u001b[0;34m)\u001b[0m\u001b[0;34m\u001b[0m\u001b[0;34m\u001b[0m\u001b[0m\n\u001b[0m\u001b[1;32m      4\u001b[0m \u001b[0mprint\u001b[0m\u001b[0;34m(\u001b[0m\u001b[0mvar2\u001b[0m\u001b[0;34m)\u001b[0m\u001b[0;34m\u001b[0m\u001b[0;34m\u001b[0m\u001b[0m\n",
            "\u001b[0;31mNameError\u001b[0m: name '____' is not defined"
          ]
        }
      ]
    },
    {
      "cell_type": "code",
      "source": [
        "a = int(input())\n",
        "b = int(input())\n",
        "output = (a+b)/2\n",
        "print(output)"
      ],
      "metadata": {
        "id": "eBIqtiPJ1QGW",
        "outputId": "e8bd471f-9cc2-44a2-ff0d-692efd0b4e5c",
        "colab": {
          "base_uri": "https://localhost:8080/"
        }
      },
      "execution_count": null,
      "outputs": [
        {
          "output_type": "stream",
          "name": "stdout",
          "text": [
            "4\n",
            "2\n",
            "3.5\n"
          ]
        }
      ]
    },
    {
      "cell_type": "markdown",
      "source": [
        "In this code, integer is assigned the value 10000000000, which is a larger integer. When you print the size of integer using sys.getsizeof(), it returns the value 32 bytes.\n",
        "\n",
        "\n",
        "\n",
        "We can use the maxsize attribute of the sys module to get the minimum and maximum range of integers."
      ],
      "metadata": {
        "id": "BOZTmcX0qfLt"
      }
    },
    {
      "cell_type": "code",
      "source": [
        "#We can get the size of an integer variable using the getsizeof() method of the sys module.\n",
        "import sys\n",
        "x = 23\n",
        "sys.getsizeof(x)\n",
        "\n",
        "\n",
        "import sys\n",
        "integer = 10000000000\n",
        "print(\"The size of the integer variable is: \", sys.getsizeof(integer), 'bytes')\n",
        "\n",
        "max_int = sys.maxsize\n",
        "print(max_int)\n",
        "\n",
        "min_int = sys.maxsize * -1 - 1\n",
        "print(min_int)"
      ],
      "metadata": {
        "colab": {
          "base_uri": "https://localhost:8080/"
        },
        "id": "UsKov-BCpYau",
        "outputId": "a870dd2a-904f-4467-a05d-a79cbe413281"
      },
      "execution_count": null,
      "outputs": [
        {
          "output_type": "stream",
          "name": "stdout",
          "text": [
            "The size of the integer variable is:  32 bytes\n",
            "9223372036854775807\n",
            "-9223372036854775808\n"
          ]
        }
      ]
    },
    {
      "cell_type": "markdown",
      "source": [
        "Here is a brief summary of what you have learnt in the video above.\n",
        "\n",
        "\n",
        "\n",
        "Headings\n",
        "\n",
        "# for the titles\n",
        "## for the main headings\n",
        "### for the subheadings\n",
        "#### for the smaller subheadings\n",
        "##### for the italic subheadings\n",
        "Emphasis\n",
        "\n",
        "__string__ or **string** for bold text\n",
        "_string_ or *string*  for italic text\n",
        "Monospace fonts\n",
        "\n",
        "A back single quotation mark ` on both sides to get monospace fonts\n",
        "Line breaks\n",
        "\n",
        "<br> wherever you want a line break, as the notebook sometimes doesn't give you the required line break where you want it\n",
        "Indenting\n",
        "\n",
        "> to indent the text\n",
        ">> for further indenting it, and so on\n",
        "Bullets and numbering\n",
        "\n",
        "A single dash, i.e. -  followed by two spaces to make bullet points\n",
        "A number and a dot followed by a space, i.e. 1. to make numbered lists\n",
        "Colouring\n",
        "\n",
        "<font color = blue, yellow, red, pink, green, etc.> String </font> to give your font any colour that you want\n",
        "LaTeX Equations\n",
        "\n",
        "$ on both the sides of the text to write LaTeX equations"
      ],
      "metadata": {
        "id": "22o2XwiwxJVV"
      }
    },
    {
      "cell_type": "markdown",
      "source": [
        "Command mode shortcuts\n",
        "\n",
        "Esc: To go into command mode\n",
        "\n",
        "Enter: To go back to edit mode\n",
        "\n",
        "M: To convert a cell to a markdown cell\n",
        "\n",
        "Y: To convert a cell back to a code cell\n",
        "\n",
        "A: To insert a new cell above\n",
        "\n",
        "B: To insert a new cell below\n",
        "\n",
        "D + D: To delete cell\n",
        "\n",
        "Z: Undo the last operation\n",
        "\n",
        "F: To find and replace on your code\n",
        "\n",
        "Shift + Up/Down: To select multiple\n",
        "\n",
        "Space: Scroll notebook downwards\n",
        "\n",
        "Shift + Space: Scroll notebook upwards\n",
        "\n",
        "Edit mode shortcuts\n",
        "\n",
        "Shift + Enter: To execute the code in the current cell and go to the next cell\n",
        "Alt + Enter: To execute the code in the current cell and insert a new cell below\n",
        "Shift + Tab: To get a brief documentation of the object that you have just typed in the coding cell\n",
        "Ctrl + Shift + -: To split the cell at the cursor\n",
        "Shift + M: To merge selected cells"
      ],
      "metadata": {
        "id": "PVf1DnoQw0vL"
      }
    },
    {
      "cell_type": "markdown",
      "source": [
        "##String- We can create string with single or double quotes. Also we can create multiple line string by using triple quotes as well.\n"
      ],
      "metadata": {
        "id": "VJeSWDj_wvMR"
      }
    },
    {
      "cell_type": "code",
      "source": [
        "s = 'hello'\n",
        "t= 'hello world'\n",
        "print(s)\n",
        "print(t)"
      ],
      "metadata": {
        "id": "sv8rmNelpyp-",
        "colab": {
          "base_uri": "https://localhost:8080/"
        },
        "outputId": "a417589a-7f1b-4511-e436-8d8579fab748"
      },
      "execution_count": null,
      "outputs": [
        {
          "output_type": "stream",
          "name": "stdout",
          "text": [
            "hello\n",
            "hello world\n"
          ]
        }
      ]
    },
    {
      "cell_type": "code",
      "source": [
        "#converting a integer into string and then using it.\n",
        "age = 24\n",
        "age_str = str(age)\n",
        "print('my age is', age_str)"
      ],
      "metadata": {
        "colab": {
          "base_uri": "https://localhost:8080/"
        },
        "id": "9IDv6llLqR-j",
        "outputId": "8ae1c22f-67a4-4802-a64c-6272545f60b5"
      },
      "execution_count": null,
      "outputs": [
        {
          "output_type": "stream",
          "name": "stdout",
          "text": [
            "my age is 24\n"
          ]
        }
      ]
    },
    {
      "cell_type": "markdown",
      "source": [
        "##**string formatting**\n",
        "\n",
        "###**f-strings(f'{}')**\n",
        "### In this example, the variables name and age are directly inserted into the string using f-string formatting.\n",
        "\n",
        "###**The .format() function**\n",
        "\n",
        "The .format() function is a built-in string function for string formatting. .format() and f-strings (formatted string literals) are both used in Python for string formatting, but they have different syntax and characteristics. Here's how they are similar and different:\n",
        "\n",
        "\n",
        "\n",
        "Similarities\n",
        "\n",
        "- Both .format() and f-strings are used for injecting values into string placeholders, making it easier to create dynamic strings.\n",
        "\n",
        "- They allow for reordering, formatting, and inserting values into strings.\n",
        "\n",
        "- They provide formatting capabilities, such as setting decimal places, padding, alignment, and more, using similar syntax within the placeholders.\n",
        "\n",
        "\n",
        "\n",
        "Differences\n",
        "\n",
        "- .format() uses placeholders inside the string marked by curly braces { }, which are then replaced by the values or variables passed to the .format() method.\n",
        "\n",
        "- f-strings use prefixed strings with f or F and incorporate expressions inside curly braces directly within the string.\n",
        "\n",
        "- f-strings are generally faster than the .format() method.\n",
        "\n",
        "- f-strings offer improved readability because variables and expressions are embedded directly within the string, making it easier to understand."
      ],
      "metadata": {
        "id": "yc-cyZDHq_6m"
      }
    },
    {
      "cell_type": "code",
      "source": [
        "#f-string formatting.\n",
        "\n",
        "name = 'Jatin'\n",
        "age = 29\n",
        "print(f'my name is {name} and i am {age} years old.')\n",
        "\n",
        "goal = 'competition'\n",
        "year = 2025\n",
        "print(f'I will clear the {goal}, at any cost in {year}')\n",
        "\n",
        "#.formatting() function\n",
        "\n",
        "print('I am pursuing a course in {}, and i have gained {} from this coutse' .format('AI and Data Science', 'experience' ))\n",
        "\n"
      ],
      "metadata": {
        "colab": {
          "base_uri": "https://localhost:8080/"
        },
        "id": "OolXbO7gqqI1",
        "outputId": "e3bcca1a-409b-48b6-f6a1-489f7bc85bf3"
      },
      "execution_count": null,
      "outputs": [
        {
          "output_type": "stream",
          "name": "stdout",
          "text": [
            "my name is Jatin and i am 29 years old.\n",
            "I will clear the competition, at any cost in 2025\n",
            "I am pursuing a course in AI and Data Science, and i have gained experience from this coutse\n"
          ]
        }
      ]
    },
    {
      "cell_type": "markdown",
      "source": [
        "##**rstrip and lstrip function in string.**"
      ],
      "metadata": {
        "id": "aodhC1wtePb0"
      }
    },
    {
      "cell_type": "code",
      "source": [
        "#rstrip- to remove the extra spaces and also to remove the characters from a string.\n",
        "a = \"This is my general..  \"\n",
        "print(a)\n",
        "print(a.rstrip())           #space removed"
      ],
      "metadata": {
        "id": "QLtal8IrrXoI",
        "outputId": "d4452dea-b2d2-47a3-baaf-223daa399f1c",
        "colab": {
          "base_uri": "https://localhost:8080/"
        }
      },
      "execution_count": null,
      "outputs": [
        {
          "output_type": "stream",
          "name": "stdout",
          "text": [
            "This is my general..  \n",
            "This is my general..\n"
          ]
        }
      ]
    },
    {
      "cell_type": "code",
      "source": [
        "#rstrip- to remove some special characters in a string.\n",
        "a = '4@'\n",
        "print(a)\n",
        "print(a.rstrip('@'))\n",
        "\n",
        "\n",
        "#lstrip- used to remove the whitespaces from the left side.\n",
        "a = '         hello world'\n",
        "print(a)\n",
        "print(a.lstrip())\n",
        "\n",
        "#also we can apply both rstrip and lstrip at the same time.\n",
        "a = '*****hello#####'\n",
        "print(a)\n",
        "print(a.rstrip('#').lstrip('*'))"
      ],
      "metadata": {
        "id": "oL0DJca5eh9Z",
        "outputId": "49f076eb-690f-424f-bedb-0ba473489725",
        "colab": {
          "base_uri": "https://localhost:8080/"
        }
      },
      "execution_count": null,
      "outputs": [
        {
          "output_type": "stream",
          "name": "stdout",
          "text": [
            "4@\n",
            "4\n",
            "         hello world\n",
            "hello world\n",
            "*****hello#####\n",
            "hello\n"
          ]
        }
      ]
    },
    {
      "cell_type": "code",
      "source": [
        "#count method.\n",
        "a = 'this is a workbook'\n",
        "print(a.count('i'))     #simply count the occurence of i while,\n",
        "print(a.count('i', 5))  #it will check the occurence of i from the index number 5. putput= as we have only one i from 5th location so output is 1."
      ],
      "metadata": {
        "id": "i4KjFxQVe2Jt",
        "outputId": "f81b8c66-5797-4226-de96-dc2fefdf76d8",
        "colab": {
          "base_uri": "https://localhost:8080/"
        }
      },
      "execution_count": null,
      "outputs": [
        {
          "output_type": "stream",
          "name": "stdout",
          "text": [
            "2\n",
            "1\n"
          ]
        }
      ]
    },
    {
      "cell_type": "code",
      "source": [
        "#concatenation and formatting in python.\n",
        "age = 30\n",
        "print('I am '+ str(age) + ' years old')\n",
        "print('I am {0} years old'.format(age))\n",
        "\n",
        "#formatting with the different variables.\n",
        "a = 'Data'\n",
        "b = 'Analysis'\n",
        "c = 'Python'\n",
        "print('{0}, {1}, using {2}'.format(a,b,c))"
      ],
      "metadata": {
        "id": "DXy8jmcVglmp",
        "outputId": "963b2f80-31e0-41a7-ffe7-d17fb3baf878",
        "colab": {
          "base_uri": "https://localhost:8080/"
        }
      },
      "execution_count": null,
      "outputs": [
        {
          "output_type": "stream",
          "name": "stdout",
          "text": [
            "I am 30 years old\n",
            "I am 30 years old\n",
            "Data, Analysis, using Python\n"
          ]
        }
      ]
    },
    {
      "cell_type": "code",
      "source": [
        "#Notes- to find all the function of the string.\n",
        "help(str)  #will provide the all the list function."
      ],
      "metadata": {
        "id": "OLwGr_ubhPXn",
        "outputId": "c59cc603-3af5-4057-a19f-1e3ef7ea5560",
        "colab": {
          "base_uri": "https://localhost:8080/"
        }
      },
      "execution_count": null,
      "outputs": [
        {
          "output_type": "stream",
          "name": "stdout",
          "text": [
            "Help on class str in module builtins:\n",
            "\n",
            "class str(object)\n",
            " |  str(object='') -> str\n",
            " |  str(bytes_or_buffer[, encoding[, errors]]) -> str\n",
            " |  \n",
            " |  Create a new string object from the given object. If encoding or\n",
            " |  errors is specified, then the object must expose a data buffer\n",
            " |  that will be decoded using the given encoding and error handler.\n",
            " |  Otherwise, returns the result of object.__str__() (if defined)\n",
            " |  or repr(object).\n",
            " |  encoding defaults to sys.getdefaultencoding().\n",
            " |  errors defaults to 'strict'.\n",
            " |  \n",
            " |  Methods defined here:\n",
            " |  \n",
            " |  __add__(self, value, /)\n",
            " |      Return self+value.\n",
            " |  \n",
            " |  __contains__(self, key, /)\n",
            " |      Return key in self.\n",
            " |  \n",
            " |  __eq__(self, value, /)\n",
            " |      Return self==value.\n",
            " |  \n",
            " |  __format__(self, format_spec, /)\n",
            " |      Return a formatted version of the string as described by format_spec.\n",
            " |  \n",
            " |  __ge__(self, value, /)\n",
            " |      Return self>=value.\n",
            " |  \n",
            " |  __getattribute__(self, name, /)\n",
            " |      Return getattr(self, name).\n",
            " |  \n",
            " |  __getitem__(self, key, /)\n",
            " |      Return self[key].\n",
            " |  \n",
            " |  __getnewargs__(...)\n",
            " |  \n",
            " |  __gt__(self, value, /)\n",
            " |      Return self>value.\n",
            " |  \n",
            " |  __hash__(self, /)\n",
            " |      Return hash(self).\n",
            " |  \n",
            " |  __iter__(self, /)\n",
            " |      Implement iter(self).\n",
            " |  \n",
            " |  __le__(self, value, /)\n",
            " |      Return self<=value.\n",
            " |  \n",
            " |  __len__(self, /)\n",
            " |      Return len(self).\n",
            " |  \n",
            " |  __lt__(self, value, /)\n",
            " |      Return self<value.\n",
            " |  \n",
            " |  __mod__(self, value, /)\n",
            " |      Return self%value.\n",
            " |  \n",
            " |  __mul__(self, value, /)\n",
            " |      Return self*value.\n",
            " |  \n",
            " |  __ne__(self, value, /)\n",
            " |      Return self!=value.\n",
            " |  \n",
            " |  __repr__(self, /)\n",
            " |      Return repr(self).\n",
            " |  \n",
            " |  __rmod__(self, value, /)\n",
            " |      Return value%self.\n",
            " |  \n",
            " |  __rmul__(self, value, /)\n",
            " |      Return value*self.\n",
            " |  \n",
            " |  __sizeof__(self, /)\n",
            " |      Return the size of the string in memory, in bytes.\n",
            " |  \n",
            " |  __str__(self, /)\n",
            " |      Return str(self).\n",
            " |  \n",
            " |  capitalize(self, /)\n",
            " |      Return a capitalized version of the string.\n",
            " |      \n",
            " |      More specifically, make the first character have upper case and the rest lower\n",
            " |      case.\n",
            " |  \n",
            " |  casefold(self, /)\n",
            " |      Return a version of the string suitable for caseless comparisons.\n",
            " |  \n",
            " |  center(self, width, fillchar=' ', /)\n",
            " |      Return a centered string of length width.\n",
            " |      \n",
            " |      Padding is done using the specified fill character (default is a space).\n",
            " |  \n",
            " |  count(...)\n",
            " |      S.count(sub[, start[, end]]) -> int\n",
            " |      \n",
            " |      Return the number of non-overlapping occurrences of substring sub in\n",
            " |      string S[start:end].  Optional arguments start and end are\n",
            " |      interpreted as in slice notation.\n",
            " |  \n",
            " |  encode(self, /, encoding='utf-8', errors='strict')\n",
            " |      Encode the string using the codec registered for encoding.\n",
            " |      \n",
            " |      encoding\n",
            " |        The encoding in which to encode the string.\n",
            " |      errors\n",
            " |        The error handling scheme to use for encoding errors.\n",
            " |        The default is 'strict' meaning that encoding errors raise a\n",
            " |        UnicodeEncodeError.  Other possible values are 'ignore', 'replace' and\n",
            " |        'xmlcharrefreplace' as well as any other name registered with\n",
            " |        codecs.register_error that can handle UnicodeEncodeErrors.\n",
            " |  \n",
            " |  endswith(...)\n",
            " |      S.endswith(suffix[, start[, end]]) -> bool\n",
            " |      \n",
            " |      Return True if S ends with the specified suffix, False otherwise.\n",
            " |      With optional start, test S beginning at that position.\n",
            " |      With optional end, stop comparing S at that position.\n",
            " |      suffix can also be a tuple of strings to try.\n",
            " |  \n",
            " |  expandtabs(self, /, tabsize=8)\n",
            " |      Return a copy where all tab characters are expanded using spaces.\n",
            " |      \n",
            " |      If tabsize is not given, a tab size of 8 characters is assumed.\n",
            " |  \n",
            " |  find(...)\n",
            " |      S.find(sub[, start[, end]]) -> int\n",
            " |      \n",
            " |      Return the lowest index in S where substring sub is found,\n",
            " |      such that sub is contained within S[start:end].  Optional\n",
            " |      arguments start and end are interpreted as in slice notation.\n",
            " |      \n",
            " |      Return -1 on failure.\n",
            " |  \n",
            " |  format(...)\n",
            " |      S.format(*args, **kwargs) -> str\n",
            " |      \n",
            " |      Return a formatted version of S, using substitutions from args and kwargs.\n",
            " |      The substitutions are identified by braces ('{' and '}').\n",
            " |  \n",
            " |  format_map(...)\n",
            " |      S.format_map(mapping) -> str\n",
            " |      \n",
            " |      Return a formatted version of S, using substitutions from mapping.\n",
            " |      The substitutions are identified by braces ('{' and '}').\n",
            " |  \n",
            " |  index(...)\n",
            " |      S.index(sub[, start[, end]]) -> int\n",
            " |      \n",
            " |      Return the lowest index in S where substring sub is found,\n",
            " |      such that sub is contained within S[start:end].  Optional\n",
            " |      arguments start and end are interpreted as in slice notation.\n",
            " |      \n",
            " |      Raises ValueError when the substring is not found.\n",
            " |  \n",
            " |  isalnum(self, /)\n",
            " |      Return True if the string is an alpha-numeric string, False otherwise.\n",
            " |      \n",
            " |      A string is alpha-numeric if all characters in the string are alpha-numeric and\n",
            " |      there is at least one character in the string.\n",
            " |  \n",
            " |  isalpha(self, /)\n",
            " |      Return True if the string is an alphabetic string, False otherwise.\n",
            " |      \n",
            " |      A string is alphabetic if all characters in the string are alphabetic and there\n",
            " |      is at least one character in the string.\n",
            " |  \n",
            " |  isascii(self, /)\n",
            " |      Return True if all characters in the string are ASCII, False otherwise.\n",
            " |      \n",
            " |      ASCII characters have code points in the range U+0000-U+007F.\n",
            " |      Empty string is ASCII too.\n",
            " |  \n",
            " |  isdecimal(self, /)\n",
            " |      Return True if the string is a decimal string, False otherwise.\n",
            " |      \n",
            " |      A string is a decimal string if all characters in the string are decimal and\n",
            " |      there is at least one character in the string.\n",
            " |  \n",
            " |  isdigit(self, /)\n",
            " |      Return True if the string is a digit string, False otherwise.\n",
            " |      \n",
            " |      A string is a digit string if all characters in the string are digits and there\n",
            " |      is at least one character in the string.\n",
            " |  \n",
            " |  isidentifier(self, /)\n",
            " |      Return True if the string is a valid Python identifier, False otherwise.\n",
            " |      \n",
            " |      Call keyword.iskeyword(s) to test whether string s is a reserved identifier,\n",
            " |      such as \"def\" or \"class\".\n",
            " |  \n",
            " |  islower(self, /)\n",
            " |      Return True if the string is a lowercase string, False otherwise.\n",
            " |      \n",
            " |      A string is lowercase if all cased characters in the string are lowercase and\n",
            " |      there is at least one cased character in the string.\n",
            " |  \n",
            " |  isnumeric(self, /)\n",
            " |      Return True if the string is a numeric string, False otherwise.\n",
            " |      \n",
            " |      A string is numeric if all characters in the string are numeric and there is at\n",
            " |      least one character in the string.\n",
            " |  \n",
            " |  isprintable(self, /)\n",
            " |      Return True if the string is printable, False otherwise.\n",
            " |      \n",
            " |      A string is printable if all of its characters are considered printable in\n",
            " |      repr() or if it is empty.\n",
            " |  \n",
            " |  isspace(self, /)\n",
            " |      Return True if the string is a whitespace string, False otherwise.\n",
            " |      \n",
            " |      A string is whitespace if all characters in the string are whitespace and there\n",
            " |      is at least one character in the string.\n",
            " |  \n",
            " |  istitle(self, /)\n",
            " |      Return True if the string is a title-cased string, False otherwise.\n",
            " |      \n",
            " |      In a title-cased string, upper- and title-case characters may only\n",
            " |      follow uncased characters and lowercase characters only cased ones.\n",
            " |  \n",
            " |  isupper(self, /)\n",
            " |      Return True if the string is an uppercase string, False otherwise.\n",
            " |      \n",
            " |      A string is uppercase if all cased characters in the string are uppercase and\n",
            " |      there is at least one cased character in the string.\n",
            " |  \n",
            " |  join(self, iterable, /)\n",
            " |      Concatenate any number of strings.\n",
            " |      \n",
            " |      The string whose method is called is inserted in between each given string.\n",
            " |      The result is returned as a new string.\n",
            " |      \n",
            " |      Example: '.'.join(['ab', 'pq', 'rs']) -> 'ab.pq.rs'\n",
            " |  \n",
            " |  ljust(self, width, fillchar=' ', /)\n",
            " |      Return a left-justified string of length width.\n",
            " |      \n",
            " |      Padding is done using the specified fill character (default is a space).\n",
            " |  \n",
            " |  lower(self, /)\n",
            " |      Return a copy of the string converted to lowercase.\n",
            " |  \n",
            " |  lstrip(self, chars=None, /)\n",
            " |      Return a copy of the string with leading whitespace removed.\n",
            " |      \n",
            " |      If chars is given and not None, remove characters in chars instead.\n",
            " |  \n",
            " |  partition(self, sep, /)\n",
            " |      Partition the string into three parts using the given separator.\n",
            " |      \n",
            " |      This will search for the separator in the string.  If the separator is found,\n",
            " |      returns a 3-tuple containing the part before the separator, the separator\n",
            " |      itself, and the part after it.\n",
            " |      \n",
            " |      If the separator is not found, returns a 3-tuple containing the original string\n",
            " |      and two empty strings.\n",
            " |  \n",
            " |  removeprefix(self, prefix, /)\n",
            " |      Return a str with the given prefix string removed if present.\n",
            " |      \n",
            " |      If the string starts with the prefix string, return string[len(prefix):].\n",
            " |      Otherwise, return a copy of the original string.\n",
            " |  \n",
            " |  removesuffix(self, suffix, /)\n",
            " |      Return a str with the given suffix string removed if present.\n",
            " |      \n",
            " |      If the string ends with the suffix string and that suffix is not empty,\n",
            " |      return string[:-len(suffix)]. Otherwise, return a copy of the original\n",
            " |      string.\n",
            " |  \n",
            " |  replace(self, old, new, count=-1, /)\n",
            " |      Return a copy with all occurrences of substring old replaced by new.\n",
            " |      \n",
            " |        count\n",
            " |          Maximum number of occurrences to replace.\n",
            " |          -1 (the default value) means replace all occurrences.\n",
            " |      \n",
            " |      If the optional argument count is given, only the first count occurrences are\n",
            " |      replaced.\n",
            " |  \n",
            " |  rfind(...)\n",
            " |      S.rfind(sub[, start[, end]]) -> int\n",
            " |      \n",
            " |      Return the highest index in S where substring sub is found,\n",
            " |      such that sub is contained within S[start:end].  Optional\n",
            " |      arguments start and end are interpreted as in slice notation.\n",
            " |      \n",
            " |      Return -1 on failure.\n",
            " |  \n",
            " |  rindex(...)\n",
            " |      S.rindex(sub[, start[, end]]) -> int\n",
            " |      \n",
            " |      Return the highest index in S where substring sub is found,\n",
            " |      such that sub is contained within S[start:end].  Optional\n",
            " |      arguments start and end are interpreted as in slice notation.\n",
            " |      \n",
            " |      Raises ValueError when the substring is not found.\n",
            " |  \n",
            " |  rjust(self, width, fillchar=' ', /)\n",
            " |      Return a right-justified string of length width.\n",
            " |      \n",
            " |      Padding is done using the specified fill character (default is a space).\n",
            " |  \n",
            " |  rpartition(self, sep, /)\n",
            " |      Partition the string into three parts using the given separator.\n",
            " |      \n",
            " |      This will search for the separator in the string, starting at the end. If\n",
            " |      the separator is found, returns a 3-tuple containing the part before the\n",
            " |      separator, the separator itself, and the part after it.\n",
            " |      \n",
            " |      If the separator is not found, returns a 3-tuple containing two empty strings\n",
            " |      and the original string.\n",
            " |  \n",
            " |  rsplit(self, /, sep=None, maxsplit=-1)\n",
            " |      Return a list of the substrings in the string, using sep as the separator string.\n",
            " |      \n",
            " |        sep\n",
            " |          The separator used to split the string.\n",
            " |      \n",
            " |          When set to None (the default value), will split on any whitespace\n",
            " |          character (including \\n \\r \\t \\f and spaces) and will discard\n",
            " |          empty strings from the result.\n",
            " |        maxsplit\n",
            " |          Maximum number of splits.\n",
            " |          -1 (the default value) means no limit.\n",
            " |      \n",
            " |      Splitting starts at the end of the string and works to the front.\n",
            " |  \n",
            " |  rstrip(self, chars=None, /)\n",
            " |      Return a copy of the string with trailing whitespace removed.\n",
            " |      \n",
            " |      If chars is given and not None, remove characters in chars instead.\n",
            " |  \n",
            " |  split(self, /, sep=None, maxsplit=-1)\n",
            " |      Return a list of the substrings in the string, using sep as the separator string.\n",
            " |      \n",
            " |        sep\n",
            " |          The separator used to split the string.\n",
            " |      \n",
            " |          When set to None (the default value), will split on any whitespace\n",
            " |          character (including \\n \\r \\t \\f and spaces) and will discard\n",
            " |          empty strings from the result.\n",
            " |        maxsplit\n",
            " |          Maximum number of splits.\n",
            " |          -1 (the default value) means no limit.\n",
            " |      \n",
            " |      Splitting starts at the front of the string and works to the end.\n",
            " |      \n",
            " |      Note, str.split() is mainly useful for data that has been intentionally\n",
            " |      delimited.  With natural text that includes punctuation, consider using\n",
            " |      the regular expression module.\n",
            " |  \n",
            " |  splitlines(self, /, keepends=False)\n",
            " |      Return a list of the lines in the string, breaking at line boundaries.\n",
            " |      \n",
            " |      Line breaks are not included in the resulting list unless keepends is given and\n",
            " |      true.\n",
            " |  \n",
            " |  startswith(...)\n",
            " |      S.startswith(prefix[, start[, end]]) -> bool\n",
            " |      \n",
            " |      Return True if S starts with the specified prefix, False otherwise.\n",
            " |      With optional start, test S beginning at that position.\n",
            " |      With optional end, stop comparing S at that position.\n",
            " |      prefix can also be a tuple of strings to try.\n",
            " |  \n",
            " |  strip(self, chars=None, /)\n",
            " |      Return a copy of the string with leading and trailing whitespace removed.\n",
            " |      \n",
            " |      If chars is given and not None, remove characters in chars instead.\n",
            " |  \n",
            " |  swapcase(self, /)\n",
            " |      Convert uppercase characters to lowercase and lowercase characters to uppercase.\n",
            " |  \n",
            " |  title(self, /)\n",
            " |      Return a version of the string where each word is titlecased.\n",
            " |      \n",
            " |      More specifically, words start with uppercased characters and all remaining\n",
            " |      cased characters have lower case.\n",
            " |  \n",
            " |  translate(self, table, /)\n",
            " |      Replace each character in the string using the given translation table.\n",
            " |      \n",
            " |        table\n",
            " |          Translation table, which must be a mapping of Unicode ordinals to\n",
            " |          Unicode ordinals, strings, or None.\n",
            " |      \n",
            " |      The table must implement lookup/indexing via __getitem__, for instance a\n",
            " |      dictionary or list.  If this operation raises LookupError, the character is\n",
            " |      left untouched.  Characters mapped to None are deleted.\n",
            " |  \n",
            " |  upper(self, /)\n",
            " |      Return a copy of the string converted to uppercase.\n",
            " |  \n",
            " |  zfill(self, width, /)\n",
            " |      Pad a numeric string with zeros on the left, to fill a field of the given width.\n",
            " |      \n",
            " |      The string is never truncated.\n",
            " |  \n",
            " |  ----------------------------------------------------------------------\n",
            " |  Static methods defined here:\n",
            " |  \n",
            " |  __new__(*args, **kwargs)\n",
            " |      Create and return a new object.  See help(type) for accurate signature.\n",
            " |  \n",
            " |  maketrans(...)\n",
            " |      Return a translation table usable for str.translate().\n",
            " |      \n",
            " |      If there is only one argument, it must be a dictionary mapping Unicode\n",
            " |      ordinals (integers) or characters to Unicode ordinals, strings or None.\n",
            " |      Character keys will be then converted to ordinals.\n",
            " |      If there are two arguments, they must be strings of equal length, and\n",
            " |      in the resulting dictionary, each character in x will be mapped to the\n",
            " |      character at the same position in y. If there is a third argument, it\n",
            " |      must be a string, whose characters will be mapped to None in the result.\n",
            "\n"
          ]
        }
      ]
    },
    {
      "cell_type": "code",
      "source": [
        "#Sample Input:\n",
        "\n",
        "#a = bmaunmdbraai\n",
        "\n",
        "#Sample Output:\n",
        "\n",
        "#bandra,mumbai\n",
        "\n",
        "a = \"bmaunmdbraai\"\n",
        "second = a[::2]\n",
        "print(output)\n",
        "first = a[1::2]\n",
        "print(b)\n",
        "print(f\"{first},{second}\")"
      ],
      "metadata": {
        "id": "K2_Chw9SiOGm",
        "outputId": "d933b0e8-14a2-4792-e608-ccb4f447aecb",
        "colab": {
          "base_uri": "https://localhost:8080/"
        }
      },
      "execution_count": null,
      "outputs": [
        {
          "output_type": "stream",
          "name": "stdout",
          "text": [
            "bandra\n",
            "mumbai\n",
            "mumbai,bandra\n"
          ]
        }
      ]
    },
    {
      "cell_type": "code",
      "source": [
        "import ast,sys\n",
        "input_str = sys.stdin.read()\n",
        "#Type your code here\n",
        " print(message1, message2)\n",
        "\n",
        " a = bmaunmdbraai\n",
        " message1 = a[::2]\n",
        " message2 = a[1::2]\n",
        " print(f'{message1},{message2}')"
      ],
      "metadata": {
        "id": "uYVN2iS4jJtr",
        "outputId": "b1b117c2-1058-43f5-ec28-16e974f10a00",
        "colab": {
          "base_uri": "https://localhost:8080/",
          "height": 106
        }
      },
      "execution_count": null,
      "outputs": [
        {
          "output_type": "error",
          "ename": "IndentationError",
          "evalue": "unexpected indent (<ipython-input-42-03c4e1986aa7>, line 4)",
          "traceback": [
            "\u001b[0;36m  File \u001b[0;32m\"<ipython-input-42-03c4e1986aa7>\"\u001b[0;36m, line \u001b[0;32m4\u001b[0m\n\u001b[0;31m    print(message1, message2)\u001b[0m\n\u001b[0m    ^\u001b[0m\n\u001b[0;31mIndentationError\u001b[0m\u001b[0;31m:\u001b[0m unexpected indent\n"
          ]
        }
      ]
    },
    {
      "cell_type": "code",
      "source": [
        "import ast,sys\n",
        "input_str = sys.stdin.read()\n",
        "#Type your code here\n",
        "\n",
        "a = \"bmaunmdbraai\"\n",
        "message1 = a[::2]\n",
        "message2 = a[1::2]\n",
        "print(f'{message1},{message2}')"
      ],
      "metadata": {
        "id": "t7PGoRaLmipI",
        "outputId": "c704f81e-572a-41ce-e28c-b653b050abdb",
        "colab": {
          "base_uri": "https://localhost:8080/"
        }
      },
      "execution_count": null,
      "outputs": [
        {
          "output_type": "stream",
          "name": "stdout",
          "text": [
            "bandra,mumbai\n"
          ]
        }
      ]
    },
    {
      "cell_type": "code",
      "source": [
        "input_str = \"hello\"\n",
        "output_str = \"\".join(dict.fromkeys(input_str))\n",
        "print(output_str)"
      ],
      "metadata": {
        "id": "3PTw9Susmloh",
        "outputId": "9759ef90-fd2b-434b-da15-099d2998460e",
        "colab": {
          "base_uri": "https://localhost:8080/"
        }
      },
      "execution_count": null,
      "outputs": [
        {
          "output_type": "stream",
          "name": "stdout",
          "text": [
            "helo\n"
          ]
        }
      ]
    },
    {
      "cell_type": "code",
      "source": [
        "What will be the output of this code?\n",
        "\n",
        "print(bool(1), bool(-8), bool(1.67), bool(False))\n",
        "\n",
        "#In Python, bool() returns:\n",
        "- False for 0, 0.0, None, False, \"\" (empty string), [] (empty list), {} (empty dictionary), set(), and range(0)."
      ],
      "metadata": {
        "id": "RxqzsGlKwMFt",
        "outputId": "5b7a30e0-f333-4042-bb18-1e9d8e7b8744",
        "colab": {
          "base_uri": "https://localhost:8080/"
        }
      },
      "execution_count": null,
      "outputs": [
        {
          "output_type": "stream",
          "name": "stdout",
          "text": [
            "Object `code` not found.\n",
            "True True True False\n",
            "In Python, bool() returns: False for 0, 0.0, None, False, \"\" (empty string), [] (empty list), {} (empty dictionary), set(), and range(0).\n",
            "True for all other values, including negative numbers and nonzero floats.\")\n"
          ]
        }
      ]
    },
    {
      "cell_type": "markdown",
      "source": [
        "#In Python, bool() returns:\n",
        "- False for 0, 0.0, None, False, \"\" (empty string), [] (empty list), {} (empty dictionary), set(), and range(0).\n",
        "- True for all other values, including negative numbers and nonzero floats."
      ],
      "metadata": {
        "id": "aCz7p0eE-A0t"
      }
    },
    {
      "cell_type": "code",
      "source": [
        "\n",
        "Which of these code lines produces a Boolean True output?\n",
        "\n",
        "len('Python and R are used in data science') > 25\n",
        "len('Python and R are used in data science') < 25"
      ],
      "metadata": {
        "id": "TXWO1nJ94_cY",
        "outputId": "2db988ee-2c32-4ebb-e636-c486bc580d2b",
        "colab": {
          "base_uri": "https://localhost:8080/"
        }
      },
      "execution_count": null,
      "outputs": [
        {
          "output_type": "execute_result",
          "data": {
            "text/plain": [
              "False"
            ]
          },
          "metadata": {},
          "execution_count": 61
        }
      ]
    },
    {
      "cell_type": "code",
      "source": [
        "len('Python and R are used in data science') > 25"
      ],
      "metadata": {
        "id": "Mo9i1tHz-cQw",
        "outputId": "93741e5e-f86b-4ed5-ada4-4381fb9060c8",
        "colab": {
          "base_uri": "https://localhost:8080/"
        }
      },
      "execution_count": null,
      "outputs": [
        {
          "output_type": "execute_result",
          "data": {
            "text/plain": [
              "True"
            ]
          },
          "metadata": {},
          "execution_count": 62
        }
      ]
    },
    {
      "cell_type": "code",
      "source": [
        "print('My name is {} and I am {} years old'.format('John', 30))"
      ],
      "metadata": {
        "id": "olmWqhCd-iWx",
        "outputId": "9219c453-13fc-469e-85f0-72f4b641df19",
        "colab": {
          "base_uri": "https://localhost:8080/"
        }
      },
      "execution_count": null,
      "outputs": [
        {
          "output_type": "stream",
          "name": "stdout",
          "text": [
            "My name is John and I am 30 years old\n"
          ]
        }
      ]
    },
    {
      "cell_type": "code",
      "source": [
        "#print('My name is {John} and I am {30} years old'.format())"
      ],
      "metadata": {
        "id": "n5CDHbp--9Yr"
      },
      "execution_count": null,
      "outputs": []
    },
    {
      "cell_type": "code",
      "source": [
        "print('My name is %s and I am %d years old' % ('John', 30))"
      ],
      "metadata": {
        "id": "tdRNmgVj_CFN",
        "outputId": "8292ce67-4998-4027-fd00-4a9ea39bc03d",
        "colab": {
          "base_uri": "https://localhost:8080/"
        }
      },
      "execution_count": null,
      "outputs": [
        {
          "output_type": "stream",
          "name": "stdout",
          "text": [
            "My name is John and I am 30 years old\n"
          ]
        }
      ]
    },
    {
      "cell_type": "markdown",
      "source": [
        "- Which of these pairs has operators with the same precedence level?\n",
        "\n",
        "Multiplication and division\n",
        "\n",
        "Division and subtraction\n",
        "\n",
        "Addition and multiplication\n",
        "\n",
        "Addition and division\n",
        "\n",
        "** Multiplication and Division have the same precedence level.\n",
        "\n",
        "Operator Precedence (Highest to Lowest in Python):\n",
        "\n",
        "- () → Parentheses\n",
        "\n",
        "- ** → Exponentiation\n",
        "\n",
        "* / // % → Multiplication, Division, Floor Division, Modulus (Same level)\n",
        "+ - → Addition, Subtraction (Same level)\n",
        "\n",
        "So, Multiplication (*) and Division (/) have the same precedence level. 🚀**"
      ],
      "metadata": {
        "id": "n5LPb34JAsme"
      }
    },
    {
      "cell_type": "markdown",
      "source": [
        "#ques\n",
        "\n",
        "\n",
        "Evaluate the following arithmetic expressions and choose the correct option which contains the correct computation:\n",
        "\n",
        "NOTE: You may need to import the math library.\n",
        "\n",
        "- math.sqrt(25) + (7 ** 3) / 2\n",
        "\n",
        "- math.factorial(4) / (2 ** 3) - 1\n",
        "\n",
        "- (10 * (5 - 3) ** 2) / 4\n",
        "- 3 * ((5 / 2) - math.sqrt(9))\n",
        "- 6 * (len('Mathematics') % 3 // 2) + 3 ** 2"
      ],
      "metadata": {
        "id": "f_6GIvzRBh0l"
      }
    },
    {
      "cell_type": "code",
      "source": [
        "\n",
        "#Evaluate the following arithmetic expressions and choose the correct option which contains the correct computation:\n",
        "\n",
        "#NOTE: You may need to import the math library.\n",
        "import math\n",
        "\n",
        "math.sqrt(25) + (7 ** 3) / 2\n",
        "math.factorial(4) / (2 ** 3) - 1\n",
        "(10 * (5 - 3) ** 2) / 4\n",
        "3 * ((5 / 2) - math.sqrt(9))\n",
        "6 * (len('Mathematics') % 3 // 2) + 3 ** 2"
      ],
      "metadata": {
        "id": "rOvmTs1E_G5w",
        "outputId": "8e540750-b936-428e-bbe3-a6a469584e49",
        "colab": {
          "base_uri": "https://localhost:8080/"
        }
      },
      "execution_count": null,
      "outputs": [
        {
          "output_type": "execute_result",
          "data": {
            "text/plain": [
              "15"
            ]
          },
          "metadata": {},
          "execution_count": 67
        }
      ]
    },
    {
      "cell_type": "code",
      "source": [
        "math.sqrt(25) + (7 ** 3) / 2"
      ],
      "metadata": {
        "id": "6-yPj6QcBvYl",
        "outputId": "8159f9d5-1d7c-4c5e-f9f1-cde7f875d26b",
        "colab": {
          "base_uri": "https://localhost:8080/"
        }
      },
      "execution_count": null,
      "outputs": [
        {
          "output_type": "execute_result",
          "data": {
            "text/plain": [
              "176.5"
            ]
          },
          "metadata": {},
          "execution_count": 68
        }
      ]
    },
    {
      "cell_type": "code",
      "source": [
        "#What will be the output of this print statement?\n",
        "\n",
        "print(4%100,4//100,4/100)\n",
        "\n",
        "#Check whether int(14.56) and 44//3 are equal.\n",
        "print(int(14.56) , 44//3)\n",
        "\n",
        "x = 7\n",
        "y = 4\n",
        "z = 3\n",
        "result = (x > y) and (y < z) or (z == 3)\n",
        "print(result)\n",
        "\n",
        "\n",
        "#What will be the output of the following code?\n",
        "\n",
        "a = '0'\n",
        "print(bool(a))"
      ],
      "metadata": {
        "id": "zLbza8YeB5gk",
        "outputId": "1ce9334a-84c9-4892-cbe7-50ee2434c304",
        "colab": {
          "base_uri": "https://localhost:8080/"
        }
      },
      "execution_count": null,
      "outputs": [
        {
          "output_type": "stream",
          "name": "stdout",
          "text": [
            "4 0 0.04\n",
            "14 14\n",
            "True\n",
            "True\n"
          ]
        }
      ]
    },
    {
      "cell_type": "code",
      "source": [
        "def rect(length, breath):\n",
        "  print(length*breath)\n",
        "rect(20,40)"
      ],
      "metadata": {
        "id": "chdtIlQPCHoG",
        "outputId": "02faa9ee-0bb4-4bec-b385-6132b53c5939",
        "colab": {
          "base_uri": "https://localhost:8080/"
        }
      },
      "execution_count": null,
      "outputs": [
        {
          "output_type": "stream",
          "name": "stdout",
          "text": [
            "800\n"
          ]
        }
      ]
    },
    {
      "cell_type": "code",
      "source": [
        "def area(base,height):\n",
        "  print((base*height)/2)\n",
        "area(20,40)"
      ],
      "metadata": {
        "id": "0JOSohYTFgp-",
        "outputId": "13272e10-7ad9-4c18-b209-e261084e993f",
        "colab": {
          "base_uri": "https://localhost:8080/"
        }
      },
      "execution_count": null,
      "outputs": [
        {
          "output_type": "stream",
          "name": "stdout",
          "text": [
            "400.0\n"
          ]
        }
      ]
    },
    {
      "cell_type": "code",
      "source": [
        "base = input()\n",
        "height = input()\n",
        "def area(base,height):\n",
        "    print((base*height)/2)\n",
        "area(20,40)"
      ],
      "metadata": {
        "id": "HR8inrmSGvam",
        "outputId": "deb86b4e-1b9c-4cf7-ac29-e8d9169b569f",
        "colab": {
          "base_uri": "https://localhost:8080/"
        }
      },
      "execution_count": null,
      "outputs": [
        {
          "output_type": "stream",
          "name": "stdout",
          "text": [
            "20\n",
            "40\n",
            "400.0\n"
          ]
        }
      ]
    },
    {
      "cell_type": "markdown",
      "source": [
        "##ques\n",
        "Write a python program to take two inputs from user. You must convert the data type of the inputs to float and then print the division and floor division of converted inputs.\n",
        "\n",
        "\n",
        "\n",
        "Sample input:\n",
        "\n",
        "4\n",
        "\n",
        "5\n",
        "\n",
        "\n",
        "\n",
        "Sample output:\n",
        "\n",
        "Division 0.8\n",
        "\n",
        "Floor Division 0.0"
      ],
      "metadata": {
        "id": "k2vLN4ZyHwat"
      }
    },
    {
      "cell_type": "code",
      "source": [
        "a = float(input())\n",
        "b = float(input())\n",
        "division = a/b\n",
        "floor_division = a//b\n",
        "print(division)\n",
        "print(floor_division)\n"
      ],
      "metadata": {
        "id": "FYtA4kOGHCCk",
        "outputId": "96233363-7c4b-49d5-e803-74b968185523",
        "colab": {
          "base_uri": "https://localhost:8080/"
        }
      },
      "execution_count": null,
      "outputs": [
        {
          "output_type": "stream",
          "name": "stdout",
          "text": [
            "4\n",
            "5\n",
            "0.8\n",
            "0.0\n"
          ]
        }
      ]
    },
    {
      "cell_type": "code",
      "source": [
        "a = input()\n",
        "b = input()\n",
        "division = float(a/b)\n",
        "floor_division = float(a//b)\n",
        "print(division)\n",
        "print(floor_division)"
      ],
      "metadata": {
        "id": "1DXQhl5cIV26",
        "outputId": "fd9ef07b-bce2-4a93-f6b3-a3bd57c7ea60",
        "colab": {
          "base_uri": "https://localhost:8080/",
          "height": 245
        }
      },
      "execution_count": null,
      "outputs": [
        {
          "name": "stdout",
          "output_type": "stream",
          "text": [
            "4\n",
            "5\n"
          ]
        },
        {
          "output_type": "error",
          "ename": "TypeError",
          "evalue": "unsupported operand type(s) for /: 'str' and 'str'",
          "traceback": [
            "\u001b[0;31m---------------------------------------------------------------------------\u001b[0m",
            "\u001b[0;31mTypeError\u001b[0m                                 Traceback (most recent call last)",
            "\u001b[0;32m<ipython-input-84-0f7796c56080>\u001b[0m in \u001b[0;36m<cell line: 0>\u001b[0;34m()\u001b[0m\n\u001b[1;32m      1\u001b[0m \u001b[0ma\u001b[0m \u001b[0;34m=\u001b[0m \u001b[0minput\u001b[0m\u001b[0;34m(\u001b[0m\u001b[0;34m)\u001b[0m\u001b[0;34m\u001b[0m\u001b[0;34m\u001b[0m\u001b[0m\n\u001b[1;32m      2\u001b[0m \u001b[0mb\u001b[0m \u001b[0;34m=\u001b[0m \u001b[0minput\u001b[0m\u001b[0;34m(\u001b[0m\u001b[0;34m)\u001b[0m\u001b[0;34m\u001b[0m\u001b[0;34m\u001b[0m\u001b[0m\n\u001b[0;32m----> 3\u001b[0;31m \u001b[0mdivision\u001b[0m \u001b[0;34m=\u001b[0m \u001b[0mfloat\u001b[0m\u001b[0;34m(\u001b[0m\u001b[0ma\u001b[0m\u001b[0;34m/\u001b[0m\u001b[0mb\u001b[0m\u001b[0;34m)\u001b[0m\u001b[0;34m\u001b[0m\u001b[0;34m\u001b[0m\u001b[0m\n\u001b[0m\u001b[1;32m      4\u001b[0m \u001b[0mfloor_division\u001b[0m \u001b[0;34m=\u001b[0m \u001b[0mfloat\u001b[0m\u001b[0;34m(\u001b[0m\u001b[0ma\u001b[0m\u001b[0;34m//\u001b[0m\u001b[0mb\u001b[0m\u001b[0;34m)\u001b[0m\u001b[0;34m\u001b[0m\u001b[0;34m\u001b[0m\u001b[0m\n\u001b[1;32m      5\u001b[0m \u001b[0mprint\u001b[0m\u001b[0;34m(\u001b[0m\u001b[0mdivision\u001b[0m\u001b[0;34m)\u001b[0m\u001b[0;34m\u001b[0m\u001b[0;34m\u001b[0m\u001b[0m\n",
            "\u001b[0;31mTypeError\u001b[0m: unsupported operand type(s) for /: 'str' and 'str'"
          ]
        }
      ]
    },
    {
      "cell_type": "code",
      "source": [],
      "metadata": {
        "id": "lsFKo2zjI2iO"
      },
      "execution_count": null,
      "outputs": []
    }
  ]
}