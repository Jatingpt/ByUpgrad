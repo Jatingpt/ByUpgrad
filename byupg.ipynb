{
  "nbformat": 4,
  "nbformat_minor": 0,
  "metadata": {
    "colab": {
      "provenance": [],
      "generative_ai_disabled": true,
      "include_colab_link": true
    },
    "kernelspec": {
      "name": "python3",
      "display_name": "Python 3"
    },
    "language_info": {
      "name": "python"
    }
  },
  "cells": [
    {
      "cell_type": "markdown",
      "metadata": {
        "id": "view-in-github",
        "colab_type": "text"
      },
      "source": [
        "<a href=\"https://colab.research.google.com/github/Jatingpt/ByUpgrad/blob/main/byupg.ipynb\" target=\"_parent\"><img src=\"https://colab.research.google.com/assets/colab-badge.svg\" alt=\"Open In Colab\"/></a>"
      ]
    },
    {
      "cell_type": "markdown",
      "source": [
        "####🔹 Basic to Intermediate Level (Logic & Syntax Understanding):\n",
        "1. Reverse a string without using reverse() or slicing\n",
        "\n",
        "2. Check if a string is a palindrome\n",
        "\n",
        "3. Count the frequency of each character in a string\n",
        "\n",
        "4. Find the second largest number in a list\n",
        "\n",
        "5. Remove duplicates from a list while preserving order\n",
        "\n",
        "6. Check if two strings are anagrams\n",
        "\n",
        "7. Write a function to return the factorial of a number\n",
        "\n",
        "8. Fibonacci series using recursion and iteration\n",
        "\n",
        "9. Check if a number is prime\n",
        "\n",
        "10. Find all even numbers from 1 to N without using list comprehension\n",
        "\n",
        "\n",
        "Intermediate to Advanced (Logic + Data Structures):\n",
        "1. Merge two sorted lists without using built-in sort\n",
        "\n",
        "2. Implement a custom stack or queue class\n",
        "\n",
        "3. Detect a loop in a linked list (using Floyd’s Cycle Detection)\n",
        "\n",
        "4. Find the first non-repeating character in a string\n",
        "\n",
        "5. Sort a dictionary by values\n",
        "\n",
        "6. Flatten a nested list\n",
        "\n",
        "7. Find the missing number in a list of 1 to N\n",
        "\n",
        "8. Rotate a list (or matrix) by K positions\n",
        "\n",
        "9. Implement a simple cache (LRU using OrderedDict)\n",
        "\n",
        "10. Group words that are anagrams together\n",
        "\n",
        "\n",
        "\n",
        "🔹 File Handling / Real-World Scenarios:\n",
        "1. Read a CSV and summarize key statistics\n",
        "\n",
        "2. Log all duplicate lines in a text file\n",
        "\n",
        "3. Read a large file and return the top 10 most frequent words\n",
        "\n",
        "4. Parse a JSON file and extract specific fields1\n",
        "\n",
        "\n",
        "\n",
        "🔹 Data Manipulation / Mini Pandas-Type Questions:\n",
        "1. Count number of nulls in a list of dictionaries\n",
        "\n",
        "2. Filter a list of records by a condition (e.g., age > 30)\n",
        "\n",
        "3. Group data by a key and calculate average (without Pandas)\n",
        "\n",
        "\n",
        "🔹 Bonus: OOP & Decorators (Common in Interviews)\n",
        "Create a class Employee with name, salary and method to give bonus\n",
        "\n",
        "Implement a decorator to measure execution time of a function\n",
        "\n",
        "Write a context manager (with) to open and close a file safely"
      ],
      "metadata": {
        "id": "pWNyjJMNCAo-"
      }
    },
    {
      "cell_type": "code",
      "source": [
        "string = 'ris olleh'\n",
        "rev_str = string[::-1]\n",
        "print(rev_str)"
      ],
      "metadata": {
        "id": "0woU3rHL2riX",
        "outputId": "9c7e9766-b267-482e-db33-06ca6f4f312f",
        "colab": {
          "base_uri": "https://localhost:8080/"
        }
      },
      "execution_count": 1,
      "outputs": [
        {
          "output_type": "stream",
          "name": "stdout",
          "text": [
            "hello sir\n"
          ]
        }
      ]
    },
    {
      "cell_type": "code",
      "source": [
        "st = 'ris olleh'\n",
        "rev_str = \"\"\n",
        "for i in st:\n",
        "  rev_str = i + rev_str\n",
        "print(rev_str)"
      ],
      "metadata": {
        "id": "b5pxn9lO2rI4",
        "outputId": "7d156d96-7c87-4407-b3da-07cd2e5ae564",
        "colab": {
          "base_uri": "https://localhost:8080/"
        }
      },
      "execution_count": 2,
      "outputs": [
        {
          "output_type": "stream",
          "name": "stdout",
          "text": [
            "hello sir\n"
          ]
        }
      ]
    },
    {
      "cell_type": "code",
      "source": [
        "s = 'madam'\n",
        "if s == s[::-1]:\n",
        "  print('Yes this string is a palindrome.')"
      ],
      "metadata": {
        "id": "9KYsQAir2o2x",
        "outputId": "759821c7-c236-4335-9167-588d54a23a37",
        "colab": {
          "base_uri": "https://localhost:8080/"
        }
      },
      "execution_count": 3,
      "outputs": [
        {
          "output_type": "stream",
          "name": "stdout",
          "text": [
            "Yes this string is a palindrome.\n"
          ]
        }
      ]
    },
    {
      "cell_type": "code",
      "source": [
        "l = [23,4,1,5,66]\n",
        "sorted_list = sorted(l, reverse = True)\n",
        "sorted_list[1]"
      ],
      "metadata": {
        "id": "GyEibGCu2owQ",
        "outputId": "7d6e62a9-c5b3-4f91-ebad-d1fd51cf40f2",
        "colab": {
          "base_uri": "https://localhost:8080/"
        }
      },
      "execution_count": 8,
      "outputs": [
        {
          "output_type": "execute_result",
          "data": {
            "text/plain": [
              "23"
            ]
          },
          "metadata": {},
          "execution_count": 8
        }
      ]
    },
    {
      "cell_type": "code",
      "source": [
        "def fact(n):\n",
        "  if n == 1:\n",
        "    return n\n",
        "  else:\n",
        "    return n * fact(n-1)\n",
        "fact(5)"
      ],
      "metadata": {
        "id": "7VSGMXId2oqZ",
        "outputId": "3ad023b6-b73a-4872-b352-b512123cf3b5",
        "colab": {
          "base_uri": "https://localhost:8080/"
        }
      },
      "execution_count": 9,
      "outputs": [
        {
          "output_type": "execute_result",
          "data": {
            "text/plain": [
              "120"
            ]
          },
          "metadata": {},
          "execution_count": 9
        }
      ]
    },
    {
      "cell_type": "code",
      "source": [
        "l = ['Ramesh', 'Rajesh', 'Vikas', 'Lokesh', 'Lokesh']\n",
        "unique = list(dict.fromkeys(l))\n",
        "unique"
      ],
      "metadata": {
        "id": "s4Ht_A6x2ohp",
        "outputId": "5dfeedad-1dce-4719-c851-ba34c4315641",
        "colab": {
          "base_uri": "https://localhost:8080/"
        }
      },
      "execution_count": 12,
      "outputs": [
        {
          "output_type": "execute_result",
          "data": {
            "text/plain": [
              "['Ramesh', 'Rajesh', 'Vikas', 'Lokesh']"
            ]
          },
          "metadata": {},
          "execution_count": 12
        }
      ]
    },
    {
      "cell_type": "code",
      "source": [
        "d = 45\n",
        "len(d)"
      ],
      "metadata": {
        "id": "lX5hYXdX4tXA",
        "outputId": "a129bfe9-1738-4aab-f92d-ac366ed61023",
        "colab": {
          "base_uri": "https://localhost:8080/",
          "height": 158
        }
      },
      "execution_count": 14,
      "outputs": [
        {
          "output_type": "error",
          "ename": "TypeError",
          "evalue": "object of type 'int' has no len()",
          "traceback": [
            "\u001b[0;31m---------------------------------------------------------------------------\u001b[0m",
            "\u001b[0;31mTypeError\u001b[0m                                 Traceback (most recent call last)",
            "\u001b[0;32m/tmp/ipython-input-3308602317.py\u001b[0m in \u001b[0;36m<cell line: 0>\u001b[0;34m()\u001b[0m\n\u001b[1;32m      1\u001b[0m \u001b[0md\u001b[0m \u001b[0;34m=\u001b[0m \u001b[0;36m45\u001b[0m\u001b[0;34m\u001b[0m\u001b[0;34m\u001b[0m\u001b[0m\n\u001b[0;32m----> 2\u001b[0;31m \u001b[0mlen\u001b[0m\u001b[0;34m(\u001b[0m\u001b[0md\u001b[0m\u001b[0;34m)\u001b[0m\u001b[0;34m\u001b[0m\u001b[0;34m\u001b[0m\u001b[0m\n\u001b[0m",
            "\u001b[0;31mTypeError\u001b[0m: object of type 'int' has no len()"
          ]
        }
      ]
    },
    {
      "cell_type": "code",
      "source": [
        "a = 'aaddhdjkshjfadfs'\n",
        "for i in a:\n",
        "  if a.count(i) == 1:\n",
        "    print(i)"
      ],
      "metadata": {
        "id": "ZxKAJnwn5Ofv",
        "outputId": "0a397cd9-d55b-4789-cc0b-cebb9c93518f",
        "colab": {
          "base_uri": "https://localhost:8080/"
        }
      },
      "execution_count": 21,
      "outputs": [
        {
          "output_type": "stream",
          "name": "stdout",
          "text": [
            "k\n"
          ]
        }
      ]
    },
    {
      "cell_type": "code",
      "source": [
        "l = [[1,2],[3,4],[5,6]]\n",
        "flatten_list = [i for i in l for i in i]\n",
        "flatten_list"
      ],
      "metadata": {
        "id": "DKbhjDlY5OcN",
        "outputId": "5de09e42-5940-481d-d1a3-ff33e23c0b21",
        "colab": {
          "base_uri": "https://localhost:8080/"
        }
      },
      "execution_count": 24,
      "outputs": [
        {
          "output_type": "execute_result",
          "data": {
            "text/plain": [
              "[1, 2, 3, 4, 5, 6]"
            ]
          },
          "metadata": {},
          "execution_count": 24
        }
      ]
    },
    {
      "cell_type": "code",
      "source": [
        "def is_ana(str1, str2):\n",
        "  if sorted(str1) == sorted(str2):\n",
        "    print(\"It is an anagram\")\n",
        "  else:\n",
        "    print('It is not an anagram.')\n",
        "is_ana('silent', 'listen')"
      ],
      "metadata": {
        "id": "E0eghAe25OYa",
        "outputId": "77bd3d5b-4d23-42b1-a656-2a9823e58b94",
        "colab": {
          "base_uri": "https://localhost:8080/"
        }
      },
      "execution_count": 27,
      "outputs": [
        {
          "output_type": "stream",
          "name": "stdout",
          "text": [
            "It is an anagram\n"
          ]
        }
      ]
    },
    {
      "cell_type": "code",
      "source": [
        "l = [2,3,5]\n",
        "l2 = [4,0,8]\n",
        "\n",
        "import heapq\n",
        "print(list(heapq.merge(l,l2)))"
      ],
      "metadata": {
        "id": "aHX2a2ES65wC",
        "outputId": "6ebb39a6-f577-4b26-8975-57dd9a07cb0d",
        "colab": {
          "base_uri": "https://localhost:8080/"
        }
      },
      "execution_count": 40,
      "outputs": [
        {
          "output_type": "stream",
          "name": "stdout",
          "text": [
            "[2, 3, 4, 0, 5, 8]\n"
          ]
        }
      ]
    },
    {
      "cell_type": "code",
      "source": [
        "import heapq\n",
        "\n",
        "list1 = [1, 3, 5, 7]\n",
        "list2 = [2, 4, 10, 8]\n",
        "\n",
        "print(list(heapq.merge(list1, list2)))\n"
      ],
      "metadata": {
        "id": "GjHpoG-H65r_",
        "outputId": "0e1a2ac7-fcf1-4276-d2e5-bf929a1be36a",
        "colab": {
          "base_uri": "https://localhost:8080/"
        }
      },
      "execution_count": 39,
      "outputs": [
        {
          "output_type": "stream",
          "name": "stdout",
          "text": [
            "[1, 2, 3, 4, 5, 7, 10, 8]\n"
          ]
        }
      ]
    },
    {
      "cell_type": "code",
      "source": [
        "dic = {'a': 3, 'b': None, 'c': None}\n",
        "tot_null = 0\n",
        "for i in dic:\n",
        "  if dic[i] == None:\n",
        "    tot_null += 1\n",
        "print(tot_null)"
      ],
      "metadata": {
        "id": "Nx2fj1Oq65oK",
        "outputId": "d38e1f71-f330-4ebc-a9d6-65b17d62e0ac",
        "colab": {
          "base_uri": "https://localhost:8080/"
        }
      },
      "execution_count": 43,
      "outputs": [
        {
          "output_type": "stream",
          "name": "stdout",
          "text": [
            "2\n"
          ]
        }
      ]
    },
    {
      "cell_type": "code",
      "source": [
        "def fibonacci(n):\n",
        "  a,b = 0,1\n",
        "  for i in range(n):\n",
        "    print(a, end = \" \")\n",
        "    c = a + b\n",
        "    a = b\n",
        "    b = c\n",
        "fibonacci(10)"
      ],
      "metadata": {
        "id": "ycj1Lg7v65kR",
        "outputId": "ed7695cb-8270-4be9-a690-a8eff76f4e60",
        "colab": {
          "base_uri": "https://localhost:8080/"
        }
      },
      "execution_count": 45,
      "outputs": [
        {
          "output_type": "stream",
          "name": "stdout",
          "text": [
            "0 1 1 2 3 5 8 13 21 34 "
          ]
        }
      ]
    },
    {
      "cell_type": "code",
      "source": [
        "a = [23,45,22,55,22,11]\n",
        "a.pop(3)"
      ],
      "metadata": {
        "id": "kKJSaEMj84Di",
        "outputId": "e062932b-9eb5-43f0-f6d8-a0807f8683f4",
        "colab": {
          "base_uri": "https://localhost:8080/"
        }
      },
      "execution_count": 51,
      "outputs": [
        {
          "output_type": "execute_result",
          "data": {
            "text/plain": [
              "55"
            ]
          },
          "metadata": {},
          "execution_count": 51
        }
      ]
    },
    {
      "cell_type": "code",
      "source": [
        "s = ['Sachine Tendulkar', 'Rohit Sharma']\n",
        "s2 = []\n",
        "for i in s:\n",
        "  s2.append(i.split()[0])\n",
        "print(s2)"
      ],
      "metadata": {
        "id": "hudNMcxw84AA",
        "outputId": "0ac00455-e753-44a3-8bcf-404bd6d9726b",
        "colab": {
          "base_uri": "https://localhost:8080/"
        }
      },
      "execution_count": 66,
      "outputs": [
        {
          "output_type": "stream",
          "name": "stdout",
          "text": [
            "['Sachine', 'Rohit']\n"
          ]
        }
      ]
    },
    {
      "cell_type": "code",
      "source": [
        "l = [1,2,3,1,3,4,5,254,5]\n",
        "unique = []\n",
        "duplicate = []\n",
        "for i in l:\n",
        "  if l.count(i) == 1:\n",
        "    unique.append(i)\n",
        "  elif l.count(i) > 1:\n",
        "    duplicate.append(i)\n",
        "print(list(set(unique)))\n",
        "print(list(set(duplicate)))"
      ],
      "metadata": {
        "id": "6z44TCK6838i",
        "outputId": "3f9da45c-7be6-40c5-8e94-8fe71894450e",
        "colab": {
          "base_uri": "https://localhost:8080/"
        }
      },
      "execution_count": 73,
      "outputs": [
        {
          "output_type": "stream",
          "name": "stdout",
          "text": [
            "[2, 4, 254]\n",
            "[1, 3, 5]\n"
          ]
        }
      ]
    },
    {
      "cell_type": "code",
      "source": [],
      "metadata": {
        "id": "FfM5YKGQ834p"
      },
      "execution_count": null,
      "outputs": []
    },
    {
      "cell_type": "code",
      "source": [],
      "metadata": {
        "id": "yEnStg4F830u"
      },
      "execution_count": null,
      "outputs": []
    },
    {
      "cell_type": "code",
      "source": [],
      "metadata": {
        "id": "cEk9yu5283wb"
      },
      "execution_count": null,
      "outputs": []
    },
    {
      "cell_type": "code",
      "source": [],
      "metadata": {
        "id": "Z2-T-ns483sq"
      },
      "execution_count": null,
      "outputs": []
    },
    {
      "cell_type": "code",
      "source": [],
      "metadata": {
        "id": "cRpTS_W183oq"
      },
      "execution_count": null,
      "outputs": []
    },
    {
      "cell_type": "code",
      "source": [],
      "metadata": {
        "id": "OU7OpekV83kd"
      },
      "execution_count": null,
      "outputs": []
    },
    {
      "cell_type": "code",
      "source": [
        "l = ['ROSS', 'RACHEL']\n",
        "l.insert(1,'MONICA')\n",
        "l"
      ],
      "metadata": {
        "id": "C5z7DHoD65gG",
        "outputId": "ffc17290-fb31-48c4-af24-0b452e94f97f",
        "colab": {
          "base_uri": "https://localhost:8080/"
        }
      },
      "execution_count": 48,
      "outputs": [
        {
          "output_type": "execute_result",
          "data": {
            "text/plain": [
              "['ROSS', 'MONICA', 'RACHEL']"
            ]
          },
          "metadata": {},
          "execution_count": 48
        }
      ]
    },
    {
      "cell_type": "code",
      "source": [
        "l.remove('MONICA')\n",
        "l"
      ],
      "metadata": {
        "id": "fM5CbASb65ca",
        "outputId": "24620893-a620-4859-c758-3e73c483b61e",
        "colab": {
          "base_uri": "https://localhost:8080/"
        }
      },
      "execution_count": 49,
      "outputs": [
        {
          "output_type": "execute_result",
          "data": {
            "text/plain": [
              "['ROSS', 'RACHEL']"
            ]
          },
          "metadata": {},
          "execution_count": 49
        }
      ]
    },
    {
      "cell_type": "code",
      "source": [
        "a = 34\n",
        "b = 54\n",
        "a,b = b,a\n",
        "print(a)\n",
        "print(b)"
      ],
      "metadata": {
        "id": "KMHeNQx265YK",
        "outputId": "aee2794c-4912-40b6-fc17-69585b9152a5",
        "colab": {
          "base_uri": "https://localhost:8080/"
        }
      },
      "execution_count": 50,
      "outputs": [
        {
          "output_type": "stream",
          "name": "stdout",
          "text": [
            "54\n",
            "34\n"
          ]
        }
      ]
    },
    {
      "cell_type": "code",
      "source": [
        "fr = 'banana'\n",
        "from collections import Counter\n",
        "freq = Counter(fr)\n",
        "freq"
      ],
      "metadata": {
        "id": "YlYwBHQs5OUl",
        "outputId": "b2433445-f8ba-4eec-f101-470492431a45",
        "colab": {
          "base_uri": "https://localhost:8080/"
        }
      },
      "execution_count": 28,
      "outputs": [
        {
          "output_type": "execute_result",
          "data": {
            "text/plain": [
              "Counter({'b': 1, 'a': 3, 'n': 2})"
            ]
          },
          "metadata": {},
          "execution_count": 28
        }
      ]
    },
    {
      "cell_type": "code",
      "source": [
        "dic = {'A': 34, 'B': 23, \"D\": 64, 'E': 53}\n",
        "sorted_dic_value = sorted(dic.values())\n",
        "sorted_dic_key = sorted(dic.keys())\n",
        "print(sorted_dic_value)\n",
        "print(sorted_dic_key)"
      ],
      "metadata": {
        "id": "coH8K2HX5OQc",
        "outputId": "63d322ef-cd88-4301-843e-69c77966787d",
        "colab": {
          "base_uri": "https://localhost:8080/"
        }
      },
      "execution_count": 31,
      "outputs": [
        {
          "output_type": "stream",
          "name": "stdout",
          "text": [
            "[23, 34, 53, 64]\n",
            "['A', 'B', 'D', 'E']\n"
          ]
        }
      ]
    },
    {
      "cell_type": "code",
      "source": [
        "def rot_list(n):\n",
        "  return n[-1:] + n[:-1]\n",
        "n = [1,2,3,4,5]\n",
        "rot_list(n)"
      ],
      "metadata": {
        "id": "28yVV5xl5OMM",
        "outputId": "c632c1d5-f9f2-4196-8e6e-c8befb1e5cef",
        "colab": {
          "base_uri": "https://localhost:8080/"
        }
      },
      "execution_count": 32,
      "outputs": [
        {
          "output_type": "execute_result",
          "data": {
            "text/plain": [
              "[5, 1, 2, 3, 4]"
            ]
          },
          "metadata": {},
          "execution_count": 32
        }
      ]
    },
    {
      "cell_type": "code",
      "source": [
        "def check_prime(n):\n",
        "  if n == 1:\n",
        "    print('It is not a prime number.')\n",
        "  if n > 2:\n",
        "    for i in range(2,n):\n",
        "      if n % i == 0:\n",
        "        print('It is not a prime number.')\n",
        "        break\n",
        "    else:\n",
        "      print(\"It is a prime number.\")\n",
        "check_prime(1)"
      ],
      "metadata": {
        "id": "FZtYlyeS424q",
        "outputId": "6a875f21-a75a-41ec-ec9e-3d23e801b45a",
        "colab": {
          "base_uri": "https://localhost:8080/"
        }
      },
      "execution_count": 19,
      "outputs": [
        {
          "output_type": "stream",
          "name": "stdout",
          "text": [
            "It is not a prime number.\n"
          ]
        }
      ]
    },
    {
      "cell_type": "code",
      "source": [
        "l = input('Enter the number')\n",
        "if len(l) == 1:\n",
        "  print('It is a single digit number.')\n",
        "elif len(l) == 2:\n",
        "  print(\"It is a double digit number.\")\n",
        "else:\n",
        "  print('The length of the given number is greater than 2')"
      ],
      "metadata": {
        "id": "WrjdZa9R4KsI",
        "outputId": "e410762b-ce7b-43ba-e677-64ec85332fb6",
        "colab": {
          "base_uri": "https://localhost:8080/"
        }
      },
      "execution_count": 16,
      "outputs": [
        {
          "output_type": "stream",
          "name": "stdout",
          "text": [
            "Enter the number345\n",
            "The length of the given number is greater than 2\n"
          ]
        }
      ]
    },
    {
      "cell_type": "code",
      "source": [
        "s = 'maximum, minimum'\n",
        "s.split()\n",
        "s.index('u')\n",
        "s.find('x')"
      ],
      "metadata": {
        "colab": {
          "base_uri": "https://localhost:8080/"
        },
        "id": "QSzLZ5t9EHav",
        "outputId": "5c054371-6293-4eb6-dd29-22afe3a97cb8"
      },
      "execution_count": null,
      "outputs": [
        {
          "output_type": "execute_result",
          "data": {
            "text/plain": [
              "2"
            ]
          },
          "metadata": {},
          "execution_count": 43
        }
      ]
    },
    {
      "cell_type": "code",
      "source": [
        "import pandas as pd\n",
        "data = {'Name': ['Raju', 'Rani', 'Deepesh', 'Kashish'],\n",
        "        'Age': [23,43,25,67],\n",
        "        'Salary': [34000, 43000, 56000, 98000]}\n",
        "df = pd.DataFrame(data)\n",
        "df[['Name', 'Age']]"
      ],
      "metadata": {
        "colab": {
          "base_uri": "https://localhost:8080/",
          "height": 174
        },
        "id": "JAPHwnC3EHL2",
        "outputId": "f0e30a43-7545-4f42-fce2-a00f1989196e"
      },
      "execution_count": null,
      "outputs": [
        {
          "output_type": "execute_result",
          "data": {
            "text/plain": [
              "      Name  Age\n",
              "0     Raju   23\n",
              "1     Rani   43\n",
              "2  Deepesh   25\n",
              "3  Kashish   67"
            ],
            "text/html": [
              "\n",
              "  <div id=\"df-100d2655-b658-40a5-a837-f959c02e158e\" class=\"colab-df-container\">\n",
              "    <div>\n",
              "<style scoped>\n",
              "    .dataframe tbody tr th:only-of-type {\n",
              "        vertical-align: middle;\n",
              "    }\n",
              "\n",
              "    .dataframe tbody tr th {\n",
              "        vertical-align: top;\n",
              "    }\n",
              "\n",
              "    .dataframe thead th {\n",
              "        text-align: right;\n",
              "    }\n",
              "</style>\n",
              "<table border=\"1\" class=\"dataframe\">\n",
              "  <thead>\n",
              "    <tr style=\"text-align: right;\">\n",
              "      <th></th>\n",
              "      <th>Name</th>\n",
              "      <th>Age</th>\n",
              "    </tr>\n",
              "  </thead>\n",
              "  <tbody>\n",
              "    <tr>\n",
              "      <th>0</th>\n",
              "      <td>Raju</td>\n",
              "      <td>23</td>\n",
              "    </tr>\n",
              "    <tr>\n",
              "      <th>1</th>\n",
              "      <td>Rani</td>\n",
              "      <td>43</td>\n",
              "    </tr>\n",
              "    <tr>\n",
              "      <th>2</th>\n",
              "      <td>Deepesh</td>\n",
              "      <td>25</td>\n",
              "    </tr>\n",
              "    <tr>\n",
              "      <th>3</th>\n",
              "      <td>Kashish</td>\n",
              "      <td>67</td>\n",
              "    </tr>\n",
              "  </tbody>\n",
              "</table>\n",
              "</div>\n",
              "    <div class=\"colab-df-buttons\">\n",
              "\n",
              "  <div class=\"colab-df-container\">\n",
              "    <button class=\"colab-df-convert\" onclick=\"convertToInteractive('df-100d2655-b658-40a5-a837-f959c02e158e')\"\n",
              "            title=\"Convert this dataframe to an interactive table.\"\n",
              "            style=\"display:none;\">\n",
              "\n",
              "  <svg xmlns=\"http://www.w3.org/2000/svg\" height=\"24px\" viewBox=\"0 -960 960 960\">\n",
              "    <path d=\"M120-120v-720h720v720H120Zm60-500h600v-160H180v160Zm220 220h160v-160H400v160Zm0 220h160v-160H400v160ZM180-400h160v-160H180v160Zm440 0h160v-160H620v160ZM180-180h160v-160H180v160Zm440 0h160v-160H620v160Z\"/>\n",
              "  </svg>\n",
              "    </button>\n",
              "\n",
              "  <style>\n",
              "    .colab-df-container {\n",
              "      display:flex;\n",
              "      gap: 12px;\n",
              "    }\n",
              "\n",
              "    .colab-df-convert {\n",
              "      background-color: #E8F0FE;\n",
              "      border: none;\n",
              "      border-radius: 50%;\n",
              "      cursor: pointer;\n",
              "      display: none;\n",
              "      fill: #1967D2;\n",
              "      height: 32px;\n",
              "      padding: 0 0 0 0;\n",
              "      width: 32px;\n",
              "    }\n",
              "\n",
              "    .colab-df-convert:hover {\n",
              "      background-color: #E2EBFA;\n",
              "      box-shadow: 0px 1px 2px rgba(60, 64, 67, 0.3), 0px 1px 3px 1px rgba(60, 64, 67, 0.15);\n",
              "      fill: #174EA6;\n",
              "    }\n",
              "\n",
              "    .colab-df-buttons div {\n",
              "      margin-bottom: 4px;\n",
              "    }\n",
              "\n",
              "    [theme=dark] .colab-df-convert {\n",
              "      background-color: #3B4455;\n",
              "      fill: #D2E3FC;\n",
              "    }\n",
              "\n",
              "    [theme=dark] .colab-df-convert:hover {\n",
              "      background-color: #434B5C;\n",
              "      box-shadow: 0px 1px 3px 1px rgba(0, 0, 0, 0.15);\n",
              "      filter: drop-shadow(0px 1px 2px rgba(0, 0, 0, 0.3));\n",
              "      fill: #FFFFFF;\n",
              "    }\n",
              "  </style>\n",
              "\n",
              "    <script>\n",
              "      const buttonEl =\n",
              "        document.querySelector('#df-100d2655-b658-40a5-a837-f959c02e158e button.colab-df-convert');\n",
              "      buttonEl.style.display =\n",
              "        google.colab.kernel.accessAllowed ? 'block' : 'none';\n",
              "\n",
              "      async function convertToInteractive(key) {\n",
              "        const element = document.querySelector('#df-100d2655-b658-40a5-a837-f959c02e158e');\n",
              "        const dataTable =\n",
              "          await google.colab.kernel.invokeFunction('convertToInteractive',\n",
              "                                                    [key], {});\n",
              "        if (!dataTable) return;\n",
              "\n",
              "        const docLinkHtml = 'Like what you see? Visit the ' +\n",
              "          '<a target=\"_blank\" href=https://colab.research.google.com/notebooks/data_table.ipynb>data table notebook</a>'\n",
              "          + ' to learn more about interactive tables.';\n",
              "        element.innerHTML = '';\n",
              "        dataTable['output_type'] = 'display_data';\n",
              "        await google.colab.output.renderOutput(dataTable, element);\n",
              "        const docLink = document.createElement('div');\n",
              "        docLink.innerHTML = docLinkHtml;\n",
              "        element.appendChild(docLink);\n",
              "      }\n",
              "    </script>\n",
              "  </div>\n",
              "\n",
              "\n",
              "    <div id=\"df-e0f00eba-9e33-4ff0-8a07-9a9805e30b05\">\n",
              "      <button class=\"colab-df-quickchart\" onclick=\"quickchart('df-e0f00eba-9e33-4ff0-8a07-9a9805e30b05')\"\n",
              "                title=\"Suggest charts\"\n",
              "                style=\"display:none;\">\n",
              "\n",
              "<svg xmlns=\"http://www.w3.org/2000/svg\" height=\"24px\"viewBox=\"0 0 24 24\"\n",
              "     width=\"24px\">\n",
              "    <g>\n",
              "        <path d=\"M19 3H5c-1.1 0-2 .9-2 2v14c0 1.1.9 2 2 2h14c1.1 0 2-.9 2-2V5c0-1.1-.9-2-2-2zM9 17H7v-7h2v7zm4 0h-2V7h2v10zm4 0h-2v-4h2v4z\"/>\n",
              "    </g>\n",
              "</svg>\n",
              "      </button>\n",
              "\n",
              "<style>\n",
              "  .colab-df-quickchart {\n",
              "      --bg-color: #E8F0FE;\n",
              "      --fill-color: #1967D2;\n",
              "      --hover-bg-color: #E2EBFA;\n",
              "      --hover-fill-color: #174EA6;\n",
              "      --disabled-fill-color: #AAA;\n",
              "      --disabled-bg-color: #DDD;\n",
              "  }\n",
              "\n",
              "  [theme=dark] .colab-df-quickchart {\n",
              "      --bg-color: #3B4455;\n",
              "      --fill-color: #D2E3FC;\n",
              "      --hover-bg-color: #434B5C;\n",
              "      --hover-fill-color: #FFFFFF;\n",
              "      --disabled-bg-color: #3B4455;\n",
              "      --disabled-fill-color: #666;\n",
              "  }\n",
              "\n",
              "  .colab-df-quickchart {\n",
              "    background-color: var(--bg-color);\n",
              "    border: none;\n",
              "    border-radius: 50%;\n",
              "    cursor: pointer;\n",
              "    display: none;\n",
              "    fill: var(--fill-color);\n",
              "    height: 32px;\n",
              "    padding: 0;\n",
              "    width: 32px;\n",
              "  }\n",
              "\n",
              "  .colab-df-quickchart:hover {\n",
              "    background-color: var(--hover-bg-color);\n",
              "    box-shadow: 0 1px 2px rgba(60, 64, 67, 0.3), 0 1px 3px 1px rgba(60, 64, 67, 0.15);\n",
              "    fill: var(--button-hover-fill-color);\n",
              "  }\n",
              "\n",
              "  .colab-df-quickchart-complete:disabled,\n",
              "  .colab-df-quickchart-complete:disabled:hover {\n",
              "    background-color: var(--disabled-bg-color);\n",
              "    fill: var(--disabled-fill-color);\n",
              "    box-shadow: none;\n",
              "  }\n",
              "\n",
              "  .colab-df-spinner {\n",
              "    border: 2px solid var(--fill-color);\n",
              "    border-color: transparent;\n",
              "    border-bottom-color: var(--fill-color);\n",
              "    animation:\n",
              "      spin 1s steps(1) infinite;\n",
              "  }\n",
              "\n",
              "  @keyframes spin {\n",
              "    0% {\n",
              "      border-color: transparent;\n",
              "      border-bottom-color: var(--fill-color);\n",
              "      border-left-color: var(--fill-color);\n",
              "    }\n",
              "    20% {\n",
              "      border-color: transparent;\n",
              "      border-left-color: var(--fill-color);\n",
              "      border-top-color: var(--fill-color);\n",
              "    }\n",
              "    30% {\n",
              "      border-color: transparent;\n",
              "      border-left-color: var(--fill-color);\n",
              "      border-top-color: var(--fill-color);\n",
              "      border-right-color: var(--fill-color);\n",
              "    }\n",
              "    40% {\n",
              "      border-color: transparent;\n",
              "      border-right-color: var(--fill-color);\n",
              "      border-top-color: var(--fill-color);\n",
              "    }\n",
              "    60% {\n",
              "      border-color: transparent;\n",
              "      border-right-color: var(--fill-color);\n",
              "    }\n",
              "    80% {\n",
              "      border-color: transparent;\n",
              "      border-right-color: var(--fill-color);\n",
              "      border-bottom-color: var(--fill-color);\n",
              "    }\n",
              "    90% {\n",
              "      border-color: transparent;\n",
              "      border-bottom-color: var(--fill-color);\n",
              "    }\n",
              "  }\n",
              "</style>\n",
              "\n",
              "      <script>\n",
              "        async function quickchart(key) {\n",
              "          const quickchartButtonEl =\n",
              "            document.querySelector('#' + key + ' button');\n",
              "          quickchartButtonEl.disabled = true;  // To prevent multiple clicks.\n",
              "          quickchartButtonEl.classList.add('colab-df-spinner');\n",
              "          try {\n",
              "            const charts = await google.colab.kernel.invokeFunction(\n",
              "                'suggestCharts', [key], {});\n",
              "          } catch (error) {\n",
              "            console.error('Error during call to suggestCharts:', error);\n",
              "          }\n",
              "          quickchartButtonEl.classList.remove('colab-df-spinner');\n",
              "          quickchartButtonEl.classList.add('colab-df-quickchart-complete');\n",
              "        }\n",
              "        (() => {\n",
              "          let quickchartButtonEl =\n",
              "            document.querySelector('#df-e0f00eba-9e33-4ff0-8a07-9a9805e30b05 button');\n",
              "          quickchartButtonEl.style.display =\n",
              "            google.colab.kernel.accessAllowed ? 'block' : 'none';\n",
              "        })();\n",
              "      </script>\n",
              "    </div>\n",
              "\n",
              "    </div>\n",
              "  </div>\n"
            ],
            "application/vnd.google.colaboratory.intrinsic+json": {
              "type": "dataframe",
              "summary": "{\n  \"name\": \"df[['Name', 'Age']]\",\n  \"rows\": 4,\n  \"fields\": [\n    {\n      \"column\": \"Name\",\n      \"properties\": {\n        \"dtype\": \"string\",\n        \"num_unique_values\": 4,\n        \"samples\": [\n          \"Rani\",\n          \"Kashish\",\n          \"Raju\"\n        ],\n        \"semantic_type\": \"\",\n        \"description\": \"\"\n      }\n    },\n    {\n      \"column\": \"Age\",\n      \"properties\": {\n        \"dtype\": \"number\",\n        \"std\": 20,\n        \"min\": 23,\n        \"max\": 67,\n        \"num_unique_values\": 4,\n        \"samples\": [\n          43,\n          67,\n          23\n        ],\n        \"semantic_type\": \"\",\n        \"description\": \"\"\n      }\n    }\n  ]\n}"
            }
          },
          "metadata": {},
          "execution_count": 47
        }
      ]
    },
    {
      "cell_type": "code",
      "source": [
        "import matplotlib.pyplot as plt\n",
        "import seaborn as sns\n",
        "\n",
        "sns.barplot(data = df, x = 'Age', y = 'Salary')\n",
        "plt.show()"
      ],
      "metadata": {
        "colab": {
          "base_uri": "https://localhost:8080/",
          "height": 449
        },
        "id": "KbHPAE6VFQfr",
        "outputId": "aef42432-5d12-4ee2-c9ca-3ef0a9a56365"
      },
      "execution_count": null,
      "outputs": [
        {
          "output_type": "display_data",
          "data": {
            "text/plain": [
              "<Figure size 640x480 with 1 Axes>"
            ],
            "image/png": "[encoded data removed]"
          },
          "metadata": {}
        }
      ]
    },
    {
      "cell_type": "code",
      "source": [
        "l = [[1,2], [3,4], [5,6]]\n",
        "flat_list = [i for i in l for i in i]\n",
        "print(flat_list)"
      ],
      "metadata": {
        "colab": {
          "base_uri": "https://localhost:8080/"
        },
        "id": "f7trCgBWD0pd",
        "outputId": "c3e07b69-5219-47a1-f9fa-2ef88037d598"
      },
      "execution_count": null,
      "outputs": [
        {
          "output_type": "stream",
          "name": "stdout",
          "text": [
            "[1, 2, 3, 4, 5, 6]\n"
          ]
        }
      ]
    },
    {
      "cell_type": "code",
      "source": [
        "array_2d = [[1,2], [3,4]]\n",
        "arr_2 = np.array(array_2d)\n",
        "print(type(arr_2))"
      ],
      "metadata": {
        "colab": {
          "base_uri": "https://localhost:8080/"
        },
        "id": "exOon-pLDV7c",
        "outputId": "2ade5229-7910-4af7-9162-81c8a0f2c035"
      },
      "execution_count": null,
      "outputs": [
        {
          "output_type": "stream",
          "name": "stdout",
          "text": [
            "<class 'numpy.ndarray'>\n"
          ]
        }
      ]
    },
    {
      "cell_type": "code",
      "source": [
        "import numpy as np\n",
        "arr = np.array([1,2,3])\n",
        "arr2 = np.array([3,4,5])\n",
        "arr + arr2"
      ],
      "metadata": {
        "colab": {
          "base_uri": "https://localhost:8080/"
        },
        "id": "IV7X0PUbDC_b",
        "outputId": "592eeac8-6974-431e-a33a-2f146f37c84e"
      },
      "execution_count": null,
      "outputs": [
        {
          "output_type": "execute_result",
          "data": {
            "text/plain": [
              "array([4, 6, 8])"
            ]
          },
          "metadata": {},
          "execution_count": 24
        }
      ]
    },
    {
      "cell_type": "code",
      "source": [
        "def fact(n):\n",
        "  if n == 1:\n",
        "    return n\n",
        "  else:\n",
        "    return n * fact(n-1)\n",
        "fact(5)"
      ],
      "metadata": {
        "colab": {
          "base_uri": "https://localhost:8080/"
        },
        "id": "aETZnWiEC8Ht",
        "outputId": "fd7e5d19-a5a2-44a2-e1b4-219708099186"
      },
      "execution_count": null,
      "outputs": [
        {
          "output_type": "execute_result",
          "data": {
            "text/plain": [
              "120"
            ]
          },
          "metadata": {},
          "execution_count": 19
        }
      ]
    },
    {
      "cell_type": "code",
      "source": [
        "palin = input('Enter anything to find the palindrome.')\n",
        "if palin == palin[::-1]:\n",
        "  print('It is a palindrome.')\n",
        "else:\n",
        "  print('Not a palindrome.')"
      ],
      "metadata": {
        "colab": {
          "base_uri": "https://localhost:8080/"
        },
        "id": "PDqj0EYyCvry",
        "outputId": "a09cfc58-07d7-4dab-e745-bce3154c8ad0"
      },
      "execution_count": null,
      "outputs": [
        {
          "output_type": "stream",
          "name": "stdout",
          "text": [
            "Enter anything to find the palindrome.dsnkfs\n",
            "Not a palindrome.\n"
          ]
        }
      ]
    },
    {
      "cell_type": "code",
      "source": [
        "name = 'My name is Jatin'\n",
        "names = name.split()\n",
        "rev_name = names[::-1]\n",
        "print(rev_name)"
      ],
      "metadata": {
        "colab": {
          "base_uri": "https://localhost:8080/"
        },
        "id": "7YBJpmqnBGaz",
        "outputId": "d08834f0-8cdc-4f67-ca1f-0d59f86e779f"
      },
      "execution_count": null,
      "outputs": [
        {
          "output_type": "stream",
          "name": "stdout",
          "text": [
            "['Jatin', 'is', 'name', 'My']\n"
          ]
        }
      ]
    },
    {
      "cell_type": "code",
      "source": [
        "l = [1,2,3,4,5,3,2,75,6,7]\n",
        "unique = []\n",
        "duplicate = []\n",
        "for i in l:\n",
        "  if l.count(i) == 1:\n",
        "    unique.append(i)\n",
        "  elif l.count(i) > 1:\n",
        "    duplicate.append(i)\n",
        "print(list(set(unique)))\n",
        "print(list(set(duplicate)))"
      ],
      "metadata": {
        "colab": {
          "base_uri": "https://localhost:8080/"
        },
        "id": "vttDzG_xBGWN",
        "outputId": "1230960c-c4e8-4def-84e5-17e548daa993"
      },
      "execution_count": null,
      "outputs": [
        {
          "output_type": "stream",
          "name": "stdout",
          "text": [
            "[1, 4, 5, 6, 7, 75]\n",
            "[2, 3]\n"
          ]
        }
      ]
    },
    {
      "cell_type": "code",
      "source": [
        "dic = {}\n",
        "for i in range(1,11):\n",
        "  dic[i] = i * i\n",
        "print(dic)"
      ],
      "metadata": {
        "colab": {
          "base_uri": "https://localhost:8080/"
        },
        "id": "2KY9LkiABGL1",
        "outputId": "df45b51b-e42c-4468-ab0a-321cab33cf6c"
      },
      "execution_count": null,
      "outputs": [
        {
          "output_type": "stream",
          "name": "stdout",
          "text": [
            "{1: 1, 2: 4, 3: 9, 4: 16, 5: 25, 6: 36, 7: 49, 8: 64, 9: 81, 10: 100}\n"
          ]
        }
      ]
    },
    {
      "cell_type": "code",
      "source": [
        "names = ['Sachine Tendulkar', 'Rajesh Verma']\n",
        "for i in names:\n",
        "  print(i.split()[0])"
      ],
      "metadata": {
        "colab": {
          "base_uri": "https://localhost:8080/"
        },
        "id": "535b8FkMA6l9",
        "outputId": "ebc912e2-d684-4cae-f40c-fe6987bee392"
      },
      "execution_count": null,
      "outputs": [
        {
          "output_type": "stream",
          "name": "stdout",
          "text": [
            "Sachine\n",
            "Rajesh\n"
          ]
        }
      ]
    },
    {
      "cell_type": "code",
      "source": [
        "def check_prime(n):\n",
        "  if n == 1:\n",
        "    print('It is not a prime number.')\n",
        "  if n > 2:\n",
        "    for i in range(2,n):\n",
        "      if n % i == 0:\n",
        "        print(\"It is not a prime number at all.\")\n",
        "        break\n",
        "    else:\n",
        "      print('Found prime.')\n",
        "check_prime(9)"
      ],
      "metadata": {
        "colab": {
          "base_uri": "https://localhost:8080/"
        },
        "id": "9bUZKLN-AhGM",
        "outputId": "6075d3a9-6968-467a-ed06-9f9a632e96d4"
      },
      "execution_count": null,
      "outputs": [
        {
          "output_type": "stream",
          "name": "stdout",
          "text": [
            "It is not a prime number at all.\n"
          ]
        }
      ]
    },
    {
      "cell_type": "code",
      "source": [
        "def fibonacci(n):\n",
        "  a,b = 0,1\n",
        "  for i in range(n):\n",
        "    print(a)\n",
        "    c = a + b\n",
        "    a = b\n",
        "    b = c\n",
        "fibonacci(10)"
      ],
      "metadata": {
        "colab": {
          "base_uri": "https://localhost:8080/"
        },
        "id": "90sulL62AYL1",
        "outputId": "6d277aff-9843-4cbd-eca3-b088b2a1b313"
      },
      "execution_count": null,
      "outputs": [
        {
          "output_type": "stream",
          "name": "stdout",
          "text": [
            "0\n",
            "1\n",
            "1\n",
            "2\n",
            "3\n",
            "5\n",
            "8\n",
            "13\n",
            "21\n",
            "34\n"
          ]
        }
      ]
    },
    {
      "cell_type": "code",
      "source": [
        "rev_str = ''\n",
        "n = 'ris olleh'\n",
        "for i in n:\n",
        "  rev_str = i + rev_str\n",
        "print(rev_str)"
      ],
      "metadata": {
        "colab": {
          "base_uri": "https://localhost:8080/"
        },
        "id": "xv8HUpB0AOfY",
        "outputId": "1ca1587a-9afd-42d7-ef37-2282d80c4b59"
      },
      "execution_count": null,
      "outputs": [
        {
          "output_type": "stream",
          "name": "stdout",
          "text": [
            "hello sir\n"
          ]
        }
      ]
    },
    {
      "cell_type": "code",
      "source": [
        "import pandas as pd\n",
        "import numpy as np\n",
        "import seaborn as sns\n",
        "import matplotlib.pyplot as plt\n",
        "\n",
        "file_path = '/content/sample_employee_data.xlsx'\n",
        "df = pd.read_excel(file_path)\n",
        "df.head()"
      ],
      "metadata": {
        "id": "FgZdGQgmlKLS",
        "outputId": "aa0dbf4f-c763-4c44-c4ec-94486161566c",
        "colab": {
          "base_uri": "https://localhost:8080/",
          "height": 206
        }
      },
      "execution_count": null,
      "outputs": [
        {
          "output_type": "execute_result",
          "data": {
            "text/plain": [
              "         Name  Gender   Age   Salary Department  Tenure\n",
              "0  Employee_1    Male   NaN  40000.0         HR     1.0\n",
              "1  Employee_2     NaN  45.0  60000.0         HR     5.0\n",
              "2  Employee_3  Female  50.0  50000.0    Finance     5.0\n",
              "3  Employee_4  Female  45.0  60000.0         IT     4.0\n",
              "4  Employee_5    Male  40.0  70000.0  Marketing     2.0"
            ],
            "text/html": [
              "\n",
              "  <div id=\"df-dc882a5d-f4b4-452b-a747-993314cea300\" class=\"colab-df-container\">\n",
              "    <div>\n",
              "<style scoped>\n",
              "    .dataframe tbody tr th:only-of-type {\n",
              "        vertical-align: middle;\n",
              "    }\n",
              "\n",
              "    .dataframe tbody tr th {\n",
              "        vertical-align: top;\n",
              "    }\n",
              "\n",
              "    .dataframe thead th {\n",
              "        text-align: right;\n",
              "    }\n",
              "</style>\n",
              "<table border=\"1\" class=\"dataframe\">\n",
              "  <thead>\n",
              "    <tr style=\"text-align: right;\">\n",
              "      <th></th>\n",
              "      <th>Name</th>\n",
              "      <th>Gender</th>\n",
              "      <th>Age</th>\n",
              "      <th>Salary</th>\n",
              "      <th>Department</th>\n",
              "      <th>Tenure</th>\n",
              "    </tr>\n",
              "  </thead>\n",
              "  <tbody>\n",
              "    <tr>\n",
              "      <th>0</th>\n",
              "      <td>Employee_1</td>\n",
              "      <td>Male</td>\n",
              "      <td>NaN</td>\n",
              "      <td>40000.0</td>\n",
              "      <td>HR</td>\n",
              "      <td>1.0</td>\n",
              "    </tr>\n",
              "    <tr>\n",
              "      <th>1</th>\n",
              "      <td>Employee_2</td>\n",
              "      <td>NaN</td>\n",
              "      <td>45.0</td>\n",
              "      <td>60000.0</td>\n",
              "      <td>HR</td>\n",
              "      <td>5.0</td>\n",
              "    </tr>\n",
              "    <tr>\n",
              "      <th>2</th>\n",
              "      <td>Employee_3</td>\n",
              "      <td>Female</td>\n",
              "      <td>50.0</td>\n",
              "      <td>50000.0</td>\n",
              "      <td>Finance</td>\n",
              "      <td>5.0</td>\n",
              "    </tr>\n",
              "    <tr>\n",
              "      <th>3</th>\n",
              "      <td>Employee_4</td>\n",
              "      <td>Female</td>\n",
              "      <td>45.0</td>\n",
              "      <td>60000.0</td>\n",
              "      <td>IT</td>\n",
              "      <td>4.0</td>\n",
              "    </tr>\n",
              "    <tr>\n",
              "      <th>4</th>\n",
              "      <td>Employee_5</td>\n",
              "      <td>Male</td>\n",
              "      <td>40.0</td>\n",
              "      <td>70000.0</td>\n",
              "      <td>Marketing</td>\n",
              "      <td>2.0</td>\n",
              "    </tr>\n",
              "  </tbody>\n",
              "</table>\n",
              "</div>\n",
              "    <div class=\"colab-df-buttons\">\n",
              "\n",
              "  <div class=\"colab-df-container\">\n",
              "    <button class=\"colab-df-convert\" onclick=\"convertToInteractive('df-dc882a5d-f4b4-452b-a747-993314cea300')\"\n",
              "            title=\"Convert this dataframe to an interactive table.\"\n",
              "            style=\"display:none;\">\n",
              "\n",
              "  <svg xmlns=\"http://www.w3.org/2000/svg\" height=\"24px\" viewBox=\"0 -960 960 960\">\n",
              "    <path d=\"M120-120v-720h720v720H120Zm60-500h600v-160H180v160Zm220 220h160v-160H400v160Zm0 220h160v-160H400v160ZM180-400h160v-160H180v160Zm440 0h160v-160H620v160ZM180-180h160v-160H180v160Zm440 0h160v-160H620v160Z\"/>\n",
              "  </svg>\n",
              "    </button>\n",
              "\n",
              "  <style>\n",
              "    .colab-df-container {\n",
              "      display:flex;\n",
              "      gap: 12px;\n",
              "    }\n",
              "\n",
              "    .colab-df-convert {\n",
              "      background-color: #E8F0FE;\n",
              "      border: none;\n",
              "      border-radius: 50%;\n",
              "      cursor: pointer;\n",
              "      display: none;\n",
              "      fill: #1967D2;\n",
              "      height: 32px;\n",
              "      padding: 0 0 0 0;\n",
              "      width: 32px;\n",
              "    }\n",
              "\n",
              "    .colab-df-convert:hover {\n",
              "      background-color: #E2EBFA;\n",
              "      box-shadow: 0px 1px 2px rgba(60, 64, 67, 0.3), 0px 1px 3px 1px rgba(60, 64, 67, 0.15);\n",
              "      fill: #174EA6;\n",
              "    }\n",
              "\n",
              "    .colab-df-buttons div {\n",
              "      margin-bottom: 4px;\n",
              "    }\n",
              "\n",
              "    [theme=dark] .colab-df-convert {\n",
              "      background-color: #3B4455;\n",
              "      fill: #D2E3FC;\n",
              "    }\n",
              "\n",
              "    [theme=dark] .colab-df-convert:hover {\n",
              "      background-color: #434B5C;\n",
              "      box-shadow: 0px 1px 3px 1px rgba(0, 0, 0, 0.15);\n",
              "      filter: drop-shadow(0px 1px 2px rgba(0, 0, 0, 0.3));\n",
              "      fill: #FFFFFF;\n",
              "    }\n",
              "  </style>\n",
              "\n",
              "    <script>\n",
              "      const buttonEl =\n",
              "        document.querySelector('#df-dc882a5d-f4b4-452b-a747-993314cea300 button.colab-df-convert');\n",
              "      buttonEl.style.display =\n",
              "        google.colab.kernel.accessAllowed ? 'block' : 'none';\n",
              "\n",
              "      async function convertToInteractive(key) {\n",
              "        const element = document.querySelector('#df-dc882a5d-f4b4-452b-a747-993314cea300');\n",
              "        const dataTable =\n",
              "          await google.colab.kernel.invokeFunction('convertToInteractive',\n",
              "                                                    [key], {});\n",
              "        if (!dataTable) return;\n",
              "\n",
              "        const docLinkHtml = 'Like what you see? Visit the ' +\n",
              "          '<a target=\"_blank\" href=https://colab.research.google.com/notebooks/data_table.ipynb>data table notebook</a>'\n",
              "          + ' to learn more about interactive tables.';\n",
              "        element.innerHTML = '';\n",
              "        dataTable['output_type'] = 'display_data';\n",
              "        await google.colab.output.renderOutput(dataTable, element);\n",
              "        const docLink = document.createElement('div');\n",
              "        docLink.innerHTML = docLinkHtml;\n",
              "        element.appendChild(docLink);\n",
              "      }\n",
              "    </script>\n",
              "  </div>\n",
              "\n",
              "\n",
              "    <div id=\"df-b6e9d8d4-0b0e-4eb5-87df-514d16a864bf\">\n",
              "      <button class=\"colab-df-quickchart\" onclick=\"quickchart('df-b6e9d8d4-0b0e-4eb5-87df-514d16a864bf')\"\n",
              "                title=\"Suggest charts\"\n",
              "                style=\"display:none;\">\n",
              "\n",
              "<svg xmlns=\"http://www.w3.org/2000/svg\" height=\"24px\"viewBox=\"0 0 24 24\"\n",
              "     width=\"24px\">\n",
              "    <g>\n",
              "        <path d=\"M19 3H5c-1.1 0-2 .9-2 2v14c0 1.1.9 2 2 2h14c1.1 0 2-.9 2-2V5c0-1.1-.9-2-2-2zM9 17H7v-7h2v7zm4 0h-2V7h2v10zm4 0h-2v-4h2v4z\"/>\n",
              "    </g>\n",
              "</svg>\n",
              "      </button>\n",
              "\n",
              "<style>\n",
              "  .colab-df-quickchart {\n",
              "      --bg-color: #E8F0FE;\n",
              "      --fill-color: #1967D2;\n",
              "      --hover-bg-color: #E2EBFA;\n",
              "      --hover-fill-color: #174EA6;\n",
              "      --disabled-fill-color: #AAA;\n",
              "      --disabled-bg-color: #DDD;\n",
              "  }\n",
              "\n",
              "  [theme=dark] .colab-df-quickchart {\n",
              "      --bg-color: #3B4455;\n",
              "      --fill-color: #D2E3FC;\n",
              "      --hover-bg-color: #434B5C;\n",
              "      --hover-fill-color: #FFFFFF;\n",
              "      --disabled-bg-color: #3B4455;\n",
              "      --disabled-fill-color: #666;\n",
              "  }\n",
              "\n",
              "  .colab-df-quickchart {\n",
              "    background-color: var(--bg-color);\n",
              "    border: none;\n",
              "    border-radius: 50%;\n",
              "    cursor: pointer;\n",
              "    display: none;\n",
              "    fill: var(--fill-color);\n",
              "    height: 32px;\n",
              "    padding: 0;\n",
              "    width: 32px;\n",
              "  }\n",
              "\n",
              "  .colab-df-quickchart:hover {\n",
              "    background-color: var(--hover-bg-color);\n",
              "    box-shadow: 0 1px 2px rgba(60, 64, 67, 0.3), 0 1px 3px 1px rgba(60, 64, 67, 0.15);\n",
              "    fill: var(--button-hover-fill-color);\n",
              "  }\n",
              "\n",
              "  .colab-df-quickchart-complete:disabled,\n",
              "  .colab-df-quickchart-complete:disabled:hover {\n",
              "    background-color: var(--disabled-bg-color);\n",
              "    fill: var(--disabled-fill-color);\n",
              "    box-shadow: none;\n",
              "  }\n",
              "\n",
              "  .colab-df-spinner {\n",
              "    border: 2px solid var(--fill-color);\n",
              "    border-color: transparent;\n",
              "    border-bottom-color: var(--fill-color);\n",
              "    animation:\n",
              "      spin 1s steps(1) infinite;\n",
              "  }\n",
              "\n",
              "  @keyframes spin {\n",
              "    0% {\n",
              "      border-color: transparent;\n",
              "      border-bottom-color: var(--fill-color);\n",
              "      border-left-color: var(--fill-color);\n",
              "    }\n",
              "    20% {\n",
              "      border-color: transparent;\n",
              "      border-left-color: var(--fill-color);\n",
              "      border-top-color: var(--fill-color);\n",
              "    }\n",
              "    30% {\n",
              "      border-color: transparent;\n",
              "      border-left-color: var(--fill-color);\n",
              "      border-top-color: var(--fill-color);\n",
              "      border-right-color: var(--fill-color);\n",
              "    }\n",
              "    40% {\n",
              "      border-color: transparent;\n",
              "      border-right-color: var(--fill-color);\n",
              "      border-top-color: var(--fill-color);\n",
              "    }\n",
              "    60% {\n",
              "      border-color: transparent;\n",
              "      border-right-color: var(--fill-color);\n",
              "    }\n",
              "    80% {\n",
              "      border-color: transparent;\n",
              "      border-right-color: var(--fill-color);\n",
              "      border-bottom-color: var(--fill-color);\n",
              "    }\n",
              "    90% {\n",
              "      border-color: transparent;\n",
              "      border-bottom-color: var(--fill-color);\n",
              "    }\n",
              "  }\n",
              "</style>\n",
              "\n",
              "      <script>\n",
              "        async function quickchart(key) {\n",
              "          const quickchartButtonEl =\n",
              "            document.querySelector('#' + key + ' button');\n",
              "          quickchartButtonEl.disabled = true;  // To prevent multiple clicks.\n",
              "          quickchartButtonEl.classList.add('colab-df-spinner');\n",
              "          try {\n",
              "            const charts = await google.colab.kernel.invokeFunction(\n",
              "                'suggestCharts', [key], {});\n",
              "          } catch (error) {\n",
              "            console.error('Error during call to suggestCharts:', error);\n",
              "          }\n",
              "          quickchartButtonEl.classList.remove('colab-df-spinner');\n",
              "          quickchartButtonEl.classList.add('colab-df-quickchart-complete');\n",
              "        }\n",
              "        (() => {\n",
              "          let quickchartButtonEl =\n",
              "            document.querySelector('#df-b6e9d8d4-0b0e-4eb5-87df-514d16a864bf button');\n",
              "          quickchartButtonEl.style.display =\n",
              "            google.colab.kernel.accessAllowed ? 'block' : 'none';\n",
              "        })();\n",
              "      </script>\n",
              "    </div>\n",
              "\n",
              "    </div>\n",
              "  </div>\n"
            ],
            "application/vnd.google.colaboratory.intrinsic+json": {
              "type": "dataframe",
              "variable_name": "df",
              "summary": "{\n  \"name\": \"df\",\n  \"rows\": 50,\n  \"fields\": [\n    {\n      \"column\": \"Name\",\n      \"properties\": {\n        \"dtype\": \"string\",\n        \"num_unique_values\": 50,\n        \"samples\": [\n          \"Employee_14\",\n          \"Employee_40\",\n          \"Employee_31\"\n        ],\n        \"semantic_type\": \"\",\n        \"description\": \"\"\n      }\n    },\n    {\n      \"column\": \"Gender\",\n      \"properties\": {\n        \"dtype\": \"category\",\n        \"num_unique_values\": 2,\n        \"samples\": [\n          \"Female\",\n          \"Male\"\n        ],\n        \"semantic_type\": \"\",\n        \"description\": \"\"\n      }\n    },\n    {\n      \"column\": \"Age\",\n      \"properties\": {\n        \"dtype\": \"number\",\n        \"std\": 8.030858039528766,\n        \"min\": 25.0,\n        \"max\": 50.0,\n        \"num_unique_values\": 6,\n        \"samples\": [\n          45.0,\n          50.0\n        ],\n        \"semantic_type\": \"\",\n        \"description\": \"\"\n      }\n    },\n    {\n      \"column\": \"Salary\",\n      \"properties\": {\n        \"dtype\": \"number\",\n        \"std\": 10718.844015157445,\n        \"min\": 40000.0,\n        \"max\": 70000.0,\n        \"num_unique_values\": 4,\n        \"samples\": [\n          60000.0,\n          70000.0\n        ],\n        \"semantic_type\": \"\",\n        \"description\": \"\"\n      }\n    },\n    {\n      \"column\": \"Department\",\n      \"properties\": {\n        \"dtype\": \"category\",\n        \"num_unique_values\": 5,\n        \"samples\": [\n          \"Finance\",\n          \"Sales\"\n        ],\n        \"semantic_type\": \"\",\n        \"description\": \"\"\n      }\n    },\n    {\n      \"column\": \"Tenure\",\n      \"properties\": {\n        \"dtype\": \"number\",\n        \"std\": 1.428273778515365,\n        \"min\": 1.0,\n        \"max\": 5.0,\n        \"num_unique_values\": 5,\n        \"samples\": [\n          5.0,\n          3.0\n        ],\n        \"semantic_type\": \"\",\n        \"description\": \"\"\n      }\n    }\n  ]\n}"
            }
          },
          "metadata": {},
          "execution_count": 21
        }
      ]
    },
    {
      "cell_type": "code",
      "source": [
        "df.head()"
      ],
      "metadata": {
        "id": "OcDa4ojFmHN7",
        "outputId": "98ba95db-9120-47b9-ba26-414e8b2849d8",
        "colab": {
          "base_uri": "https://localhost:8080/",
          "height": 206
        }
      },
      "execution_count": null,
      "outputs": [
        {
          "output_type": "execute_result",
          "data": {
            "text/plain": [
              "         Name  Gender   Age   Salary Department  Tenure\n",
              "0  Employee_1    Male   NaN  40000.0         HR     1.0\n",
              "1  Employee_2     NaN  45.0  60000.0         HR     5.0\n",
              "2  Employee_3  Female  50.0  50000.0    Finance     5.0\n",
              "3  Employee_4  Female  45.0  60000.0         IT     4.0\n",
              "4  Employee_5    Male  40.0  70000.0  Marketing     2.0"
            ],
            "text/html": [
              "\n",
              "  <div id=\"df-f07dff0a-6731-4387-b320-5160dca0fcc1\" class=\"colab-df-container\">\n",
              "    <div>\n",
              "<style scoped>\n",
              "    .dataframe tbody tr th:only-of-type {\n",
              "        vertical-align: middle;\n",
              "    }\n",
              "\n",
              "    .dataframe tbody tr th {\n",
              "        vertical-align: top;\n",
              "    }\n",
              "\n",
              "    .dataframe thead th {\n",
              "        text-align: right;\n",
              "    }\n",
              "</style>\n",
              "<table border=\"1\" class=\"dataframe\">\n",
              "  <thead>\n",
              "    <tr style=\"text-align: right;\">\n",
              "      <th></th>\n",
              "      <th>Name</th>\n",
              "      <th>Gender</th>\n",
              "      <th>Age</th>\n",
              "      <th>Salary</th>\n",
              "      <th>Department</th>\n",
              "      <th>Tenure</th>\n",
              "    </tr>\n",
              "  </thead>\n",
              "  <tbody>\n",
              "    <tr>\n",
              "      <th>0</th>\n",
              "      <td>Employee_1</td>\n",
              "      <td>Male</td>\n",
              "      <td>NaN</td>\n",
              "      <td>40000.0</td>\n",
              "      <td>HR</td>\n",
              "      <td>1.0</td>\n",
              "    </tr>\n",
              "    <tr>\n",
              "      <th>1</th>\n",
              "      <td>Employee_2</td>\n",
              "      <td>NaN</td>\n",
              "      <td>45.0</td>\n",
              "      <td>60000.0</td>\n",
              "      <td>HR</td>\n",
              "      <td>5.0</td>\n",
              "    </tr>\n",
              "    <tr>\n",
              "      <th>2</th>\n",
              "      <td>Employee_3</td>\n",
              "      <td>Female</td>\n",
              "      <td>50.0</td>\n",
              "      <td>50000.0</td>\n",
              "      <td>Finance</td>\n",
              "      <td>5.0</td>\n",
              "    </tr>\n",
              "    <tr>\n",
              "      <th>3</th>\n",
              "      <td>Employee_4</td>\n",
              "      <td>Female</td>\n",
              "      <td>45.0</td>\n",
              "      <td>60000.0</td>\n",
              "      <td>IT</td>\n",
              "      <td>4.0</td>\n",
              "    </tr>\n",
              "    <tr>\n",
              "      <th>4</th>\n",
              "      <td>Employee_5</td>\n",
              "      <td>Male</td>\n",
              "      <td>40.0</td>\n",
              "      <td>70000.0</td>\n",
              "      <td>Marketing</td>\n",
              "      <td>2.0</td>\n",
              "    </tr>\n",
              "  </tbody>\n",
              "</table>\n",
              "</div>\n",
              "    <div class=\"colab-df-buttons\">\n",
              "\n",
              "  <div class=\"colab-df-container\">\n",
              "    <button class=\"colab-df-convert\" onclick=\"convertToInteractive('df-f07dff0a-6731-4387-b320-5160dca0fcc1')\"\n",
              "            title=\"Convert this dataframe to an interactive table.\"\n",
              "            style=\"display:none;\">\n",
              "\n",
              "  <svg xmlns=\"http://www.w3.org/2000/svg\" height=\"24px\" viewBox=\"0 -960 960 960\">\n",
              "    <path d=\"M120-120v-720h720v720H120Zm60-500h600v-160H180v160Zm220 220h160v-160H400v160Zm0 220h160v-160H400v160ZM180-400h160v-160H180v160Zm440 0h160v-160H620v160ZM180-180h160v-160H180v160Zm440 0h160v-160H620v160Z\"/>\n",
              "  </svg>\n",
              "    </button>\n",
              "\n",
              "  <style>\n",
              "    .colab-df-container {\n",
              "      display:flex;\n",
              "      gap: 12px;\n",
              "    }\n",
              "\n",
              "    .colab-df-convert {\n",
              "      background-color: #E8F0FE;\n",
              "      border: none;\n",
              "      border-radius: 50%;\n",
              "      cursor: pointer;\n",
              "      display: none;\n",
              "      fill: #1967D2;\n",
              "      height: 32px;\n",
              "      padding: 0 0 0 0;\n",
              "      width: 32px;\n",
              "    }\n",
              "\n",
              "    .colab-df-convert:hover {\n",
              "      background-color: #E2EBFA;\n",
              "      box-shadow: 0px 1px 2px rgba(60, 64, 67, 0.3), 0px 1px 3px 1px rgba(60, 64, 67, 0.15);\n",
              "      fill: #174EA6;\n",
              "    }\n",
              "\n",
              "    .colab-df-buttons div {\n",
              "      margin-bottom: 4px;\n",
              "    }\n",
              "\n",
              "    [theme=dark] .colab-df-convert {\n",
              "      background-color: #3B4455;\n",
              "      fill: #D2E3FC;\n",
              "    }\n",
              "\n",
              "    [theme=dark] .colab-df-convert:hover {\n",
              "      background-color: #434B5C;\n",
              "      box-shadow: 0px 1px 3px 1px rgba(0, 0, 0, 0.15);\n",
              "      filter: drop-shadow(0px 1px 2px rgba(0, 0, 0, 0.3));\n",
              "      fill: #FFFFFF;\n",
              "    }\n",
              "  </style>\n",
              "\n",
              "    <script>\n",
              "      const buttonEl =\n",
              "        document.querySelector('#df-f07dff0a-6731-4387-b320-5160dca0fcc1 button.colab-df-convert');\n",
              "      buttonEl.style.display =\n",
              "        google.colab.kernel.accessAllowed ? 'block' : 'none';\n",
              "\n",
              "      async function convertToInteractive(key) {\n",
              "        const element = document.querySelector('#df-f07dff0a-6731-4387-b320-5160dca0fcc1');\n",
              "        const dataTable =\n",
              "          await google.colab.kernel.invokeFunction('convertToInteractive',\n",
              "                                                    [key], {});\n",
              "        if (!dataTable) return;\n",
              "\n",
              "        const docLinkHtml = 'Like what you see? Visit the ' +\n",
              "          '<a target=\"_blank\" href=https://colab.research.google.com/notebooks/data_table.ipynb>data table notebook</a>'\n",
              "          + ' to learn more about interactive tables.';\n",
              "        element.innerHTML = '';\n",
              "        dataTable['output_type'] = 'display_data';\n",
              "        await google.colab.output.renderOutput(dataTable, element);\n",
              "        const docLink = document.createElement('div');\n",
              "        docLink.innerHTML = docLinkHtml;\n",
              "        element.appendChild(docLink);\n",
              "      }\n",
              "    </script>\n",
              "  </div>\n",
              "\n",
              "\n",
              "    <div id=\"df-de1e877a-72cd-4734-b163-0db5ef138afa\">\n",
              "      <button class=\"colab-df-quickchart\" onclick=\"quickchart('df-de1e877a-72cd-4734-b163-0db5ef138afa')\"\n",
              "                title=\"Suggest charts\"\n",
              "                style=\"display:none;\">\n",
              "\n",
              "<svg xmlns=\"http://www.w3.org/2000/svg\" height=\"24px\"viewBox=\"0 0 24 24\"\n",
              "     width=\"24px\">\n",
              "    <g>\n",
              "        <path d=\"M19 3H5c-1.1 0-2 .9-2 2v14c0 1.1.9 2 2 2h14c1.1 0 2-.9 2-2V5c0-1.1-.9-2-2-2zM9 17H7v-7h2v7zm4 0h-2V7h2v10zm4 0h-2v-4h2v4z\"/>\n",
              "    </g>\n",
              "</svg>\n",
              "      </button>\n",
              "\n",
              "<style>\n",
              "  .colab-df-quickchart {\n",
              "      --bg-color: #E8F0FE;\n",
              "      --fill-color: #1967D2;\n",
              "      --hover-bg-color: #E2EBFA;\n",
              "      --hover-fill-color: #174EA6;\n",
              "      --disabled-fill-color: #AAA;\n",
              "      --disabled-bg-color: #DDD;\n",
              "  }\n",
              "\n",
              "  [theme=dark] .colab-df-quickchart {\n",
              "      --bg-color: #3B4455;\n",
              "      --fill-color: #D2E3FC;\n",
              "      --hover-bg-color: #434B5C;\n",
              "      --hover-fill-color: #FFFFFF;\n",
              "      --disabled-bg-color: #3B4455;\n",
              "      --disabled-fill-color: #666;\n",
              "  }\n",
              "\n",
              "  .colab-df-quickchart {\n",
              "    background-color: var(--bg-color);\n",
              "    border: none;\n",
              "    border-radius: 50%;\n",
              "    cursor: pointer;\n",
              "    display: none;\n",
              "    fill: var(--fill-color);\n",
              "    height: 32px;\n",
              "    padding: 0;\n",
              "    width: 32px;\n",
              "  }\n",
              "\n",
              "  .colab-df-quickchart:hover {\n",
              "    background-color: var(--hover-bg-color);\n",
              "    box-shadow: 0 1px 2px rgba(60, 64, 67, 0.3), 0 1px 3px 1px rgba(60, 64, 67, 0.15);\n",
              "    fill: var(--button-hover-fill-color);\n",
              "  }\n",
              "\n",
              "  .colab-df-quickchart-complete:disabled,\n",
              "  .colab-df-quickchart-complete:disabled:hover {\n",
              "    background-color: var(--disabled-bg-color);\n",
              "    fill: var(--disabled-fill-color);\n",
              "    box-shadow: none;\n",
              "  }\n",
              "\n",
              "  .colab-df-spinner {\n",
              "    border: 2px solid var(--fill-color);\n",
              "    border-color: transparent;\n",
              "    border-bottom-color: var(--fill-color);\n",
              "    animation:\n",
              "      spin 1s steps(1) infinite;\n",
              "  }\n",
              "\n",
              "  @keyframes spin {\n",
              "    0% {\n",
              "      border-color: transparent;\n",
              "      border-bottom-color: var(--fill-color);\n",
              "      border-left-color: var(--fill-color);\n",
              "    }\n",
              "    20% {\n",
              "      border-color: transparent;\n",
              "      border-left-color: var(--fill-color);\n",
              "      border-top-color: var(--fill-color);\n",
              "    }\n",
              "    30% {\n",
              "      border-color: transparent;\n",
              "      border-left-color: var(--fill-color);\n",
              "      border-top-color: var(--fill-color);\n",
              "      border-right-color: var(--fill-color);\n",
              "    }\n",
              "    40% {\n",
              "      border-color: transparent;\n",
              "      border-right-color: var(--fill-color);\n",
              "      border-top-color: var(--fill-color);\n",
              "    }\n",
              "    60% {\n",
              "      border-color: transparent;\n",
              "      border-right-color: var(--fill-color);\n",
              "    }\n",
              "    80% {\n",
              "      border-color: transparent;\n",
              "      border-right-color: var(--fill-color);\n",
              "      border-bottom-color: var(--fill-color);\n",
              "    }\n",
              "    90% {\n",
              "      border-color: transparent;\n",
              "      border-bottom-color: var(--fill-color);\n",
              "    }\n",
              "  }\n",
              "</style>\n",
              "\n",
              "      <script>\n",
              "        async function quickchart(key) {\n",
              "          const quickchartButtonEl =\n",
              "            document.querySelector('#' + key + ' button');\n",
              "          quickchartButtonEl.disabled = true;  // To prevent multiple clicks.\n",
              "          quickchartButtonEl.classList.add('colab-df-spinner');\n",
              "          try {\n",
              "            const charts = await google.colab.kernel.invokeFunction(\n",
              "                'suggestCharts', [key], {});\n",
              "          } catch (error) {\n",
              "            console.error('Error during call to suggestCharts:', error);\n",
              "          }\n",
              "          quickchartButtonEl.classList.remove('colab-df-spinner');\n",
              "          quickchartButtonEl.classList.add('colab-df-quickchart-complete');\n",
              "        }\n",
              "        (() => {\n",
              "          let quickchartButtonEl =\n",
              "            document.querySelector('#df-de1e877a-72cd-4734-b163-0db5ef138afa button');\n",
              "          quickchartButtonEl.style.display =\n",
              "            google.colab.kernel.accessAllowed ? 'block' : 'none';\n",
              "        })();\n",
              "      </script>\n",
              "    </div>\n",
              "\n",
              "    </div>\n",
              "  </div>\n"
            ],
            "application/vnd.google.colaboratory.intrinsic+json": {
              "type": "dataframe",
              "variable_name": "df",
              "summary": "{\n  \"name\": \"df\",\n  \"rows\": 50,\n  \"fields\": [\n    {\n      \"column\": \"Name\",\n      \"properties\": {\n        \"dtype\": \"string\",\n        \"num_unique_values\": 50,\n        \"samples\": [\n          \"Employee_14\",\n          \"Employee_40\",\n          \"Employee_31\"\n        ],\n        \"semantic_type\": \"\",\n        \"description\": \"\"\n      }\n    },\n    {\n      \"column\": \"Gender\",\n      \"properties\": {\n        \"dtype\": \"category\",\n        \"num_unique_values\": 2,\n        \"samples\": [\n          \"Female\",\n          \"Male\"\n        ],\n        \"semantic_type\": \"\",\n        \"description\": \"\"\n      }\n    },\n    {\n      \"column\": \"Age\",\n      \"properties\": {\n        \"dtype\": \"number\",\n        \"std\": 8.030858039528766,\n        \"min\": 25.0,\n        \"max\": 50.0,\n        \"num_unique_values\": 6,\n        \"samples\": [\n          45.0,\n          50.0\n        ],\n        \"semantic_type\": \"\",\n        \"description\": \"\"\n      }\n    },\n    {\n      \"column\": \"Salary\",\n      \"properties\": {\n        \"dtype\": \"number\",\n        \"std\": 10718.844015157445,\n        \"min\": 40000.0,\n        \"max\": 70000.0,\n        \"num_unique_values\": 4,\n        \"samples\": [\n          60000.0,\n          70000.0\n        ],\n        \"semantic_type\": \"\",\n        \"description\": \"\"\n      }\n    },\n    {\n      \"column\": \"Department\",\n      \"properties\": {\n        \"dtype\": \"category\",\n        \"num_unique_values\": 5,\n        \"samples\": [\n          \"Finance\",\n          \"Sales\"\n        ],\n        \"semantic_type\": \"\",\n        \"description\": \"\"\n      }\n    },\n    {\n      \"column\": \"Tenure\",\n      \"properties\": {\n        \"dtype\": \"number\",\n        \"std\": 1.428273778515365,\n        \"min\": 1.0,\n        \"max\": 5.0,\n        \"num_unique_values\": 5,\n        \"samples\": [\n          5.0,\n          3.0\n        ],\n        \"semantic_type\": \"\",\n        \"description\": \"\"\n      }\n    }\n  ]\n}"
            }
          },
          "metadata": {},
          "execution_count": 22
        }
      ]
    },
    {
      "cell_type": "code",
      "source": [
        "df.isnull().sum()"
      ],
      "metadata": {
        "id": "IDk-f6XElx9y",
        "outputId": "2987c3f8-bcf4-4bd5-a088-cb17c2c37bc4",
        "colab": {
          "base_uri": "https://localhost:8080/",
          "height": 272
        }
      },
      "execution_count": null,
      "outputs": [
        {
          "output_type": "execute_result",
          "data": {
            "text/plain": [
              "Name          0\n",
              "Gender        0\n",
              "Age           2\n",
              "Salary        2\n",
              "Department    0\n",
              "Tenure        1\n",
              "dtype: int64"
            ],
            "text/html": [
              "<div>\n",
              "<style scoped>\n",
              "    .dataframe tbody tr th:only-of-type {\n",
              "        vertical-align: middle;\n",
              "    }\n",
              "\n",
              "    .dataframe tbody tr th {\n",
              "        vertical-align: top;\n",
              "    }\n",
              "\n",
              "    .dataframe thead th {\n",
              "        text-align: right;\n",
              "    }\n",
              "</style>\n",
              "<table border=\"1\" class=\"dataframe\">\n",
              "  <thead>\n",
              "    <tr style=\"text-align: right;\">\n",
              "      <th></th>\n",
              "      <th>0</th>\n",
              "    </tr>\n",
              "  </thead>\n",
              "  <tbody>\n",
              "    <tr>\n",
              "      <th>Name</th>\n",
              "      <td>0</td>\n",
              "    </tr>\n",
              "    <tr>\n",
              "      <th>Gender</th>\n",
              "      <td>0</td>\n",
              "    </tr>\n",
              "    <tr>\n",
              "      <th>Age</th>\n",
              "      <td>2</td>\n",
              "    </tr>\n",
              "    <tr>\n",
              "      <th>Salary</th>\n",
              "      <td>2</td>\n",
              "    </tr>\n",
              "    <tr>\n",
              "      <th>Department</th>\n",
              "      <td>0</td>\n",
              "    </tr>\n",
              "    <tr>\n",
              "      <th>Tenure</th>\n",
              "      <td>1</td>\n",
              "    </tr>\n",
              "  </tbody>\n",
              "</table>\n",
              "</div><br><label><b>dtype:</b> int64</label>"
            ]
          },
          "metadata": {},
          "execution_count": 25
        }
      ]
    },
    {
      "cell_type": "code",
      "source": [
        "df['Gender'].fillna(df['Gender'].mode()[0], inplace = True)\n",
        "df['Age'].fillna(df['Age'].mode()[0], inplace = True)\n",
        "df['Salary'].fillna(df['Salary'].median(), inplace = True)\n",
        "df['Tenure'].fillna(df['Tenure'].mode()[0], inplace = True)"
      ],
      "metadata": {
        "id": "FCPVgHXVlekV",
        "outputId": "2d45488d-8fb6-4936-d801-b74630194967",
        "colab": {
          "base_uri": "https://localhost:8080/"
        }
      },
      "execution_count": null,
      "outputs": [
        {
          "output_type": "stream",
          "name": "stderr",
          "text": [
            "/tmp/ipython-input-3010249435.py:2: FutureWarning: A value is trying to be set on a copy of a DataFrame or Series through chained assignment using an inplace method.\n",
            "The behavior will change in pandas 3.0. This inplace method will never work because the intermediate object on which we are setting values always behaves as a copy.\n",
            "\n",
            "For example, when doing 'df[col].method(value, inplace=True)', try using 'df.method({col: value}, inplace=True)' or df[col] = df[col].method(value) instead, to perform the operation inplace on the original object.\n",
            "\n",
            "\n",
            "  df['Age'].fillna(df['Age'].mode()[0], inplace = True)\n",
            "/tmp/ipython-input-3010249435.py:3: FutureWarning: A value is trying to be set on a copy of a DataFrame or Series through chained assignment using an inplace method.\n",
            "The behavior will change in pandas 3.0. This inplace method will never work because the intermediate object on which we are setting values always behaves as a copy.\n",
            "\n",
            "For example, when doing 'df[col].method(value, inplace=True)', try using 'df.method({col: value}, inplace=True)' or df[col] = df[col].method(value) instead, to perform the operation inplace on the original object.\n",
            "\n",
            "\n",
            "  df['Salary'].fillna(df['Salary'].median(), inplace = True)\n",
            "/tmp/ipython-input-3010249435.py:4: FutureWarning: A value is trying to be set on a copy of a DataFrame or Series through chained assignment using an inplace method.\n",
            "The behavior will change in pandas 3.0. This inplace method will never work because the intermediate object on which we are setting values always behaves as a copy.\n",
            "\n",
            "For example, when doing 'df[col].method(value, inplace=True)', try using 'df.method({col: value}, inplace=True)' or df[col] = df[col].method(value) instead, to perform the operation inplace on the original object.\n",
            "\n",
            "\n",
            "  df['Tenure'].fillna(df['Tenure'].mode()[0], inplace = True)\n"
          ]
        }
      ]
    },
    {
      "cell_type": "code",
      "source": [
        "df.head()"
      ],
      "metadata": {
        "id": "gL77yxwClegR",
        "outputId": "0bf2eee1-b94a-490c-ca15-be7fd6069044",
        "colab": {
          "base_uri": "https://localhost:8080/",
          "height": 206
        }
      },
      "execution_count": null,
      "outputs": [
        {
          "output_type": "execute_result",
          "data": {
            "text/plain": [
              "         Name  Gender   Age   Salary Department  Tenure\n",
              "0  Employee_1    Male  25.0  40000.0         HR     1.0\n",
              "1  Employee_2    Male  45.0  60000.0         HR     5.0\n",
              "2  Employee_3  Female  50.0  50000.0    Finance     5.0\n",
              "3  Employee_4  Female  45.0  60000.0         IT     4.0\n",
              "4  Employee_5    Male  40.0  70000.0  Marketing     2.0"
            ],
            "text/html": [
              "\n",
              "  <div id=\"df-f0ed32fc-37ea-4870-93f2-9931389ccffe\" class=\"colab-df-container\">\n",
              "    <div>\n",
              "<style scoped>\n",
              "    .dataframe tbody tr th:only-of-type {\n",
              "        vertical-align: middle;\n",
              "    }\n",
              "\n",
              "    .dataframe tbody tr th {\n",
              "        vertical-align: top;\n",
              "    }\n",
              "\n",
              "    .dataframe thead th {\n",
              "        text-align: right;\n",
              "    }\n",
              "</style>\n",
              "<table border=\"1\" class=\"dataframe\">\n",
              "  <thead>\n",
              "    <tr style=\"text-align: right;\">\n",
              "      <th></th>\n",
              "      <th>Name</th>\n",
              "      <th>Gender</th>\n",
              "      <th>Age</th>\n",
              "      <th>Salary</th>\n",
              "      <th>Department</th>\n",
              "      <th>Tenure</th>\n",
              "    </tr>\n",
              "  </thead>\n",
              "  <tbody>\n",
              "    <tr>\n",
              "      <th>0</th>\n",
              "      <td>Employee_1</td>\n",
              "      <td>Male</td>\n",
              "      <td>25.0</td>\n",
              "      <td>40000.0</td>\n",
              "      <td>HR</td>\n",
              "      <td>1.0</td>\n",
              "    </tr>\n",
              "    <tr>\n",
              "      <th>1</th>\n",
              "      <td>Employee_2</td>\n",
              "      <td>Male</td>\n",
              "      <td>45.0</td>\n",
              "      <td>60000.0</td>\n",
              "      <td>HR</td>\n",
              "      <td>5.0</td>\n",
              "    </tr>\n",
              "    <tr>\n",
              "      <th>2</th>\n",
              "      <td>Employee_3</td>\n",
              "      <td>Female</td>\n",
              "      <td>50.0</td>\n",
              "      <td>50000.0</td>\n",
              "      <td>Finance</td>\n",
              "      <td>5.0</td>\n",
              "    </tr>\n",
              "    <tr>\n",
              "      <th>3</th>\n",
              "      <td>Employee_4</td>\n",
              "      <td>Female</td>\n",
              "      <td>45.0</td>\n",
              "      <td>60000.0</td>\n",
              "      <td>IT</td>\n",
              "      <td>4.0</td>\n",
              "    </tr>\n",
              "    <tr>\n",
              "      <th>4</th>\n",
              "      <td>Employee_5</td>\n",
              "      <td>Male</td>\n",
              "      <td>40.0</td>\n",
              "      <td>70000.0</td>\n",
              "      <td>Marketing</td>\n",
              "      <td>2.0</td>\n",
              "    </tr>\n",
              "  </tbody>\n",
              "</table>\n",
              "</div>\n",
              "    <div class=\"colab-df-buttons\">\n",
              "\n",
              "  <div class=\"colab-df-container\">\n",
              "    <button class=\"colab-df-convert\" onclick=\"convertToInteractive('df-f0ed32fc-37ea-4870-93f2-9931389ccffe')\"\n",
              "            title=\"Convert this dataframe to an interactive table.\"\n",
              "            style=\"display:none;\">\n",
              "\n",
              "  <svg xmlns=\"http://www.w3.org/2000/svg\" height=\"24px\" viewBox=\"0 -960 960 960\">\n",
              "    <path d=\"M120-120v-720h720v720H120Zm60-500h600v-160H180v160Zm220 220h160v-160H400v160Zm0 220h160v-160H400v160ZM180-400h160v-160H180v160Zm440 0h160v-160H620v160ZM180-180h160v-160H180v160Zm440 0h160v-160H620v160Z\"/>\n",
              "  </svg>\n",
              "    </button>\n",
              "\n",
              "  <style>\n",
              "    .colab-df-container {\n",
              "      display:flex;\n",
              "      gap: 12px;\n",
              "    }\n",
              "\n",
              "    .colab-df-convert {\n",
              "      background-color: #E8F0FE;\n",
              "      border: none;\n",
              "      border-radius: 50%;\n",
              "      cursor: pointer;\n",
              "      display: none;\n",
              "      fill: #1967D2;\n",
              "      height: 32px;\n",
              "      padding: 0 0 0 0;\n",
              "      width: 32px;\n",
              "    }\n",
              "\n",
              "    .colab-df-convert:hover {\n",
              "      background-color: #E2EBFA;\n",
              "      box-shadow: 0px 1px 2px rgba(60, 64, 67, 0.3), 0px 1px 3px 1px rgba(60, 64, 67, 0.15);\n",
              "      fill: #174EA6;\n",
              "    }\n",
              "\n",
              "    .colab-df-buttons div {\n",
              "      margin-bottom: 4px;\n",
              "    }\n",
              "\n",
              "    [theme=dark] .colab-df-convert {\n",
              "      background-color: #3B4455;\n",
              "      fill: #D2E3FC;\n",
              "    }\n",
              "\n",
              "    [theme=dark] .colab-df-convert:hover {\n",
              "      background-color: #434B5C;\n",
              "      box-shadow: 0px 1px 3px 1px rgba(0, 0, 0, 0.15);\n",
              "      filter: drop-shadow(0px 1px 2px rgba(0, 0, 0, 0.3));\n",
              "      fill: #FFFFFF;\n",
              "    }\n",
              "  </style>\n",
              "\n",
              "    <script>\n",
              "      const buttonEl =\n",
              "        document.querySelector('#df-f0ed32fc-37ea-4870-93f2-9931389ccffe button.colab-df-convert');\n",
              "      buttonEl.style.display =\n",
              "        google.colab.kernel.accessAllowed ? 'block' : 'none';\n",
              "\n",
              "      async function convertToInteractive(key) {\n",
              "        const element = document.querySelector('#df-f0ed32fc-37ea-4870-93f2-9931389ccffe');\n",
              "        const dataTable =\n",
              "          await google.colab.kernel.invokeFunction('convertToInteractive',\n",
              "                                                    [key], {});\n",
              "        if (!dataTable) return;\n",
              "\n",
              "        const docLinkHtml = 'Like what you see? Visit the ' +\n",
              "          '<a target=\"_blank\" href=https://colab.research.google.com/notebooks/data_table.ipynb>data table notebook</a>'\n",
              "          + ' to learn more about interactive tables.';\n",
              "        element.innerHTML = '';\n",
              "        dataTable['output_type'] = 'display_data';\n",
              "        await google.colab.output.renderOutput(dataTable, element);\n",
              "        const docLink = document.createElement('div');\n",
              "        docLink.innerHTML = docLinkHtml;\n",
              "        element.appendChild(docLink);\n",
              "      }\n",
              "    </script>\n",
              "  </div>\n",
              "\n",
              "\n",
              "    <div id=\"df-1a0e321d-7f8c-48d4-ad87-6889bc5fb1a1\">\n",
              "      <button class=\"colab-df-quickchart\" onclick=\"quickchart('df-1a0e321d-7f8c-48d4-ad87-6889bc5fb1a1')\"\n",
              "                title=\"Suggest charts\"\n",
              "                style=\"display:none;\">\n",
              "\n",
              "<svg xmlns=\"http://www.w3.org/2000/svg\" height=\"24px\"viewBox=\"0 0 24 24\"\n",
              "     width=\"24px\">\n",
              "    <g>\n",
              "        <path d=\"M19 3H5c-1.1 0-2 .9-2 2v14c0 1.1.9 2 2 2h14c1.1 0 2-.9 2-2V5c0-1.1-.9-2-2-2zM9 17H7v-7h2v7zm4 0h-2V7h2v10zm4 0h-2v-4h2v4z\"/>\n",
              "    </g>\n",
              "</svg>\n",
              "      </button>\n",
              "\n",
              "<style>\n",
              "  .colab-df-quickchart {\n",
              "      --bg-color: #E8F0FE;\n",
              "      --fill-color: #1967D2;\n",
              "      --hover-bg-color: #E2EBFA;\n",
              "      --hover-fill-color: #174EA6;\n",
              "      --disabled-fill-color: #AAA;\n",
              "      --disabled-bg-color: #DDD;\n",
              "  }\n",
              "\n",
              "  [theme=dark] .colab-df-quickchart {\n",
              "      --bg-color: #3B4455;\n",
              "      --fill-color: #D2E3FC;\n",
              "      --hover-bg-color: #434B5C;\n",
              "      --hover-fill-color: #FFFFFF;\n",
              "      --disabled-bg-color: #3B4455;\n",
              "      --disabled-fill-color: #666;\n",
              "  }\n",
              "\n",
              "  .colab-df-quickchart {\n",
              "    background-color: var(--bg-color);\n",
              "    border: none;\n",
              "    border-radius: 50%;\n",
              "    cursor: pointer;\n",
              "    display: none;\n",
              "    fill: var(--fill-color);\n",
              "    height: 32px;\n",
              "    padding: 0;\n",
              "    width: 32px;\n",
              "  }\n",
              "\n",
              "  .colab-df-quickchart:hover {\n",
              "    background-color: var(--hover-bg-color);\n",
              "    box-shadow: 0 1px 2px rgba(60, 64, 67, 0.3), 0 1px 3px 1px rgba(60, 64, 67, 0.15);\n",
              "    fill: var(--button-hover-fill-color);\n",
              "  }\n",
              "\n",
              "  .colab-df-quickchart-complete:disabled,\n",
              "  .colab-df-quickchart-complete:disabled:hover {\n",
              "    background-color: var(--disabled-bg-color);\n",
              "    fill: var(--disabled-fill-color);\n",
              "    box-shadow: none;\n",
              "  }\n",
              "\n",
              "  .colab-df-spinner {\n",
              "    border: 2px solid var(--fill-color);\n",
              "    border-color: transparent;\n",
              "    border-bottom-color: var(--fill-color);\n",
              "    animation:\n",
              "      spin 1s steps(1) infinite;\n",
              "  }\n",
              "\n",
              "  @keyframes spin {\n",
              "    0% {\n",
              "      border-color: transparent;\n",
              "      border-bottom-color: var(--fill-color);\n",
              "      border-left-color: var(--fill-color);\n",
              "    }\n",
              "    20% {\n",
              "      border-color: transparent;\n",
              "      border-left-color: var(--fill-color);\n",
              "      border-top-color: var(--fill-color);\n",
              "    }\n",
              "    30% {\n",
              "      border-color: transparent;\n",
              "      border-left-color: var(--fill-color);\n",
              "      border-top-color: var(--fill-color);\n",
              "      border-right-color: var(--fill-color);\n",
              "    }\n",
              "    40% {\n",
              "      border-color: transparent;\n",
              "      border-right-color: var(--fill-color);\n",
              "      border-top-color: var(--fill-color);\n",
              "    }\n",
              "    60% {\n",
              "      border-color: transparent;\n",
              "      border-right-color: var(--fill-color);\n",
              "    }\n",
              "    80% {\n",
              "      border-color: transparent;\n",
              "      border-right-color: var(--fill-color);\n",
              "      border-bottom-color: var(--fill-color);\n",
              "    }\n",
              "    90% {\n",
              "      border-color: transparent;\n",
              "      border-bottom-color: var(--fill-color);\n",
              "    }\n",
              "  }\n",
              "</style>\n",
              "\n",
              "      <script>\n",
              "        async function quickchart(key) {\n",
              "          const quickchartButtonEl =\n",
              "            document.querySelector('#' + key + ' button');\n",
              "          quickchartButtonEl.disabled = true;  // To prevent multiple clicks.\n",
              "          quickchartButtonEl.classList.add('colab-df-spinner');\n",
              "          try {\n",
              "            const charts = await google.colab.kernel.invokeFunction(\n",
              "                'suggestCharts', [key], {});\n",
              "          } catch (error) {\n",
              "            console.error('Error during call to suggestCharts:', error);\n",
              "          }\n",
              "          quickchartButtonEl.classList.remove('colab-df-spinner');\n",
              "          quickchartButtonEl.classList.add('colab-df-quickchart-complete');\n",
              "        }\n",
              "        (() => {\n",
              "          let quickchartButtonEl =\n",
              "            document.querySelector('#df-1a0e321d-7f8c-48d4-ad87-6889bc5fb1a1 button');\n",
              "          quickchartButtonEl.style.display =\n",
              "            google.colab.kernel.accessAllowed ? 'block' : 'none';\n",
              "        })();\n",
              "      </script>\n",
              "    </div>\n",
              "\n",
              "    </div>\n",
              "  </div>\n"
            ],
            "application/vnd.google.colaboratory.intrinsic+json": {
              "type": "dataframe",
              "variable_name": "df",
              "summary": "{\n  \"name\": \"df\",\n  \"rows\": 50,\n  \"fields\": [\n    {\n      \"column\": \"Name\",\n      \"properties\": {\n        \"dtype\": \"string\",\n        \"num_unique_values\": 50,\n        \"samples\": [\n          \"Employee_14\",\n          \"Employee_40\",\n          \"Employee_31\"\n        ],\n        \"semantic_type\": \"\",\n        \"description\": \"\"\n      }\n    },\n    {\n      \"column\": \"Gender\",\n      \"properties\": {\n        \"dtype\": \"category\",\n        \"num_unique_values\": 2,\n        \"samples\": [\n          \"Female\",\n          \"Male\"\n        ],\n        \"semantic_type\": \"\",\n        \"description\": \"\"\n      }\n    },\n    {\n      \"column\": \"Age\",\n      \"properties\": {\n        \"dtype\": \"number\",\n        \"std\": 8.141603913585717,\n        \"min\": 25.0,\n        \"max\": 50.0,\n        \"num_unique_values\": 6,\n        \"samples\": [\n          25.0,\n          45.0\n        ],\n        \"semantic_type\": \"\",\n        \"description\": \"\"\n      }\n    },\n    {\n      \"column\": \"Salary\",\n      \"properties\": {\n        \"dtype\": \"number\",\n        \"std\": 10544.366906997677,\n        \"min\": 40000.0,\n        \"max\": 70000.0,\n        \"num_unique_values\": 4,\n        \"samples\": [\n          60000.0,\n          70000.0\n        ],\n        \"semantic_type\": \"\",\n        \"description\": \"\"\n      }\n    },\n    {\n      \"column\": \"Department\",\n      \"properties\": {\n        \"dtype\": \"category\",\n        \"num_unique_values\": 5,\n        \"samples\": [\n          \"Finance\",\n          \"Sales\"\n        ],\n        \"semantic_type\": \"\",\n        \"description\": \"\"\n      }\n    },\n    {\n      \"column\": \"Tenure\",\n      \"properties\": {\n        \"dtype\": \"number\",\n        \"std\": 1.4212670403551895,\n        \"min\": 1.0,\n        \"max\": 5.0,\n        \"num_unique_values\": 5,\n        \"samples\": [\n          5.0,\n          3.0\n        ],\n        \"semantic_type\": \"\",\n        \"description\": \"\"\n      }\n    }\n  ]\n}"
            }
          },
          "metadata": {},
          "execution_count": 27
        }
      ]
    },
    {
      "cell_type": "code",
      "source": [
        "df.groupby('Gender')['Salary'].sum()"
      ],
      "metadata": {
        "id": "u7o_VmsVlebq",
        "outputId": "6864dc2c-7d21-439d-8786-b1a3168ab2bf",
        "colab": {
          "base_uri": "https://localhost:8080/",
          "height": 178
        }
      },
      "execution_count": null,
      "outputs": [
        {
          "output_type": "execute_result",
          "data": {
            "text/plain": [
              "Gender\n",
              "Female    1000000.0\n",
              "Male      1740000.0\n",
              "Name: Salary, dtype: float64"
            ],
            "text/html": [
              "<div>\n",
              "<style scoped>\n",
              "    .dataframe tbody tr th:only-of-type {\n",
              "        vertical-align: middle;\n",
              "    }\n",
              "\n",
              "    .dataframe tbody tr th {\n",
              "        vertical-align: top;\n",
              "    }\n",
              "\n",
              "    .dataframe thead th {\n",
              "        text-align: right;\n",
              "    }\n",
              "</style>\n",
              "<table border=\"1\" class=\"dataframe\">\n",
              "  <thead>\n",
              "    <tr style=\"text-align: right;\">\n",
              "      <th></th>\n",
              "      <th>Salary</th>\n",
              "    </tr>\n",
              "    <tr>\n",
              "      <th>Gender</th>\n",
              "      <th></th>\n",
              "    </tr>\n",
              "  </thead>\n",
              "  <tbody>\n",
              "    <tr>\n",
              "      <th>Female</th>\n",
              "      <td>1000000.0</td>\n",
              "    </tr>\n",
              "    <tr>\n",
              "      <th>Male</th>\n",
              "      <td>1740000.0</td>\n",
              "    </tr>\n",
              "  </tbody>\n",
              "</table>\n",
              "</div><br><label><b>dtype:</b> float64</label>"
            ]
          },
          "metadata": {},
          "execution_count": 28
        }
      ]
    },
    {
      "cell_type": "code",
      "source": [
        "df.groupby('Gender')['Gender'].count()"
      ],
      "metadata": {
        "id": "fHYz0v2YleX5",
        "outputId": "ac9456a6-59cb-4c16-9011-4ba6d92f54c5",
        "colab": {
          "base_uri": "https://localhost:8080/",
          "height": 178
        }
      },
      "execution_count": null,
      "outputs": [
        {
          "output_type": "execute_result",
          "data": {
            "text/plain": [
              "Gender\n",
              "Female    19\n",
              "Male      31\n",
              "Name: Gender, dtype: int64"
            ],
            "text/html": [
              "<div>\n",
              "<style scoped>\n",
              "    .dataframe tbody tr th:only-of-type {\n",
              "        vertical-align: middle;\n",
              "    }\n",
              "\n",
              "    .dataframe tbody tr th {\n",
              "        vertical-align: top;\n",
              "    }\n",
              "\n",
              "    .dataframe thead th {\n",
              "        text-align: right;\n",
              "    }\n",
              "</style>\n",
              "<table border=\"1\" class=\"dataframe\">\n",
              "  <thead>\n",
              "    <tr style=\"text-align: right;\">\n",
              "      <th></th>\n",
              "      <th>Gender</th>\n",
              "    </tr>\n",
              "    <tr>\n",
              "      <th>Gender</th>\n",
              "      <th></th>\n",
              "    </tr>\n",
              "  </thead>\n",
              "  <tbody>\n",
              "    <tr>\n",
              "      <th>Female</th>\n",
              "      <td>19</td>\n",
              "    </tr>\n",
              "    <tr>\n",
              "      <th>Male</th>\n",
              "      <td>31</td>\n",
              "    </tr>\n",
              "  </tbody>\n",
              "</table>\n",
              "</div><br><label><b>dtype:</b> int64</label>"
            ]
          },
          "metadata": {},
          "execution_count": 30
        }
      ]
    },
    {
      "cell_type": "code",
      "source": [
        "figure.figsize(4,3)\n",
        "sns.countplot(data = df, x = 'Gender')\n",
        "plt.show()"
      ],
      "metadata": {
        "id": "vzBXI8H3leT6",
        "outputId": "6df6d856-ba85-411b-d58b-9bb423eb5523",
        "colab": {
          "base_uri": "https://localhost:8080/",
          "height": 176
        }
      },
      "execution_count": null,
      "outputs": [
        {
          "output_type": "error",
          "ename": "NameError",
          "evalue": "name 'figure' is not defined",
          "traceback": [
            "\u001b[0;31m---------------------------------------------------------------------------\u001b[0m",
            "\u001b[0;31mNameError\u001b[0m                                 Traceback (most recent call last)",
            "\u001b[0;32m/tmp/ipython-input-2539066628.py\u001b[0m in \u001b[0;36m<cell line: 0>\u001b[0;34m()\u001b[0m\n\u001b[0;32m----> 1\u001b[0;31m \u001b[0mfigure\u001b[0m\u001b[0;34m.\u001b[0m\u001b[0mfigsize\u001b[0m\u001b[0;34m(\u001b[0m\u001b[0;36m4\u001b[0m\u001b[0;34m,\u001b[0m\u001b[0;36m3\u001b[0m\u001b[0;34m)\u001b[0m\u001b[0;34m\u001b[0m\u001b[0;34m\u001b[0m\u001b[0m\n\u001b[0m\u001b[1;32m      2\u001b[0m \u001b[0msns\u001b[0m\u001b[0;34m.\u001b[0m\u001b[0mcountplot\u001b[0m\u001b[0;34m(\u001b[0m\u001b[0mdata\u001b[0m \u001b[0;34m=\u001b[0m \u001b[0mdf\u001b[0m\u001b[0;34m,\u001b[0m \u001b[0mx\u001b[0m \u001b[0;34m=\u001b[0m \u001b[0;34m'Gender'\u001b[0m\u001b[0;34m)\u001b[0m\u001b[0;34m\u001b[0m\u001b[0;34m\u001b[0m\u001b[0m\n\u001b[1;32m      3\u001b[0m \u001b[0mplt\u001b[0m\u001b[0;34m.\u001b[0m\u001b[0mshow\u001b[0m\u001b[0;34m(\u001b[0m\u001b[0;34m)\u001b[0m\u001b[0;34m\u001b[0m\u001b[0;34m\u001b[0m\u001b[0m\n",
            "\u001b[0;31mNameError\u001b[0m: name 'figure' is not defined"
          ]
        }
      ]
    },
    {
      "cell_type": "code",
      "source": [],
      "metadata": {
        "id": "HGXr8iVglePt"
      },
      "execution_count": null,
      "outputs": []
    },
    {
      "cell_type": "code",
      "source": [],
      "metadata": {
        "id": "M8oE0CxzleK7"
      },
      "execution_count": null,
      "outputs": []
    },
    {
      "cell_type": "code",
      "source": [
        "dic = {1: 1, 2: 4, 3: 9, 4: None}\n",
        "total_null = 0\n",
        "for i in dic:\n",
        "  if dic[i] == None:\n",
        "    total_null += 1\n",
        "print(total_null)\n"
      ],
      "metadata": {
        "id": "yjTUuUA0_WP3",
        "outputId": "0506d297-c1a5-41c5-833a-d400fecd0d4f",
        "colab": {
          "base_uri": "https://localhost:8080/"
        }
      },
      "execution_count": null,
      "outputs": [
        {
          "output_type": "stream",
          "name": "stdout",
          "text": [
            "1\n"
          ]
        }
      ]
    },
    {
      "cell_type": "code",
      "source": [
        "def check_prime(n):\n",
        "  if n == 1:\n",
        "    print('It is not a prime number.')\n",
        "  if n >= 2:\n",
        "    for i in range(2,n):\n",
        "      if n % i == 0:\n",
        "        print('Not Prime.')\n",
        "        break\n",
        "    else:\n",
        "      print('Prime Number.')\n",
        "check_prime(1)"
      ],
      "metadata": {
        "id": "3dwolKVrkuwr",
        "outputId": "48f8ba19-2f67-489b-fe02-60d63594cea2",
        "colab": {
          "base_uri": "https://localhost:8080/"
        }
      },
      "execution_count": null,
      "outputs": [
        {
          "output_type": "stream",
          "name": "stdout",
          "text": [
            "It is not a prime number.\n"
          ]
        }
      ]
    },
    {
      "cell_type": "code",
      "source": [
        "a = 'aabbccddeff'\n",
        "for i in a:\n",
        "  if a.count(i) == 1:\n",
        "    print(i)"
      ],
      "metadata": {
        "id": "r6gLtTdnkdx9",
        "outputId": "0440b9dc-eb37-4edc-dd7f-2f8a1fadd4c9",
        "colab": {
          "base_uri": "https://localhost:8080/"
        }
      },
      "execution_count": null,
      "outputs": [
        {
          "output_type": "stream",
          "name": "stdout",
          "text": [
            "e\n"
          ]
        }
      ]
    },
    {
      "cell_type": "code",
      "source": [
        "import pandas as pd\n",
        "import numpy as np\n",
        "import matplotlib.pyplot as plt\n",
        "import seaborn as sns\n",
        "\n",
        "doc = {'Name': ['Jatin', 'Priya', 'Kishlay'],\n",
        "       'Age': [23, 42, 56],\n",
        "       'Salary': [56000, 34000, 43000],\n",
        "       'Department': ['Finance', 'HR', 'Finance']}\n",
        "\n",
        "df = pd.DataFrame(doc)\n",
        "df\n",
        "department_vise = df.groupby('Department')['Salary'].sum()\n",
        "print(department_vise)"
      ],
      "metadata": {
        "id": "yULpRhxg_WMK",
        "outputId": "8066e25a-7ee1-4cc2-bf7b-3ded9c66361f",
        "colab": {
          "base_uri": "https://localhost:8080/"
        }
      },
      "execution_count": null,
      "outputs": [
        {
          "output_type": "stream",
          "name": "stdout",
          "text": [
            "Department\n",
            "Finance    99000\n",
            "HR         34000\n",
            "Name: Salary, dtype: int64\n"
          ]
        }
      ]
    },
    {
      "cell_type": "code",
      "source": [
        "l = ['Sachine Tendulkar', 'Vivek Agarwal']\n",
        "for i in l:\n",
        "  print(i.split()[0])"
      ],
      "metadata": {
        "id": "tyO6_86a_WIa",
        "outputId": "4261bf04-d5c0-421a-8eab-bba8597841a0",
        "colab": {
          "base_uri": "https://localhost:8080/"
        }
      },
      "execution_count": null,
      "outputs": [
        {
          "output_type": "stream",
          "name": "stdout",
          "text": [
            "Sachine\n",
            "Vivek\n"
          ]
        }
      ]
    },
    {
      "cell_type": "code",
      "source": [
        "names = 'My name is Jatin'\n",
        "rev_name = names.split()\n",
        "rev_str = rev_name[::-1]\n",
        "rev_str"
      ],
      "metadata": {
        "id": "wjpxOHbK_WEp",
        "outputId": "762ca9a0-9f9f-4982-e07d-9b39d6cb2941",
        "colab": {
          "base_uri": "https://localhost:8080/"
        }
      },
      "execution_count": null,
      "outputs": [
        {
          "output_type": "execute_result",
          "data": {
            "text/plain": [
              "['Jatin', 'is', 'name', 'My']"
            ]
          },
          "metadata": {},
          "execution_count": 1
        }
      ]
    },
    {
      "cell_type": "code",
      "source": [
        "a = [1,2,3,4,2,3,4,5,2,4,6]\n",
        "unique =[]\n",
        "duplicate = []\n",
        "for i in a:\n",
        "  if a.count(i) == 1:\n",
        "    unique.append(i)\n",
        "  elif a.count(i) > 1:\n",
        "    duplicate.append(i)\n",
        "print(list(set(unique)))\n",
        "print(list(set(duplicate)))\n"
      ],
      "metadata": {
        "id": "0uv3ajyB_WAO",
        "outputId": "a90266d2-25de-403d-f685-c4acdf2dc435",
        "colab": {
          "base_uri": "https://localhost:8080/"
        }
      },
      "execution_count": null,
      "outputs": [
        {
          "output_type": "stream",
          "name": "stdout",
          "text": [
            "[1, 5, 6]\n",
            "[2, 3, 4]\n"
          ]
        }
      ]
    },
    {
      "cell_type": "code",
      "source": [
        "def rot_str(n):\n",
        "  return n[-1:] + n[:-1]\n",
        "n = [1,2,3,4,5]\n",
        "rot_str(n)"
      ],
      "metadata": {
        "id": "1bvwiF716kq9",
        "outputId": "7bccebb8-aea7-4d6d-f7c9-a79e188b5c8d",
        "colab": {
          "base_uri": "https://localhost:8080/"
        }
      },
      "execution_count": null,
      "outputs": [
        {
          "output_type": "execute_result",
          "data": {
            "text/plain": [
              "[5, 1, 2, 3, 4]"
            ]
          },
          "metadata": {},
          "execution_count": 10
        }
      ]
    },
    {
      "cell_type": "code",
      "source": [
        "st = 'banana'\n",
        "from collections import Counter\n",
        "freq = Counter(st)\n",
        "print(freq)"
      ],
      "metadata": {
        "id": "UgszlRt4-aQI",
        "outputId": "2ad8c7d3-8c72-4c7d-ed94-9bbed8a343fb",
        "colab": {
          "base_uri": "https://localhost:8080/"
        }
      },
      "execution_count": null,
      "outputs": [
        {
          "output_type": "stream",
          "name": "stdout",
          "text": [
            "Counter({'a': 3, 'n': 2, 'b': 1})\n"
          ]
        }
      ]
    },
    {
      "cell_type": "code",
      "source": [
        "a = [1,2,3,4,5]\n",
        "from itertools import accumulate\n",
        "cum_sum = list(accumulate(a))\n",
        "print(cum_sum)"
      ],
      "metadata": {
        "id": "Tmc3euA8-aLZ",
        "outputId": "8e8e0019-76af-4c18-f54c-6b8f947f86a6",
        "colab": {
          "base_uri": "https://localhost:8080/"
        }
      },
      "execution_count": null,
      "outputs": [
        {
          "output_type": "stream",
          "name": "stdout",
          "text": [
            "[1, 3, 6, 10, 15]\n"
          ]
        }
      ]
    },
    {
      "cell_type": "code",
      "source": [
        "dic = {}\n",
        "for i in range(1,11):\n",
        "  dic[i] = i*i\n",
        "print(dic)"
      ],
      "metadata": {
        "id": "i9m8lHqQ6km4",
        "outputId": "088e0a20-9bef-4065-8506-0ecb2850d297",
        "colab": {
          "base_uri": "https://localhost:8080/"
        }
      },
      "execution_count": null,
      "outputs": [
        {
          "output_type": "stream",
          "name": "stdout",
          "text": [
            "{1: 1, 2: 4, 3: 9, 4: 16, 5: 25, 6: 36, 7: 49, 8: 64, 9: 81, 10: 100}\n"
          ]
        }
      ]
    },
    {
      "cell_type": "code",
      "source": [
        "dic = {1: 1, 2: 4, 3: 9}\n",
        "mul = 1\n",
        "for i in dic:\n",
        "  mul *= dic[i]\n",
        "print(mul)"
      ],
      "metadata": {
        "id": "n71cR8WO6kdG",
        "outputId": "f3611598-789a-4108-c2fd-b51d427656d2",
        "colab": {
          "base_uri": "https://localhost:8080/"
        }
      },
      "execution_count": null,
      "outputs": [
        {
          "output_type": "stream",
          "name": "stdout",
          "text": [
            "36\n"
          ]
        }
      ]
    },
    {
      "cell_type": "code",
      "source": [
        "l = ['ross', 'rachel', 'phoebe', 'joy']\n",
        "l.insert(1,'monica')\n",
        "print(l)"
      ],
      "metadata": {
        "id": "8oI0enEm6kZA",
        "outputId": "09cc3c53-69c4-474c-ad6d-01ee154bfb5b",
        "colab": {
          "base_uri": "https://localhost:8080/"
        }
      },
      "execution_count": null,
      "outputs": [
        {
          "output_type": "stream",
          "name": "stdout",
          "text": [
            "['ross', 'monica', 'rachel', 'phoebe', 'joy']\n"
          ]
        }
      ]
    },
    {
      "cell_type": "code",
      "source": [
        "l.pop(1)"
      ],
      "metadata": {
        "id": "EXjofdhp6kUn",
        "outputId": "e0f61065-8e87-44c6-a71c-0a5cf7e8abf3",
        "colab": {
          "base_uri": "https://localhost:8080/",
          "height": 35
        }
      },
      "execution_count": null,
      "outputs": [
        {
          "output_type": "execute_result",
          "data": {
            "text/plain": [
              "'monica'"
            ],
            "application/vnd.google.colaboratory.intrinsic+json": {
              "type": "string"
            }
          },
          "metadata": {},
          "execution_count": 16
        }
      ]
    },
    {
      "cell_type": "code",
      "source": [
        "l"
      ],
      "metadata": {
        "id": "pD9DLLVK6kPT",
        "outputId": "b9599250-6f78-42ee-fec4-3fbf9401f358",
        "colab": {
          "base_uri": "https://localhost:8080/"
        }
      },
      "execution_count": null,
      "outputs": [
        {
          "output_type": "execute_result",
          "data": {
            "text/plain": [
              "['ross', 'rachel', 'phoebe', 'joy']"
            ]
          },
          "metadata": {},
          "execution_count": 17
        }
      ]
    },
    {
      "cell_type": "code",
      "source": [
        "#to check prime\n",
        "num = int(input(\"Enter the number here: \"))\n",
        "if num <= 1:\n",
        "  print(\"It is not a prime number.\")\n",
        "else:\n",
        "  for i in range(2, int(num**0.5) + 1):\n",
        "    if num % i == 0:\n",
        "      print(\"Not a prime.\")\n",
        "      break\n",
        "  else:\n",
        "    print(\"It is a prime number.\")"
      ],
      "metadata": {
        "id": "YmWvGUkhGFtk",
        "outputId": "ea9ad072-4e8f-4a8f-f5e2-c5b5c7e31c70",
        "colab": {
          "base_uri": "https://localhost:8080/"
        }
      },
      "execution_count": null,
      "outputs": [
        {
          "output_type": "stream",
          "name": "stdout",
          "text": [
            "Enter the number here: 7\n",
            "It is a prime number.\n"
          ]
        }
      ]
    },
    {
      "cell_type": "code",
      "source": [
        "def fact(n):\n",
        "  if n == 1:\n",
        "    return n\n",
        "  else:\n",
        "    return n * fact(n-1)\n",
        "fact(5)"
      ],
      "metadata": {
        "id": "J8gnusmNSEdP",
        "outputId": "16e156f5-e7f1-4a56-c8e7-59f9318ac86e",
        "colab": {
          "base_uri": "https://localhost:8080/"
        }
      },
      "execution_count": null,
      "outputs": [
        {
          "output_type": "execute_result",
          "data": {
            "text/plain": [
              "120"
            ]
          },
          "metadata": {},
          "execution_count": 20
        }
      ]
    },
    {
      "cell_type": "code",
      "source": [
        "#to check whether the passed letter is vowel or not.\n",
        "a = input()\n",
        "if a in \"AEIOUaeiou\":\n",
        "  print(\"It is a vowel\")\n",
        "else:\n",
        "  print(\"It is not a vowel\")"
      ],
      "metadata": {
        "id": "XE7-zFasRlq7",
        "outputId": "d63c045a-c1cc-4cb0-ace1-0cd129157fc2",
        "colab": {
          "base_uri": "https://localhost:8080/"
        }
      },
      "execution_count": null,
      "outputs": [
        {
          "output_type": "stream",
          "name": "stdout",
          "text": [
            "i\n",
            "It is a vowel\n"
          ]
        }
      ]
    },
    {
      "cell_type": "code",
      "source": [
        "#to remove the duplicates from a list.\n",
        "a = [1,2,23,4,43,2,4,3,5,6,6,43,5]\n",
        "a = set(a)\n",
        "a = list(a)\n",
        "a"
      ],
      "metadata": {
        "id": "fP28TsmdRAWZ",
        "outputId": "86e60c8e-fec8-44ff-bd41-48730c185578",
        "colab": {
          "base_uri": "https://localhost:8080/"
        }
      },
      "execution_count": null,
      "outputs": [
        {
          "output_type": "execute_result",
          "data": {
            "text/plain": [
              "[1, 2, 3, 4, 5, 6, 43, 23]"
            ]
          },
          "metadata": {},
          "execution_count": 15
        }
      ]
    },
    {
      "cell_type": "code",
      "source": [
        "#find the sum of first 20 even numbers.\n",
        "sum = 0\n",
        "for i in range(1,41):\n",
        "  if i % 2 == 0:\n",
        "    sum +=i\n",
        "print(sum)"
      ],
      "metadata": {
        "id": "6021aJYHQf88",
        "outputId": "2cd64720-0791-46d7-e374-b586278bc69a",
        "colab": {
          "base_uri": "https://localhost:8080/"
        }
      },
      "execution_count": null,
      "outputs": [
        {
          "output_type": "stream",
          "name": "stdout",
          "text": [
            "420\n"
          ]
        }
      ]
    },
    {
      "cell_type": "code",
      "source": [
        "rev_str = ''\n",
        "a = 'ris olleh'\n",
        "for i in a:\n",
        "  rev_str = i + rev_str\n",
        "print(rev_str)"
      ],
      "metadata": {
        "id": "YrP3jAZ95dOx",
        "outputId": "4d8b7995-51c5-47a1-92ab-af43b7932f8b",
        "colab": {
          "base_uri": "https://localhost:8080/"
        }
      },
      "execution_count": null,
      "outputs": [
        {
          "output_type": "stream",
          "name": "stdout",
          "text": [
            "hello sir\n"
          ]
        }
      ]
    },
    {
      "cell_type": "code",
      "source": [
        "a = [[1,2], [3,4], [5,6]]\n",
        "x = [i for i in a for i in i]\n",
        "print(x)"
      ],
      "metadata": {
        "id": "6IgnqTlL5dLD",
        "outputId": "7600737b-f5c8-480f-cf75-781949eeb0e1",
        "colab": {
          "base_uri": "https://localhost:8080/"
        }
      },
      "execution_count": null,
      "outputs": [
        {
          "output_type": "stream",
          "name": "stdout",
          "text": [
            "[1, 2, 3, 4, 5, 6]\n"
          ]
        }
      ]
    },
    {
      "cell_type": "code",
      "source": [
        "def fibonacci(n):\n",
        "  a,b = 0,1\n",
        "  for i in range(n):\n",
        "    print(a, end = \" \")\n",
        "    c = a + b\n",
        "    a = b\n",
        "    b = c\n",
        "fibonacci(10)"
      ],
      "metadata": {
        "id": "3kb3uKbb5dHB",
        "outputId": "dbe237fc-2ef3-4b2e-eded-0faa4198bc6b",
        "colab": {
          "base_uri": "https://localhost:8080/"
        }
      },
      "execution_count": null,
      "outputs": [
        {
          "output_type": "stream",
          "name": "stdout",
          "text": [
            "0 1 1 2 3 5 8 13 21 34 "
          ]
        }
      ]
    },
    {
      "cell_type": "code",
      "source": [
        "is_palin = input('Enter the string to find the palindrome: ')\n",
        "if is_palin == is_palin[::-1]:\n",
        "  print('It is a palindrome.')\n",
        "else:\n",
        "  print('Not a palindrome.')\n"
      ],
      "metadata": {
        "id": "OPJUd09F5dCx",
        "outputId": "c1787c62-444f-41aa-913b-f06fbbd1f803",
        "colab": {
          "base_uri": "https://localhost:8080/"
        }
      },
      "execution_count": null,
      "outputs": [
        {
          "output_type": "stream",
          "name": "stdout",
          "text": [
            "Enter the string to find the palindrome: madm\n",
            "Not a palindrome.\n"
          ]
        }
      ]
    },
    {
      "cell_type": "code",
      "source": [
        "def fact(n):\n",
        "  if n == 1:\n",
        "    return n\n",
        "  else:\n",
        "    return n* fact(n-1)\n",
        "fact(5)"
      ],
      "metadata": {
        "id": "YNk6e-ud5c-V",
        "outputId": "6227743d-a9b0-4d98-ff5a-ca141e960cb8",
        "colab": {
          "base_uri": "https://localhost:8080/"
        }
      },
      "execution_count": null,
      "outputs": [
        {
          "output_type": "execute_result",
          "data": {
            "text/plain": [
              "120"
            ]
          },
          "metadata": {},
          "execution_count": 9
        }
      ]
    },
    {
      "cell_type": "code",
      "source": [
        "#to find the second largest number in a list.\n",
        "a = [1,2,23,3,4,3,2,42,23,3,4]\n",
        "a.sort(reverse = True)\n",
        "a[1]"
      ],
      "metadata": {
        "id": "wlXwhDiQQNdw",
        "outputId": "f1711e2e-92cd-47dc-d7d8-2ad7d79b19f1",
        "colab": {
          "base_uri": "https://localhost:8080/"
        }
      },
      "execution_count": null,
      "outputs": [
        {
          "output_type": "execute_result",
          "data": {
            "text/plain": [
              "23"
            ]
          },
          "metadata": {},
          "execution_count": 12
        }
      ]
    },
    {
      "cell_type": "code",
      "source": [
        "#numbers and their squares\n",
        "for i in range(1,11):\n",
        "  print(\"The square of the number\",i, \"is\", i*i)"
      ],
      "metadata": {
        "id": "y6cbye7WP-_R",
        "outputId": "51b0864d-dc2f-46e3-eb55-7ca5e4fb3b0a",
        "colab": {
          "base_uri": "https://localhost:8080/"
        }
      },
      "execution_count": null,
      "outputs": [
        {
          "output_type": "stream",
          "name": "stdout",
          "text": [
            "The square of the number 1 is 1\n",
            "The square of the number 2 is 4\n",
            "The square of the number 3 is 9\n",
            "The square of the number 4 is 16\n",
            "The square of the number 5 is 25\n",
            "The square of the number 6 is 36\n",
            "The square of the number 7 is 49\n",
            "The square of the number 8 is 64\n",
            "The square of the number 9 is 81\n",
            "The square of the number 10 is 100\n"
          ]
        }
      ]
    },
    {
      "cell_type": "code",
      "source": [
        "#to reverse a string\n",
        "a = \"olleh\"\n",
        "rev_str = \"\"\n",
        "for i in a:\n",
        "  rev_str = i + rev_str\n",
        "print(rev_str)"
      ],
      "metadata": {
        "id": "qCy9ziwaPrpv",
        "outputId": "177afb08-2f1f-4f3e-f56a-31e123b5cf61",
        "colab": {
          "base_uri": "https://localhost:8080/"
        }
      },
      "execution_count": null,
      "outputs": [
        {
          "output_type": "stream",
          "name": "stdout",
          "text": [
            "hello\n"
          ]
        }
      ]
    },
    {
      "cell_type": "code",
      "source": [
        "#to check prime\n",
        "n = int(input())\n",
        "if n <= 1:\n",
        "  print(\"It is not a prime number.\")\n",
        "else:\n",
        "   for i in range(2, int(n**0.5)+1):\n",
        "     if n % i == 0:\n",
        "       print(\"It is not a prime number.\")\n",
        "       break\n",
        "   else:\n",
        "     print(\"It is a prime number.\")"
      ],
      "metadata": {
        "id": "VNjkrl5XOvl5",
        "outputId": "34e627c8-25e3-423a-a066-e0fa2c935647",
        "colab": {
          "base_uri": "https://localhost:8080/"
        }
      },
      "execution_count": null,
      "outputs": [
        {
          "output_type": "stream",
          "name": "stdout",
          "text": [
            "21\n",
            "It is not a prime number.\n"
          ]
        }
      ]
    },
    {
      "cell_type": "code",
      "source": [
        "a = \"olleh\"\n",
        "rev_str = \"\"\n",
        "for i in a:\n",
        "  rev_str = i + rev_str\n",
        "print(rev_str)\n",
        "\n",
        "#anagrams\n",
        "from collections import Counter\n",
        "def is_anagram(str1,str2):\n",
        "  return Counter(str1) == Counter(str2)\n",
        "print(is_anagram(\"listen\", \"silent\"))\n",
        "\n",
        "#count the frequency of each string\n",
        "strin = \"helloooooo\"\n",
        "from collections import Counter\n",
        "char_count = Counter(strin)\n",
        "print(char_count)\n",
        "\n",
        "#removing duplicate and preserving orders.\n",
        "s = [1,2,3,4,2,2,4,23,4,2,4,2,4]\n",
        "s = set(s)\n",
        "s = list(s)\n",
        "s.sort(reverse = False)\n",
        "s\n",
        "\n",
        "\n",
        "#to find the factorial\n",
        "def fact(n):\n",
        "  if n == 1:\n",
        "    return n\n",
        "  else:\n",
        "    return n * fact(n-1)\n",
        "fact(5)\n",
        "\n",
        "#def fibonacci\n",
        "def fibonacci(n):\n",
        "  a,b = 0,1\n",
        "  for i in range(n):\n",
        "    print(a)\n",
        "    c = a + b\n",
        "    a = b\n",
        "    b = c\n",
        "fibonacci(10)\n",
        "\n",
        "#to check whether the number is prime or not.\n",
        "num = int(input(\"Enter a number: \"))\n",
        "\n",
        "if num <= 1:\n",
        "    print(\"Not a prime number.\")\n",
        "else:\n",
        "    for i in range(2, int(num ** 0.5) + 1):\n",
        "        if num % i == 0:\n",
        "            print(\"Not a prime number.\")\n",
        "            break\n",
        "    else:\n",
        "        print(\"It is a prime number.\")\n"
      ],
      "metadata": {
        "id": "t44AFmBDAK8K",
        "outputId": "f958cd28-8366-4f7e-bf4d-451ddfe0a2b7",
        "colab": {
          "base_uri": "https://localhost:8080/"
        }
      },
      "execution_count": null,
      "outputs": [
        {
          "output_type": "stream",
          "name": "stdout",
          "text": [
            "hello\n",
            "True\n",
            "Counter({'o': 6, 'l': 2, 'h': 1, 'e': 1})\n",
            "0\n",
            "1\n",
            "1\n",
            "2\n",
            "3\n",
            "5\n",
            "8\n",
            "13\n",
            "21\n",
            "34\n",
            "Enter a number: 5\n",
            "It is a prime number.\n"
          ]
        }
      ]
    },
    {
      "cell_type": "code",
      "source": [
        "                              #Check if two strings are anagrams\n",
        "# from collections import Counter\n",
        "\n",
        "# def is_anagram(str1, str2):\n",
        "#     return Counter(str1) == Counter(str2)\n",
        "\n",
        "# print(is_anagram(\"listen\", \"silent\"))  # ✅ True\n",
        "# print(is_anagram(\"hello\", \"world\"))    # ❌ False\n",
        "\n",
        "                            #reverse the string without using reverse and slicing.\n",
        "a = \"olleh\"\n",
        "# rev_str = \"\"\n",
        "# for i in a:\n",
        "#   rev_str = i + rev_str\n",
        "# print(rev_str)\n",
        "\n",
        "\n",
        "a = \"olleh\"\n",
        "a = list(a)\n",
        "a.reverse()\n",
        "a = \"\".join(a)\n",
        "print(a)\n",
        "                          #Count the frequency of each character in a string\n",
        "\n",
        "a = \"helloooooo\"\n",
        "# a = list(a)\n",
        "# a.count(\"o\")\n",
        "from collections import Counter\n",
        "a = \"helloooo\"\n",
        "char_count = Counter(a)\n",
        "print(char_count)\n",
        "\n",
        "                        #Remove duplicates from a list while preserving order\n",
        "a = [1,2,2,3,34,4,5,5,4,4,53,3,56,6,3]\n",
        "a = set(a)\n",
        "a = list(a)\n",
        "a.sort(reverse = False)\n",
        "a\n",
        "\n",
        "                      #Check if two strings are anagrams\n",
        "from collections import Counter\n",
        "a = \"silent\"\n",
        "b = \"listen\"\n",
        "if Counter(a) == Counter(b):\n",
        "  print(a,b,\"are anagrams\")\n",
        "else:\n",
        "  print(\"Not an anagrams\")\n",
        "\n",
        "                     #Find the second largest number in a list\n",
        "a = [1,2,34,5,4,6,7]\n",
        "# a.sort(reverse = True)\n",
        "# a[1]\n",
        "\n",
        "b = a.index(34)\n",
        "# print(a.pop(2))\n",
        "# print(max(a))\n",
        "\n",
        "                    #Write a function to return the factorial of a number\n",
        "def fact(n):\n",
        "  if n == 1:\n",
        "    return n\n",
        "  else:\n",
        "    return n*fact(n-1)\n",
        "fact(5)\n",
        "\n",
        "                  #Fibonacci series using recursion and iteration\n",
        "def fibonacci(n):\n",
        "  a,b = 0,1\n",
        "  for i in range(n):\n",
        "    print(a, end = \" \")\n",
        "    c = a + b\n",
        "    a = b\n",
        "    b = c\n",
        "fibonacci(10)"
      ],
      "metadata": {
        "id": "o_M5vuETB0G7",
        "outputId": "fe25f52f-9eeb-4d2d-c44b-9cf1e821cd45",
        "colab": {
          "base_uri": "https://localhost:8080/"
        }
      },
      "execution_count": null,
      "outputs": [
        {
          "output_type": "stream",
          "name": "stdout",
          "text": [
            "hello\n",
            "Counter({'o': 4, 'l': 2, 'h': 1, 'e': 1})\n",
            "silent listen are anagrams\n",
            "0 1 1 2 3 5 8 13 21 34 "
          ]
        }
      ]
    },
    {
      "cell_type": "code",
      "execution_count": null,
      "metadata": {
        "colab": {
          "base_uri": "https://localhost:8080/"
        },
        "id": "-lwcXFu-pDfh",
        "outputId": "20b95157-303c-4a26-9869-5ba402dd26a1"
      },
      "outputs": [
        {
          "output_type": "stream",
          "name": "stdout",
          "text": [
            "89\n",
            "90\n",
            "10751912\n"
          ]
        }
      ],
      "source": [
        "#input method- take input as a sample 15 and convert into 16 by using input method.\n",
        "a = int(input())\n",
        "output = a + 1\n",
        "print(output)\n",
        "\n",
        "\n",
        "#to find the location of the variable\n",
        "x = 34\n",
        "print(id(x))"
      ]
    },
    {
      "cell_type": "code",
      "source": [
        "#upg ques\n",
        "x = int(input())\n",
        "y = int(input())\n",
        "\n",
        "output = x^y + (x+y)^(x-y)  #use ** instead of ^\n",
        "\n",
        "print(output)"
      ],
      "metadata": {
        "id": "Cn-eSgiW79Ym",
        "outputId": "d9773aa8-f11c-494f-f33f-cab97b9b7f0c",
        "colab": {
          "base_uri": "https://localhost:8080/"
        }
      },
      "execution_count": null,
      "outputs": [
        {
          "output_type": "stream",
          "name": "stdout",
          "text": [
            "3\n",
            "3\n",
            "10\n"
          ]
        }
      ]
    },
    {
      "cell_type": "code",
      "source": [
        "#Write a Python program to take a temperature in degrees Celsius as input from a user and convert it to the Fahrenheit scale.\n",
        "#Hint: Temperature in Fahrenheit = (Temperature in Celsius )* (9/5) + 32\n",
        "#Sample Input: -40\n",
        "#Sample Output: -40.0\n",
        "a = int(input())\n",
        "output = a*(9/5)+32\n",
        "print(output)"
      ],
      "metadata": {
        "id": "ZybO3RGm9Bl-"
      },
      "execution_count": null,
      "outputs": []
    },
    {
      "cell_type": "code",
      "source": [
        "#upg coding ques\n",
        "var1=5\n",
        "var2=____(var1)\n",
        "print(var2)"
      ],
      "metadata": {
        "id": "esP381Y16qDi",
        "outputId": "19f35123-d44a-46a5-fdf1-fd893561fac0",
        "colab": {
          "base_uri": "https://localhost:8080/",
          "height": 193
        }
      },
      "execution_count": null,
      "outputs": [
        {
          "output_type": "error",
          "ename": "NameError",
          "evalue": "name '____' is not defined",
          "traceback": [
            "\u001b[0;31m---------------------------------------------------------------------------\u001b[0m",
            "\u001b[0;31mNameError\u001b[0m                                 Traceback (most recent call last)",
            "\u001b[0;32m<ipython-input-4-fe42da59842d>\u001b[0m in \u001b[0;36m<cell line: 0>\u001b[0;34m()\u001b[0m\n\u001b[1;32m      1\u001b[0m \u001b[0;31m#upg coding ques\u001b[0m\u001b[0;34m\u001b[0m\u001b[0;34m\u001b[0m\u001b[0m\n\u001b[1;32m      2\u001b[0m \u001b[0mvar1\u001b[0m\u001b[0;34m=\u001b[0m\u001b[0;36m5\u001b[0m\u001b[0;34m\u001b[0m\u001b[0;34m\u001b[0m\u001b[0m\n\u001b[0;32m----> 3\u001b[0;31m \u001b[0mvar2\u001b[0m\u001b[0;34m=\u001b[0m\u001b[0m____\u001b[0m\u001b[0;34m(\u001b[0m\u001b[0mvar1\u001b[0m\u001b[0;34m)\u001b[0m\u001b[0;34m\u001b[0m\u001b[0;34m\u001b[0m\u001b[0m\n\u001b[0m\u001b[1;32m      4\u001b[0m \u001b[0mprint\u001b[0m\u001b[0;34m(\u001b[0m\u001b[0mvar2\u001b[0m\u001b[0;34m)\u001b[0m\u001b[0;34m\u001b[0m\u001b[0;34m\u001b[0m\u001b[0m\n",
            "\u001b[0;31mNameError\u001b[0m: name '____' is not defined"
          ]
        }
      ]
    },
    {
      "cell_type": "code",
      "source": [
        "#Tuple\n",
        "\n",
        "\n",
        "#dictionary functions- get, item, keys, values, copy, setdefault, update, pop, popitem, clear\n",
        "\n",
        "student_data = {\"Name\": \"Jaiswal\", \"Age\" : 23, \"marks\" : 73}\n",
        "student_data\n",
        "\n",
        "#import the data into json format.\n",
        "import json\n",
        "data = json.dumps(student_data)\n",
        "data\n",
        "\n",
        "#access the value age from tuple\n",
        "student_data[\"Age\"]"
      ],
      "metadata": {
        "id": "FdHaQaQYo9rb",
        "outputId": "8424ff00-a21e-4b47-df4a-7a86fa460f3d",
        "colab": {
          "base_uri": "https://localhost:8080/"
        }
      },
      "execution_count": null,
      "outputs": [
        {
          "output_type": "stream",
          "name": "stdout",
          "text": [
            "\"\n"
          ]
        },
        {
          "output_type": "execute_result",
          "data": {
            "text/plain": [
              "23"
            ]
          },
          "metadata": {},
          "execution_count": 23
        }
      ]
    },
    {
      "cell_type": "code",
      "source": [
        "student_data = {\"Name\": \"Jaiswal\", \"Age\" : 23, \"marks\" : 73}\n",
        "x = student_data.setdefault(\"Age\", 29)\n",
        "x\n",
        "\n",
        "student_data = {\"Name\": \"Jaiswal\", \"Age\" : 23, \"marks\" : 73}\n",
        "\n",
        "#write a python program to sort the dictionary.\n",
        "dic = sorted(student_data)\n",
        "print(dic)\n",
        "\n",
        "#write a program where the key and it's squared values.\n",
        "a = {}\n",
        "for i in range(1,11):\n",
        "  a[i] = i*i\n",
        "print(a)\n",
        "\n",
        "#write a program to multiply all the items in a dictionary.\n",
        "product = 1\n",
        "c = {\"a\":1, \"b\":2, \"c\":3, \"d\":4}\n",
        "for i in c:\n",
        "  product *= c[i]\n",
        "print(product)\n",
        "\n",
        "#write a program to sort a dictionary by its key.\n",
        "c = {\"c\":1, \"b\":2, \"a\":3, \"d\":4}\n",
        "sor = sorted(c.keys())\n",
        "print(sor)"
      ],
      "metadata": {
        "id": "QXRIjc-tsw11",
        "outputId": "1627da9c-ecf0-40a9-daa0-7a8941b23b21",
        "colab": {
          "base_uri": "https://localhost:8080/"
        }
      },
      "execution_count": null,
      "outputs": [
        {
          "output_type": "stream",
          "name": "stdout",
          "text": [
            "['Age', 'Name', 'marks']\n",
            "{1: 1, 2: 4, 3: 9, 4: 16, 5: 25, 6: 36, 7: 49, 8: 64, 9: 81, 10: 100}\n",
            "24\n",
            "['a', 'b', 'c', 'd']\n"
          ]
        }
      ]
    },
    {
      "cell_type": "code",
      "source": [
        "#student_data = {\"Name\": \"Jaiswal\", \"Age\" : 23, \"marks\" : 73}\n",
        "student_data.keys()\n",
        "student_data.values()\n",
        "student_data.get(\"Name\")\n",
        "student_data.items()\n"
      ],
      "metadata": {
        "id": "-v0awmJ6sO9e",
        "outputId": "e40cad72-06f5-4c03-e8e1-ae311fc2697b",
        "colab": {
          "base_uri": "https://localhost:8080/"
        }
      },
      "execution_count": null,
      "outputs": [
        {
          "output_type": "execute_result",
          "data": {
            "text/plain": [
              "dict_items([('Name', 'Jaiswal'), ('Age', 23), ('marks', 73)])"
            ]
          },
          "metadata": {},
          "execution_count": 38
        }
      ]
    },
    {
      "cell_type": "code",
      "source": [
        "student_data = {\"Name\": \"Jaiswal\", \"Age\" : 23, \"marks\" : 73}\n",
        "for i in student_data:\n",
        "   print(i)\n",
        "\n",
        "for i in student_data:\n",
        "  print(student_data[i])"
      ],
      "metadata": {
        "id": "xk2sQ6hFrFu0",
        "outputId": "331622ce-7f9c-4837-cf88-e31522563e67",
        "colab": {
          "base_uri": "https://localhost:8080/"
        }
      },
      "execution_count": null,
      "outputs": [
        {
          "output_type": "stream",
          "name": "stdout",
          "text": [
            "Name\n",
            "Age\n",
            "marks\n",
            "Jaiswal\n",
            "23\n",
            "73\n"
          ]
        }
      ]
    },
    {
      "cell_type": "code",
      "source": [
        "#swaping the elements\n",
        "a = [\"Ross\",\"Rachel\",\"Monica\",\"Joe\"]\n",
        "a[0],a[3] = a[3],a[0]\n",
        "a\n",
        "\n",
        "#writing a program to add a new element on second position.\n",
        "\n",
        "a.insert(1, \"Phebie\")\n",
        "a\n",
        "\n",
        "#write a program to delete a element from the third position.\n",
        "\n",
        "a.pop(2)\n",
        "a\n",
        "\n",
        "#write a program to multiply all numbers from a list.\n",
        "mul = 1\n",
        "b = [1,2,3,4,5]\n",
        "for i in b:\n",
        "  mul *= i\n",
        "print(mul)\n",
        "\n",
        "#write the program to get the largest number from a list.\n",
        "c = [2,4,5,3,5,3,54,3,632,5,32,644]\n",
        "print(max(c))\n",
        "print(min(c))"
      ],
      "metadata": {
        "id": "AFZXpQjQmXeo",
        "outputId": "089fd3cf-6a30-4b9d-d7d7-4f4aaee5aefd",
        "colab": {
          "base_uri": "https://localhost:8080/"
        }
      },
      "execution_count": null,
      "outputs": [
        {
          "output_type": "stream",
          "name": "stdout",
          "text": [
            "120\n",
            "644\n",
            "2\n"
          ]
        }
      ]
    },
    {
      "cell_type": "code",
      "source": [
        "a = int(input())\n",
        "b = int(input())\n",
        "output = (a+b)/2\n",
        "print(output)"
      ],
      "metadata": {
        "id": "eBIqtiPJ1QGW",
        "outputId": "e8bd471f-9cc2-44a2-ff0d-692efd0b4e5c",
        "colab": {
          "base_uri": "https://localhost:8080/"
        }
      },
      "execution_count": null,
      "outputs": [
        {
          "output_type": "stream",
          "name": "stdout",
          "text": [
            "4\n",
            "2\n",
            "3.5\n"
          ]
        }
      ]
    },
    {
      "cell_type": "code",
      "source": [
        "#Reverse a string without using reverse() or slicing\n",
        "\n",
        "#Check if a string is a palindrome\n",
        "\n",
        "#Count the frequency of each character in a string\n",
        "\n",
        "#Find the second largest number in a list\n",
        "\n",
        "# Remove duplicates from a list while preserving order\n",
        "\n",
        "# Check if two strings are anagrams\n",
        "\n",
        "# Write a function to return the factorial of a number\n",
        "\n",
        "# Fibonacci series using recursion and iteration\n",
        "\n",
        "#reversing the string without using slicing and reverse method.\n",
        "a = \"olleh\"\n",
        "for i in a:\n",
        "  rev_str = \"\"\n",
        "  rev_str = i + rev_str\n",
        "  print(rev_str)"
      ],
      "metadata": {
        "id": "6rKiFMxM_YRC",
        "outputId": "b7c94bb4-f330-4a31-c90f-066458a88efb",
        "colab": {
          "base_uri": "https://localhost:8080/"
        }
      },
      "execution_count": null,
      "outputs": [
        {
          "output_type": "stream",
          "name": "stdout",
          "text": [
            "o\n",
            "l\n",
            "l\n",
            "e\n",
            "h\n"
          ]
        }
      ]
    },
    {
      "cell_type": "markdown",
      "source": [
        "In this code, integer is assigned the value 10000000000, which is a larger integer. When you print the size of integer using sys.getsizeof(), it returns the value 32 bytes.\n",
        "\n",
        "\n",
        "\n",
        "We can use the maxsize attribute of the sys module to get the minimum and maximum range of integers."
      ],
      "metadata": {
        "id": "BOZTmcX0qfLt"
      }
    },
    {
      "cell_type": "code",
      "source": [
        "#We can get the size of an integer variable using the getsizeof() method of the sys module.\n",
        "import sys\n",
        "x = 23\n",
        "sys.getsizeof(x)\n",
        "\n",
        "\n",
        "import sys\n",
        "integer = 10000000000\n",
        "print(\"The size of the integer variable is: \", sys.getsizeof(integer), 'bytes')\n",
        "\n",
        "max_int = sys.maxsize\n",
        "print(max_int)\n",
        "\n",
        "min_int = sys.maxsize * -1\n",
        "print(min_int)"
      ],
      "metadata": {
        "colab": {
          "base_uri": "https://localhost:8080/"
        },
        "id": "UsKov-BCpYau",
        "outputId": "c105ef3e-4b12-4941-e828-1e8b58ab3f7e"
      },
      "execution_count": null,
      "outputs": [
        {
          "output_type": "stream",
          "name": "stdout",
          "text": [
            "The size of the integer variable is:  32 bytes\n",
            "9223372036854775807\n",
            "-9223372036854775807\n"
          ]
        }
      ]
    },
    {
      "cell_type": "markdown",
      "source": [
        "Here is a brief summary of what you have learnt in the video above.\n",
        "\n",
        "\n",
        "\n",
        "Headings\n",
        "\n",
        "# for the titles\n",
        "## for the main headings\n",
        "### for the subheadings\n",
        "#### for the smaller subheadings\n",
        "##### for the italic subheadings\n",
        "Emphasis\n",
        "\n",
        "__string__ or **string** for bold text\n",
        "_string_ or *string*  for italic text\n",
        "Monospace fonts\n",
        "\n",
        "A back single quotation mark ` on both sides to get monospace fonts\n",
        "Line breaks\n",
        "\n",
        "<br> wherever you want a line break, as the notebook sometimes doesn't give you the required line break where you want it\n",
        "Indenting\n",
        "\n",
        "> to indent the text\n",
        ">> for further indenting it, and so on\n",
        "Bullets and numbering\n",
        "\n",
        "A single dash, i.e. -  followed by two spaces to make bullet points\n",
        "A number and a dot followed by a space, i.e. 1. to make numbered lists\n",
        "Colouring\n",
        "\n",
        "<font color = blue, yellow, red, pink, green, etc.> String </font> to give your font any colour that you want\n",
        "LaTeX Equations\n",
        "\n",
        "$ on both the sides of the text to write LaTeX equations"
      ],
      "metadata": {
        "id": "22o2XwiwxJVV"
      }
    },
    {
      "cell_type": "markdown",
      "source": [
        "Command mode shortcuts\n",
        "\n",
        "Esc: To go into command mode\n",
        "\n",
        "Enter: To go back to edit mode\n",
        "\n",
        "M: To convert a cell to a markdown cell\n",
        "\n",
        "Y: To convert a cell back to a code cell\n",
        "\n",
        "A: To insert a new cell above\n",
        "\n",
        "B: To insert a new cell below\n",
        "\n",
        "D + D: To delete cell\n",
        "\n",
        "Z: Undo the last operation\n",
        "\n",
        "F: To find and replace on your code\n",
        "\n",
        "Shift + Up/Down: To select multiple\n",
        "\n",
        "Space: Scroll notebook downwards\n",
        "\n",
        "Shift + Space: Scroll notebook upwards\n",
        "\n",
        "Edit mode shortcuts\n",
        "\n",
        "Shift + Enter: To execute the code in the current cell and go to the next cell\n",
        "Alt + Enter: To execute the code in the current cell and insert a new cell below\n",
        "Shift + Tab: To get a brief documentation of the object that you have just typed in the coding cell\n",
        "Ctrl + Shift + -: To split the cell at the cursor\n",
        "Shift + M: To merge selected cells"
      ],
      "metadata": {
        "id": "PVf1DnoQw0vL"
      }
    },
    {
      "cell_type": "markdown",
      "source": [
        "##String- We can create string with single or double quotes. Also we can create multiple line string by using triple quotes as well.\n"
      ],
      "metadata": {
        "id": "VJeSWDj_wvMR"
      }
    },
    {
      "cell_type": "code",
      "source": [
        "s = 'hello'\n",
        "t= 'hello world'\n",
        "print(s)\n",
        "print(t)"
      ],
      "metadata": {
        "id": "sv8rmNelpyp-",
        "colab": {
          "base_uri": "https://localhost:8080/"
        },
        "outputId": "a417589a-7f1b-4511-e436-8d8579fab748"
      },
      "execution_count": null,
      "outputs": [
        {
          "output_type": "stream",
          "name": "stdout",
          "text": [
            "hello\n",
            "hello world\n"
          ]
        }
      ]
    },
    {
      "cell_type": "code",
      "source": [
        "#converting a integer into string and then using it.\n",
        "age = 24\n",
        "age_str = str(age)\n",
        "print('my age is', age_str)"
      ],
      "metadata": {
        "colab": {
          "base_uri": "https://localhost:8080/"
        },
        "id": "9IDv6llLqR-j",
        "outputId": "8ae1c22f-67a4-4802-a64c-6272545f60b5"
      },
      "execution_count": null,
      "outputs": [
        {
          "output_type": "stream",
          "name": "stdout",
          "text": [
            "my age is 24\n"
          ]
        }
      ]
    },
    {
      "cell_type": "markdown",
      "source": [
        "##**string formatting**\n",
        "\n",
        "###**f-strings(f'{}')**\n",
        "### In this example, the variables name and age are directly inserted into the string using f-string formatting.\n",
        "\n",
        "###**The .format() function**\n",
        "\n",
        "The .format() function is a built-in string function for string formatting. .format() and f-strings (formatted string literals) are both used in Python for string formatting, but they have different syntax and characteristics. Here's how they are similar and different:\n",
        "\n",
        "\n",
        "\n",
        "Similarities\n",
        "\n",
        "- Both .format() and f-strings are used for injecting values into string placeholders, making it easier to create dynamic strings.\n",
        "\n",
        "- They allow for reordering, formatting, and inserting values into strings.\n",
        "\n",
        "- They provide formatting capabilities, such as setting decimal places, padding, alignment, and more, using similar syntax within the placeholders.\n",
        "\n",
        "\n",
        "\n",
        "Differences\n",
        "\n",
        "- .format() uses placeholders inside the string marked by curly braces { }, which are then replaced by the values or variables passed to the .format() method.\n",
        "\n",
        "- f-strings use prefixed strings with f or F and incorporate expressions inside curly braces directly within the string.\n",
        "\n",
        "- f-strings are generally faster than the .format() method.\n",
        "\n",
        "- f-strings offer improved readability because variables and expressions are embedded directly within the string, making it easier to understand."
      ],
      "metadata": {
        "id": "yc-cyZDHq_6m"
      }
    },
    {
      "cell_type": "code",
      "source": [
        "#f-string formatting.\n",
        "\n",
        "name = 'Jatin'\n",
        "age = 29\n",
        "print(f'my name is {name} and i am {age} years old.')\n",
        "\n",
        "goal = 'competition'\n",
        "year = 2025\n",
        "print(f'I will clear the {goal}, at any cost in {year}')\n",
        "\n",
        "#.formatting() function\n",
        "\n",
        "print('I am pursuing a course in {}, and i have gained {} from this course' .format('AI and Data Science', 'experience' ))\n",
        "\n"
      ],
      "metadata": {
        "colab": {
          "base_uri": "https://localhost:8080/"
        },
        "id": "OolXbO7gqqI1",
        "outputId": "8ece9b3e-9552-49d9-9388-325b9af067c5"
      },
      "execution_count": null,
      "outputs": [
        {
          "output_type": "stream",
          "name": "stdout",
          "text": [
            "my name is Jatin and i am 29 years old.\n",
            "I will clear the competition, at any cost in 2025\n",
            "I am pursuing a course in AI and Data Science, and i have gained experience from this course\n"
          ]
        }
      ]
    },
    {
      "cell_type": "markdown",
      "source": [
        "##**rstrip and lstrip function in string.**"
      ],
      "metadata": {
        "id": "aodhC1wtePb0"
      }
    },
    {
      "cell_type": "code",
      "source": [
        "#rstrip- to remove the extra spaces and also to remove the characters from a string.\n",
        "a = \"This is my general..  \"\n",
        "print(a)\n",
        "print(a.rstrip())           #space removed"
      ],
      "metadata": {
        "id": "QLtal8IrrXoI",
        "outputId": "d4452dea-b2d2-47a3-baaf-223daa399f1c",
        "colab": {
          "base_uri": "https://localhost:8080/"
        }
      },
      "execution_count": null,
      "outputs": [
        {
          "output_type": "stream",
          "name": "stdout",
          "text": [
            "This is my general..  \n",
            "This is my general..\n"
          ]
        }
      ]
    },
    {
      "cell_type": "code",
      "source": [
        "#rstrip- to remove some special characters in a string.\n",
        "a = '4@'\n",
        "print(a)\n",
        "print(a.rstrip('@'))\n",
        "\n",
        "\n",
        "#lstrip- used to remove the whitespaces from the left side.\n",
        "a = '         hello world'\n",
        "print(a)\n",
        "print(a.lstrip())\n",
        "\n",
        "#also we can apply both rstrip and lstrip at the same time.\n",
        "a = '*****hello#####'\n",
        "print(a)\n",
        "print(a.rstrip('#').lstrip('*'))"
      ],
      "metadata": {
        "id": "oL0DJca5eh9Z",
        "outputId": "49f076eb-690f-424f-bedb-0ba473489725",
        "colab": {
          "base_uri": "https://localhost:8080/"
        }
      },
      "execution_count": null,
      "outputs": [
        {
          "output_type": "stream",
          "name": "stdout",
          "text": [
            "4@\n",
            "4\n",
            "         hello world\n",
            "hello world\n",
            "*****hello#####\n",
            "hello\n"
          ]
        }
      ]
    },
    {
      "cell_type": "code",
      "source": [
        "#count method.\n",
        "a = 'this is a workbook'\n",
        "print(a.count('i'))     #simply count the occurence of i while,\n",
        "print(a.count('i', 5))  #it will check the occurence of i from the index number 5. putput= as we have only one i from 5th location so output is 1."
      ],
      "metadata": {
        "id": "i4KjFxQVe2Jt",
        "outputId": "f81b8c66-5797-4226-de96-dc2fefdf76d8",
        "colab": {
          "base_uri": "https://localhost:8080/"
        }
      },
      "execution_count": null,
      "outputs": [
        {
          "output_type": "stream",
          "name": "stdout",
          "text": [
            "2\n",
            "1\n"
          ]
        }
      ]
    },
    {
      "cell_type": "code",
      "source": [
        "#concatenation and formatting in python.\n",
        "age = 30\n",
        "print('I am '+ str(age) + ' years old')\n",
        "print('I am {0} years old'.format(age))\n",
        "\n",
        "#formatting with the different variables.\n",
        "a = 'Data'\n",
        "b = 'Analysis'\n",
        "c = 'Python'\n",
        "print('{0}, {1}, using {2}'.format(a,b,c))"
      ],
      "metadata": {
        "id": "DXy8jmcVglmp",
        "outputId": "0d0fbff7-159a-4f84-c723-7a990255ea39",
        "colab": {
          "base_uri": "https://localhost:8080/"
        }
      },
      "execution_count": null,
      "outputs": [
        {
          "output_type": "stream",
          "name": "stdout",
          "text": [
            "I am 30 years old\n",
            "I am 30 years old\n",
            "Data, Analysis, using Python\n"
          ]
        }
      ]
    },
    {
      "cell_type": "code",
      "source": [
        "#Notes- to find all the function of the string.\n",
        "help(str)  #will provide the all the list function."
      ],
      "metadata": {
        "id": "OLwGr_ubhPXn",
        "outputId": "c59cc603-3af5-4057-a19f-1e3ef7ea5560",
        "colab": {
          "base_uri": "https://localhost:8080/"
        }
      },
      "execution_count": null,
      "outputs": [
        {
          "output_type": "stream",
          "name": "stdout",
          "text": [
            "Help on class str in module builtins:\n",
            "\n",
            "class str(object)\n",
            " |  str(object='') -> str\n",
            " |  str(bytes_or_buffer[, encoding[, errors]]) -> str\n",
            " |  \n",
            " |  Create a new string object from the given object. If encoding or\n",
            " |  errors is specified, then the object must expose a data buffer\n",
            " |  that will be decoded using the given encoding and error handler.\n",
            " |  Otherwise, returns the result of object.__str__() (if defined)\n",
            " |  or repr(object).\n",
            " |  encoding defaults to sys.getdefaultencoding().\n",
            " |  errors defaults to 'strict'.\n",
            " |  \n",
            " |  Methods defined here:\n",
            " |  \n",
            " |  __add__(self, value, /)\n",
            " |      Return self+value.\n",
            " |  \n",
            " |  __contains__(self, key, /)\n",
            " |      Return key in self.\n",
            " |  \n",
            " |  __eq__(self, value, /)\n",
            " |      Return self==value.\n",
            " |  \n",
            " |  __format__(self, format_spec, /)\n",
            " |      Return a formatted version of the string as described by format_spec.\n",
            " |  \n",
            " |  __ge__(self, value, /)\n",
            " |      Return self>=value.\n",
            " |  \n",
            " |  __getattribute__(self, name, /)\n",
            " |      Return getattr(self, name).\n",
            " |  \n",
            " |  __getitem__(self, key, /)\n",
            " |      Return self[key].\n",
            " |  \n",
            " |  __getnewargs__(...)\n",
            " |  \n",
            " |  __gt__(self, value, /)\n",
            " |      Return self>value.\n",
            " |  \n",
            " |  __hash__(self, /)\n",
            " |      Return hash(self).\n",
            " |  \n",
            " |  __iter__(self, /)\n",
            " |      Implement iter(self).\n",
            " |  \n",
            " |  __le__(self, value, /)\n",
            " |      Return self<=value.\n",
            " |  \n",
            " |  __len__(self, /)\n",
            " |      Return len(self).\n",
            " |  \n",
            " |  __lt__(self, value, /)\n",
            " |      Return self<value.\n",
            " |  \n",
            " |  __mod__(self, value, /)\n",
            " |      Return self%value.\n",
            " |  \n",
            " |  __mul__(self, value, /)\n",
            " |      Return self*value.\n",
            " |  \n",
            " |  __ne__(self, value, /)\n",
            " |      Return self!=value.\n",
            " |  \n",
            " |  __repr__(self, /)\n",
            " |      Return repr(self).\n",
            " |  \n",
            " |  __rmod__(self, value, /)\n",
            " |      Return value%self.\n",
            " |  \n",
            " |  __rmul__(self, value, /)\n",
            " |      Return value*self.\n",
            " |  \n",
            " |  __sizeof__(self, /)\n",
            " |      Return the size of the string in memory, in bytes.\n",
            " |  \n",
            " |  __str__(self, /)\n",
            " |      Return str(self).\n",
            " |  \n",
            " |  capitalize(self, /)\n",
            " |      Return a capitalized version of the string.\n",
            " |      \n",
            " |      More specifically, make the first character have upper case and the rest lower\n",
            " |      case.\n",
            " |  \n",
            " |  casefold(self, /)\n",
            " |      Return a version of the string suitable for caseless comparisons.\n",
            " |  \n",
            " |  center(self, width, fillchar=' ', /)\n",
            " |      Return a centered string of length width.\n",
            " |      \n",
            " |      Padding is done using the specified fill character (default is a space).\n",
            " |  \n",
            " |  count(...)\n",
            " |      S.count(sub[, start[, end]]) -> int\n",
            " |      \n",
            " |      Return the number of non-overlapping occurrences of substring sub in\n",
            " |      string S[start:end].  Optional arguments start and end are\n",
            " |      interpreted as in slice notation.\n",
            " |  \n",
            " |  encode(self, /, encoding='utf-8', errors='strict')\n",
            " |      Encode the string using the codec registered for encoding.\n",
            " |      \n",
            " |      encoding\n",
            " |        The encoding in which to encode the string.\n",
            " |      errors\n",
            " |        The error handling scheme to use for encoding errors.\n",
            " |        The default is 'strict' meaning that encoding errors raise a\n",
            " |        UnicodeEncodeError.  Other possible values are 'ignore', 'replace' and\n",
            " |        'xmlcharrefreplace' as well as any other name registered with\n",
            " |        codecs.register_error that can handle UnicodeEncodeErrors.\n",
            " |  \n",
            " |  endswith(...)\n",
            " |      S.endswith(suffix[, start[, end]]) -> bool\n",
            " |      \n",
            " |      Return True if S ends with the specified suffix, False otherwise.\n",
            " |      With optional start, test S beginning at that position.\n",
            " |      With optional end, stop comparing S at that position.\n",
            " |      suffix can also be a tuple of strings to try.\n",
            " |  \n",
            " |  expandtabs(self, /, tabsize=8)\n",
            " |      Return a copy where all tab characters are expanded using spaces.\n",
            " |      \n",
            " |      If tabsize is not given, a tab size of 8 characters is assumed.\n",
            " |  \n",
            " |  find(...)\n",
            " |      S.find(sub[, start[, end]]) -> int\n",
            " |      \n",
            " |      Return the lowest index in S where substring sub is found,\n",
            " |      such that sub is contained within S[start:end].  Optional\n",
            " |      arguments start and end are interpreted as in slice notation.\n",
            " |      \n",
            " |      Return -1 on failure.\n",
            " |  \n",
            " |  format(...)\n",
            " |      S.format(*args, **kwargs) -> str\n",
            " |      \n",
            " |      Return a formatted version of S, using substitutions from args and kwargs.\n",
            " |      The substitutions are identified by braces ('{' and '}').\n",
            " |  \n",
            " |  format_map(...)\n",
            " |      S.format_map(mapping) -> str\n",
            " |      \n",
            " |      Return a formatted version of S, using substitutions from mapping.\n",
            " |      The substitutions are identified by braces ('{' and '}').\n",
            " |  \n",
            " |  index(...)\n",
            " |      S.index(sub[, start[, end]]) -> int\n",
            " |      \n",
            " |      Return the lowest index in S where substring sub is found,\n",
            " |      such that sub is contained within S[start:end].  Optional\n",
            " |      arguments start and end are interpreted as in slice notation.\n",
            " |      \n",
            " |      Raises ValueError when the substring is not found.\n",
            " |  \n",
            " |  isalnum(self, /)\n",
            " |      Return True if the string is an alpha-numeric string, False otherwise.\n",
            " |      \n",
            " |      A string is alpha-numeric if all characters in the string are alpha-numeric and\n",
            " |      there is at least one character in the string.\n",
            " |  \n",
            " |  isalpha(self, /)\n",
            " |      Return True if the string is an alphabetic string, False otherwise.\n",
            " |      \n",
            " |      A string is alphabetic if all characters in the string are alphabetic and there\n",
            " |      is at least one character in the string.\n",
            " |  \n",
            " |  isascii(self, /)\n",
            " |      Return True if all characters in the string are ASCII, False otherwise.\n",
            " |      \n",
            " |      ASCII characters have code points in the range U+0000-U+007F.\n",
            " |      Empty string is ASCII too.\n",
            " |  \n",
            " |  isdecimal(self, /)\n",
            " |      Return True if the string is a decimal string, False otherwise.\n",
            " |      \n",
            " |      A string is a decimal string if all characters in the string are decimal and\n",
            " |      there is at least one character in the string.\n",
            " |  \n",
            " |  isdigit(self, /)\n",
            " |      Return True if the string is a digit string, False otherwise.\n",
            " |      \n",
            " |      A string is a digit string if all characters in the string are digits and there\n",
            " |      is at least one character in the string.\n",
            " |  \n",
            " |  isidentifier(self, /)\n",
            " |      Return True if the string is a valid Python identifier, False otherwise.\n",
            " |      \n",
            " |      Call keyword.iskeyword(s) to test whether string s is a reserved identifier,\n",
            " |      such as \"def\" or \"class\".\n",
            " |  \n",
            " |  islower(self, /)\n",
            " |      Return True if the string is a lowercase string, False otherwise.\n",
            " |      \n",
            " |      A string is lowercase if all cased characters in the string are lowercase and\n",
            " |      there is at least one cased character in the string.\n",
            " |  \n",
            " |  isnumeric(self, /)\n",
            " |      Return True if the string is a numeric string, False otherwise.\n",
            " |      \n",
            " |      A string is numeric if all characters in the string are numeric and there is at\n",
            " |      least one character in the string.\n",
            " |  \n",
            " |  isprintable(self, /)\n",
            " |      Return True if the string is printable, False otherwise.\n",
            " |      \n",
            " |      A string is printable if all of its characters are considered printable in\n",
            " |      repr() or if it is empty.\n",
            " |  \n",
            " |  isspace(self, /)\n",
            " |      Return True if the string is a whitespace string, False otherwise.\n",
            " |      \n",
            " |      A string is whitespace if all characters in the string are whitespace and there\n",
            " |      is at least one character in the string.\n",
            " |  \n",
            " |  istitle(self, /)\n",
            " |      Return True if the string is a title-cased string, False otherwise.\n",
            " |      \n",
            " |      In a title-cased string, upper- and title-case characters may only\n",
            " |      follow uncased characters and lowercase characters only cased ones.\n",
            " |  \n",
            " |  isupper(self, /)\n",
            " |      Return True if the string is an uppercase string, False otherwise.\n",
            " |      \n",
            " |      A string is uppercase if all cased characters in the string are uppercase and\n",
            " |      there is at least one cased character in the string.\n",
            " |  \n",
            " |  join(self, iterable, /)\n",
            " |      Concatenate any number of strings.\n",
            " |      \n",
            " |      The string whose method is called is inserted in between each given string.\n",
            " |      The result is returned as a new string.\n",
            " |      \n",
            " |      Example: '.'.join(['ab', 'pq', 'rs']) -> 'ab.pq.rs'\n",
            " |  \n",
            " |  ljust(self, width, fillchar=' ', /)\n",
            " |      Return a left-justified string of length width.\n",
            " |      \n",
            " |      Padding is done using the specified fill character (default is a space).\n",
            " |  \n",
            " |  lower(self, /)\n",
            " |      Return a copy of the string converted to lowercase.\n",
            " |  \n",
            " |  lstrip(self, chars=None, /)\n",
            " |      Return a copy of the string with leading whitespace removed.\n",
            " |      \n",
            " |      If chars is given and not None, remove characters in chars instead.\n",
            " |  \n",
            " |  partition(self, sep, /)\n",
            " |      Partition the string into three parts using the given separator.\n",
            " |      \n",
            " |      This will search for the separator in the string.  If the separator is found,\n",
            " |      returns a 3-tuple containing the part before the separator, the separator\n",
            " |      itself, and the part after it.\n",
            " |      \n",
            " |      If the separator is not found, returns a 3-tuple containing the original string\n",
            " |      and two empty strings.\n",
            " |  \n",
            " |  removeprefix(self, prefix, /)\n",
            " |      Return a str with the given prefix string removed if present.\n",
            " |      \n",
            " |      If the string starts with the prefix string, return string[len(prefix):].\n",
            " |      Otherwise, return a copy of the original string.\n",
            " |  \n",
            " |  removesuffix(self, suffix, /)\n",
            " |      Return a str with the given suffix string removed if present.\n",
            " |      \n",
            " |      If the string ends with the suffix string and that suffix is not empty,\n",
            " |      return string[:-len(suffix)]. Otherwise, return a copy of the original\n",
            " |      string.\n",
            " |  \n",
            " |  replace(self, old, new, count=-1, /)\n",
            " |      Return a copy with all occurrences of substring old replaced by new.\n",
            " |      \n",
            " |        count\n",
            " |          Maximum number of occurrences to replace.\n",
            " |          -1 (the default value) means replace all occurrences.\n",
            " |      \n",
            " |      If the optional argument count is given, only the first count occurrences are\n",
            " |      replaced.\n",
            " |  \n",
            " |  rfind(...)\n",
            " |      S.rfind(sub[, start[, end]]) -> int\n",
            " |      \n",
            " |      Return the highest index in S where substring sub is found,\n",
            " |      such that sub is contained within S[start:end].  Optional\n",
            " |      arguments start and end are interpreted as in slice notation.\n",
            " |      \n",
            " |      Return -1 on failure.\n",
            " |  \n",
            " |  rindex(...)\n",
            " |      S.rindex(sub[, start[, end]]) -> int\n",
            " |      \n",
            " |      Return the highest index in S where substring sub is found,\n",
            " |      such that sub is contained within S[start:end].  Optional\n",
            " |      arguments start and end are interpreted as in slice notation.\n",
            " |      \n",
            " |      Raises ValueError when the substring is not found.\n",
            " |  \n",
            " |  rjust(self, width, fillchar=' ', /)\n",
            " |      Return a right-justified string of length width.\n",
            " |      \n",
            " |      Padding is done using the specified fill character (default is a space).\n",
            " |  \n",
            " |  rpartition(self, sep, /)\n",
            " |      Partition the string into three parts using the given separator.\n",
            " |      \n",
            " |      This will search for the separator in the string, starting at the end. If\n",
            " |      the separator is found, returns a 3-tuple containing the part before the\n",
            " |      separator, the separator itself, and the part after it.\n",
            " |      \n",
            " |      If the separator is not found, returns a 3-tuple containing two empty strings\n",
            " |      and the original string.\n",
            " |  \n",
            " |  rsplit(self, /, sep=None, maxsplit=-1)\n",
            " |      Return a list of the substrings in the string, using sep as the separator string.\n",
            " |      \n",
            " |        sep\n",
            " |          The separator used to split the string.\n",
            " |      \n",
            " |          When set to None (the default value), will split on any whitespace\n",
            " |          character (including \\n \\r \\t \\f and spaces) and will discard\n",
            " |          empty strings from the result.\n",
            " |        maxsplit\n",
            " |          Maximum number of splits.\n",
            " |          -1 (the default value) means no limit.\n",
            " |      \n",
            " |      Splitting starts at the end of the string and works to the front.\n",
            " |  \n",
            " |  rstrip(self, chars=None, /)\n",
            " |      Return a copy of the string with trailing whitespace removed.\n",
            " |      \n",
            " |      If chars is given and not None, remove characters in chars instead.\n",
            " |  \n",
            " |  split(self, /, sep=None, maxsplit=-1)\n",
            " |      Return a list of the substrings in the string, using sep as the separator string.\n",
            " |      \n",
            " |        sep\n",
            " |          The separator used to split the string.\n",
            " |      \n",
            " |          When set to None (the default value), will split on any whitespace\n",
            " |          character (including \\n \\r \\t \\f and spaces) and will discard\n",
            " |          empty strings from the result.\n",
            " |        maxsplit\n",
            " |          Maximum number of splits.\n",
            " |          -1 (the default value) means no limit.\n",
            " |      \n",
            " |      Splitting starts at the front of the string and works to the end.\n",
            " |      \n",
            " |      Note, str.split() is mainly useful for data that has been intentionally\n",
            " |      delimited.  With natural text that includes punctuation, consider using\n",
            " |      the regular expression module.\n",
            " |  \n",
            " |  splitlines(self, /, keepends=False)\n",
            " |      Return a list of the lines in the string, breaking at line boundaries.\n",
            " |      \n",
            " |      Line breaks are not included in the resulting list unless keepends is given and\n",
            " |      true.\n",
            " |  \n",
            " |  startswith(...)\n",
            " |      S.startswith(prefix[, start[, end]]) -> bool\n",
            " |      \n",
            " |      Return True if S starts with the specified prefix, False otherwise.\n",
            " |      With optional start, test S beginning at that position.\n",
            " |      With optional end, stop comparing S at that position.\n",
            " |      prefix can also be a tuple of strings to try.\n",
            " |  \n",
            " |  strip(self, chars=None, /)\n",
            " |      Return a copy of the string with leading and trailing whitespace removed.\n",
            " |      \n",
            " |      If chars is given and not None, remove characters in chars instead.\n",
            " |  \n",
            " |  swapcase(self, /)\n",
            " |      Convert uppercase characters to lowercase and lowercase characters to uppercase.\n",
            " |  \n",
            " |  title(self, /)\n",
            " |      Return a version of the string where each word is titlecased.\n",
            " |      \n",
            " |      More specifically, words start with uppercased characters and all remaining\n",
            " |      cased characters have lower case.\n",
            " |  \n",
            " |  translate(self, table, /)\n",
            " |      Replace each character in the string using the given translation table.\n",
            " |      \n",
            " |        table\n",
            " |          Translation table, which must be a mapping of Unicode ordinals to\n",
            " |          Unicode ordinals, strings, or None.\n",
            " |      \n",
            " |      The table must implement lookup/indexing via __getitem__, for instance a\n",
            " |      dictionary or list.  If this operation raises LookupError, the character is\n",
            " |      left untouched.  Characters mapped to None are deleted.\n",
            " |  \n",
            " |  upper(self, /)\n",
            " |      Return a copy of the string converted to uppercase.\n",
            " |  \n",
            " |  zfill(self, width, /)\n",
            " |      Pad a numeric string with zeros on the left, to fill a field of the given width.\n",
            " |      \n",
            " |      The string is never truncated.\n",
            " |  \n",
            " |  ----------------------------------------------------------------------\n",
            " |  Static methods defined here:\n",
            " |  \n",
            " |  __new__(*args, **kwargs)\n",
            " |      Create and return a new object.  See help(type) for accurate signature.\n",
            " |  \n",
            " |  maketrans(...)\n",
            " |      Return a translation table usable for str.translate().\n",
            " |      \n",
            " |      If there is only one argument, it must be a dictionary mapping Unicode\n",
            " |      ordinals (integers) or characters to Unicode ordinals, strings or None.\n",
            " |      Character keys will be then converted to ordinals.\n",
            " |      If there are two arguments, they must be strings of equal length, and\n",
            " |      in the resulting dictionary, each character in x will be mapped to the\n",
            " |      character at the same position in y. If there is a third argument, it\n",
            " |      must be a string, whose characters will be mapped to None in the result.\n",
            "\n"
          ]
        }
      ]
    },
    {
      "cell_type": "code",
      "source": [
        "#Sample Input:\n",
        "\n",
        "#a = bmaunmdbraai\n",
        "\n",
        "#Sample Output:\n",
        "\n",
        "#bandra,mumbai\n",
        "\n",
        "a = \"bmaunmdbraai\"\n",
        "second = a[::2]\n",
        "print(output)\n",
        "first = a[1::2]\n",
        "print(b)\n",
        "print(f\"{first},{second}\")"
      ],
      "metadata": {
        "id": "K2_Chw9SiOGm",
        "outputId": "d933b0e8-14a2-4792-e608-ccb4f447aecb",
        "colab": {
          "base_uri": "https://localhost:8080/"
        }
      },
      "execution_count": null,
      "outputs": [
        {
          "output_type": "stream",
          "name": "stdout",
          "text": [
            "bandra\n",
            "mumbai\n",
            "mumbai,bandra\n"
          ]
        }
      ]
    },
    {
      "cell_type": "code",
      "source": [
        "import ast,sys\n",
        "input_str = sys.stdin.read()\n",
        "#Type your code here\n",
        " print(message1, message2)\n",
        "\n",
        " a = bmaunmdbraai\n",
        " message1 = a[::2]\n",
        " message2 = a[1::2]\n",
        " print(f'{message1},{message2}')"
      ],
      "metadata": {
        "id": "uYVN2iS4jJtr",
        "outputId": "b1b117c2-1058-43f5-ec28-16e974f10a00",
        "colab": {
          "base_uri": "https://localhost:8080/",
          "height": 106
        }
      },
      "execution_count": null,
      "outputs": [
        {
          "output_type": "error",
          "ename": "IndentationError",
          "evalue": "unexpected indent (<ipython-input-42-03c4e1986aa7>, line 4)",
          "traceback": [
            "\u001b[0;36m  File \u001b[0;32m\"<ipython-input-42-03c4e1986aa7>\"\u001b[0;36m, line \u001b[0;32m4\u001b[0m\n\u001b[0;31m    print(message1, message2)\u001b[0m\n\u001b[0m    ^\u001b[0m\n\u001b[0;31mIndentationError\u001b[0m\u001b[0;31m:\u001b[0m unexpected indent\n"
          ]
        }
      ]
    },
    {
      "cell_type": "code",
      "source": [
        "import ast,sys\n",
        "input_str = sys.stdin.read()\n",
        "#Type your code here\n",
        "\n",
        "a = \"bmaunmdbraai\"\n",
        "message1 = a[::2]\n",
        "message2 = a[1::2]\n",
        "print(f'{message1},{message2}')"
      ],
      "metadata": {
        "id": "t7PGoRaLmipI",
        "outputId": "c704f81e-572a-41ce-e28c-b653b050abdb",
        "colab": {
          "base_uri": "https://localhost:8080/"
        }
      },
      "execution_count": null,
      "outputs": [
        {
          "output_type": "stream",
          "name": "stdout",
          "text": [
            "bandra,mumbai\n"
          ]
        }
      ]
    },
    {
      "cell_type": "code",
      "source": [
        "input_str = \"hello\"\n",
        "output_str = \"\".join(dict.fromkeys(input_str))\n",
        "print(output_str)"
      ],
      "metadata": {
        "id": "3PTw9Susmloh",
        "outputId": "9759ef90-fd2b-434b-da15-099d2998460e",
        "colab": {
          "base_uri": "https://localhost:8080/"
        }
      },
      "execution_count": null,
      "outputs": [
        {
          "output_type": "stream",
          "name": "stdout",
          "text": [
            "helo\n"
          ]
        }
      ]
    },
    {
      "cell_type": "code",
      "source": [
        "What will be the output of this code?\n",
        "\n",
        "print(bool(1), bool(-8), bool(1.67), bool(False))\n",
        "\n",
        "#In Python, bool() returns:\n",
        "- False for 0, 0.0, None, False, \"\" (empty string), [] (empty list), {} (empty dictionary), set(), and range(0)."
      ],
      "metadata": {
        "id": "RxqzsGlKwMFt",
        "outputId": "5b7a30e0-f333-4042-bb18-1e9d8e7b8744",
        "colab": {
          "base_uri": "https://localhost:8080/"
        }
      },
      "execution_count": null,
      "outputs": [
        {
          "output_type": "stream",
          "name": "stdout",
          "text": [
            "Object `code` not found.\n",
            "True True True False\n",
            "In Python, bool() returns: False for 0, 0.0, None, False, \"\" (empty string), [] (empty list), {} (empty dictionary), set(), and range(0).\n",
            "True for all other values, including negative numbers and nonzero floats.\")\n"
          ]
        }
      ]
    },
    {
      "cell_type": "markdown",
      "source": [
        "#In Python, bool() returns:\n",
        "- False for 0, 0.0, None, False, \"\" (empty string), [] (empty list), {} (empty dictionary), set(), and range(0).\n",
        "- True for all other values, including negative numbers and nonzero floats."
      ],
      "metadata": {
        "id": "aCz7p0eE-A0t"
      }
    },
    {
      "cell_type": "code",
      "source": [
        "\n",
        "Which of these code lines produces a Boolean True output?\n",
        "\n",
        "len('Python and R are used in data science') > 25\n",
        "len('Python and R are used in data science') < 25"
      ],
      "metadata": {
        "id": "TXWO1nJ94_cY",
        "outputId": "2db988ee-2c32-4ebb-e636-c486bc580d2b",
        "colab": {
          "base_uri": "https://localhost:8080/"
        }
      },
      "execution_count": null,
      "outputs": [
        {
          "output_type": "execute_result",
          "data": {
            "text/plain": [
              "False"
            ]
          },
          "metadata": {},
          "execution_count": 61
        }
      ]
    },
    {
      "cell_type": "code",
      "source": [
        "len('Python and R are used in data science') > 25"
      ],
      "metadata": {
        "id": "Mo9i1tHz-cQw",
        "outputId": "93741e5e-f86b-4ed5-ada4-4381fb9060c8",
        "colab": {
          "base_uri": "https://localhost:8080/"
        }
      },
      "execution_count": null,
      "outputs": [
        {
          "output_type": "execute_result",
          "data": {
            "text/plain": [
              "True"
            ]
          },
          "metadata": {},
          "execution_count": 62
        }
      ]
    },
    {
      "cell_type": "code",
      "source": [
        "print('My name is {} and I am {} years old'.format('John', 30))"
      ],
      "metadata": {
        "id": "olmWqhCd-iWx",
        "outputId": "9219c453-13fc-469e-85f0-72f4b641df19",
        "colab": {
          "base_uri": "https://localhost:8080/"
        }
      },
      "execution_count": null,
      "outputs": [
        {
          "output_type": "stream",
          "name": "stdout",
          "text": [
            "My name is John and I am 30 years old\n"
          ]
        }
      ]
    },
    {
      "cell_type": "code",
      "source": [
        "#print('My name is {John} and I am {30} years old'.format())"
      ],
      "metadata": {
        "id": "n5CDHbp--9Yr"
      },
      "execution_count": null,
      "outputs": []
    },
    {
      "cell_type": "code",
      "source": [
        "print('My name is %s and I am %d years old' % ('John', 30))"
      ],
      "metadata": {
        "id": "tdRNmgVj_CFN",
        "outputId": "8292ce67-4998-4027-fd00-4a9ea39bc03d",
        "colab": {
          "base_uri": "https://localhost:8080/"
        }
      },
      "execution_count": null,
      "outputs": [
        {
          "output_type": "stream",
          "name": "stdout",
          "text": [
            "My name is John and I am 30 years old\n"
          ]
        }
      ]
    },
    {
      "cell_type": "markdown",
      "source": [
        "- Which of these pairs has operators with the same precedence level?\n",
        "\n",
        "Multiplication and division\n",
        "\n",
        "Division and subtraction\n",
        "\n",
        "Addition and multiplication\n",
        "\n",
        "Addition and division\n",
        "\n",
        "** Multiplication and Division have the same precedence level.\n",
        "\n",
        "Operator Precedence (Highest to Lowest in Python):\n",
        "\n",
        "- () → Parentheses\n",
        "\n",
        "- ** → Exponentiation\n",
        "\n",
        "* / // % → Multiplication, Division, Floor Division, Modulus (Same level)\n",
        "+ - → Addition, Subtraction (Same level)\n",
        "\n",
        "So, Multiplication (*) and Division (/) have the same precedence level. 🚀**"
      ],
      "metadata": {
        "id": "n5LPb34JAsme"
      }
    },
    {
      "cell_type": "markdown",
      "source": [
        "#ques\n",
        "\n",
        "\n",
        "Evaluate the following arithmetic expressions and choose the correct option which contains the correct computation:\n",
        "\n",
        "NOTE: You may need to import the math library.\n",
        "\n",
        "- math.sqrt(25) + (7 ** 3) / 2\n",
        "\n",
        "- math.factorial(4) / (2 ** 3) - 1\n",
        "\n",
        "- (10 * (5 - 3) ** 2) / 4\n",
        "- 3 * ((5 / 2) - math.sqrt(9))\n",
        "- 6 * (len('Mathematics') % 3 // 2) + 3 ** 2"
      ],
      "metadata": {
        "id": "f_6GIvzRBh0l"
      }
    },
    {
      "cell_type": "code",
      "source": [
        "\n",
        "#Evaluate the following arithmetic expressions and choose the correct option which contains the correct computation:\n",
        "\n",
        "#NOTE: You may need to import the math library.\n",
        "import math\n",
        "\n",
        "math.sqrt(25) + (7 ** 3) / 2\n",
        "math.factorial(4) / (2 ** 3) - 1\n",
        "(10 * (5 - 3) ** 2) / 4\n",
        "3 * ((5 / 2) - math.sqrt(9))\n",
        "6 * (len('Mathematics') % 3 // 2) + 3 ** 2"
      ],
      "metadata": {
        "id": "rOvmTs1E_G5w",
        "outputId": "8e540750-b936-428e-bbe3-a6a469584e49",
        "colab": {
          "base_uri": "https://localhost:8080/"
        }
      },
      "execution_count": null,
      "outputs": [
        {
          "output_type": "execute_result",
          "data": {
            "text/plain": [
              "15"
            ]
          },
          "metadata": {},
          "execution_count": 67
        }
      ]
    },
    {
      "cell_type": "code",
      "source": [
        "math.sqrt(25) + (7 ** 3) / 2"
      ],
      "metadata": {
        "id": "6-yPj6QcBvYl",
        "outputId": "8159f9d5-1d7c-4c5e-f9f1-cde7f875d26b",
        "colab": {
          "base_uri": "https://localhost:8080/"
        }
      },
      "execution_count": null,
      "outputs": [
        {
          "output_type": "execute_result",
          "data": {
            "text/plain": [
              "176.5"
            ]
          },
          "metadata": {},
          "execution_count": 68
        }
      ]
    },
    {
      "cell_type": "code",
      "source": [
        "#What will be the output of this print statement?\n",
        "\n",
        "print(4%100,4//100,4/100)\n",
        "\n",
        "#Check whether int(14.56) and 44//3 are equal.\n",
        "print(int(14.56) , 44//3)\n",
        "\n",
        "x = 7\n",
        "y = 4\n",
        "z = 3\n",
        "result = (x > y) and (y < z) or (z == 3)\n",
        "print(result)\n",
        "\n",
        "\n",
        "#What will be the output of the following code?\n",
        "\n",
        "a = '0'\n",
        "print(bool(a))"
      ],
      "metadata": {
        "id": "zLbza8YeB5gk",
        "outputId": "1ce9334a-84c9-4892-cbe7-50ee2434c304",
        "colab": {
          "base_uri": "https://localhost:8080/"
        }
      },
      "execution_count": null,
      "outputs": [
        {
          "output_type": "stream",
          "name": "stdout",
          "text": [
            "4 0 0.04\n",
            "14 14\n",
            "True\n",
            "True\n"
          ]
        }
      ]
    },
    {
      "cell_type": "code",
      "source": [
        "def rect(length, breath):\n",
        "  print(length*breath)\n",
        "rect(20,40)"
      ],
      "metadata": {
        "id": "chdtIlQPCHoG",
        "outputId": "02faa9ee-0bb4-4bec-b385-6132b53c5939",
        "colab": {
          "base_uri": "https://localhost:8080/"
        }
      },
      "execution_count": null,
      "outputs": [
        {
          "output_type": "stream",
          "name": "stdout",
          "text": [
            "800\n"
          ]
        }
      ]
    },
    {
      "cell_type": "code",
      "source": [
        "def area(base,height):\n",
        "  print((base*height)/2)\n",
        "area(20,40)"
      ],
      "metadata": {
        "id": "0JOSohYTFgp-",
        "outputId": "13272e10-7ad9-4c18-b209-e261084e993f",
        "colab": {
          "base_uri": "https://localhost:8080/"
        }
      },
      "execution_count": null,
      "outputs": [
        {
          "output_type": "stream",
          "name": "stdout",
          "text": [
            "400.0\n"
          ]
        }
      ]
    },
    {
      "cell_type": "code",
      "source": [
        "base = input()\n",
        "height = input()\n",
        "def area(base,height):\n",
        "    print((base*height)/2)\n",
        "area(20,40)"
      ],
      "metadata": {
        "id": "HR8inrmSGvam",
        "outputId": "deb86b4e-1b9c-4cf7-ac29-e8d9169b569f",
        "colab": {
          "base_uri": "https://localhost:8080/"
        }
      },
      "execution_count": null,
      "outputs": [
        {
          "output_type": "stream",
          "name": "stdout",
          "text": [
            "20\n",
            "40\n",
            "400.0\n"
          ]
        }
      ]
    },
    {
      "cell_type": "markdown",
      "source": [
        "##ques\n",
        "Write a python program to take two inputs from user. You must convert the data type of the inputs to float and then print the division and floor division of converted inputs.\n",
        "\n",
        "\n",
        "\n",
        "Sample input:\n",
        "\n",
        "4\n",
        "\n",
        "5\n",
        "\n",
        "\n",
        "\n",
        "Sample output:\n",
        "\n",
        "Division 0.8\n",
        "\n",
        "Floor Division 0.0"
      ],
      "metadata": {
        "id": "k2vLN4ZyHwat"
      }
    },
    {
      "cell_type": "code",
      "source": [
        "a = float(input())\n",
        "b = float(input())\n",
        "division = a/b\n",
        "floor_division = a//b\n",
        "print(division)\n",
        "print(floor_division)\n"
      ],
      "metadata": {
        "id": "FYtA4kOGHCCk",
        "outputId": "96233363-7c4b-49d5-e803-74b968185523",
        "colab": {
          "base_uri": "https://localhost:8080/"
        }
      },
      "execution_count": null,
      "outputs": [
        {
          "output_type": "stream",
          "name": "stdout",
          "text": [
            "4\n",
            "5\n",
            "0.8\n",
            "0.0\n"
          ]
        }
      ]
    },
    {
      "cell_type": "code",
      "source": [
        "a = input()\n",
        "b = input()\n",
        "division = float(a/b)\n",
        "floor_division = float(a//b)\n",
        "print(division)\n",
        "print(floor_division)"
      ],
      "metadata": {
        "id": "1DXQhl5cIV26",
        "outputId": "fd9ef07b-bce2-4a93-f6b3-a3bd57c7ea60",
        "colab": {
          "base_uri": "https://localhost:8080/",
          "height": 245
        }
      },
      "execution_count": null,
      "outputs": [
        {
          "name": "stdout",
          "output_type": "stream",
          "text": [
            "4\n",
            "5\n"
          ]
        },
        {
          "output_type": "error",
          "ename": "TypeError",
          "evalue": "unsupported operand type(s) for /: 'str' and 'str'",
          "traceback": [
            "\u001b[0;31m---------------------------------------------------------------------------\u001b[0m",
            "\u001b[0;31mTypeError\u001b[0m                                 Traceback (most recent call last)",
            "\u001b[0;32m<ipython-input-84-0f7796c56080>\u001b[0m in \u001b[0;36m<cell line: 0>\u001b[0;34m()\u001b[0m\n\u001b[1;32m      1\u001b[0m \u001b[0ma\u001b[0m \u001b[0;34m=\u001b[0m \u001b[0minput\u001b[0m\u001b[0;34m(\u001b[0m\u001b[0;34m)\u001b[0m\u001b[0;34m\u001b[0m\u001b[0;34m\u001b[0m\u001b[0m\n\u001b[1;32m      2\u001b[0m \u001b[0mb\u001b[0m \u001b[0;34m=\u001b[0m \u001b[0minput\u001b[0m\u001b[0;34m(\u001b[0m\u001b[0;34m)\u001b[0m\u001b[0;34m\u001b[0m\u001b[0;34m\u001b[0m\u001b[0m\n\u001b[0;32m----> 3\u001b[0;31m \u001b[0mdivision\u001b[0m \u001b[0;34m=\u001b[0m \u001b[0mfloat\u001b[0m\u001b[0;34m(\u001b[0m\u001b[0ma\u001b[0m\u001b[0;34m/\u001b[0m\u001b[0mb\u001b[0m\u001b[0;34m)\u001b[0m\u001b[0;34m\u001b[0m\u001b[0;34m\u001b[0m\u001b[0m\n\u001b[0m\u001b[1;32m      4\u001b[0m \u001b[0mfloor_division\u001b[0m \u001b[0;34m=\u001b[0m \u001b[0mfloat\u001b[0m\u001b[0;34m(\u001b[0m\u001b[0ma\u001b[0m\u001b[0;34m//\u001b[0m\u001b[0mb\u001b[0m\u001b[0;34m)\u001b[0m\u001b[0;34m\u001b[0m\u001b[0;34m\u001b[0m\u001b[0m\n\u001b[1;32m      5\u001b[0m \u001b[0mprint\u001b[0m\u001b[0;34m(\u001b[0m\u001b[0mdivision\u001b[0m\u001b[0;34m)\u001b[0m\u001b[0;34m\u001b[0m\u001b[0;34m\u001b[0m\u001b[0m\n",
            "\u001b[0;31mTypeError\u001b[0m: unsupported operand type(s) for /: 'str' and 'str'"
          ]
        }
      ]
    },
    {
      "cell_type": "code",
      "source": [
        "print(\"hi\", end = \" \")\n",
        "print(\"how are you\", end = \" \")"
      ],
      "metadata": {
        "id": "lsFKo2zjI2iO",
        "outputId": "5f1cbf57-a71b-4988-9696-546c33f0fa7f",
        "colab": {
          "base_uri": "https://localhost:8080/"
        }
      },
      "execution_count": null,
      "outputs": [
        {
          "output_type": "stream",
          "name": "stdout",
          "text": [
            "hi how are you "
          ]
        }
      ]
    },
    {
      "cell_type": "code",
      "source": [
        "print(\"hello\")"
      ],
      "metadata": {
        "id": "cboh_8_kXnb7",
        "outputId": "b4f4b9d8-d0b2-4816-fff6-e271952fbbe6",
        "colab": {
          "base_uri": "https://localhost:8080/"
        }
      },
      "execution_count": null,
      "outputs": [
        {
          "output_type": "stream",
          "name": "stdout",
          "text": [
            "hello\n"
          ]
        }
      ]
    },
    {
      "cell_type": "code",
      "source": [
        "a = 100\n",
        "b = 100\n",
        "print(a is b)\n",
        "\n",
        "#and we also check the id(which shows the place of values where python is storing these values)\n",
        "print(id(a))\n",
        "print(id(b))"
      ],
      "metadata": {
        "id": "bGUlDA1kYAqU",
        "outputId": "0dd1b7cd-c823-4fc4-bfe7-d78860e69fe7",
        "colab": {
          "base_uri": "https://localhost:8080/"
        }
      },
      "execution_count": null,
      "outputs": [
        {
          "output_type": "stream",
          "name": "stdout",
          "text": [
            "True\n",
            "10754024\n",
            "10754024\n"
          ]
        }
      ]
    },
    {
      "cell_type": "markdown",
      "source": [
        "###**This difference is coming because at the time of launching python it automatically stores the number from -5 to 256 and whenever we are giving any new number other than that then it will always give false if the values or integer goes beyong 256 and below -5**"
      ],
      "metadata": {
        "id": "LdeBlAssYNcR"
      }
    },
    {
      "cell_type": "code",
      "source": [
        "a = 1000\n",
        "b = 1000\n",
        "print(a is b)\n",
        "\n",
        "print(id(a))\n",
        "print(id(b))"
      ],
      "metadata": {
        "id": "PntN0HGaYIwn",
        "outputId": "73c90e78-45b4-4b76-a7c6-e450cfb1511f",
        "colab": {
          "base_uri": "https://localhost:8080/"
        }
      },
      "execution_count": null,
      "outputs": [
        {
          "output_type": "stream",
          "name": "stdout",
          "text": [
            "False\n",
            "137668618543888\n",
            "137668618542800\n"
          ]
        }
      ]
    },
    {
      "cell_type": "code",
      "source": [
        "#and we also check the id(which shows the place of values where python is storing these values)\n",
        "print(id(a))\n",
        "print(id(b))"
      ],
      "metadata": {
        "id": "P82SfVZyYL7Q",
        "outputId": "d8b2bdf5-abf7-40ac-8e86-11c65c75d231",
        "colab": {
          "base_uri": "https://localhost:8080/"
        }
      },
      "execution_count": null,
      "outputs": [
        {
          "output_type": "stream",
          "name": "stdout",
          "text": [
            "137668618542992\n",
            "137668618546448\n"
          ]
        }
      ]
    },
    {
      "cell_type": "code",
      "source": [
        "#formatting with--  f.string and .format\n",
        "\n",
        "name = \"Jatin\"\n",
        "age = \"30\"\n",
        "print(\"my name is\", name, \"my age is\", age)\n",
        "print(f'my name is {name}, my age is {age}')\n",
        "print(\"my name is {}, my age is {}\".format(name,age))"
      ],
      "metadata": {
        "id": "mYoXw5yHZNzL",
        "outputId": "e53bcd35-1130-41e9-ec67-eb3962748dfd",
        "colab": {
          "base_uri": "https://localhost:8080/"
        }
      },
      "execution_count": null,
      "outputs": [
        {
          "output_type": "stream",
          "name": "stdout",
          "text": [
            "my name is Jatin my age is 30\n",
            "my name is Jatin, my age is 30\n",
            "my name is Jatin, my age is 30\n"
          ]
        }
      ]
    },
    {
      "cell_type": "code",
      "source": [
        "#list"
      ],
      "metadata": {
        "id": "nGga4ESDaTKM"
      },
      "execution_count": null,
      "outputs": []
    },
    {
      "cell_type": "code",
      "source": [
        "#string"
      ],
      "metadata": {
        "id": "m8usaOeNKP9O"
      },
      "execution_count": null,
      "outputs": []
    },
    {
      "cell_type": "markdown",
      "source": [
        "###Tuple is immutable but here we are changing the values of the list which is inside a tuple, so the id is same for both the tuple otherwise the id could have changed."
      ],
      "metadata": {
        "id": "VMdTUV8TLIB3"
      }
    },
    {
      "cell_type": "code",
      "source": [
        "#Tuple\n",
        "a = (1,2,3,[4, 100, 6])\n",
        "a[3][1] = 12\n",
        "a"
      ],
      "metadata": {
        "id": "lKfUDFKWKYhf",
        "outputId": "78496fb0-ed5f-415f-e5fe-96449750f321",
        "colab": {
          "base_uri": "https://localhost:8080/"
        }
      },
      "execution_count": null,
      "outputs": [
        {
          "output_type": "execute_result",
          "data": {
            "text/plain": [
              "(1, 2, 3, [4, 12, 6])"
            ]
          },
          "metadata": {},
          "execution_count": 1
        }
      ]
    },
    {
      "cell_type": "code",
      "source": [
        "id(a)"
      ],
      "metadata": {
        "id": "lVBEyh_BKj6u",
        "outputId": "177b837f-7ccc-42af-c306-77e0fae5e7f7",
        "colab": {
          "base_uri": "https://localhost:8080/"
        }
      },
      "execution_count": null,
      "outputs": [
        {
          "output_type": "execute_result",
          "data": {
            "text/plain": [
              "138960661874464"
            ]
          },
          "metadata": {},
          "execution_count": 2
        }
      ]
    },
    {
      "cell_type": "code",
      "source": [
        "a[3][1] = 23\n",
        "a"
      ],
      "metadata": {
        "id": "DJ912vZqKqSo",
        "outputId": "40b9969c-1932-4177-8370-1bc53d92349b",
        "colab": {
          "base_uri": "https://localhost:8080/"
        }
      },
      "execution_count": null,
      "outputs": [
        {
          "output_type": "execute_result",
          "data": {
            "text/plain": [
              "(1, 2, 3, [4, 23, 6])"
            ]
          },
          "metadata": {},
          "execution_count": 3
        }
      ]
    },
    {
      "cell_type": "code",
      "source": [
        "id(a)"
      ],
      "metadata": {
        "id": "zfx4v5AMK_99",
        "outputId": "ed49b165-104c-4ce3-e27f-bd6d79f72641",
        "colab": {
          "base_uri": "https://localhost:8080/"
        }
      },
      "execution_count": null,
      "outputs": [
        {
          "output_type": "execute_result",
          "data": {
            "text/plain": [
              "138960661874464"
            ]
          },
          "metadata": {},
          "execution_count": 4
        }
      ]
    },
    {
      "cell_type": "code",
      "source": [
        "#Dictionary\n",
        "stu_details = {\"stuid\": [1,2,3,4],\n",
        "               \"name\": [\"om prakash\", \"Rohit\", \"Dipak\", \"Ram\"],\n",
        "               \"sub\": [\"python\", \"sql\", \"Tableau\", \"Power Bi\"]}\n",
        "stu_details"
      ],
      "metadata": {
        "id": "9u1sgWCaLBuf",
        "outputId": "e571f7a3-4a25-42bf-905c-febdbbbf29fd",
        "colab": {
          "base_uri": "https://localhost:8080/"
        }
      },
      "execution_count": null,
      "outputs": [
        {
          "output_type": "execute_result",
          "data": {
            "text/plain": [
              "{'stuid': [1, 2, 3, 4],\n",
              " 'name': ['om prakash', 'Rohit', 'Dipak', 'Ram'],\n",
              " 'sub': ['python', 'sql', 'Tableau', 'Power Bi']}"
            ]
          },
          "metadata": {},
          "execution_count": 6
        }
      ]
    },
    {
      "cell_type": "code",
      "source": [
        "#if we wanted to delete the keys of the dictionary, or can delete the multiple keys by using \"del\" keyword\n",
        "del stu_details[\"stuid\"]                #giving error because i have already deleted it"
      ],
      "metadata": {
        "id": "Byql_DEGM7Qa",
        "outputId": "91a64116-4d0b-44d8-826a-51bd35148fbf",
        "colab": {
          "base_uri": "https://localhost:8080/",
          "height": 158
        }
      },
      "execution_count": null,
      "outputs": [
        {
          "output_type": "error",
          "ename": "KeyError",
          "evalue": "'stuid'",
          "traceback": [
            "\u001b[0;31m---------------------------------------------------------------------------\u001b[0m",
            "\u001b[0;31mKeyError\u001b[0m                                  Traceback (most recent call last)",
            "\u001b[0;32m<ipython-input-12-20d72d74981a>\u001b[0m in \u001b[0;36m<cell line: 0>\u001b[0;34m()\u001b[0m\n\u001b[1;32m      1\u001b[0m \u001b[0;31m#if we wanted to delete the keys of the dictionary, or can delete the multiple keys by using \"del\" keyword\u001b[0m\u001b[0;34m\u001b[0m\u001b[0;34m\u001b[0m\u001b[0m\n\u001b[0;32m----> 2\u001b[0;31m \u001b[0;32mdel\u001b[0m \u001b[0mstu_details\u001b[0m\u001b[0;34m[\u001b[0m\u001b[0;34m\"stuid\"\u001b[0m\u001b[0;34m]\u001b[0m\u001b[0;34m\u001b[0m\u001b[0;34m\u001b[0m\u001b[0m\n\u001b[0m",
            "\u001b[0;31mKeyError\u001b[0m: 'stuid'"
          ]
        }
      ]
    },
    {
      "cell_type": "code",
      "source": [
        "stu_details"
      ],
      "metadata": {
        "id": "5HPXgPGnRdVE",
        "outputId": "c5be1bb4-8212-4853-8a50-b6d5fffad8e5",
        "colab": {
          "base_uri": "https://localhost:8080/"
        }
      },
      "execution_count": null,
      "outputs": [
        {
          "output_type": "execute_result",
          "data": {
            "text/plain": [
              "{'name': ['om prakash', 'Rohit', 'Dipak', 'Ram'],\n",
              " 'sub': ['python', 'sql', 'Tableau', 'Power Bi']}"
            ]
          },
          "metadata": {},
          "execution_count": 9
        }
      ]
    },
    {
      "cell_type": "code",
      "source": [
        "#we can create dictionary like this as well\n",
        "dict({1:2})"
      ],
      "metadata": {
        "id": "jOpYBRvCRgBv",
        "outputId": "5c665939-e0ee-4006-8f1e-d53686c88010",
        "colab": {
          "base_uri": "https://localhost:8080/"
        }
      },
      "execution_count": null,
      "outputs": [
        {
          "output_type": "execute_result",
          "data": {
            "text/plain": [
              "{1: 2}"
            ]
          },
          "metadata": {},
          "execution_count": 10
        }
      ]
    },
    {
      "cell_type": "code",
      "source": [
        "#fromkeys method in dict- when i want to create a new dictionary without knowing the values of the key.\n",
        "new_dict = dict.fromkeys([\"sid\",\"sname\"])\n",
        "new_dict"
      ],
      "metadata": {
        "id": "jywAtGjZSGN5",
        "outputId": "3cd58bb8-6658-4929-95a9-80cb5f8309db",
        "colab": {
          "base_uri": "https://localhost:8080/"
        }
      },
      "execution_count": null,
      "outputs": [
        {
          "output_type": "execute_result",
          "data": {
            "text/plain": [
              "{'sid': None, 'sname': None}"
            ]
          },
          "metadata": {},
          "execution_count": 11
        }
      ]
    },
    {
      "cell_type": "code",
      "source": [
        "#now we can add the values\n",
        "new_dict[\"sid\"] = [1,2,3]\n",
        "new_dict"
      ],
      "metadata": {
        "id": "YrdLd7YMS2Ec",
        "outputId": "39dd5e70-0b36-4fdc-ea63-c0144453e8a3",
        "colab": {
          "base_uri": "https://localhost:8080/"
        }
      },
      "execution_count": null,
      "outputs": [
        {
          "output_type": "execute_result",
          "data": {
            "text/plain": [
              "{'sid': [1, 2, 3], 'sname': None}"
            ]
          },
          "metadata": {},
          "execution_count": 13
        }
      ]
    },
    {
      "cell_type": "code",
      "source": [
        "#to assigning the same values in a dictionary instead of none values;\n",
        "new_dict = dict.fromkeys([\"sid\",\"sname\"], \"2\")\n",
        "new_dict"
      ],
      "metadata": {
        "id": "hLHjyjNbTjb9",
        "outputId": "36cf25fd-92d1-4a47-9654-fa0383fde72c",
        "colab": {
          "base_uri": "https://localhost:8080/"
        }
      },
      "execution_count": null,
      "outputs": [
        {
          "output_type": "execute_result",
          "data": {
            "text/plain": [
              "{'sid': '2', 'sname': '2'}"
            ]
          },
          "metadata": {},
          "execution_count": 14
        }
      ]
    },
    {
      "cell_type": "code",
      "source": [
        "#get and using index can give the same values"
      ],
      "metadata": {
        "id": "nDISH6cCUUvb"
      },
      "execution_count": null,
      "outputs": []
    },
    {
      "cell_type": "code",
      "source": [],
      "metadata": {
        "id": "EjOVbFq2UZ4r"
      },
      "execution_count": null,
      "outputs": []
    },
    {
      "cell_type": "code",
      "source": [
        "new_dict.get(\"sid\")"
      ],
      "metadata": {
        "id": "WqaLWB_kUApY",
        "outputId": "af2b5ba6-6133-4fde-84ef-0d18ea2bb001",
        "colab": {
          "base_uri": "https://localhost:8080/",
          "height": 36
        }
      },
      "execution_count": null,
      "outputs": [
        {
          "output_type": "execute_result",
          "data": {
            "text/plain": [
              "'2'"
            ],
            "application/vnd.google.colaboratory.intrinsic+json": {
              "type": "string"
            }
          },
          "metadata": {},
          "execution_count": 15
        }
      ]
    },
    {
      "cell_type": "code",
      "source": [
        "new_dict[\"sid\"]"
      ],
      "metadata": {
        "id": "Yl-ooV8iUPBd",
        "outputId": "e2b66fec-a69c-4de4-bc50-8d33ddaca629",
        "colab": {
          "base_uri": "https://localhost:8080/",
          "height": 36
        }
      },
      "execution_count": null,
      "outputs": [
        {
          "output_type": "execute_result",
          "data": {
            "text/plain": [
              "'2'"
            ],
            "application/vnd.google.colaboratory.intrinsic+json": {
              "type": "string"
            }
          },
          "metadata": {},
          "execution_count": 16
        }
      ]
    },
    {
      "cell_type": "code",
      "source": [
        "new_dict.items()"
      ],
      "metadata": {
        "id": "-x25doRGUS-J",
        "outputId": "3b771349-b823-4996-dfd9-d1547b300f97",
        "colab": {
          "base_uri": "https://localhost:8080/"
        }
      },
      "execution_count": null,
      "outputs": [
        {
          "output_type": "execute_result",
          "data": {
            "text/plain": [
              "dict_items([('sid', '2'), ('sname', '2')])"
            ]
          },
          "metadata": {},
          "execution_count": 17
        }
      ]
    },
    {
      "cell_type": "code",
      "source": [
        "new_dict.keys()"
      ],
      "metadata": {
        "id": "aud9EUiXUdMT",
        "outputId": "9f265359-51ac-416f-a1e7-a23e101af381",
        "colab": {
          "base_uri": "https://localhost:8080/"
        }
      },
      "execution_count": null,
      "outputs": [
        {
          "output_type": "execute_result",
          "data": {
            "text/plain": [
              "dict_keys(['sid', 'sname'])"
            ]
          },
          "metadata": {},
          "execution_count": 18
        }
      ]
    },
    {
      "cell_type": "code",
      "source": [
        "new_dict.values()"
      ],
      "metadata": {
        "id": "pMohAFA7Uhjo",
        "outputId": "db0c6802-c05c-4782-ed6e-466385605ec2",
        "colab": {
          "base_uri": "https://localhost:8080/"
        }
      },
      "execution_count": null,
      "outputs": [
        {
          "output_type": "execute_result",
          "data": {
            "text/plain": [
              "dict_values(['2', '2'])"
            ]
          },
          "metadata": {},
          "execution_count": 20
        }
      ]
    },
    {
      "cell_type": "code",
      "source": [
        "#deleting by pop method\n",
        "new_dict.pop(\"sname\")  #giving error because i have deleted this"
      ],
      "metadata": {
        "id": "9AQR1hY2UkYz",
        "outputId": "b572ce53-3923-4e36-f637-402289ca58d4",
        "colab": {
          "base_uri": "https://localhost:8080/",
          "height": 158
        }
      },
      "execution_count": null,
      "outputs": [
        {
          "output_type": "error",
          "ename": "KeyError",
          "evalue": "'sname'",
          "traceback": [
            "\u001b[0;31m---------------------------------------------------------------------------\u001b[0m",
            "\u001b[0;31mKeyError\u001b[0m                                  Traceback (most recent call last)",
            "\u001b[0;32m<ipython-input-22-be975d7bfa81>\u001b[0m in \u001b[0;36m<cell line: 0>\u001b[0;34m()\u001b[0m\n\u001b[1;32m      1\u001b[0m \u001b[0;31m#deleting by pop method\u001b[0m\u001b[0;34m\u001b[0m\u001b[0;34m\u001b[0m\u001b[0m\n\u001b[0;32m----> 2\u001b[0;31m \u001b[0mnew_dict\u001b[0m\u001b[0;34m.\u001b[0m\u001b[0mpop\u001b[0m\u001b[0;34m(\u001b[0m\u001b[0;34m\"sname\"\u001b[0m\u001b[0;34m)\u001b[0m\u001b[0;34m\u001b[0m\u001b[0;34m\u001b[0m\u001b[0m\n\u001b[0m",
            "\u001b[0;31mKeyError\u001b[0m: 'sname'"
          ]
        }
      ]
    },
    {
      "cell_type": "code",
      "source": [
        "new_dict"
      ],
      "metadata": {
        "id": "ta8c3EviU61k",
        "outputId": "593f6132-3606-4e29-99f7-2b7f8606a439",
        "colab": {
          "base_uri": "https://localhost:8080/"
        }
      },
      "execution_count": null,
      "outputs": [
        {
          "output_type": "execute_result",
          "data": {
            "text/plain": [
              "{'sid': '2'}"
            ]
          },
          "metadata": {},
          "execution_count": 23
        }
      ]
    },
    {
      "cell_type": "code",
      "source": [
        "new_dict = dict.fromkeys([\"sid\",\"sname\"], \"2\")\n",
        "new_dict"
      ],
      "metadata": {
        "id": "WfV8hG83VR_L",
        "outputId": "f0d77f99-ad0d-4e5d-8e13-290ac156eb49",
        "colab": {
          "base_uri": "https://localhost:8080/"
        }
      },
      "execution_count": null,
      "outputs": [
        {
          "output_type": "execute_result",
          "data": {
            "text/plain": [
              "{'sid': '2', 'sname': '2'}"
            ]
          },
          "metadata": {},
          "execution_count": 24
        }
      ]
    },
    {
      "cell_type": "code",
      "source": [
        "#if we are wanted to capturing the pop values so that we don't want to remove\n",
        "new_dict[\"s_name\"] = new_dict.pop(\"sname\")\n",
        "new_dict"
      ],
      "metadata": {
        "id": "4XFb1v2ZV_G_",
        "outputId": "369455e3-b955-49cf-a54b-81b46564507d",
        "colab": {
          "base_uri": "https://localhost:8080/"
        }
      },
      "execution_count": null,
      "outputs": [
        {
          "output_type": "execute_result",
          "data": {
            "text/plain": [
              "{'sid': '2', 's_name': '2'}"
            ]
          },
          "metadata": {},
          "execution_count": 25
        }
      ]
    },
    {
      "cell_type": "code",
      "source": [
        "#if we wanted to add a new key in the existing dictionary then we can do it by using \"setdefault\"\n",
        "new_dict.setdefault(\"smarks\")         #it will take by default none as values"
      ],
      "metadata": {
        "id": "gplgiYWuWWXC"
      },
      "execution_count": null,
      "outputs": []
    },
    {
      "cell_type": "code",
      "source": [
        "new_dict"
      ],
      "metadata": {
        "id": "gnfZQF3fW_j0",
        "outputId": "c542c13b-020a-404c-8618-05715c0997be",
        "colab": {
          "base_uri": "https://localhost:8080/"
        }
      },
      "execution_count": null,
      "outputs": [
        {
          "output_type": "execute_result",
          "data": {
            "text/plain": [
              "{'sid': '2', 's_name': '2', 'smarks': None}"
            ]
          },
          "metadata": {},
          "execution_count": 27
        }
      ]
    },
    {
      "cell_type": "code",
      "source": [
        "new_dict[\"smarks\"] = 3"
      ],
      "metadata": {
        "id": "iV1wYc_KXAu7"
      },
      "execution_count": null,
      "outputs": []
    },
    {
      "cell_type": "code",
      "source": [
        "new_dict"
      ],
      "metadata": {
        "id": "GyfkBhbcXusR",
        "outputId": "0dac6404-c01c-4108-d1f1-e7fc3feb7c7f",
        "colab": {
          "base_uri": "https://localhost:8080/"
        }
      },
      "execution_count": null,
      "outputs": [
        {
          "output_type": "execute_result",
          "data": {
            "text/plain": [
              "{'sid': '2', 's_name': '2', 'smarks': 3}"
            ]
          },
          "metadata": {},
          "execution_count": 31
        }
      ]
    },
    {
      "cell_type": "code",
      "source": [
        "#update method\n",
        "a = {1:3, 2:4}\n",
        "b = {1:4, 5:6}      #here in 1 is the same key in both the dict but the priority will go to the second because we wanted to update the values.\n",
        "a.update(b)\n",
        "a"
      ],
      "metadata": {
        "id": "g09wYYeeX1k8",
        "outputId": "4adc9e50-5e7c-4ec4-b5c5-eb25fe137621",
        "colab": {
          "base_uri": "https://localhost:8080/"
        }
      },
      "execution_count": null,
      "outputs": [
        {
          "output_type": "execute_result",
          "data": {
            "text/plain": [
              "{1: 4, 2: 4, 5: 6}"
            ]
          },
          "metadata": {},
          "execution_count": 32
        }
      ]
    },
    {
      "cell_type": "markdown",
      "source": [
        "##**Sets**\n",
        "\n",
        "###because of the unsorted behaviour indexing is not done.\n",
        "\n",
        "###- so slicing would not work"
      ],
      "metadata": {
        "id": "Yy48-H0jY0Hx"
      }
    },
    {
      "cell_type": "code",
      "source": [
        "#you can add your knowledge as well whenever i will come to see the work again."
      ],
      "metadata": {
        "id": "K5RfxYh7YW4O"
      },
      "execution_count": null,
      "outputs": []
    },
    {
      "cell_type": "code",
      "source": [
        "a = {1,2,23,3,4,4,4,5,5,5,5,6,7,8}"
      ],
      "metadata": {
        "id": "z3DhN3Z5ZcOX"
      },
      "execution_count": null,
      "outputs": []
    },
    {
      "cell_type": "code",
      "source": [
        "a[1]            #throwing the error. so"
      ],
      "metadata": {
        "id": "UmS7W1UCauoF",
        "outputId": "254ea218-018e-4b99-c69f-8c070de71bb4",
        "colab": {
          "base_uri": "https://localhost:8080/",
          "height": 141
        }
      },
      "execution_count": null,
      "outputs": [
        {
          "output_type": "error",
          "ename": "TypeError",
          "evalue": "'set' object is not subscriptable",
          "traceback": [
            "\u001b[0;31m---------------------------------------------------------------------------\u001b[0m",
            "\u001b[0;31mTypeError\u001b[0m                                 Traceback (most recent call last)",
            "\u001b[0;32m<ipython-input-41-057712df8265>\u001b[0m in \u001b[0;36m<cell line: 0>\u001b[0;34m()\u001b[0m\n\u001b[0;32m----> 1\u001b[0;31m \u001b[0ma\u001b[0m\u001b[0;34m[\u001b[0m\u001b[0;36m1\u001b[0m\u001b[0;34m]\u001b[0m            \u001b[0;31m#throwing the error. so\u001b[0m\u001b[0;34m\u001b[0m\u001b[0;34m\u001b[0m\u001b[0m\n\u001b[0m",
            "\u001b[0;31mTypeError\u001b[0m: 'set' object is not subscriptable"
          ]
        }
      ]
    },
    {
      "cell_type": "markdown",
      "source": [],
      "metadata": {
        "id": "wAyjerEdaSy9"
      }
    },
    {
      "cell_type": "code",
      "source": [
        "#set is the unordered collection of unique data but here the set is ordered......... WHY???\n",
        "\n",
        "#But internally it is unsorted\n",
        "\n",
        "\n",
        "a                       #if we have duplicates values in a list then we can get the distint by typeconversion."
      ],
      "metadata": {
        "id": "vO7uxVzKZgVq",
        "outputId": "b1b5cacd-edc1-470c-cdb2-56dec256185b",
        "colab": {
          "base_uri": "https://localhost:8080/"
        }
      },
      "execution_count": null,
      "outputs": [
        {
          "output_type": "execute_result",
          "data": {
            "text/plain": [
              "{1, 2, 3, 4, 5, 6, 7, 8, 23}"
            ]
          },
          "metadata": {},
          "execution_count": 38
        }
      ]
    },
    {
      "cell_type": "code",
      "source": [
        "#can do, min, max, sorted as well\n",
        "\n",
        "sorted(a, reverse = True)"
      ],
      "metadata": {
        "id": "rjyoYhiiZiyl",
        "outputId": "4e5ca481-731b-46ec-e857-21c1ff52a44f",
        "colab": {
          "base_uri": "https://localhost:8080/"
        }
      },
      "execution_count": null,
      "outputs": [
        {
          "output_type": "execute_result",
          "data": {
            "text/plain": [
              "[23, 8, 7, 6, 5, 4, 3, 2, 1]"
            ]
          },
          "metadata": {},
          "execution_count": 39
        }
      ]
    },
    {
      "cell_type": "code",
      "source": [
        "#functions of sets- add, len, sum, pop(here in set pop will remove the random values), difference, symmetric difference, intersection\n",
        "# isdisjoint(when two sets have no common values), issuperset, union(throwing the values), update(actually doing the union by updating the values)\n",
        "\n",
        "a.add(20)\n",
        "print(a)       #we can add one by one element not the multiple elements at one time\n"
      ],
      "metadata": {
        "id": "-1AjwmH3Z5NB",
        "outputId": "1d996255-fb63-43cc-8ba3-e509d5ff96af",
        "colab": {
          "base_uri": "https://localhost:8080/"
        }
      },
      "execution_count": null,
      "outputs": [
        {
          "output_type": "stream",
          "name": "stdout",
          "text": [
            "{1, 2, 3, 4, 5, 6, 7, 8, 20, 23}\n"
          ]
        }
      ]
    },
    {
      "cell_type": "code",
      "source": [
        "#although set is mutable but it can only store the immutable values.\n",
        "\n",
        "a = {1,2,3,4}\n",
        "#a.add([5,6,7])\n",
        "a.add((5,6,7))\n",
        "a"
      ],
      "metadata": {
        "id": "BXO8ppQPbeQK",
        "outputId": "c7af2d97-01d3-40f9-f324-07d4fd5b6cf3",
        "colab": {
          "base_uri": "https://localhost:8080/"
        }
      },
      "execution_count": null,
      "outputs": [
        {
          "output_type": "execute_result",
          "data": {
            "text/plain": [
              "{(5, 6, 7), 1, 2, 3, 4}"
            ]
          },
          "metadata": {},
          "execution_count": 45
        }
      ]
    },
    {
      "cell_type": "code",
      "source": [
        "a.clear()      #will give the empty set"
      ],
      "metadata": {
        "id": "OVJg4HtTcZ0l"
      },
      "execution_count": null,
      "outputs": []
    },
    {
      "cell_type": "code",
      "source": [
        "a"
      ],
      "metadata": {
        "id": "JXMRFaamcP2D",
        "outputId": "41f6ec4e-3d6f-425a-8dac-56d79080f431",
        "colab": {
          "base_uri": "https://localhost:8080/"
        }
      },
      "execution_count": null,
      "outputs": [
        {
          "output_type": "execute_result",
          "data": {
            "text/plain": [
              "set()"
            ]
          },
          "metadata": {},
          "execution_count": 47
        }
      ]
    },
    {
      "cell_type": "code",
      "source": [
        "set1 = {1,2,3,4,5}\n",
        "set2 = {4,5,6,7}\n",
        "set3 = {6,7,8,9,10}\n",
        "\n",
        "set1.difference(set2)"
      ],
      "metadata": {
        "id": "WnyJBjWacenW",
        "outputId": "1291a6ae-227b-4ed7-b41d-1099672ad860",
        "colab": {
          "base_uri": "https://localhost:8080/"
        }
      },
      "execution_count": null,
      "outputs": [
        {
          "output_type": "execute_result",
          "data": {
            "text/plain": [
              "{1, 2, 3}"
            ]
          },
          "metadata": {},
          "execution_count": 48
        }
      ]
    },
    {
      "cell_type": "code",
      "source": [
        "set1.symmetric_difference(set2)  #will remove the comman elements only"
      ],
      "metadata": {
        "id": "D7yb_JScfQuA",
        "outputId": "abd40b61-be4d-446a-9e9a-743a785f27a5",
        "colab": {
          "base_uri": "https://localhost:8080/"
        }
      },
      "execution_count": null,
      "outputs": [
        {
          "output_type": "execute_result",
          "data": {
            "text/plain": [
              "{1, 2, 3, 6, 7}"
            ]
          },
          "metadata": {},
          "execution_count": 49
        }
      ]
    },
    {
      "cell_type": "code",
      "source": [
        "set1.intersection(set2)"
      ],
      "metadata": {
        "id": "Xc2JbNE1fame",
        "outputId": "e0018a3d-2b92-45e2-d059-9d19f8f59ab8",
        "colab": {
          "base_uri": "https://localhost:8080/"
        }
      },
      "execution_count": null,
      "outputs": [
        {
          "output_type": "execute_result",
          "data": {
            "text/plain": [
              "{4, 5}"
            ]
          },
          "metadata": {},
          "execution_count": 50
        }
      ]
    },
    {
      "cell_type": "code",
      "source": [
        "set1.difference_update(set2)"
      ],
      "metadata": {
        "id": "40WpNRTzfo-X"
      },
      "execution_count": null,
      "outputs": []
    },
    {
      "cell_type": "code",
      "source": [
        "set1          #same as difference"
      ],
      "metadata": {
        "id": "AI4dcZj2gXSx",
        "outputId": "944a9ecd-bc3f-486b-bfb8-7b6b678b87f3",
        "colab": {
          "base_uri": "https://localhost:8080/"
        }
      },
      "execution_count": null,
      "outputs": [
        {
          "output_type": "execute_result",
          "data": {
            "text/plain": [
              "{1, 2, 3}"
            ]
          },
          "metadata": {},
          "execution_count": 52
        }
      ]
    },
    {
      "cell_type": "code",
      "source": [],
      "metadata": {
        "id": "65K6ZpOLgbY9"
      },
      "execution_count": null,
      "outputs": []
    },
    {
      "cell_type": "markdown",
      "source": [
        "###**Frozen set- To create a immutable sets.**"
      ],
      "metadata": {
        "id": "mcLwf51eh-D7"
      }
    },
    {
      "cell_type": "code",
      "source": [
        "set5 = {1,2,3,4,5}\n",
        "froz_set = frozenset(set5)\n",
        "froz_set"
      ],
      "metadata": {
        "id": "Kgn6WHN1iDXO",
        "outputId": "cd286203-f902-413b-bd1f-d7766852e226",
        "colab": {
          "base_uri": "https://localhost:8080/"
        }
      },
      "execution_count": null,
      "outputs": [
        {
          "output_type": "execute_result",
          "data": {
            "text/plain": [
              "frozenset({1, 2, 3, 4, 5})"
            ]
          },
          "metadata": {},
          "execution_count": 2
        }
      ]
    },
    {
      "cell_type": "code",
      "source": [
        "set6 = {4,5,6}\n",
        "set5.intersection(set6)        #Gives the intersection of frozen set as well"
      ],
      "metadata": {
        "id": "7gxF3qDBiO-a",
        "outputId": "ceb30e91-9eab-446f-9fab-07dc1dbf2b48",
        "colab": {
          "base_uri": "https://localhost:8080/",
          "height": 158
        }
      },
      "execution_count": null,
      "outputs": [
        {
          "output_type": "error",
          "ename": "NameError",
          "evalue": "name 'set5' is not defined",
          "traceback": [
            "\u001b[0;31m---------------------------------------------------------------------------\u001b[0m",
            "\u001b[0;31mNameError\u001b[0m                                 Traceback (most recent call last)",
            "\u001b[0;32m<ipython-input-1-0865b3e1b264>\u001b[0m in \u001b[0;36m<cell line: 0>\u001b[0;34m()\u001b[0m\n\u001b[1;32m      1\u001b[0m \u001b[0mset6\u001b[0m \u001b[0;34m=\u001b[0m \u001b[0;34m{\u001b[0m\u001b[0;36m4\u001b[0m\u001b[0;34m,\u001b[0m\u001b[0;36m5\u001b[0m\u001b[0;34m,\u001b[0m\u001b[0;36m6\u001b[0m\u001b[0;34m}\u001b[0m\u001b[0;34m\u001b[0m\u001b[0;34m\u001b[0m\u001b[0m\n\u001b[0;32m----> 2\u001b[0;31m \u001b[0mset5\u001b[0m\u001b[0;34m.\u001b[0m\u001b[0mintersection\u001b[0m\u001b[0;34m(\u001b[0m\u001b[0mset6\u001b[0m\u001b[0;34m)\u001b[0m        \u001b[0;31m#Gives the intersection of frozen set as well\u001b[0m\u001b[0;34m\u001b[0m\u001b[0;34m\u001b[0m\u001b[0m\n\u001b[0m",
            "\u001b[0;31mNameError\u001b[0m: name 'set5' is not defined"
          ]
        }
      ]
    },
    {
      "cell_type": "code",
      "source": [
        "not(True or False)"
      ],
      "metadata": {
        "id": "l7TPQErwiYNl",
        "outputId": "f6b5b042-4936-4464-d808-5ebe590fc27b",
        "colab": {
          "base_uri": "https://localhost:8080/"
        }
      },
      "execution_count": null,
      "outputs": [
        {
          "output_type": "execute_result",
          "data": {
            "text/plain": [
              "False"
            ]
          },
          "metadata": {},
          "execution_count": 3
        }
      ]
    },
    {
      "cell_type": "code",
      "source": [
        "list1 = [1,2,3]\n",
        "list1[::-1]\n",
        "list1.reverse()\n",
        "list1 = reversed(list1)"
      ],
      "metadata": {
        "id": "UQbxdO0B_Xdr"
      },
      "execution_count": null,
      "outputs": []
    },
    {
      "cell_type": "code",
      "source": [
        "list1.append([4, 5])\n",
        "list1.extend([4, 5])\n",
        "list1 += [4, 5]"
      ],
      "metadata": {
        "id": "g0NDrGnt_rkt",
        "outputId": "156148ea-4c6b-4013-c3d1-c6a6701bf328",
        "colab": {
          "base_uri": "https://localhost:8080/",
          "height": 176
        }
      },
      "execution_count": null,
      "outputs": [
        {
          "output_type": "error",
          "ename": "AttributeError",
          "evalue": "'list_reverseiterator' object has no attribute 'append'",
          "traceback": [
            "\u001b[0;31m---------------------------------------------------------------------------\u001b[0m",
            "\u001b[0;31mAttributeError\u001b[0m                            Traceback (most recent call last)",
            "\u001b[0;32m<ipython-input-5-e52584d5ce8c>\u001b[0m in \u001b[0;36m<cell line: 0>\u001b[0;34m()\u001b[0m\n\u001b[0;32m----> 1\u001b[0;31m \u001b[0mlist1\u001b[0m\u001b[0;34m.\u001b[0m\u001b[0mappend\u001b[0m\u001b[0;34m(\u001b[0m\u001b[0;34m[\u001b[0m\u001b[0;36m4\u001b[0m\u001b[0;34m,\u001b[0m \u001b[0;36m5\u001b[0m\u001b[0;34m]\u001b[0m\u001b[0;34m)\u001b[0m\u001b[0;34m\u001b[0m\u001b[0;34m\u001b[0m\u001b[0m\n\u001b[0m\u001b[1;32m      2\u001b[0m \u001b[0mlist1\u001b[0m\u001b[0;34m.\u001b[0m\u001b[0mextend\u001b[0m\u001b[0;34m(\u001b[0m\u001b[0;34m[\u001b[0m\u001b[0;36m4\u001b[0m\u001b[0;34m,\u001b[0m \u001b[0;36m5\u001b[0m\u001b[0;34m]\u001b[0m\u001b[0;34m)\u001b[0m\u001b[0;34m\u001b[0m\u001b[0;34m\u001b[0m\u001b[0m\n\u001b[1;32m      3\u001b[0m \u001b[0mlist1\u001b[0m \u001b[0;34m+=\u001b[0m \u001b[0;34m[\u001b[0m\u001b[0;36m4\u001b[0m\u001b[0;34m,\u001b[0m \u001b[0;36m5\u001b[0m\u001b[0;34m]\u001b[0m\u001b[0;34m\u001b[0m\u001b[0;34m\u001b[0m\u001b[0m\n",
            "\u001b[0;31mAttributeError\u001b[0m: 'list_reverseiterator' object has no attribute 'append'"
          ]
        }
      ]
    },
    {
      "cell_type": "code",
      "source": [
        "tup = (1,2)\n",
        "tup.add(\"e\")"
      ],
      "metadata": {
        "id": "uxJjwiAt_yWi",
        "outputId": "ba0d3106-6db1-4948-fb0c-f1fbf5feba8e",
        "colab": {
          "base_uri": "https://localhost:8080/",
          "height": 158
        }
      },
      "execution_count": null,
      "outputs": [
        {
          "output_type": "error",
          "ename": "AttributeError",
          "evalue": "'tuple' object has no attribute 'add'",
          "traceback": [
            "\u001b[0;31m---------------------------------------------------------------------------\u001b[0m",
            "\u001b[0;31mAttributeError\u001b[0m                            Traceback (most recent call last)",
            "\u001b[0;32m<ipython-input-6-b79cc9e20dfe>\u001b[0m in \u001b[0;36m<cell line: 0>\u001b[0;34m()\u001b[0m\n\u001b[1;32m      1\u001b[0m \u001b[0mtup\u001b[0m \u001b[0;34m=\u001b[0m \u001b[0;34m(\u001b[0m\u001b[0;36m1\u001b[0m\u001b[0;34m,\u001b[0m\u001b[0;36m2\u001b[0m\u001b[0;34m)\u001b[0m\u001b[0;34m\u001b[0m\u001b[0;34m\u001b[0m\u001b[0m\n\u001b[0;32m----> 2\u001b[0;31m \u001b[0mtup\u001b[0m\u001b[0;34m.\u001b[0m\u001b[0madd\u001b[0m\u001b[0;34m(\u001b[0m\u001b[0;34m\"e\"\u001b[0m\u001b[0;34m)\u001b[0m\u001b[0;34m\u001b[0m\u001b[0;34m\u001b[0m\u001b[0m\n\u001b[0m",
            "\u001b[0;31mAttributeError\u001b[0m: 'tuple' object has no attribute 'add'"
          ]
        }
      ]
    },
    {
      "cell_type": "code",
      "source": [
        "set1 = {1,2}\n",
        "set1.add(10)"
      ],
      "metadata": {
        "id": "775WBLwJAOkc"
      },
      "execution_count": null,
      "outputs": []
    },
    {
      "cell_type": "code",
      "source": [
        "#What does set1.add(10) do?\n",
        "#1 point\n",
        "#Removes 10\n",
        "Adds 10 to the set\n",
        "Throws an error\n",
        "Duplicates the set"
      ],
      "metadata": {
        "id": "0udfOHL_AAHI"
      },
      "execution_count": null,
      "outputs": []
    },
    {
      "cell_type": "code",
      "source": [
        "dic = {1:2}\n",
        "dic[4]"
      ],
      "metadata": {
        "id": "s7DlYpkSAbbb",
        "outputId": "6347112c-8801-47e3-d279-8a23d799d4fa",
        "colab": {
          "base_uri": "https://localhost:8080/",
          "height": 158
        }
      },
      "execution_count": null,
      "outputs": [
        {
          "output_type": "error",
          "ename": "KeyError",
          "evalue": "4",
          "traceback": [
            "\u001b[0;31m---------------------------------------------------------------------------\u001b[0m",
            "\u001b[0;31mKeyError\u001b[0m                                  Traceback (most recent call last)",
            "\u001b[0;32m<ipython-input-9-4d2c30a36eae>\u001b[0m in \u001b[0;36m<cell line: 0>\u001b[0;34m()\u001b[0m\n\u001b[1;32m      1\u001b[0m \u001b[0mdic\u001b[0m \u001b[0;34m=\u001b[0m \u001b[0;34m{\u001b[0m\u001b[0;36m1\u001b[0m\u001b[0;34m:\u001b[0m\u001b[0;36m2\u001b[0m\u001b[0;34m}\u001b[0m\u001b[0;34m\u001b[0m\u001b[0;34m\u001b[0m\u001b[0m\n\u001b[0;32m----> 2\u001b[0;31m \u001b[0mdic\u001b[0m\u001b[0;34m[\u001b[0m\u001b[0;36m4\u001b[0m\u001b[0;34m]\u001b[0m\u001b[0;34m\u001b[0m\u001b[0;34m\u001b[0m\u001b[0m\n\u001b[0m",
            "\u001b[0;31mKeyError\u001b[0m: 4"
          ]
        }
      ]
    },
    {
      "cell_type": "code",
      "source": [
        "\"hello world\".find(\"o\")"
      ],
      "metadata": {
        "id": "phOIz6F2AeXk",
        "outputId": "e4010c95-2a81-4fc5-ea94-9842559b99b8",
        "colab": {
          "base_uri": "https://localhost:8080/"
        }
      },
      "execution_count": null,
      "outputs": [
        {
          "output_type": "execute_result",
          "data": {
            "text/plain": [
              "4"
            ]
          },
          "metadata": {},
          "execution_count": 10
        }
      ]
    },
    {
      "cell_type": "code",
      "source": [
        "not (True and False)\n"
      ],
      "metadata": {
        "id": "MSOWT051Axjg",
        "outputId": "9a309494-f4be-444e-df78-04d7dc9ae37b",
        "colab": {
          "base_uri": "https://localhost:8080/"
        }
      },
      "execution_count": null,
      "outputs": [
        {
          "output_type": "execute_result",
          "data": {
            "text/plain": [
              "True"
            ]
          },
          "metadata": {},
          "execution_count": 11
        }
      ]
    },
    {
      "cell_type": "markdown",
      "source": [
        "### **Flow Control and Conditional Statement**"
      ],
      "metadata": {
        "id": "Rd_QnYm2Cszm"
      }
    },
    {
      "cell_type": "code",
      "source": [
        "#if else\n",
        "#for\n",
        "#while\n",
        "marks = int(input(\"Enter your marks: \"))                              #it will not run untill i convert into integer bcz befor it is a string\n",
        "if marks<40: print(\"You have failed the exam.\")\n",
        "\n"
      ],
      "metadata": {
        "id": "lh2QYreMBQzw",
        "outputId": "db567d73-4911-4fc5-9d51-1f828d57827b",
        "colab": {
          "base_uri": "https://localhost:8080/"
        }
      },
      "execution_count": null,
      "outputs": [
        {
          "output_type": "stream",
          "name": "stdout",
          "text": [
            "Enter your marks: 34\n",
            "You have failed the exam.\n"
          ]
        }
      ]
    },
    {
      "cell_type": "code",
      "source": [
        "marks = int(input(\"Enter your marks: \"))                              #it will not run untill i convert into integer bcz befor it is a string\n",
        "if marks<40:\n",
        "  print(\"You have failed the exam.\")"
      ],
      "metadata": {
        "id": "0KQWCGRGDgKo",
        "outputId": "5357c920-30c0-49b2-8c38-0ea8d8c53d79",
        "colab": {
          "base_uri": "https://localhost:8080/"
        }
      },
      "execution_count": null,
      "outputs": [
        {
          "output_type": "stream",
          "name": "stdout",
          "text": [
            "Enter your marks: 34\n",
            "You have failed the exam.\n"
          ]
        }
      ]
    },
    {
      "cell_type": "code",
      "source": [
        "marks = int(input(\"Enter your marks: \"))                              #it will not run untill i convert into integer bcz befor it is a string\n",
        "if marks<40:\n",
        "  print(\"You have failed the exam.\")\n",
        "else:\n",
        "  print(\"You passed the exam.\")"
      ],
      "metadata": {
        "id": "drM1hXoUFFJP",
        "outputId": "b8d47e0a-3b78-40b5-b9d6-8dad6575b15b",
        "colab": {
          "base_uri": "https://localhost:8080/"
        }
      },
      "execution_count": null,
      "outputs": [
        {
          "output_type": "stream",
          "name": "stdout",
          "text": [
            "Enter your marks: 45\n",
            "You passed the exam.\n"
          ]
        }
      ]
    },
    {
      "cell_type": "code",
      "source": [
        "check = int(input(\"Enter the number\"))\n",
        "if check%2 ==0:\n",
        "  print(\"It is a even number.\")\n",
        "else:\n",
        "  print(\"It is a odd number\")"
      ],
      "metadata": {
        "id": "ow2BepgIFn1Q"
      },
      "execution_count": null,
      "outputs": []
    },
    {
      "cell_type": "markdown",
      "source": [
        "### **For Loop**"
      ],
      "metadata": {
        "id": "Nf7JP0QzNz3N"
      }
    },
    {
      "cell_type": "code",
      "source": [
        "#iterate- nothing but it's how we are picking the things or elements.\n",
        "#e.g monkey is eating all the bananas one by one.\n",
        "\n",
        "import time\n",
        "company = \"Upgrad\"\n",
        "for monkey in company:\n",
        "  print(monkey)\n",
        "  time.sleep(1)             #it will sleeping for 1 second to print next iteration."
      ],
      "metadata": {
        "id": "EzWhLUpBNyxX",
        "outputId": "5a95ec11-7505-4b42-cd73-d4b88409acc0",
        "colab": {
          "base_uri": "https://localhost:8080/"
        }
      },
      "execution_count": null,
      "outputs": [
        {
          "output_type": "stream",
          "name": "stdout",
          "text": [
            "U\n",
            "p\n",
            "g\n",
            "r\n",
            "a\n",
            "d\n"
          ]
        }
      ]
    },
    {
      "cell_type": "code",
      "source": [
        "sales = [2345, 2363, 5844, 6463]\n",
        "for i in sales:\n",
        "  print(i*0.01)"
      ],
      "metadata": {
        "id": "qKT498kXPWSi",
        "outputId": "0a9eb603-530f-45cf-bf8f-d6210f11a028",
        "colab": {
          "base_uri": "https://localhost:8080/"
        }
      },
      "execution_count": null,
      "outputs": [
        {
          "output_type": "stream",
          "name": "stdout",
          "text": [
            "23.45\n",
            "23.63\n",
            "58.44\n",
            "64.63\n"
          ]
        }
      ]
    },
    {
      "cell_type": "code",
      "source": [
        "#range\n",
        "list(range(0,10))"
      ],
      "metadata": {
        "id": "woLwab6KP76H",
        "outputId": "f067e988-bb8e-405b-e9cf-1e47d9a11d36",
        "colab": {
          "base_uri": "https://localhost:8080/"
        }
      },
      "execution_count": null,
      "outputs": [
        {
          "output_type": "execute_result",
          "data": {
            "text/plain": [
              "[0, 1, 2, 3, 4, 5, 6, 7, 8, 9]"
            ]
          },
          "metadata": {},
          "execution_count": 21
        }
      ]
    },
    {
      "cell_type": "code",
      "source": [
        "list(range(53,30,-1))"
      ],
      "metadata": {
        "id": "JhdlEo_hQg5e",
        "outputId": "b0e4b3eb-4d07-4246-f15b-dfc06cd8afb7",
        "colab": {
          "base_uri": "https://localhost:8080/"
        }
      },
      "execution_count": null,
      "outputs": [
        {
          "output_type": "execute_result",
          "data": {
            "text/plain": [
              "[53,\n",
              " 52,\n",
              " 51,\n",
              " 50,\n",
              " 49,\n",
              " 48,\n",
              " 47,\n",
              " 46,\n",
              " 45,\n",
              " 44,\n",
              " 43,\n",
              " 42,\n",
              " 41,\n",
              " 40,\n",
              " 39,\n",
              " 38,\n",
              " 37,\n",
              " 36,\n",
              " 35,\n",
              " 34,\n",
              " 33,\n",
              " 32,\n",
              " 31]"
            ]
          },
          "metadata": {},
          "execution_count": 23
        }
      ]
    },
    {
      "cell_type": "code",
      "source": [
        "sales = [2345, 2363, 5844, 6463]\n",
        "list(range(0,len(sales)))"
      ],
      "metadata": {
        "id": "0vaf1fftQrxo",
        "outputId": "738bd974-b866-4e8f-cce3-f4464f53bda9",
        "colab": {
          "base_uri": "https://localhost:8080/"
        }
      },
      "execution_count": null,
      "outputs": [
        {
          "output_type": "execute_result",
          "data": {
            "text/plain": [
              "[0, 1, 2, 3]"
            ]
          },
          "metadata": {},
          "execution_count": 25
        }
      ]
    },
    {
      "cell_type": "code",
      "source": [
        "for i in range(0,len(sales)):\n",
        "  print(sales[i])"
      ],
      "metadata": {
        "id": "h_YwPkzcRHa8",
        "outputId": "0bd2db60-de3a-4667-96be-1fe778a69375",
        "colab": {
          "base_uri": "https://localhost:8080/"
        }
      },
      "execution_count": null,
      "outputs": [
        {
          "output_type": "stream",
          "name": "stdout",
          "text": [
            "2345\n",
            "2363\n",
            "5844\n",
            "6463\n"
          ]
        }
      ]
    },
    {
      "cell_type": "code",
      "source": [
        "#ques is- how can we divide sales and profit.\n",
        "sales = [4565,3233,1212,3321]\n",
        "profit = [122,322,122,223]\n",
        "for i in sales:\n",
        "  for i in profit:\n",
        "    print(sales[i]/profit[i])\n"
      ],
      "metadata": {
        "id": "nbStLlaZRpzz",
        "outputId": "766a03d3-6a1d-4cb7-8d0c-e81afd052e56",
        "colab": {
          "base_uri": "https://localhost:8080/",
          "height": 176
        }
      },
      "execution_count": null,
      "outputs": [
        {
          "output_type": "error",
          "ename": "IndexError",
          "evalue": "list index out of range",
          "traceback": [
            "\u001b[0;31m---------------------------------------------------------------------------\u001b[0m",
            "\u001b[0;31mIndexError\u001b[0m                                Traceback (most recent call last)",
            "\u001b[0;32m<ipython-input-33-6de8a50db84f>\u001b[0m in \u001b[0;36m<cell line: 0>\u001b[0;34m()\u001b[0m\n\u001b[1;32m      3\u001b[0m \u001b[0;32mfor\u001b[0m \u001b[0mi\u001b[0m \u001b[0;32min\u001b[0m \u001b[0msales\u001b[0m\u001b[0;34m:\u001b[0m\u001b[0;34m\u001b[0m\u001b[0;34m\u001b[0m\u001b[0m\n\u001b[1;32m      4\u001b[0m   \u001b[0;32mfor\u001b[0m \u001b[0mi\u001b[0m \u001b[0;32min\u001b[0m \u001b[0mprofit\u001b[0m\u001b[0;34m:\u001b[0m\u001b[0;34m\u001b[0m\u001b[0;34m\u001b[0m\u001b[0m\n\u001b[0;32m----> 5\u001b[0;31m     \u001b[0mprint\u001b[0m\u001b[0;34m(\u001b[0m\u001b[0msales\u001b[0m\u001b[0;34m[\u001b[0m\u001b[0mi\u001b[0m\u001b[0;34m]\u001b[0m\u001b[0;34m/\u001b[0m\u001b[0mprofit\u001b[0m\u001b[0;34m[\u001b[0m\u001b[0mi\u001b[0m\u001b[0;34m]\u001b[0m\u001b[0;34m)\u001b[0m\u001b[0;34m\u001b[0m\u001b[0;34m\u001b[0m\u001b[0m\n\u001b[0m",
            "\u001b[0;31mIndexError\u001b[0m: list index out of range"
          ]
        }
      ]
    },
    {
      "cell_type": "code",
      "source": [
        "sales = [4565,3233,1212,3321]\n",
        "profit = [122,322,122,223]\n",
        "for i in range(0,len(sales)):\n",
        "  print(sales[i]/profit[i])\n"
      ],
      "metadata": {
        "id": "JZkhb8ivR1gy",
        "outputId": "1fddc214-900e-44b4-c3b4-4a9096ace618",
        "colab": {
          "base_uri": "https://localhost:8080/"
        }
      },
      "execution_count": null,
      "outputs": [
        {
          "output_type": "stream",
          "name": "stdout",
          "text": [
            "37.41803278688525\n",
            "10.040372670807454\n",
            "9.934426229508198\n",
            "14.89237668161435\n"
          ]
        }
      ]
    },
    {
      "cell_type": "markdown",
      "source": [
        "## **Armstrong numbers**"
      ],
      "metadata": {
        "id": "oqPzmQn7Ua22"
      }
    },
    {
      "cell_type": "code",
      "source": [
        "#if the power of the each number is equals to the power of the total number of elements and if the addition of the number is same so it is a armstrong number.\n",
        "#153 = 1**3 + 5**3+ 3**3 == 153\n",
        "\n",
        "number = input(\"Enter the number: \")\n",
        "length = len(number)\n",
        "result = 0\n",
        "for i in number:\n",
        "  result = result + int(i)**length\n",
        "print(result)\n",
        "if result == int(number):\n",
        "  print(\"It is a armstrong number.\")\n",
        "else:\n",
        "  print(\"It is not a armstrong number.\")"
      ],
      "metadata": {
        "id": "3IHjk5cBTZfv",
        "outputId": "b37e4c13-e969-4cd6-af8b-fd7d72d5fe01",
        "colab": {
          "base_uri": "https://localhost:8080/"
        }
      },
      "execution_count": null,
      "outputs": [
        {
          "output_type": "stream",
          "name": "stdout",
          "text": [
            "Enter the number: 153\n",
            "153\n",
            "It is a armstrong number.\n"
          ]
        }
      ]
    },
    {
      "cell_type": "code",
      "source": [
        "#while loop-     Works till the condition is true and this is the example of infinite loop.\n",
        "#while 1 == 1:\n",
        "#  print(\"hi\")"
      ],
      "metadata": {
        "id": "4iNXs9p1W0_Y"
      },
      "execution_count": null,
      "outputs": []
    },
    {
      "cell_type": "code",
      "source": [
        "#normal loop\n",
        "coupan = 5\n",
        "utilized = 0\n",
        "while utilized<coupan:\n",
        "  print(\"total coupan left\", coupan-utilized)\n",
        "  utilized += 1\n",
        "print(\"No coupan left\")"
      ],
      "metadata": {
        "id": "CaL3xBfVa05h",
        "outputId": "6a13e78c-4a70-4992-c8e6-7e446b952a9a",
        "colab": {
          "base_uri": "https://localhost:8080/"
        }
      },
      "execution_count": null,
      "outputs": [
        {
          "output_type": "stream",
          "name": "stdout",
          "text": [
            "total coupan left 5\n",
            "total coupan left 4\n",
            "total coupan left 3\n",
            "total coupan left 2\n",
            "total coupan left 1\n",
            "No coupan left\n"
          ]
        }
      ]
    },
    {
      "cell_type": "code",
      "source": [
        "number = int(input(\"Enter the number: \"))\n",
        "result = 1\n",
        "while number>0:\n",
        "  result = result*number\n",
        "  number = number-1\n",
        "print(result)"
      ],
      "metadata": {
        "id": "vzTEKCG0cIR_",
        "outputId": "cf0f6808-3568-44a6-8f80-f8205c933449",
        "colab": {
          "base_uri": "https://localhost:8080/"
        }
      },
      "execution_count": null,
      "outputs": [
        {
          "output_type": "stream",
          "name": "stdout",
          "text": [
            "Enter the number: 5\n",
            "120\n"
          ]
        }
      ]
    },
    {
      "cell_type": "code",
      "source": [
        "number = int(input(\"Enter the number: \"))\n",
        "if number<0:\n",
        "  print(\"Factorial of less than zero is not possible.\")\n",
        "else:\n",
        "  result = 1\n",
        "  while number>0:\n",
        "    result = result*number\n",
        "    number = number-1\n",
        "  print(result)"
      ],
      "metadata": {
        "id": "9V9rXXqcdRMk",
        "outputId": "9886d116-1e50-4fc5-eca5-69aa0d11953e",
        "colab": {
          "base_uri": "https://localhost:8080/"
        }
      },
      "execution_count": null,
      "outputs": [
        {
          "output_type": "stream",
          "name": "stdout",
          "text": [
            "Enter the number: 5\n",
            "120\n"
          ]
        }
      ]
    },
    {
      "cell_type": "code",
      "source": [
        "#Test Question\n",
        "\n",
        "#What will be the output of the following Python code?\n",
        "\n",
        "inp = 'Python is amazing'\n",
        "out = inp[:5:-1] + inp[5::]\n",
        "print(out)\n",
        "#gnizama si is amazing\n",
        "\n",
        "#gnizama si n is amazing\n",
        "\n",
        "#gnizama si non is amazing\n",
        "\n",
        "#Syntax error"
      ],
      "metadata": {
        "id": "JA6VUtR2eIPF",
        "outputId": "43ef5784-9ac2-4d97-c147-325044b7f9f9",
        "colab": {
          "base_uri": "https://localhost:8080/"
        }
      },
      "execution_count": null,
      "outputs": [
        {
          "output_type": "stream",
          "name": "stdout",
          "text": [
            "gnizama si n is amazing\n"
          ]
        }
      ]
    },
    {
      "cell_type": "code",
      "source": [
        "#Suppose you are working as a data analyst in an e-commerce company, and you have data containing customer reviews of your products.\n",
        "#These reviews are in the form of strings. You are given the data cleaning task to remove the digits from the review strings.\n",
        "#Which of the following functions can be helpful in this case?\n",
        "#(i) isalpha()\n",
        "#(ii) isdecimal()\n",
        "#(iii) split()\n",
        "#(iv) isdigit()"
      ],
      "metadata": {
        "id": "mC6uFsqAs63I"
      },
      "execution_count": null,
      "outputs": []
    },
    {
      "cell_type": "code",
      "source": [
        "#What is the code to extract 'split' from the given string? (Multiple options may be correct)\n",
        "\n",
        "#sentence = 'This sentence needs to be split into words'\n",
        "\n",
        "#sentence[-16:-11]\n",
        "\n",
        "#sentence[-17:-11]\n",
        "\n",
        "#sentence.split()[5]\n",
        "\n",
        "#sentence[26:31]"
      ],
      "metadata": {
        "id": "gcJHMBVFuXUp"
      },
      "execution_count": null,
      "outputs": []
    },
    {
      "cell_type": "code",
      "source": [
        "#What is the code to extract 'split' from the given string? (Multiple options may be correct)\n",
        "\n",
        "#sentence = 'This sentence needs to be split into words'\n",
        "#sentence[-16:-11]\n",
        "#sentence[-17:-11]\n",
        "#sentence.split()[5]"
      ],
      "metadata": {
        "id": "YgzavKMRu0-E"
      },
      "execution_count": null,
      "outputs": []
    },
    {
      "cell_type": "code",
      "source": [
        "#Which of the following method chains will turn the string \" pyTHon \" into \"Python\"?\n",
        "\n",
        "#strip().capitalize()\n",
        "\n",
        "#capitalize().strip()\n",
        "\n",
        "#\" pyTHon \".strip().capitalize()\n",
        "\n",
        "#\" pyTHon \".capitalize().strip()"
      ],
      "metadata": {
        "id": "pKTxCrYWvTi1"
      },
      "execution_count": null,
      "outputs": []
    },
    {
      "cell_type": "code",
      "source": [
        "#In the given string, you attempt to find the index of the substring \"java\". Which answer(s) correctly describe(s) the outcome of such an operation? This question may have multiple correct answers.\n",
        "\n",
        "#code = \"Python is fun\"\n",
        "#code.index(\"java\") returns the starting index of the substring\n",
        "\n",
        "#code.find(\"java\") returns the starting index of the substring\n",
        "\n",
        "#code.index(\"java\") raises a ValueError\n",
        "\n",
        "#code.find(\"java\") returns −1"
      ],
      "metadata": {
        "id": "_cHUL5WrwCIO"
      },
      "execution_count": null,
      "outputs": []
    },
    {
      "cell_type": "code",
      "source": [
        "code = \"I am java\"\n",
        "code.index(\"java\")"
      ],
      "metadata": {
        "id": "PiXqCVWdwJ_G",
        "outputId": "73a2beb8-3395-4050-c52c-f886a8a4546f",
        "colab": {
          "base_uri": "https://localhost:8080/"
        }
      },
      "execution_count": null,
      "outputs": [
        {
          "output_type": "execute_result",
          "data": {
            "text/plain": [
              "5"
            ]
          },
          "metadata": {},
          "execution_count": 2
        }
      ]
    },
    {
      "cell_type": "code",
      "source": [
        "#The following question is similar to the ones that can be asked in interviews at companies such as Goldman Sachs for the Business Analyst role.\n",
        "# Make sure to attempt this question!\n",
        "\n",
        "#Given a list of numbers list1, create a new list which contains the two largest elements of list1 (more than one option may be correct).\n",
        "\n",
        "#For example, given the following list:\n",
        "\n",
        "#list1 = [1, 2, 40, 50, 80, 3, 4]\n",
        "#The output should look like:\n",
        "\n",
        "#[80, 50]\n",
        "\n",
        "list1 = [1, 2, 40, 50, 80, 3, 4]\n",
        "a = max(list1)\n",
        "b = list1.remove(max(list1))\n",
        "c = max(list1)\n",
        "print(a,c)\n",
        "\n",
        "output = sorted(list1, reverse = True)\n",
        "output[0:2]"
      ],
      "metadata": {
        "id": "2Cn8GqPZwUH3",
        "outputId": "5ee15b8c-e163-4b14-dcb6-03fcbc369ae5",
        "colab": {
          "base_uri": "https://localhost:8080/"
        }
      },
      "execution_count": null,
      "outputs": [
        {
          "output_type": "stream",
          "name": "stdout",
          "text": [
            "80 50\n"
          ]
        },
        {
          "output_type": "execute_result",
          "data": {
            "text/plain": [
              "[50, 40]"
            ]
          },
          "metadata": {},
          "execution_count": 1
        }
      ]
    },
    {
      "cell_type": "code",
      "source": [
        "list1 = [1, 2, 40, 50, 80, 3, 4]\n",
        "output = sorted(list1, reverse = True)\n",
        "output[0:2]\n",
        "\n",
        "sorted(list1)[-2:][::-1]"
      ],
      "metadata": {
        "id": "41sjN0f71_eq",
        "outputId": "98229014-6810-4c25-9b87-fd372223704f",
        "colab": {
          "base_uri": "https://localhost:8080/"
        }
      },
      "execution_count": null,
      "outputs": [
        {
          "output_type": "execute_result",
          "data": {
            "text/plain": [
              "[80, 50]"
            ]
          },
          "metadata": {},
          "execution_count": 8
        }
      ]
    },
    {
      "cell_type": "code",
      "source": [
        "\n",
        "#list2 = [max(list1)]\n",
        "#list1.remove(max(list1))\n",
        "#list2.append(max(list1))\n",
        "#list2\n",
        "\n",
        "\n",
        "#list2 = [max(list1)]\n",
        "#list1.remove(max(list1))\n",
        "#list2 += [max(list1)]\n",
        "#list2\n",
        "\n",
        "\n",
        "#sorted(list1, reverse=True)[:2]\n",
        "\n",
        "\n",
        "#sorted(list1)[-2:][::-1]"
      ],
      "metadata": {
        "id": "ukJpIYCfyCbV"
      },
      "execution_count": null,
      "outputs": []
    },
    {
      "cell_type": "code",
      "source": [
        "list1 = [1, 2, 40, 50, 80, 3, 4]\n",
        "sorted(list1)[-2:][::-1]\n"
      ],
      "metadata": {
        "id": "qUodOmha8v-J",
        "outputId": "667e71a2-94eb-479d-df18-7457b1fe25f6",
        "colab": {
          "base_uri": "https://localhost:8080/"
        }
      },
      "execution_count": null,
      "outputs": [
        {
          "output_type": "execute_result",
          "data": {
            "text/plain": [
              "[80, 50]"
            ]
          },
          "metadata": {},
          "execution_count": 2
        }
      ]
    },
    {
      "cell_type": "code",
      "source": [
        "list1=['Python','Java','Spark']\n",
        "list2=['C','C++','C#']\n",
        "output = list1.extend(list2)\n",
        "print(output)"
      ],
      "metadata": {
        "id": "FGT9E4uW9IV7",
        "outputId": "aae88c11-814f-4959-dc36-3c78a4558328",
        "colab": {
          "base_uri": "https://localhost:8080/"
        }
      },
      "execution_count": null,
      "outputs": [
        {
          "output_type": "stream",
          "name": "stdout",
          "text": [
            "None\n"
          ]
        }
      ]
    },
    {
      "cell_type": "code",
      "source": [
        "\n",
        "#What will be the output of the following code?\n",
        "\n",
        "list1 =[2,4,6,8,0]\n",
        "list2 =[3,5,7,9,1]\n",
        "list1.extend(list2[::-1])\n",
        "list1.sort()\n",
        "print(list1.pop())#"
      ],
      "metadata": {
        "id": "VY931D3D9YU1",
        "outputId": "51a56d11-5b8c-4239-fa69-71cfc5a97b40",
        "colab": {
          "base_uri": "https://localhost:8080/"
        }
      },
      "execution_count": null,
      "outputs": [
        {
          "output_type": "stream",
          "name": "stdout",
          "text": [
            "9\n"
          ]
        }
      ]
    },
    {
      "cell_type": "code",
      "source": [
        "#Find the output of list_1[-5] from the following list.\n",
        "\n",
        "list_1 = [2, 33, 222, 14, 25]\n",
        "list_1[-5]"
      ],
      "metadata": {
        "id": "0Dr1hvLX-YUh",
        "outputId": "313c1e0b-217e-4250-9696-fc0a3474b0dd",
        "colab": {
          "base_uri": "https://localhost:8080/"
        }
      },
      "execution_count": null,
      "outputs": [
        {
          "output_type": "execute_result",
          "data": {
            "text/plain": [
              "2"
            ]
          },
          "metadata": {},
          "execution_count": 19
        }
      ]
    },
    {
      "cell_type": "code",
      "source": [
        "#What would be the output of the following code?\n",
        "\n",
        "word = ['1','2','3','4']\n",
        "word[:] = []\n",
        "print(word)"
      ],
      "metadata": {
        "id": "CelsWGBF-m9L",
        "outputId": "8caff811-308c-4400-c123-9c1b68d6d6da",
        "colab": {
          "base_uri": "https://localhost:8080/"
        }
      },
      "execution_count": null,
      "outputs": [
        {
          "output_type": "stream",
          "name": "stdout",
          "text": [
            "[]\n"
          ]
        }
      ]
    },
    {
      "cell_type": "code",
      "source": [
        "#What will be the output of the following code?\n",
        "\n",
        "L = ['one','two','three', 'four', 'five', 'six']\n",
        "print(sorted(L))\n",
        "print (L)"
      ],
      "metadata": {
        "id": "GgsDwpzW-zYw",
        "outputId": "3aa83cf6-db3c-4565-9ca9-e2bfc8dcbd2b",
        "colab": {
          "base_uri": "https://localhost:8080/"
        }
      },
      "execution_count": null,
      "outputs": [
        {
          "output_type": "stream",
          "name": "stdout",
          "text": [
            "['five', 'four', 'one', 'six', 'three', 'two']\n",
            "['one', 'two', 'three', 'four', 'five', 'six']\n"
          ]
        }
      ]
    },
    {
      "cell_type": "code",
      "source": [
        "#What will the output of the following program be?\n",
        "\n",
        "L1 = ['Vikas', 'Akshay', 'Sanskar', 'Harsh']\n",
        "print(L1[1][-1])"
      ],
      "metadata": {
        "id": "3WqhofCe_IRo",
        "outputId": "7fc18b6d-2aef-41e0-92a3-466c251c05b9",
        "colab": {
          "base_uri": "https://localhost:8080/"
        }
      },
      "execution_count": null,
      "outputs": [
        {
          "output_type": "stream",
          "name": "stdout",
          "text": [
            "y\n"
          ]
        }
      ]
    },
    {
      "cell_type": "code",
      "source": [
        "\n",
        "#What will the output of the following code be?\n",
        "\n",
        "l = [32, 34, 12, 27, 33]\n",
        "l.append([14, 19])\n",
        "print(len(l))"
      ],
      "metadata": {
        "id": "yhrDI6o9_byZ",
        "outputId": "0cf0594d-9c0e-448b-bb76-47be264fa865",
        "colab": {
          "base_uri": "https://localhost:8080/"
        }
      },
      "execution_count": null,
      "outputs": [
        {
          "output_type": "stream",
          "name": "stdout",
          "text": [
            "6\n"
          ]
        }
      ]
    },
    {
      "cell_type": "code",
      "source": [
        "\n",
        "#What will the output of the following code be?\n",
        "\n",
        "l = [32, 34, 12, 27, 33]\n",
        "l.extend([14, 19])\n",
        "l"
      ],
      "metadata": {
        "id": "7hiLDkbk_iBh",
        "outputId": "20781720-b86b-4910-ce92-79395ae819f9",
        "colab": {
          "base_uri": "https://localhost:8080/"
        }
      },
      "execution_count": null,
      "outputs": [
        {
          "output_type": "execute_result",
          "data": {
            "text/plain": [
              "[32, 34, 12, 27, 33, 14, 19]"
            ]
          },
          "metadata": {},
          "execution_count": 26
        }
      ]
    },
    {
      "cell_type": "code",
      "source": [
        "#What will be the output of the following code?\n",
        "\n",
        "ls=['Data','Science']\n",
        "print('-'.join(ls))"
      ],
      "metadata": {
        "id": "pKjHB2yP_mSI",
        "outputId": "bd70d816-4f67-48f3-cc8a-a753cf802f18",
        "colab": {
          "base_uri": "https://localhost:8080/"
        }
      },
      "execution_count": null,
      "outputs": [
        {
          "output_type": "stream",
          "name": "stdout",
          "text": [
            "Data-Science\n"
          ]
        }
      ]
    },
    {
      "cell_type": "code",
      "source": [
        "#The following question is similar to the ones that can be asked in interviews at companies such as Dell for the Data Analyst role.\n",
        "#What would be the output of the code given below? You may want to look up the key parameter of the sorted() function.\n",
        "\n",
        "list1 = ['Sumana','Saru','Avinash','Abhi','Abhilash']\n",
        "print(sorted(list1, key=len, reverse=True))   #Correct! key=len would sort based on length, and reverse=True would set a descending order."
      ],
      "metadata": {
        "id": "SJMwUwMY_zcS",
        "outputId": "5f24a249-e516-4044-c7d9-7c44cd803d0a",
        "colab": {
          "base_uri": "https://localhost:8080/"
        }
      },
      "execution_count": null,
      "outputs": [
        {
          "output_type": "stream",
          "name": "stdout",
          "text": [
            "['Abhilash', 'Avinash', 'Sumana', 'Saru', 'Abhi']\n"
          ]
        }
      ]
    },
    {
      "cell_type": "code",
      "source": [
        "#Complete the below code by filling in the blank demarcated by \"_____\" to get the desired output:\n",
        "\n",
        "dict1={\"a\":1,\"b\":2}\n",
        "dict2={\"c\":3,\"d\":4}\n",
        "#Output:\n",
        "#{\"a\": 1, \"b\": 2, \"c\": 3, \"d\": 4}\n",
        "\n",
        "dict1.update(dict2)\n",
        "dict1"
      ],
      "metadata": {
        "id": "_xd182KgAWhc",
        "outputId": "a36ef4f6-31bb-4e99-93c6-44fa7e4ab913",
        "colab": {
          "base_uri": "https://localhost:8080/"
        }
      },
      "execution_count": null,
      "outputs": [
        {
          "output_type": "execute_result",
          "data": {
            "text/plain": [
              "{'a': 1, 'b': 2, 'c': 3, 'd': 4}"
            ]
          },
          "metadata": {},
          "execution_count": 33
        }
      ]
    },
    {
      "cell_type": "code",
      "source": [
        "#Which line of code correctly gets the value associated with the key ‘India' if it exists and returns 0 if it does not?\n",
        "\n",
        "country={\"England\": \"London\", \"Australia\": \"Canberra\", \"India\": \"New Delhi\"}\n",
        "country.get(\"India\", 0)"
      ],
      "metadata": {
        "id": "MDrKtOhTDaPp",
        "outputId": "a9c9c720-6741-4366-b9b9-422b5d767ad9",
        "colab": {
          "base_uri": "https://localhost:8080/",
          "height": 36
        }
      },
      "execution_count": null,
      "outputs": [
        {
          "output_type": "execute_result",
          "data": {
            "text/plain": [
              "'New Delhi'"
            ],
            "application/vnd.google.colaboratory.intrinsic+json": {
              "type": "string"
            }
          },
          "metadata": {},
          "execution_count": 36
        }
      ]
    },
    {
      "cell_type": "code",
      "source": [
        "#Given a dictionary, which code snippet correctly retrieves the value associated with Science and removes it from the dictionary? (Multiple options may be correct)\n",
        "\n",
        "scores = {'Math': 90, 'Science': 92, 'History': 88}\n",
        "#value = scores.remove('Science')\n",
        "value = scores['Science']; del scores['Science']\n",
        "value = scores.pop('Science')\n",
        "value = scores.pop('Science', None)\n",
        "#value = scores.get('Science', None); del scores['Science']"
      ],
      "metadata": {
        "id": "9JNrLe_3ELbo",
        "outputId": "fcc40247-c4f8-415a-a944-e77f40020a72",
        "colab": {
          "base_uri": "https://localhost:8080/",
          "height": 211
        }
      },
      "execution_count": null,
      "outputs": [
        {
          "output_type": "error",
          "ename": "KeyError",
          "evalue": "'Science'",
          "traceback": [
            "\u001b[0;31m---------------------------------------------------------------------------\u001b[0m",
            "\u001b[0;31mKeyError\u001b[0m                                  Traceback (most recent call last)",
            "\u001b[0;32m<ipython-input-41-c64fe0baf28f>\u001b[0m in \u001b[0;36m<cell line: 0>\u001b[0;34m()\u001b[0m\n\u001b[1;32m      4\u001b[0m \u001b[0;31m#value = scores.remove('Science')\u001b[0m\u001b[0;34m\u001b[0m\u001b[0;34m\u001b[0m\u001b[0m\n\u001b[1;32m      5\u001b[0m \u001b[0mvalue\u001b[0m \u001b[0;34m=\u001b[0m \u001b[0mscores\u001b[0m\u001b[0;34m[\u001b[0m\u001b[0;34m'Science'\u001b[0m\u001b[0;34m]\u001b[0m\u001b[0;34m;\u001b[0m \u001b[0;32mdel\u001b[0m \u001b[0mscores\u001b[0m\u001b[0;34m[\u001b[0m\u001b[0;34m'Science'\u001b[0m\u001b[0;34m]\u001b[0m\u001b[0;34m\u001b[0m\u001b[0;34m\u001b[0m\u001b[0m\n\u001b[0;32m----> 6\u001b[0;31m \u001b[0mvalue\u001b[0m \u001b[0;34m=\u001b[0m \u001b[0mscores\u001b[0m\u001b[0;34m.\u001b[0m\u001b[0mpop\u001b[0m\u001b[0;34m(\u001b[0m\u001b[0;34m'Science'\u001b[0m\u001b[0;34m)\u001b[0m\u001b[0;34m\u001b[0m\u001b[0;34m\u001b[0m\u001b[0m\n\u001b[0m\u001b[1;32m      7\u001b[0m \u001b[0mvalue\u001b[0m \u001b[0;34m=\u001b[0m \u001b[0mscores\u001b[0m\u001b[0;34m.\u001b[0m\u001b[0mpop\u001b[0m\u001b[0;34m(\u001b[0m\u001b[0;34m'Science'\u001b[0m\u001b[0;34m,\u001b[0m \u001b[0;32mNone\u001b[0m\u001b[0;34m)\u001b[0m\u001b[0;34m\u001b[0m\u001b[0;34m\u001b[0m\u001b[0m\n\u001b[1;32m      8\u001b[0m \u001b[0;31m#value = scores.get('Science', None); del scores['Science']\u001b[0m\u001b[0;34m\u001b[0m\u001b[0;34m\u001b[0m\u001b[0m\n",
            "\u001b[0;31mKeyError\u001b[0m: 'Science'"
          ]
        }
      ]
    },
    {
      "cell_type": "code",
      "source": [
        "#Consider the following code:\n",
        "\n",
        "my_dict = {\n",
        "    'key1': [1, 2, 3],\n",
        "    'key2': ['a', 'b', 'c'],\n",
        "    'key3': [True, False, True],\n",
        "    'key4': [0.1, 0.2, 0.3],\n",
        "    'key5': ['x', 'y', 'z']\n",
        "}\n",
        "\n",
        "length = len(my_dict)\n",
        "print(\"Length of the dictionary:\", length)\n",
        "#What will be the output of the given code?"
      ],
      "metadata": {
        "id": "llWSu2PCFpPN",
        "outputId": "b76c50fc-9bbd-4a9b-e91e-8b4894a05b46",
        "colab": {
          "base_uri": "https://localhost:8080/"
        }
      },
      "execution_count": null,
      "outputs": [
        {
          "output_type": "stream",
          "name": "stdout",
          "text": [
            "Length of the dictionary: 5\n",
            "Object `code` not found.\n"
          ]
        }
      ]
    },
    {
      "cell_type": "code",
      "source": [
        "#Given are two dictionaries, what will dict_a update to after performing the dict_a.update(dict_b) operation?\n",
        "\n",
        "dict_a = {'a': 1, 'b': 2}\n",
        "dict_b = {'b': 3, 'c': 4}"
      ],
      "metadata": {
        "id": "r7qX0CkyGQSy"
      },
      "execution_count": null,
      "outputs": []
    },
    {
      "cell_type": "code",
      "source": [
        "dict_a.update(dict_b)\n",
        "dict_a"
      ],
      "metadata": {
        "id": "v4aGvmetGeNH",
        "outputId": "b8d2a7c5-4c3b-45bb-e897-981f813e6fa0",
        "colab": {
          "base_uri": "https://localhost:8080/"
        }
      },
      "execution_count": null,
      "outputs": [
        {
          "output_type": "execute_result",
          "data": {
            "text/plain": [
              "{'a': 1, 'b': 3, 'c': 4}"
            ]
          },
          "metadata": {},
          "execution_count": 45
        }
      ]
    },
    {
      "cell_type": "code",
      "source": [
        "#How would you get the desired output given the following tuples?\n",
        "\n",
        "a = (1, 2, 3, 4)\n",
        "b = (5, 6, 7, 8)\n",
        "#Output:\n",
        "#(1, 2, 3, 4, 5, 6, 7, 8)\n",
        "a+=b"
      ],
      "metadata": {
        "id": "aAVhwOzCGhbi"
      },
      "execution_count": null,
      "outputs": []
    },
    {
      "cell_type": "code",
      "source": [
        "tuple(\"Hello World\")"
      ],
      "metadata": {
        "id": "2mRhBmUUG66O",
        "outputId": "cdca3895-5748-4ff6-8a0d-6a5f49abb992",
        "colab": {
          "base_uri": "https://localhost:8080/"
        }
      },
      "execution_count": null,
      "outputs": [
        {
          "output_type": "execute_result",
          "data": {
            "text/plain": [
              "('H', 'e', 'l', 'l', 'o', ' ', 'W', 'o', 'r', 'l', 'd')"
            ]
          },
          "metadata": {},
          "execution_count": 48
        }
      ]
    },
    {
      "cell_type": "code",
      "source": [
        "#Which of the following statements is true about the variable t ?\n",
        "\n",
        "t = (1,2,[3,4],5)\n",
        "#t is not a valid tuple because lists cannot be tuple elements.\n",
        "\n",
        "#The list [3, 4] within the tuple can be modified.\n",
        "\n",
        "#Modifying the list [3, 4] in t will result in a TypeError.\n",
        "\n",
        "#Tuple elements cannot contain mutable objects."
      ],
      "metadata": {
        "id": "WPIdDjZpIgHe"
      },
      "execution_count": null,
      "outputs": []
    },
    {
      "cell_type": "code",
      "source": [
        "t[2][0] = 4\n",
        "print(t)"
      ],
      "metadata": {
        "id": "PvWdqgIPI9fE",
        "outputId": "0543d756-7295-4208-f6a4-3cbe1f265047",
        "colab": {
          "base_uri": "https://localhost:8080/"
        }
      },
      "execution_count": null,
      "outputs": [
        {
          "output_type": "stream",
          "name": "stdout",
          "text": [
            "(1, 2, [4, 4], 5)\n"
          ]
        }
      ]
    },
    {
      "cell_type": "code",
      "source": [
        "#What does the following expression return?\n",
        "('a', 'b', 'c', 'b', 'a').index('b', 2)\n",
        "#1 #2 #3 #4                               Correct! The index method returns the position of the first occurrence of 'b' after index 2, which in this case is 3."
      ],
      "metadata": {
        "id": "7RG8hdclJENF",
        "outputId": "cffb621d-4ed0-4667-93d9-a67c51ddd008",
        "colab": {
          "base_uri": "https://localhost:8080/"
        }
      },
      "execution_count": null,
      "outputs": [
        {
          "output_type": "execute_result",
          "data": {
            "text/plain": [
              "3"
            ]
          },
          "metadata": {},
          "execution_count": 52
        }
      ]
    },
    {
      "cell_type": "code",
      "source": [
        "#What is the result of unpacking the following tuple t=(1,2,3)\n",
        "#in the reverse order using a single line of Python code?\n",
        "t=(1,2,3)\n",
        "*start, last = t[::-1]"
      ],
      "metadata": {
        "id": "TaNfiAtiJYx4"
      },
      "execution_count": null,
      "outputs": []
    },
    {
      "cell_type": "code",
      "source": [
        "t = ('P','y','t','h','o','n')\n",
        "#Which of the following option correctly converts the following tuple into the string \"Python\"? (Multiple options may be correct)\n",
        "\n",
        "#str(t)\n",
        "#\".\".join(t)\n",
        "#\"\".join(t)\n",
        "#\"\".join(t[0:])"
      ],
      "metadata": {
        "id": "ZhNgmlYbJxlc",
        "outputId": "67d48260-166d-4c14-9459-857a1e53ac21",
        "colab": {
          "base_uri": "https://localhost:8080/",
          "height": 36
        }
      },
      "execution_count": null,
      "outputs": [
        {
          "output_type": "execute_result",
          "data": {
            "text/plain": [
              "'Python'"
            ],
            "application/vnd.google.colaboratory.intrinsic+json": {
              "type": "string"
            }
          },
          "metadata": {},
          "execution_count": 57
        }
      ]
    },
    {
      "cell_type": "code",
      "source": [
        "(1,)*5"
      ],
      "metadata": {
        "id": "VhzsS1NvKMRP",
        "outputId": "1cbe3f73-2b22-4d41-b67c-0704408a4be6",
        "colab": {
          "base_uri": "https://localhost:8080/"
        }
      },
      "execution_count": null,
      "outputs": [
        {
          "output_type": "execute_result",
          "data": {
            "text/plain": [
              "(1, 1, 1, 1, 1)"
            ]
          },
          "metadata": {},
          "execution_count": 58
        }
      ]
    },
    {
      "cell_type": "code",
      "source": [
        "#The following question is similar to the ones that can be asked in interviews at companies such as Accenture for the Data Analyst role.\n",
        "#Make sure to attempt this question!\n",
        "\n",
        "#Which of the two are the correct ways to slice the following tuple to obtain its first two elements?\n",
        "\n",
        "a = ('a', 'b', 'c', 'd', 'e')\n",
        "#Option A (please look up what the slice() function does):\n",
        "\n",
        "a[slice(2)]\n",
        "#Option B:\n",
        "\n",
        "a[0:2]               #both are correct."
      ],
      "metadata": {
        "id": "Pb31PlPFKnUM",
        "outputId": "4a296e6f-b022-4a49-bd2a-6d9d996ad509",
        "colab": {
          "base_uri": "https://localhost:8080/"
        }
      },
      "execution_count": null,
      "outputs": [
        {
          "output_type": "execute_result",
          "data": {
            "text/plain": [
              "('a', 'b')"
            ]
          },
          "metadata": {},
          "execution_count": 61
        }
      ]
    },
    {
      "cell_type": "code",
      "source": [
        "s = {1,2,3}\n",
        "s.add(4)"
      ],
      "metadata": {
        "id": "bBn8aIDOK5xe"
      },
      "execution_count": null,
      "outputs": []
    },
    {
      "cell_type": "code",
      "source": [
        "#What will be the output of the following code?\n",
        "\n",
        "odd={1,3,5,7,9}\n",
        "even={2,4,6,8,0}\n",
        "prime={2,3,5,7,11}\n",
        "set1=odd.union(even)\n",
        "set2=set1.difference(prime)\n",
        "print(set2)"
      ],
      "metadata": {
        "id": "xEJcm2NuLOdf",
        "outputId": "c78a2cc5-b9e8-465f-fbd3-2a3e2a21c093",
        "colab": {
          "base_uri": "https://localhost:8080/"
        }
      },
      "execution_count": null,
      "outputs": [
        {
          "output_type": "stream",
          "name": "stdout",
          "text": [
            "{0, 1, 4, 6, 8, 9}\n"
          ]
        }
      ]
    },
    {
      "cell_type": "code",
      "source": [
        "set([1,2])"
      ],
      "metadata": {
        "id": "H4LjNOo_L8Ax",
        "outputId": "52ab5282-fedc-461b-f4fd-a42899d2a2d6",
        "colab": {
          "base_uri": "https://localhost:8080/"
        }
      },
      "execution_count": null,
      "outputs": [
        {
          "output_type": "execute_result",
          "data": {
            "text/plain": [
              "{1, 2}"
            ]
          },
          "metadata": {},
          "execution_count": 65
        }
      ]
    },
    {
      "cell_type": "code",
      "source": [
        "set((12,4))"
      ],
      "metadata": {
        "id": "K_5lvKwkL9rI",
        "outputId": "f0df11b3-e40a-4261-ade3-35ae9e872d36",
        "colab": {
          "base_uri": "https://localhost:8080/"
        }
      },
      "execution_count": null,
      "outputs": [
        {
          "output_type": "execute_result",
          "data": {
            "text/plain": [
              "{4, 12}"
            ]
          },
          "metadata": {},
          "execution_count": 66
        }
      ]
    },
    {
      "cell_type": "code",
      "source": [
        "set(\"banana\")"
      ],
      "metadata": {
        "id": "C799ctY0MDER",
        "outputId": "beffc04a-0442-4cd3-fd43-6a4711346c95",
        "colab": {
          "base_uri": "https://localhost:8080/"
        }
      },
      "execution_count": null,
      "outputs": [
        {
          "output_type": "execute_result",
          "data": {
            "text/plain": [
              "{'a', 'b', 'n'}"
            ]
          },
          "metadata": {},
          "execution_count": 67
        }
      ]
    },
    {
      "cell_type": "code",
      "source": [
        "s = {2, 3, 5, 7, 11}\n",
        "#\"2\" in s and \"4\" in s\n",
        "#(2,4) in s\n",
        "#2 in s and 4 in s"
      ],
      "metadata": {
        "id": "4RhP6Q6NMYAU",
        "outputId": "969280e4-4c43-46a0-8572-e22a980525cb",
        "colab": {
          "base_uri": "https://localhost:8080/"
        }
      },
      "execution_count": null,
      "outputs": [
        {
          "output_type": "execute_result",
          "data": {
            "text/plain": [
              "False"
            ]
          },
          "metadata": {},
          "execution_count": 71
        }
      ]
    },
    {
      "cell_type": "code",
      "source": [
        "dic ={'name': 'Alice', 'age': 16, 'grade': '10th','email': 'alice@example.com', 'phone': '123-456-7890','subjects': ['Math', 'Science', 'History', 'Art']}\n",
        "len(dic[\"subjects\"])"
      ],
      "metadata": {
        "id": "M5sKxv0vMnwn",
        "outputId": "0877d28b-1069-4d78-9b1c-02a68cf0ee2a",
        "colab": {
          "base_uri": "https://localhost:8080/"
        }
      },
      "execution_count": null,
      "outputs": [
        {
          "output_type": "execute_result",
          "data": {
            "text/plain": [
              "4"
            ]
          },
          "metadata": {},
          "execution_count": 78
        }
      ]
    },
    {
      "cell_type": "code",
      "source": [
        "dic ={'name': 'Alice', 'age': 16, 'grade': '10th','email': 'alice@example.com', 'phone': '123-456-7890','subjects': ['Math', 'Science', 'History', 'Art']}\n",
        "print(len(dic[\"subjects\"]))"
      ],
      "metadata": {
        "id": "9aZVoNYldM3t",
        "outputId": "7b3cb493-abdf-4acf-bc75-a1997e37bf0a",
        "colab": {
          "base_uri": "https://localhost:8080/"
        }
      },
      "execution_count": null,
      "outputs": [
        {
          "output_type": "stream",
          "name": "stdout",
          "text": [
            "4\n"
          ]
        }
      ]
    },
    {
      "cell_type": "code",
      "source": [
        "#calculate total runs\n",
        "dic = {'name': 'Jordan',\n",
        "\n",
        " 'age': 20,\n",
        "\n",
        " 'email': 'jordan@example.com',\n",
        "\n",
        " 'phone': '987-654-3210',\n",
        "\n",
        " 'cricket_runs': {\n",
        "\n",
        "  'match_1': 250,\n",
        "\n",
        "  'match_2': 150,\n",
        "\n",
        "  'match_3': 300 }}\n",
        "\n",
        "#a = dic[\"cricket_runs\"].values()"
      ],
      "metadata": {
        "id": "UPhcd_ZPd1Ab"
      },
      "execution_count": null,
      "outputs": []
    },
    {
      "cell_type": "code",
      "source": [
        "# Calculating total runs using for loop\n",
        "total_runs = 0\n",
        "for runs in dic.get('cricket_runs', {}).values():\n",
        "    total_runs += runs\n",
        "\n",
        "# Printing the output\n",
        "print(total_runs)\n"
      ],
      "metadata": {
        "id": "G2i3E8Y5e8PE",
        "outputId": "2ae7c755-55c7-448e-8865-f14968f2d7b6",
        "colab": {
          "base_uri": "https://localhost:8080/"
        }
      },
      "execution_count": null,
      "outputs": [
        {
          "output_type": "stream",
          "name": "stdout",
          "text": [
            "700\n"
          ]
        }
      ]
    },
    {
      "cell_type": "code",
      "source": [
        "import ast\n",
        "total_runs = 0\n",
        "a = input()\n",
        "player_data = ast.literal_eval(a)\n",
        "total_runs = sum(player_data[\"cricket_runs\"].values())\n",
        "print(total_runs)"
      ],
      "metadata": {
        "id": "p-v21s18gVtG",
        "outputId": "24db0143-3238-43c4-c624-001161c37562",
        "colab": {
          "base_uri": "https://localhost:8080/",
          "height": 211
        }
      },
      "execution_count": null,
      "outputs": [
        {
          "name": "stdout",
          "output_type": "stream",
          "text": [
            "34\n"
          ]
        },
        {
          "output_type": "error",
          "ename": "TypeError",
          "evalue": "'int' object is not subscriptable",
          "traceback": [
            "\u001b[0;31m---------------------------------------------------------------------------\u001b[0m",
            "\u001b[0;31mTypeError\u001b[0m                                 Traceback (most recent call last)",
            "\u001b[0;32m<ipython-input-97-334ce6d4f9e3>\u001b[0m in \u001b[0;36m<cell line: 0>\u001b[0;34m()\u001b[0m\n\u001b[1;32m      3\u001b[0m \u001b[0ma\u001b[0m \u001b[0;34m=\u001b[0m \u001b[0minput\u001b[0m\u001b[0;34m(\u001b[0m\u001b[0;34m)\u001b[0m\u001b[0;34m\u001b[0m\u001b[0;34m\u001b[0m\u001b[0m\n\u001b[1;32m      4\u001b[0m \u001b[0mplayer_data\u001b[0m \u001b[0;34m=\u001b[0m \u001b[0mast\u001b[0m\u001b[0;34m.\u001b[0m\u001b[0mliteral_eval\u001b[0m\u001b[0;34m(\u001b[0m\u001b[0ma\u001b[0m\u001b[0;34m)\u001b[0m\u001b[0;34m\u001b[0m\u001b[0;34m\u001b[0m\u001b[0m\n\u001b[0;32m----> 5\u001b[0;31m \u001b[0mtotal_runs\u001b[0m \u001b[0;34m=\u001b[0m \u001b[0msum\u001b[0m\u001b[0;34m(\u001b[0m\u001b[0mplayer_data\u001b[0m\u001b[0;34m[\u001b[0m\u001b[0;34m\"cricket_runs\"\u001b[0m\u001b[0;34m]\u001b[0m\u001b[0;34m.\u001b[0m\u001b[0mvalues\u001b[0m\u001b[0;34m(\u001b[0m\u001b[0;34m)\u001b[0m\u001b[0;34m)\u001b[0m\u001b[0;34m\u001b[0m\u001b[0;34m\u001b[0m\u001b[0m\n\u001b[0m\u001b[1;32m      6\u001b[0m \u001b[0mprint\u001b[0m\u001b[0;34m(\u001b[0m\u001b[0mtotal_runs\u001b[0m\u001b[0;34m)\u001b[0m\u001b[0;34m\u001b[0m\u001b[0;34m\u001b[0m\u001b[0m\n",
            "\u001b[0;31mTypeError\u001b[0m: 'int' object is not subscriptable"
          ]
        }
      ]
    },
    {
      "cell_type": "code",
      "source": [
        "#You are given a list of keys representing different categories of data and a default value.\n",
        "#Write a Python program to create a dictionary where each key is initialized with the default value.\n",
        "#Sample Input 1:\n",
        "#{'name', 'age', 'email', 'phone', 'address'}\n",
        "#'N/A'\n",
        "#Sample Output 1:\n",
        "#{'name': 'N/A', 'age': 'N/A', 'email': 'N/A', 'phone': 'N/A', 'address': 'N/A'}\n",
        "\n",
        "import ast\n",
        "\n",
        "# Taking input\n",
        "a = input()\n",
        "default_value = input()\n",
        "\n",
        "# Converting input string to set\n",
        "info_keys = ast.literal_eval(a)\n",
        "\n",
        "# Creating dictionary with default values\n",
        "info_dict = dict.fromkeys(info_keys, default_value)\n",
        "\n",
        "# Printing the output\n",
        "print(info_dict)"
      ],
      "metadata": {
        "id": "aPQkuWJKibCL"
      },
      "execution_count": null,
      "outputs": []
    },
    {
      "cell_type": "code",
      "source": [
        "lis = [\"Python\",\"C\",\"C#\",\"SAS\",\"Java\"]\n",
        "lis[-4]"
      ],
      "metadata": {
        "colab": {
          "base_uri": "https://localhost:8080/",
          "height": 36
        },
        "id": "YwmaDF8hW2az",
        "outputId": "db0070e6-35e9-4b3c-8e7d-09cce8ac8eff"
      },
      "execution_count": null,
      "outputs": [
        {
          "output_type": "execute_result",
          "data": {
            "text/plain": [
              "'C'"
            ],
            "application/vnd.google.colaboratory.intrinsic+json": {
              "type": "string"
            }
          },
          "metadata": {},
          "execution_count": 3
        }
      ]
    },
    {
      "cell_type": "code",
      "source": [
        "#Importing library\n",
        "import ast\n",
        "\n",
        "#Taking input\n",
        "inp=input()\n",
        "\n",
        "#Evaluating input to convert to list\n",
        "list1=ast.literal_eval(inp)\n",
        "\n",
        "#Taking input of index\n",
        "n=int(input())\n",
        "print(list1[n])"
      ],
      "metadata": {
        "colab": {
          "base_uri": "https://localhost:8080/",
          "height": 373
        },
        "id": "yI0_klyAXnCc",
        "outputId": "0b1c0fb6-676d-4a6a-9651-c8432d0ace8a"
      },
      "execution_count": null,
      "outputs": [
        {
          "name": "stdout",
          "output_type": "stream",
          "text": [
            "d\n"
          ]
        },
        {
          "output_type": "error",
          "ename": "ValueError",
          "evalue": "malformed node or string on line 1: <ast.Name object at 0x7b949aa296c0>",
          "traceback": [
            "\u001b[0;31m---------------------------------------------------------------------------\u001b[0m",
            "\u001b[0;31mValueError\u001b[0m                                Traceback (most recent call last)",
            "\u001b[0;32m<ipython-input-1-d232cbc51a70>\u001b[0m in \u001b[0;36m<cell line: 0>\u001b[0;34m()\u001b[0m\n\u001b[1;32m      6\u001b[0m \u001b[0;34m\u001b[0m\u001b[0m\n\u001b[1;32m      7\u001b[0m \u001b[0;31m#Evaluating input to convert to list\u001b[0m\u001b[0;34m\u001b[0m\u001b[0;34m\u001b[0m\u001b[0m\n\u001b[0;32m----> 8\u001b[0;31m \u001b[0mlist1\u001b[0m\u001b[0;34m=\u001b[0m\u001b[0mast\u001b[0m\u001b[0;34m.\u001b[0m\u001b[0mliteral_eval\u001b[0m\u001b[0;34m(\u001b[0m\u001b[0minp\u001b[0m\u001b[0;34m)\u001b[0m\u001b[0;34m\u001b[0m\u001b[0;34m\u001b[0m\u001b[0m\n\u001b[0m\u001b[1;32m      9\u001b[0m \u001b[0;34m\u001b[0m\u001b[0m\n\u001b[1;32m     10\u001b[0m \u001b[0;31m#Taking input of index\u001b[0m\u001b[0;34m\u001b[0m\u001b[0;34m\u001b[0m\u001b[0m\n",
            "\u001b[0;32m/usr/lib/python3.11/ast.py\u001b[0m in \u001b[0;36mliteral_eval\u001b[0;34m(node_or_string)\u001b[0m\n\u001b[1;32m    108\u001b[0m                     \u001b[0;32mreturn\u001b[0m \u001b[0mleft\u001b[0m \u001b[0;34m-\u001b[0m \u001b[0mright\u001b[0m\u001b[0;34m\u001b[0m\u001b[0;34m\u001b[0m\u001b[0m\n\u001b[1;32m    109\u001b[0m         \u001b[0;32mreturn\u001b[0m \u001b[0m_convert_signed_num\u001b[0m\u001b[0;34m(\u001b[0m\u001b[0mnode\u001b[0m\u001b[0;34m)\u001b[0m\u001b[0;34m\u001b[0m\u001b[0;34m\u001b[0m\u001b[0m\n\u001b[0;32m--> 110\u001b[0;31m     \u001b[0;32mreturn\u001b[0m \u001b[0m_convert\u001b[0m\u001b[0;34m(\u001b[0m\u001b[0mnode_or_string\u001b[0m\u001b[0;34m)\u001b[0m\u001b[0;34m\u001b[0m\u001b[0;34m\u001b[0m\u001b[0m\n\u001b[0m\u001b[1;32m    111\u001b[0m \u001b[0;34m\u001b[0m\u001b[0m\n\u001b[1;32m    112\u001b[0m \u001b[0;34m\u001b[0m\u001b[0m\n",
            "\u001b[0;32m/usr/lib/python3.11/ast.py\u001b[0m in \u001b[0;36m_convert\u001b[0;34m(node)\u001b[0m\n\u001b[1;32m    107\u001b[0m                 \u001b[0;32melse\u001b[0m\u001b[0;34m:\u001b[0m\u001b[0;34m\u001b[0m\u001b[0;34m\u001b[0m\u001b[0m\n\u001b[1;32m    108\u001b[0m                     \u001b[0;32mreturn\u001b[0m \u001b[0mleft\u001b[0m \u001b[0;34m-\u001b[0m \u001b[0mright\u001b[0m\u001b[0;34m\u001b[0m\u001b[0;34m\u001b[0m\u001b[0m\n\u001b[0;32m--> 109\u001b[0;31m         \u001b[0;32mreturn\u001b[0m \u001b[0m_convert_signed_num\u001b[0m\u001b[0;34m(\u001b[0m\u001b[0mnode\u001b[0m\u001b[0;34m)\u001b[0m\u001b[0;34m\u001b[0m\u001b[0;34m\u001b[0m\u001b[0m\n\u001b[0m\u001b[1;32m    110\u001b[0m     \u001b[0;32mreturn\u001b[0m \u001b[0m_convert\u001b[0m\u001b[0;34m(\u001b[0m\u001b[0mnode_or_string\u001b[0m\u001b[0;34m)\u001b[0m\u001b[0;34m\u001b[0m\u001b[0;34m\u001b[0m\u001b[0m\n\u001b[1;32m    111\u001b[0m \u001b[0;34m\u001b[0m\u001b[0m\n",
            "\u001b[0;32m/usr/lib/python3.11/ast.py\u001b[0m in \u001b[0;36m_convert_signed_num\u001b[0;34m(node)\u001b[0m\n\u001b[1;32m     81\u001b[0m             \u001b[0;32melse\u001b[0m\u001b[0;34m:\u001b[0m\u001b[0;34m\u001b[0m\u001b[0;34m\u001b[0m\u001b[0m\n\u001b[1;32m     82\u001b[0m                 \u001b[0;32mreturn\u001b[0m \u001b[0;34m-\u001b[0m \u001b[0moperand\u001b[0m\u001b[0;34m\u001b[0m\u001b[0;34m\u001b[0m\u001b[0m\n\u001b[0;32m---> 83\u001b[0;31m         \u001b[0;32mreturn\u001b[0m \u001b[0m_convert_num\u001b[0m\u001b[0;34m(\u001b[0m\u001b[0mnode\u001b[0m\u001b[0;34m)\u001b[0m\u001b[0;34m\u001b[0m\u001b[0;34m\u001b[0m\u001b[0m\n\u001b[0m\u001b[1;32m     84\u001b[0m     \u001b[0;32mdef\u001b[0m \u001b[0m_convert\u001b[0m\u001b[0;34m(\u001b[0m\u001b[0mnode\u001b[0m\u001b[0;34m)\u001b[0m\u001b[0;34m:\u001b[0m\u001b[0;34m\u001b[0m\u001b[0;34m\u001b[0m\u001b[0m\n\u001b[1;32m     85\u001b[0m         \u001b[0;32mif\u001b[0m \u001b[0misinstance\u001b[0m\u001b[0;34m(\u001b[0m\u001b[0mnode\u001b[0m\u001b[0;34m,\u001b[0m \u001b[0mConstant\u001b[0m\u001b[0;34m)\u001b[0m\u001b[0;34m:\u001b[0m\u001b[0;34m\u001b[0m\u001b[0;34m\u001b[0m\u001b[0m\n",
            "\u001b[0;32m/usr/lib/python3.11/ast.py\u001b[0m in \u001b[0;36m_convert_num\u001b[0;34m(node)\u001b[0m\n\u001b[1;32m     72\u001b[0m     \u001b[0;32mdef\u001b[0m \u001b[0m_convert_num\u001b[0m\u001b[0;34m(\u001b[0m\u001b[0mnode\u001b[0m\u001b[0;34m)\u001b[0m\u001b[0;34m:\u001b[0m\u001b[0;34m\u001b[0m\u001b[0;34m\u001b[0m\u001b[0m\n\u001b[1;32m     73\u001b[0m         \u001b[0;32mif\u001b[0m \u001b[0;32mnot\u001b[0m \u001b[0misinstance\u001b[0m\u001b[0;34m(\u001b[0m\u001b[0mnode\u001b[0m\u001b[0;34m,\u001b[0m \u001b[0mConstant\u001b[0m\u001b[0;34m)\u001b[0m \u001b[0;32mor\u001b[0m \u001b[0mtype\u001b[0m\u001b[0;34m(\u001b[0m\u001b[0mnode\u001b[0m\u001b[0;34m.\u001b[0m\u001b[0mvalue\u001b[0m\u001b[0;34m)\u001b[0m \u001b[0;32mnot\u001b[0m \u001b[0;32min\u001b[0m \u001b[0;34m(\u001b[0m\u001b[0mint\u001b[0m\u001b[0;34m,\u001b[0m \u001b[0mfloat\u001b[0m\u001b[0;34m,\u001b[0m \u001b[0mcomplex\u001b[0m\u001b[0;34m)\u001b[0m\u001b[0;34m:\u001b[0m\u001b[0;34m\u001b[0m\u001b[0;34m\u001b[0m\u001b[0m\n\u001b[0;32m---> 74\u001b[0;31m             \u001b[0m_raise_malformed_node\u001b[0m\u001b[0;34m(\u001b[0m\u001b[0mnode\u001b[0m\u001b[0;34m)\u001b[0m\u001b[0;34m\u001b[0m\u001b[0;34m\u001b[0m\u001b[0m\n\u001b[0m\u001b[1;32m     75\u001b[0m         \u001b[0;32mreturn\u001b[0m \u001b[0mnode\u001b[0m\u001b[0;34m.\u001b[0m\u001b[0mvalue\u001b[0m\u001b[0;34m\u001b[0m\u001b[0;34m\u001b[0m\u001b[0m\n\u001b[1;32m     76\u001b[0m     \u001b[0;32mdef\u001b[0m \u001b[0m_convert_signed_num\u001b[0m\u001b[0;34m(\u001b[0m\u001b[0mnode\u001b[0m\u001b[0;34m)\u001b[0m\u001b[0;34m:\u001b[0m\u001b[0;34m\u001b[0m\u001b[0;34m\u001b[0m\u001b[0m\n",
            "\u001b[0;32m/usr/lib/python3.11/ast.py\u001b[0m in \u001b[0;36m_raise_malformed_node\u001b[0;34m(node)\u001b[0m\n\u001b[1;32m     69\u001b[0m         \u001b[0;32mif\u001b[0m \u001b[0mlno\u001b[0m \u001b[0;34m:=\u001b[0m \u001b[0mgetattr\u001b[0m\u001b[0;34m(\u001b[0m\u001b[0mnode\u001b[0m\u001b[0;34m,\u001b[0m \u001b[0;34m'lineno'\u001b[0m\u001b[0;34m,\u001b[0m \u001b[0;32mNone\u001b[0m\u001b[0;34m)\u001b[0m\u001b[0;34m:\u001b[0m\u001b[0;34m\u001b[0m\u001b[0;34m\u001b[0m\u001b[0m\n\u001b[1;32m     70\u001b[0m             \u001b[0mmsg\u001b[0m \u001b[0;34m+=\u001b[0m \u001b[0;34mf' on line {lno}'\u001b[0m\u001b[0;34m\u001b[0m\u001b[0;34m\u001b[0m\u001b[0m\n\u001b[0;32m---> 71\u001b[0;31m         \u001b[0;32mraise\u001b[0m \u001b[0mValueError\u001b[0m\u001b[0;34m(\u001b[0m\u001b[0mmsg\u001b[0m \u001b[0;34m+\u001b[0m \u001b[0;34mf': {node!r}'\u001b[0m\u001b[0;34m)\u001b[0m\u001b[0;34m\u001b[0m\u001b[0;34m\u001b[0m\u001b[0m\n\u001b[0m\u001b[1;32m     72\u001b[0m     \u001b[0;32mdef\u001b[0m \u001b[0m_convert_num\u001b[0m\u001b[0;34m(\u001b[0m\u001b[0mnode\u001b[0m\u001b[0;34m)\u001b[0m\u001b[0;34m:\u001b[0m\u001b[0;34m\u001b[0m\u001b[0;34m\u001b[0m\u001b[0m\n\u001b[1;32m     73\u001b[0m         \u001b[0;32mif\u001b[0m \u001b[0;32mnot\u001b[0m \u001b[0misinstance\u001b[0m\u001b[0;34m(\u001b[0m\u001b[0mnode\u001b[0m\u001b[0;34m,\u001b[0m \u001b[0mConstant\u001b[0m\u001b[0;34m)\u001b[0m \u001b[0;32mor\u001b[0m \u001b[0mtype\u001b[0m\u001b[0;34m(\u001b[0m\u001b[0mnode\u001b[0m\u001b[0;34m.\u001b[0m\u001b[0mvalue\u001b[0m\u001b[0;34m)\u001b[0m \u001b[0;32mnot\u001b[0m \u001b[0;32min\u001b[0m \u001b[0;34m(\u001b[0m\u001b[0mint\u001b[0m\u001b[0;34m,\u001b[0m \u001b[0mfloat\u001b[0m\u001b[0;34m,\u001b[0m \u001b[0mcomplex\u001b[0m\u001b[0;34m)\u001b[0m\u001b[0;34m:\u001b[0m\u001b[0;34m\u001b[0m\u001b[0;34m\u001b[0m\u001b[0m\n",
            "\u001b[0;31mValueError\u001b[0m: malformed node or string on line 1: <ast.Name object at 0x7b949aa296c0>"
          ]
        }
      ]
    },
    {
      "cell_type": "code",
      "source": [
        "#For a secret task, a password is converted into a jumbled password. To jumble it up, k additional characters are added after every character of the password.\n",
        "#Take a jumbled password and the number of additional characters as input, and write a Python program to find the password.\n",
        "#Sample input:\n",
        "\n",
        "#ajknrtayuchjotgnasdwea- 3\n",
        "#Sample output: anaconda\n",
        "\n",
        "inpu = \"ajknrtayuchjotgnasdwea\"\n",
        "for i in range(0, len(inpu), 3):\n",
        "  print(inpu[i])"
      ],
      "metadata": {
        "id": "EXgjkRobX1Eb",
        "outputId": "3465873b-efef-473a-f5e8-34da55553d7f",
        "colab": {
          "base_uri": "https://localhost:8080/"
        }
      },
      "execution_count": null,
      "outputs": [
        {
          "output_type": "stream",
          "name": "stdout",
          "text": [
            "a\n",
            "n\n",
            "a\n",
            "c\n",
            "o\n",
            "n\n",
            "d\n",
            "a\n"
          ]
        }
      ]
    },
    {
      "cell_type": "code",
      "source": [
        "inp = \"ajknrtayuchjotgnasdwea\"\n",
        "for i in range(0, len(inpu), 3):\n",
        "    print(inp[i], end = \"\")"
      ],
      "metadata": {
        "id": "PWVQnH7zNtMR",
        "outputId": "88631131-4aa1-4b1a-eff5-b4f259142881",
        "colab": {
          "base_uri": "https://localhost:8080/"
        }
      },
      "execution_count": null,
      "outputs": [
        {
          "output_type": "stream",
          "name": "stdout",
          "text": [
            "anaconda"
          ]
        }
      ]
    },
    {
      "cell_type": "code",
      "source": [
        "inpu = \"drtwayuitghja\"\n",
        "for i in range(0, len(inpu), 4):\n",
        "    print(inpu[i], end = \"\")\n",
        "\n",
        "jumbled_pwd=input()\n",
        "k=int(input())\n",
        "pwd=jumbled_pwd[::k]\n",
        "print(pwd)"
      ],
      "metadata": {
        "id": "MoXkZcyCkMtM",
        "outputId": "d145d6de-8c72-4a41-b6f3-26d62fd1c6a4",
        "colab": {
          "base_uri": "https://localhost:8080/"
        }
      },
      "execution_count": null,
      "outputs": [
        {
          "output_type": "stream",
          "name": "stdout",
          "text": [
            "data"
          ]
        }
      ]
    },
    {
      "cell_type": "code",
      "source": [
        "l = [23,65,29,19,83]\n",
        "lar = sortted(max(l))\n",
        "l = l.remove(sorted(max(l)))\n",
        "sec_lar = max(l)\n",
        "print(sec_lar)"
      ],
      "metadata": {
        "id": "yDn6my0Qld2z",
        "outputId": "40840e53-a1e1-48a5-d681-097db5cf7acc",
        "colab": {
          "base_uri": "https://localhost:8080/",
          "height": 211
        }
      },
      "execution_count": null,
      "outputs": [
        {
          "output_type": "error",
          "ename": "NameError",
          "evalue": "name 'sortted' is not defined",
          "traceback": [
            "\u001b[0;31m---------------------------------------------------------------------------\u001b[0m",
            "\u001b[0;31mNameError\u001b[0m                                 Traceback (most recent call last)",
            "\u001b[0;32m<ipython-input-9-fc341df928d6>\u001b[0m in \u001b[0;36m<cell line: 0>\u001b[0;34m()\u001b[0m\n\u001b[1;32m      1\u001b[0m \u001b[0ml\u001b[0m \u001b[0;34m=\u001b[0m \u001b[0;34m[\u001b[0m\u001b[0;36m23\u001b[0m\u001b[0;34m,\u001b[0m\u001b[0;36m65\u001b[0m\u001b[0;34m,\u001b[0m\u001b[0;36m29\u001b[0m\u001b[0;34m,\u001b[0m\u001b[0;36m19\u001b[0m\u001b[0;34m,\u001b[0m\u001b[0;36m83\u001b[0m\u001b[0;34m]\u001b[0m\u001b[0;34m\u001b[0m\u001b[0;34m\u001b[0m\u001b[0m\n\u001b[0;32m----> 2\u001b[0;31m \u001b[0mlar\u001b[0m \u001b[0;34m=\u001b[0m \u001b[0msortted\u001b[0m\u001b[0;34m(\u001b[0m\u001b[0mmax\u001b[0m\u001b[0;34m(\u001b[0m\u001b[0ml\u001b[0m\u001b[0;34m)\u001b[0m\u001b[0;34m)\u001b[0m\u001b[0;34m\u001b[0m\u001b[0;34m\u001b[0m\u001b[0m\n\u001b[0m\u001b[1;32m      3\u001b[0m \u001b[0ml\u001b[0m \u001b[0;34m=\u001b[0m \u001b[0ml\u001b[0m\u001b[0;34m.\u001b[0m\u001b[0mremove\u001b[0m\u001b[0;34m(\u001b[0m\u001b[0msorted\u001b[0m\u001b[0;34m(\u001b[0m\u001b[0mmax\u001b[0m\u001b[0;34m(\u001b[0m\u001b[0ml\u001b[0m\u001b[0;34m)\u001b[0m\u001b[0;34m)\u001b[0m\u001b[0;34m)\u001b[0m\u001b[0;34m\u001b[0m\u001b[0;34m\u001b[0m\u001b[0m\n\u001b[1;32m      4\u001b[0m \u001b[0msec_lar\u001b[0m \u001b[0;34m=\u001b[0m \u001b[0mmax\u001b[0m\u001b[0;34m(\u001b[0m\u001b[0ml\u001b[0m\u001b[0;34m)\u001b[0m\u001b[0;34m\u001b[0m\u001b[0;34m\u001b[0m\u001b[0m\n\u001b[1;32m      5\u001b[0m \u001b[0mprint\u001b[0m\u001b[0;34m(\u001b[0m\u001b[0msec_lar\u001b[0m\u001b[0;34m)\u001b[0m\u001b[0;34m\u001b[0m\u001b[0;34m\u001b[0m\u001b[0m\n",
            "\u001b[0;31mNameError\u001b[0m: name 'sortted' is not defined"
          ]
        }
      ]
    },
    {
      "cell_type": "code",
      "source": [
        "l = [23,65,29,19,83]\n",
        "l = l.remove(max(sorted(l)))\n",
        "sec_lar = max(l)\n",
        "print(sec_lar)"
      ],
      "metadata": {
        "id": "QhkV_9sgmpi5",
        "outputId": "4fa349e2-22f5-4c1e-a357-9d699937dbf8",
        "colab": {
          "base_uri": "https://localhost:8080/",
          "height": 193
        }
      },
      "execution_count": null,
      "outputs": [
        {
          "output_type": "error",
          "ename": "TypeError",
          "evalue": "'NoneType' object is not iterable",
          "traceback": [
            "\u001b[0;31m---------------------------------------------------------------------------\u001b[0m",
            "\u001b[0;31mTypeError\u001b[0m                                 Traceback (most recent call last)",
            "\u001b[0;32m<ipython-input-13-035f2b7c7802>\u001b[0m in \u001b[0;36m<cell line: 0>\u001b[0;34m()\u001b[0m\n\u001b[1;32m      1\u001b[0m \u001b[0ml\u001b[0m \u001b[0;34m=\u001b[0m \u001b[0;34m[\u001b[0m\u001b[0;36m23\u001b[0m\u001b[0;34m,\u001b[0m\u001b[0;36m65\u001b[0m\u001b[0;34m,\u001b[0m\u001b[0;36m29\u001b[0m\u001b[0;34m,\u001b[0m\u001b[0;36m19\u001b[0m\u001b[0;34m,\u001b[0m\u001b[0;36m83\u001b[0m\u001b[0;34m]\u001b[0m\u001b[0;34m\u001b[0m\u001b[0;34m\u001b[0m\u001b[0m\n\u001b[1;32m      2\u001b[0m \u001b[0ml\u001b[0m \u001b[0;34m=\u001b[0m \u001b[0ml\u001b[0m\u001b[0;34m.\u001b[0m\u001b[0mremove\u001b[0m\u001b[0;34m(\u001b[0m\u001b[0mmax\u001b[0m\u001b[0;34m(\u001b[0m\u001b[0msorted\u001b[0m\u001b[0;34m(\u001b[0m\u001b[0ml\u001b[0m\u001b[0;34m)\u001b[0m\u001b[0;34m)\u001b[0m\u001b[0;34m)\u001b[0m\u001b[0;34m\u001b[0m\u001b[0;34m\u001b[0m\u001b[0m\n\u001b[0;32m----> 3\u001b[0;31m \u001b[0msec_lar\u001b[0m \u001b[0;34m=\u001b[0m \u001b[0mmax\u001b[0m\u001b[0;34m(\u001b[0m\u001b[0ml\u001b[0m\u001b[0;34m)\u001b[0m\u001b[0;34m\u001b[0m\u001b[0;34m\u001b[0m\u001b[0m\n\u001b[0m\u001b[1;32m      4\u001b[0m \u001b[0mprint\u001b[0m\u001b[0;34m(\u001b[0m\u001b[0msec_lar\u001b[0m\u001b[0;34m)\u001b[0m\u001b[0;34m\u001b[0m\u001b[0;34m\u001b[0m\u001b[0m\n",
            "\u001b[0;31mTypeError\u001b[0m: 'NoneType' object is not iterable"
          ]
        }
      ]
    },
    {
      "cell_type": "code",
      "source": [
        "l = [23,65,29,19,83,87]\n",
        "print(max(l))\n",
        "sec_lar = l.remove(max(l))\n",
        "print(max(l))"
      ],
      "metadata": {
        "id": "sudG4fTpmz1m",
        "outputId": "d89685ad-01d2-489a-90b3-b015a2028987",
        "colab": {
          "base_uri": "https://localhost:8080/"
        }
      },
      "execution_count": null,
      "outputs": [
        {
          "output_type": "stream",
          "name": "stdout",
          "text": [
            "87\n",
            "83\n"
          ]
        }
      ]
    },
    {
      "cell_type": "code",
      "source": [
        "#Importing Library\n",
        "import ast\n",
        "inp=input()\n",
        "\n",
        "#Evaluating input to convert to list\n",
        "list1=ast.literal_eval(inp)\n",
        "\n",
        "#sorting list\n",
        "sorted_list=sorted(list1)\n",
        "\n",
        "#Finding second highest number\n",
        "sec_max=sorted_list[-2]\n",
        "print(sec_max)"
      ],
      "metadata": {
        "id": "qu8JbT2bnObR",
        "outputId": "66707aaf-1c51-493b-e305-a1ff8476d4a8",
        "colab": {
          "base_uri": "https://localhost:8080/"
        }
      },
      "execution_count": null,
      "outputs": [
        {
          "output_type": "stream",
          "name": "stdout",
          "text": [
            "23,65,29,19,83,87\n",
            "83\n"
          ]
        }
      ]
    },
    {
      "cell_type": "code",
      "source": [
        "a = [\"a\", \"b\", \"c\", \"d\"]\n",
        "b = (1,2,(3,3))\n",
        "data_dic = dict(zip(a,b))\n",
        "data_dic"
      ],
      "metadata": {
        "id": "IGOgQx8fo7Ng",
        "outputId": "849ca502-47d9-4bdf-980f-dd84288b88da",
        "colab": {
          "base_uri": "https://localhost:8080/"
        }
      },
      "execution_count": null,
      "outputs": [
        {
          "output_type": "execute_result",
          "data": {
            "text/plain": [
              "{'a': 1, 'b': 2, 'c': (3, 3)}"
            ]
          },
          "metadata": {},
          "execution_count": 19
        }
      ]
    },
    {
      "cell_type": "code",
      "source": [
        "some_tuple = ((2), (5,4,7),6,(9,8))\n",
        "print(some_tuple[-3][2])\n"
      ],
      "metadata": {
        "id": "FdqFp2Oyp5dZ",
        "outputId": "8bc8ba44-b3ec-47cb-967d-a4a4dafcdba5",
        "colab": {
          "base_uri": "https://localhost:8080/"
        }
      },
      "execution_count": null,
      "outputs": [
        {
          "output_type": "stream",
          "name": "stdout",
          "text": [
            "7\n"
          ]
        }
      ]
    },
    {
      "cell_type": "code",
      "source": [
        "#question asked in the assesment.\n",
        "#From the tuple given by\n",
        "some_tuple = ((2), (5, 4, 7), 6, (9, 8))\n",
        "print(some_tuple[-3][2])\n",
        "# would one output the number 7? This question may have more than one correct answer.\n",
        "\n",
        "#2.\n",
        "#What would the output of the following code be?\n",
        "\n",
        "keys_list = ['a', 'b', 'c', 'd']\n",
        "values_tuple = (1, 2, (3,3))\n",
        "data_dict = dict(zip(keys_list, values_tuple))\n",
        "data_dict"
      ],
      "metadata": {
        "id": "iLt4bOzwqR1T",
        "outputId": "03ad7c07-1ae3-4c27-cb3b-d5386332094d",
        "colab": {
          "base_uri": "https://localhost:8080/"
        }
      },
      "execution_count": null,
      "outputs": [
        {
          "output_type": "stream",
          "name": "stdout",
          "text": [
            "7\n"
          ]
        },
        {
          "output_type": "execute_result",
          "data": {
            "text/plain": [
              "{'a': 1, 'b': 2, 'c': (3, 3)}"
            ]
          },
          "metadata": {},
          "execution_count": 27
        }
      ]
    },
    {
      "cell_type": "code",
      "source": [
        "#looping and boolean\n",
        "if x > 5:\n",
        "  print(\"x is greater than 5\")"
      ],
      "metadata": {
        "id": "s1B5L1JfrA89",
        "outputId": "4bc29985-ed73-4abe-e943-8f4de2c8bdf8",
        "colab": {
          "base_uri": "https://localhost:8080/",
          "height": 176
        }
      },
      "execution_count": null,
      "outputs": [
        {
          "output_type": "error",
          "ename": "NameError",
          "evalue": "name 'x' is not defined",
          "traceback": [
            "\u001b[0;31m---------------------------------------------------------------------------\u001b[0m",
            "\u001b[0;31mNameError\u001b[0m                                 Traceback (most recent call last)",
            "\u001b[0;32m<ipython-input-29-460babbf58a9>\u001b[0m in \u001b[0;36m<cell line: 0>\u001b[0;34m()\u001b[0m\n\u001b[1;32m      1\u001b[0m \u001b[0;31m#looping and boolean\u001b[0m\u001b[0;34m\u001b[0m\u001b[0;34m\u001b[0m\u001b[0m\n\u001b[0;32m----> 2\u001b[0;31m \u001b[0;32mif\u001b[0m \u001b[0mx\u001b[0m \u001b[0;34m>\u001b[0m \u001b[0;36m5\u001b[0m\u001b[0;34m:\u001b[0m\u001b[0;34m\u001b[0m\u001b[0;34m\u001b[0m\u001b[0m\n\u001b[0m\u001b[1;32m      3\u001b[0m   \u001b[0mprint\u001b[0m\u001b[0;34m(\u001b[0m\u001b[0;34m\"x is greater than 5\"\u001b[0m\u001b[0;34m)\u001b[0m\u001b[0;34m\u001b[0m\u001b[0;34m\u001b[0m\u001b[0m\n",
            "\u001b[0;31mNameError\u001b[0m: name 'x' is not defined"
          ]
        }
      ]
    },
    {
      "cell_type": "code",
      "source": [
        "if value:\n",
        "  print(\"This will print if 'value' is true\")"
      ],
      "metadata": {
        "id": "Td6Nh2xTwN_W",
        "outputId": "ed59ea1d-c43c-43cb-8a44-c427bbaaa1d0",
        "colab": {
          "base_uri": "https://localhost:8080/",
          "height": 158
        }
      },
      "execution_count": null,
      "outputs": [
        {
          "output_type": "error",
          "ename": "NameError",
          "evalue": "name 'value' is not defined",
          "traceback": [
            "\u001b[0;31m---------------------------------------------------------------------------\u001b[0m",
            "\u001b[0;31mNameError\u001b[0m                                 Traceback (most recent call last)",
            "\u001b[0;32m<ipython-input-31-e6bb3ee52d4e>\u001b[0m in \u001b[0;36m<cell line: 0>\u001b[0;34m()\u001b[0m\n\u001b[0;32m----> 1\u001b[0;31m \u001b[0;32mif\u001b[0m \u001b[0mvalue\u001b[0m\u001b[0;34m:\u001b[0m\u001b[0;34m\u001b[0m\u001b[0;34m\u001b[0m\u001b[0m\n\u001b[0m\u001b[1;32m      2\u001b[0m   \u001b[0mprint\u001b[0m\u001b[0;34m(\u001b[0m\u001b[0;34m\"This will print if 'value' is true\"\u001b[0m\u001b[0;34m)\u001b[0m\u001b[0;34m\u001b[0m\u001b[0;34m\u001b[0m\u001b[0m\n",
            "\u001b[0;31mNameError\u001b[0m: name 'value' is not defined"
          ]
        }
      ]
    },
    {
      "cell_type": "code",
      "source": [
        "count = 0\n",
        "\n",
        "while (count < 3):\n",
        "\n",
        "     count = count + 1\n",
        "\n",
        "     print (count)"
      ],
      "metadata": {
        "id": "lLITt_gQwbp1",
        "outputId": "21f55d61-eacc-49f0-e658-43908776808b",
        "colab": {
          "base_uri": "https://localhost:8080/"
        }
      },
      "execution_count": null,
      "outputs": [
        {
          "output_type": "stream",
          "name": "stdout",
          "text": [
            "1\n",
            "2\n",
            "3\n"
          ]
        }
      ]
    },
    {
      "cell_type": "code",
      "source": [
        "input_list = [0, 1, 2, 3, 4, 5, 6]\n",
        "output_list = []\n",
        "for x in input_list:\n",
        "    if x%3 == 0:\n",
        "      output_list.append(x)\n",
        "\n",
        "print(output_list)"
      ],
      "metadata": {
        "id": "rQNy1RlVxEcK",
        "outputId": "0e9cbe37-b2a7-4315-cebf-94caac5712b7",
        "colab": {
          "base_uri": "https://localhost:8080/"
        }
      },
      "execution_count": null,
      "outputs": [
        {
          "output_type": "stream",
          "name": "stdout",
          "text": [
            "[0, 3, 6]\n"
          ]
        }
      ]
    },
    {
      "cell_type": "code",
      "source": [
        "[n**3 for n in range(4)]"
      ],
      "metadata": {
        "id": "YZLBQQ1_xWYM",
        "outputId": "973b1e02-6b2b-405d-8de7-5522197d27c0",
        "colab": {
          "base_uri": "https://localhost:8080/"
        }
      },
      "execution_count": null,
      "outputs": [
        {
          "output_type": "execute_result",
          "data": {
            "text/plain": [
              "[0, 1, 8, 27]"
            ]
          },
          "metadata": {},
          "execution_count": 34
        }
      ]
    },
    {
      "cell_type": "code",
      "source": [
        "{str(x): x/2 for x in range(6)}"
      ],
      "metadata": {
        "id": "M6XY_T8bxp3d",
        "outputId": "6a03e376-687f-4d0a-b9b3-6119bf90ccec",
        "colab": {
          "base_uri": "https://localhost:8080/"
        }
      },
      "execution_count": null,
      "outputs": [
        {
          "output_type": "execute_result",
          "data": {
            "text/plain": [
              "{'0': 0.0, '1': 0.5, '2': 1.0, '3': 1.5, '4': 2.0, '5': 2.5}"
            ]
          },
          "metadata": {},
          "execution_count": 35
        }
      ]
    },
    {
      "cell_type": "code",
      "source": [
        "names = ['Alice', 'Bob', 'Charlie', 'David']\n",
        "\n",
        "lengths = {name: len(name) for name in names if 'a' in name.lower()}\n",
        "\n",
        "lengths"
      ],
      "metadata": {
        "id": "1C_mSLP4xt5a",
        "outputId": "bc90a9f4-a439-45a2-f0ad-176f28c1273f",
        "colab": {
          "base_uri": "https://localhost:8080/"
        }
      },
      "execution_count": null,
      "outputs": [
        {
          "output_type": "execute_result",
          "data": {
            "text/plain": [
              "{'Alice': 5, 'Charlie': 7, 'David': 5}"
            ]
          },
          "metadata": {},
          "execution_count": 36
        }
      ]
    },
    {
      "cell_type": "code",
      "source": [
        "def multiply(x, y):\n",
        "\n",
        "\n",
        "\n",
        " return x * y\n",
        "\n",
        "\n",
        "\n",
        "result = multiply(5, 3)\n",
        "\n",
        "\n",
        "\n",
        "print (result)\n",
        "\n"
      ],
      "metadata": {
        "id": "kIECW1Yoxz9E",
        "outputId": "6ff6def8-46e8-40ac-fb8b-9dfb5d0402be",
        "colab": {
          "base_uri": "https://localhost:8080/"
        }
      },
      "execution_count": null,
      "outputs": [
        {
          "output_type": "stream",
          "name": "stdout",
          "text": [
            "15\n"
          ]
        }
      ]
    },
    {
      "cell_type": "code",
      "source": [
        "#What is the purpose of the return statement in a Python function?\n",
        "\n",
        "#To exit the function and end the program\n",
        "\n",
        "#To send a value back to the caller of the function\n",
        "\n",
        "#To print a value to the console\n",
        "\n",
        "#To declare a variable within the function"
      ],
      "metadata": {
        "id": "bvmlzApJyQjy"
      },
      "execution_count": null,
      "outputs": []
    },
    {
      "cell_type": "code",
      "source": [
        "a=10\n",
        "\n",
        "b=16\n",
        "\n",
        "c=20\n",
        "\n",
        "\n",
        "\n",
        "if( # missing part 1 # ):\n",
        "  print(\"a\")\n",
        "elif( # missing part 2 #):\n",
        "  print(\"b\")\n",
        "else:\n",
        "      print(\"c\")"
      ],
      "metadata": {
        "id": "ntTi6pRFyjDi",
        "outputId": "3d06e218-153b-4005-f41c-2bf5e2b764b9",
        "colab": {
          "base_uri": "https://localhost:8080/",
          "height": 106
        }
      },
      "execution_count": null,
      "outputs": [
        {
          "output_type": "error",
          "ename": "SyntaxError",
          "evalue": "invalid syntax (<ipython-input-40-84eecf11d3c6>, line 11)",
          "traceback": [
            "\u001b[0;36m  File \u001b[0;32m\"<ipython-input-40-84eecf11d3c6>\"\u001b[0;36m, line \u001b[0;32m11\u001b[0m\n\u001b[0;31m    elif( # missing part 2 #):\u001b[0m\n\u001b[0m    ^\u001b[0m\n\u001b[0;31mSyntaxError\u001b[0m\u001b[0;31m:\u001b[0m invalid syntax\n"
          ]
        }
      ]
    },
    {
      "cell_type": "code",
      "source": [
        "\n",
        "d = {0: 'Fish', 1: 'Bird', 2: 'Mammal'}\n",
        "\n",
        "for i in d:\n",
        "\n",
        "    print(i, end = \" \")\n",
        "\n",
        "\n",
        "\n",
        "\n",
        "\n"
      ],
      "metadata": {
        "id": "HxZ2CIBO06ql",
        "outputId": "9a196e5b-1493-4ff2-fe12-ca6edcb71148",
        "colab": {
          "base_uri": "https://localhost:8080/"
        }
      },
      "execution_count": null,
      "outputs": [
        {
          "output_type": "stream",
          "name": "stdout",
          "text": [
            "0 1 2 "
          ]
        }
      ]
    },
    {
      "cell_type": "code",
      "source": [
        "def func(x, y = 1):\n",
        "\n",
        "    z = x * y + x + y\n",
        "\n",
        "    return z\n",
        "\n",
        "\n",
        "\n",
        "func(2, func(3))"
      ],
      "metadata": {
        "id": "nmyfLaK13F2k",
        "outputId": "47a02df9-aee4-46c5-a3b9-6ec917ec45a1",
        "colab": {
          "base_uri": "https://localhost:8080/"
        }
      },
      "execution_count": null,
      "outputs": [
        {
          "output_type": "execute_result",
          "data": {
            "text/plain": [
              "23"
            ]
          },
          "metadata": {},
          "execution_count": 46
        }
      ]
    },
    {
      "cell_type": "code",
      "source": [
        "def func(x, y):\n",
        "\n",
        "    z = x * y + x + y\n",
        "\n",
        "    return z\n",
        "\n",
        "\n",
        "\n",
        "func(2, func(3))"
      ],
      "metadata": {
        "id": "ppXJfPTI7QCv",
        "outputId": "130b9a58-3e87-4558-bdd5-fd3e9c20c343",
        "colab": {
          "base_uri": "https://localhost:8080/",
          "height": 176
        }
      },
      "execution_count": null,
      "outputs": [
        {
          "output_type": "error",
          "ename": "TypeError",
          "evalue": "func() missing 1 required positional argument: 'y'",
          "traceback": [
            "\u001b[0;31m---------------------------------------------------------------------------\u001b[0m",
            "\u001b[0;31mTypeError\u001b[0m                                 Traceback (most recent call last)",
            "\u001b[0;32m<ipython-input-47-b99fb395ca2e>\u001b[0m in \u001b[0;36m<cell line: 0>\u001b[0;34m()\u001b[0m\n\u001b[1;32m      7\u001b[0m \u001b[0;34m\u001b[0m\u001b[0m\n\u001b[1;32m      8\u001b[0m \u001b[0;34m\u001b[0m\u001b[0m\n\u001b[0;32m----> 9\u001b[0;31m \u001b[0mfunc\u001b[0m\u001b[0;34m(\u001b[0m\u001b[0;36m2\u001b[0m\u001b[0;34m,\u001b[0m \u001b[0mfunc\u001b[0m\u001b[0;34m(\u001b[0m\u001b[0;36m3\u001b[0m\u001b[0;34m)\u001b[0m\u001b[0;34m)\u001b[0m\u001b[0;34m\u001b[0m\u001b[0;34m\u001b[0m\u001b[0m\n\u001b[0m",
            "\u001b[0;31mTypeError\u001b[0m: func() missing 1 required positional argument: 'y'"
          ]
        }
      ]
    },
    {
      "cell_type": "code",
      "source": [
        "def func(x = 1 ,y = 2):\n",
        "\n",
        "    z = x * y + x + y\n",
        "\n",
        "    return z\n",
        "\n",
        "\n",
        "\n",
        "func(2, func(3))\n",
        "\n"
      ],
      "metadata": {
        "id": "w1jnqi2O7Tyt",
        "outputId": "96181343-e973-4082-d980-a9bbc3f5b1d9",
        "colab": {
          "base_uri": "https://localhost:8080/"
        }
      },
      "execution_count": null,
      "outputs": [
        {
          "output_type": "execute_result",
          "data": {
            "text/plain": [
              "35"
            ]
          },
          "metadata": {},
          "execution_count": 48
        }
      ]
    },
    {
      "cell_type": "code",
      "source": [
        "#What is the output of this program?\n",
        "\n",
        "min = (lambda x, y: x if x < y else y)\n",
        "min(101*99, 102*98)"
      ],
      "metadata": {
        "id": "H7Mqj0D37ZAL",
        "outputId": "258eb57c-b63e-4acd-8d2f-e5c57b122d0d",
        "colab": {
          "base_uri": "https://localhost:8080/"
        }
      },
      "execution_count": null,
      "outputs": [
        {
          "output_type": "execute_result",
          "data": {
            "text/plain": [
              "9996"
            ]
          },
          "metadata": {},
          "execution_count": 50
        }
      ]
    },
    {
      "cell_type": "code",
      "source": [
        "class A :\n",
        "\n",
        "    x = 10\n",
        "\n",
        "    def __init__(self, y,z):\n",
        "\n",
        "        self.y = y\n",
        "\n",
        "        self.z = z\n",
        "\n",
        "\n",
        "\n",
        "    def update_y(self):\n",
        "\n",
        "        self.y = self.y * self.x\n",
        "\n",
        "        self.z = self.z * self.x\n",
        "\n",
        "\n",
        "\n",
        "A1 = A(3,4)\n",
        "\n",
        "A2 = A(5,6)\n",
        "\n",
        "\n",
        "\n",
        "A1.update_y()\n",
        "\n",
        "A1.y + A2.z"
      ],
      "metadata": {
        "id": "Lil_0dzZ7dd2",
        "outputId": "e2aa95c5-b8b0-4bb0-fb9b-cc63a8fc093b",
        "colab": {
          "base_uri": "https://localhost:8080/"
        }
      },
      "execution_count": null,
      "outputs": [
        {
          "output_type": "execute_result",
          "data": {
            "text/plain": [
              "36"
            ]
          },
          "metadata": {},
          "execution_count": 53
        }
      ]
    },
    {
      "cell_type": "code",
      "source": [
        "class A :\n",
        "\n",
        "    x = 10\n",
        "\n",
        "    def __init__(self, y,z):\n",
        "\n",
        "        self.y = y\n",
        "\n",
        "        self.z = z\n",
        "\n",
        "\n",
        "\n",
        "    def update_y(self):\n",
        "\n",
        "        self.y = self.y * self.z\n",
        "\n",
        "\n",
        "\n",
        "\n",
        "\n",
        "\n",
        "\n",
        "A1 = A(3,4)\n",
        "\n",
        "A2 = A(5,6)\n",
        "\n",
        "\n",
        "\n",
        "A.x = 30\n",
        "\n",
        "print(A1.y + A2.x)"
      ],
      "metadata": {
        "id": "gPq0-laM_XhU",
        "outputId": "282ed865-c8bd-4313-e22d-139d2dd75e8b",
        "colab": {
          "base_uri": "https://localhost:8080/"
        }
      },
      "execution_count": null,
      "outputs": [
        {
          "output_type": "stream",
          "name": "stdout",
          "text": [
            "33\n"
          ]
        }
      ]
    },
    {
      "cell_type": "code",
      "source": [
        "class A:\n",
        "\n",
        "    def __init__(self, x=1):\n",
        "\n",
        "        self.x = x\n",
        "\n",
        "class B(A):\n",
        "\n",
        "    def __init__(self,y =2):\n",
        "\n",
        "        super().__init__()\n",
        "\n",
        "        self.y = y\n",
        "\n",
        "\n",
        "\n",
        "def main():\n",
        "\n",
        "    b = B()\n",
        "\n",
        "    print(b.x,b.y)\n",
        "\n",
        "main()"
      ],
      "metadata": {
        "id": "9UMS27UVC5Jh",
        "outputId": "ed95c955-e851-4d8a-d1ed-2fb8f88df60e",
        "colab": {
          "base_uri": "https://localhost:8080/"
        }
      },
      "execution_count": null,
      "outputs": [
        {
          "output_type": "stream",
          "name": "stdout",
          "text": [
            "1 2\n"
          ]
        }
      ]
    },
    {
      "cell_type": "code",
      "source": [
        "X = 12\n",
        "\n",
        "if (X > 10 and X < 15):\n",
        "\n",
        "print('YES')\n",
        "\n",
        "else:\n",
        "\n",
        "print('No\")"
      ],
      "metadata": {
        "id": "klCJPnVuEwqn",
        "outputId": "4d4c766c-e60a-42ef-df04-8ce8f14a4e1b",
        "colab": {
          "base_uri": "https://localhost:8080/",
          "height": 106
        }
      },
      "execution_count": null,
      "outputs": [
        {
          "output_type": "error",
          "ename": "SyntaxError",
          "evalue": "unterminated string literal (detected at line 9) (<ipython-input-57-0a592c843cf0>, line 9)",
          "traceback": [
            "\u001b[0;36m  File \u001b[0;32m\"<ipython-input-57-0a592c843cf0>\"\u001b[0;36m, line \u001b[0;32m9\u001b[0m\n\u001b[0;31m    print('No\")\u001b[0m\n\u001b[0m          ^\u001b[0m\n\u001b[0;31mSyntaxError\u001b[0m\u001b[0;31m:\u001b[0m unterminated string literal (detected at line 9)\n"
          ]
        }
      ]
    },
    {
      "cell_type": "code",
      "source": [
        "a=20\n",
        "\n",
        "b=16\n",
        "\n",
        "c=10\n",
        "\n",
        "\n",
        "\n",
        "if( ''' Missing Part 1 '''):\n",
        "\n",
        "    print(\"a is maximum\")\n",
        "\n",
        "elif( ''' Missing Part 2 '''):\n",
        "\n",
        "    print(\"b is maximum\")\n",
        "\n",
        "else:\n",
        "\n",
        "    print(\"c is maximum\")"
      ],
      "metadata": {
        "id": "J27NE8qKFHN2",
        "outputId": "0180bcfe-cf02-4aac-e3dc-9874a652ba07",
        "colab": {
          "base_uri": "https://localhost:8080/"
        }
      },
      "execution_count": null,
      "outputs": [
        {
          "output_type": "stream",
          "name": "stdout",
          "text": [
            "a is maximum\n"
          ]
        }
      ]
    },
    {
      "cell_type": "code",
      "source": [
        "if (10 < 0) and (0 < -10):\n",
        "\n",
        "  print(\"A\")\n",
        "\n",
        "elif (10 > 0) or False:\n",
        "\n",
        "  print(\"B\")\n",
        "\n",
        "else:\n",
        "\n",
        "  print(\"C\")"
      ],
      "metadata": {
        "id": "xQlzVBkQFPHF",
        "outputId": "5dabdb07-b4d7-4bc1-87d6-33378686a97c",
        "colab": {
          "base_uri": "https://localhost:8080/"
        }
      },
      "execution_count": null,
      "outputs": [
        {
          "output_type": "stream",
          "name": "stdout",
          "text": [
            "B\n"
          ]
        }
      ]
    },
    {
      "cell_type": "code",
      "source": [
        "x = 0\n",
        "\n",
        "if x:\n",
        "\n",
        "  print(x)\n",
        "\n",
        "\n",
        "\n",
        "y = 5\n",
        "\n",
        "if y < 10:\n",
        "\n",
        "  print(y)\n",
        "\n",
        "\n"
      ],
      "metadata": {
        "id": "EJhVw1a4FxPh",
        "outputId": "192b50d8-32b0-42de-e83e-0ccc16ec31b3",
        "colab": {
          "base_uri": "https://localhost:8080/"
        }
      },
      "execution_count": null,
      "outputs": [
        {
          "output_type": "stream",
          "name": "stdout",
          "text": [
            "5\n"
          ]
        }
      ]
    },
    {
      "cell_type": "code",
      "source": [
        "i = 0\n",
        "\n",
        "while i<5:\n",
        "\n",
        "  print (\"#\" * (i+1))\n",
        "\n",
        "  i = i+1"
      ],
      "metadata": {
        "id": "9WPEZKraGbEK",
        "outputId": "709ed058-ecba-4ba2-fdae-bba33b801d5f",
        "colab": {
          "base_uri": "https://localhost:8080/"
        }
      },
      "execution_count": null,
      "outputs": [
        {
          "output_type": "stream",
          "name": "stdout",
          "text": [
            "#\n",
            "##\n",
            "###\n",
            "####\n",
            "#####\n"
          ]
        }
      ]
    },
    {
      "cell_type": "code",
      "source": [
        "\n",
        "\n",
        "input_string='Upgrad abc'\n",
        "\n",
        "i=0\n",
        "\n",
        "while i < len(input_string):\n",
        "\n",
        "  if input_string[i] == 'a':\n",
        "\n",
        "    input_string += '*'\n",
        "\n",
        "  i=i+1\n",
        "\n",
        "print(input_string)"
      ],
      "metadata": {
        "id": "Hd7Ig9M9GiGj",
        "outputId": "15ee7700-3ec9-498e-dca0-676e146a8e80",
        "colab": {
          "base_uri": "https://localhost:8080/"
        }
      },
      "execution_count": null,
      "outputs": [
        {
          "output_type": "stream",
          "name": "stdout",
          "text": [
            "Upgrad abc**\n"
          ]
        }
      ]
    },
    {
      "cell_type": "code",
      "source": [
        "age = 1\n",
        "\n",
        "while True:\n",
        "\n",
        "  if age>=19: break\n",
        "\n",
        "  print(age, \"years old. Children not allowed.\")\n",
        "\n",
        "  age=age+1\n",
        "\n"
      ],
      "metadata": {
        "id": "aqaXYxLxGnkL",
        "outputId": "b1feaec3-b1dc-4b04-e65c-7f4e0d0f6adc",
        "colab": {
          "base_uri": "https://localhost:8080/"
        }
      },
      "execution_count": null,
      "outputs": [
        {
          "output_type": "stream",
          "name": "stdout",
          "text": [
            "1 years old. Children not allowed.\n",
            "2 years old. Children not allowed.\n",
            "3 years old. Children not allowed.\n",
            "4 years old. Children not allowed.\n",
            "5 years old. Children not allowed.\n",
            "6 years old. Children not allowed.\n",
            "7 years old. Children not allowed.\n",
            "8 years old. Children not allowed.\n",
            "9 years old. Children not allowed.\n",
            "10 years old. Children not allowed.\n",
            "11 years old. Children not allowed.\n",
            "12 years old. Children not allowed.\n",
            "13 years old. Children not allowed.\n",
            "14 years old. Children not allowed.\n",
            "15 years old. Children not allowed.\n",
            "16 years old. Children not allowed.\n",
            "17 years old. Children not allowed.\n",
            "18 years old. Children not allowed.\n"
          ]
        }
      ]
    },
    {
      "cell_type": "code",
      "source": [
        "num1 = 1024\n",
        "\n",
        "num2 = 1\n",
        "\n",
        "while num1 >= 1:\n",
        "\n",
        "  num1 = num1/2\n",
        "\n",
        "  num2 = num2 + 1"
      ],
      "metadata": {
        "id": "v3mfa2NIGu4x"
      },
      "execution_count": null,
      "outputs": []
    },
    {
      "cell_type": "code",
      "source": [
        "input_str = \"I love programming in python\"\n",
        "\n",
        "count=0    # initializing count variable\n",
        "\n",
        "\n",
        "\n",
        "l = ['a', 'e', 'i', 'o', 'u']\n",
        "\n",
        "m = ['y']\n",
        "\n",
        "\n",
        "\n",
        "# Converting the string to lowercase\n",
        "\n",
        "for i in input_str.lower():\n",
        "\n",
        "  if i in l:\n",
        "\n",
        "    count = count+1\n",
        "\n",
        "  if i in m:\n",
        "\n",
        "    count = count-1\n",
        "\n",
        "print(count)"
      ],
      "metadata": {
        "id": "Suy115kLHDI0",
        "outputId": "5942ba40-2088-43ae-da6c-f3cbb9dfc91f",
        "colab": {
          "base_uri": "https://localhost:8080/"
        }
      },
      "execution_count": null,
      "outputs": [
        {
          "output_type": "stream",
          "name": "stdout",
          "text": [
            "7\n"
          ]
        }
      ]
    },
    {
      "cell_type": "code",
      "source": [
        "for i in range(3):\n",
        "\n",
        "  # While looping over i, start iterating on j\n",
        "\n",
        "  for j in range(2):\n",
        "\n",
        "    print(i + j, end=\" \")\n",
        "\n",
        "  # Enter a newline\n",
        "\n",
        "  print(\"\")"
      ],
      "metadata": {
        "id": "Oq7hiqmbHRpc",
        "outputId": "3037e7ef-da00-4abe-909e-19f35ba5ffb1",
        "colab": {
          "base_uri": "https://localhost:8080/"
        }
      },
      "execution_count": null,
      "outputs": [
        {
          "output_type": "stream",
          "name": "stdout",
          "text": [
            "0 1 \n",
            "1 2 \n",
            "2 3 \n"
          ]
        }
      ]
    },
    {
      "cell_type": "code",
      "source": [
        "cities = ['amsterdam', 'new york', 'mumbai', 'london', 'toronto', 'chicago', 'las vegas']\n",
        "\n",
        "cities_in_usa = ['newyork', 'las vegas', 'chicago']\n",
        "\n",
        "\n",
        "\n",
        "print([city for city in cities if city not in cities_in_usa])"
      ],
      "metadata": {
        "id": "BSqK2UG4HVVH",
        "outputId": "dd9de74b-add1-4539-c6d2-00b9634a84bd",
        "colab": {
          "base_uri": "https://localhost:8080/"
        }
      },
      "execution_count": null,
      "outputs": [
        {
          "output_type": "stream",
          "name": "stdout",
          "text": [
            "['amsterdam', 'new york', 'mumbai', 'london', 'toronto']\n"
          ]
        }
      ]
    },
    {
      "cell_type": "code",
      "source": [
        "[27*x for x in range(1,20) if x<5]"
      ],
      "metadata": {
        "id": "b8VQKgGmHcH3",
        "outputId": "0018969c-0586-4af3-d202-3899e7a21bb8",
        "colab": {
          "base_uri": "https://localhost:8080/"
        }
      },
      "execution_count": null,
      "outputs": [
        {
          "output_type": "execute_result",
          "data": {
            "text/plain": [
              "[27, 54, 81, 108]"
            ]
          },
          "metadata": {},
          "execution_count": 70
        }
      ]
    },
    {
      "cell_type": "code",
      "source": [
        "11= [1,2,3,7]\n",
        "\n",
        "12=[4,5,6,9]\n",
        "\n",
        "[x+y for x in 11 for y in 12]"
      ],
      "metadata": {
        "id": "3hWVHyBsHv_-",
        "outputId": "07d17c49-5ded-4f8b-a3bd-1070919e6a5e",
        "colab": {
          "base_uri": "https://localhost:8080/",
          "height": 106
        }
      },
      "execution_count": null,
      "outputs": [
        {
          "output_type": "error",
          "ename": "SyntaxError",
          "evalue": "cannot assign to literal here. Maybe you meant '==' instead of '='? (<ipython-input-72-f7a2fe1aec00>, line 1)",
          "traceback": [
            "\u001b[0;36m  File \u001b[0;32m\"<ipython-input-72-f7a2fe1aec00>\"\u001b[0;36m, line \u001b[0;32m1\u001b[0m\n\u001b[0;31m    11= [1,2,3,7]\u001b[0m\n\u001b[0m    ^\u001b[0m\n\u001b[0;31mSyntaxError\u001b[0m\u001b[0;31m:\u001b[0m cannot assign to literal here. Maybe you meant '==' instead of '='?\n"
          ]
        }
      ]
    },
    {
      "cell_type": "code",
      "source": [
        "var = [i*2 for i in range(1,5)]\n",
        "\n",
        "print(var)"
      ],
      "metadata": {
        "id": "3OXRBeQzH1xl",
        "outputId": "335df874-2d7c-4cdb-e1af-dd317b2b2438",
        "colab": {
          "base_uri": "https://localhost:8080/"
        }
      },
      "execution_count": null,
      "outputs": [
        {
          "output_type": "stream",
          "name": "stdout",
          "text": [
            "[2, 4, 6, 8]\n"
          ]
        }
      ]
    },
    {
      "cell_type": "code",
      "source": [
        "words = ['apple', 'banana', 'kiwi', ‘'orange', 'grape', '3.44']\n",
        "\n",
        "print ({word: len(word) for word in words})"
      ],
      "metadata": {
        "id": "VVsj5-ibH-dZ",
        "outputId": "5b631d71-b467-4f27-bb2f-355da3b0befb",
        "colab": {
          "base_uri": "https://localhost:8080/",
          "height": 106
        }
      },
      "execution_count": null,
      "outputs": [
        {
          "output_type": "error",
          "ename": "SyntaxError",
          "evalue": "invalid character '‘' (U+2018) (<ipython-input-74-6721bab7615d>, line 1)",
          "traceback": [
            "\u001b[0;36m  File \u001b[0;32m\"<ipython-input-74-6721bab7615d>\"\u001b[0;36m, line \u001b[0;32m1\u001b[0m\n\u001b[0;31m    words = ['apple', 'banana', 'kiwi', ‘'orange', 'grape', '3.44']\u001b[0m\n\u001b[0m                                        ^\u001b[0m\n\u001b[0;31mSyntaxError\u001b[0m\u001b[0;31m:\u001b[0m invalid character '‘' (U+2018)\n"
          ]
        }
      ]
    },
    {
      "cell_type": "code",
      "source": [
        "d = {x.upper(): x*3 for x in 'acbd'}\n",
        "\n",
        "print (d)"
      ],
      "metadata": {
        "id": "Am-bbmCWICmj",
        "outputId": "9f9115fb-aef1-4710-d3c5-28bb2f9cbf22",
        "colab": {
          "base_uri": "https://localhost:8080/"
        }
      },
      "execution_count": null,
      "outputs": [
        {
          "output_type": "stream",
          "name": "stdout",
          "text": [
            "{'A': 'aaa', 'C': 'ccc', 'B': 'bbb', 'D': 'ddd'}\n"
          ]
        }
      ]
    },
    {
      "cell_type": "code",
      "source": [
        "input_list = list(range(1,100))\n",
        "\n",
        "output_dict = {}\n",
        "\n",
        "\n",
        "\n",
        "for val in input_list:\n",
        "\n",
        "  if val % 3 == 0:\n",
        "\n",
        "    output_dict[val] = val**3"
      ],
      "metadata": {
        "id": "zm9TjXSPIIJB"
      },
      "execution_count": null,
      "outputs": []
    },
    {
      "cell_type": "code",
      "source": [
        "a = 10\n",
        "\n",
        "def func():\n",
        "\n",
        "    # declaring a new variable with an already existing variable name\n",
        "\n",
        "    a = 1\n",
        "\n",
        "    print(a)\n",
        "\n",
        "\n",
        "\n",
        "func()\n",
        "\n",
        "print(a)"
      ],
      "metadata": {
        "id": "e9FWpFmtIOM_",
        "outputId": "23307465-c906-4fdc-d505-b908c1da6c6b",
        "colab": {
          "base_uri": "https://localhost:8080/"
        }
      },
      "execution_count": null,
      "outputs": [
        {
          "output_type": "stream",
          "name": "stdout",
          "text": [
            "1\n",
            "10\n"
          ]
        }
      ]
    },
    {
      "cell_type": "code",
      "source": [
        "cities = ['Bangalore', 'Mumbai', 'Chennai', 'Kolkata', 'Jaipur']\n",
        "\n",
        "length = len(sorted(cities))\n",
        "\n",
        "\n",
        "\n",
        "print (length)"
      ],
      "metadata": {
        "id": "xhqy4ArMIbIx",
        "outputId": "47c0dfbd-3608-4de4-9277-caa2c02ea5c6",
        "colab": {
          "base_uri": "https://localhost:8080/"
        }
      },
      "execution_count": null,
      "outputs": [
        {
          "output_type": "stream",
          "name": "stdout",
          "text": [
            "5\n"
          ]
        }
      ]
    },
    {
      "cell_type": "code",
      "source": [
        "func(x, y):\n",
        "\n",
        "  print(x * y + x + y)\n",
        "\n",
        "\n",
        "\n",
        "func(2)"
      ],
      "metadata": {
        "id": "yMI37htqIjho",
        "outputId": "bc167a27-4df1-4e7c-83a7-bbd59c6fd849",
        "colab": {
          "base_uri": "https://localhost:8080/",
          "height": 106
        }
      },
      "execution_count": null,
      "outputs": [
        {
          "output_type": "error",
          "ename": "SyntaxError",
          "evalue": "invalid syntax (<ipython-input-79-20f1ccb6080e>, line 1)",
          "traceback": [
            "\u001b[0;36m  File \u001b[0;32m\"<ipython-input-79-20f1ccb6080e>\"\u001b[0;36m, line \u001b[0;32m1\u001b[0m\n\u001b[0;31m    func(x, y):\u001b[0m\n\u001b[0m              ^\u001b[0m\n\u001b[0;31mSyntaxError\u001b[0m\u001b[0;31m:\u001b[0m invalid syntax\n"
          ]
        }
      ]
    },
    {
      "cell_type": "code",
      "source": [
        "def samplefunc(msg,i=3):\n",
        "\n",
        "  print(msg*i)\n",
        "\n",
        "\n",
        "\n",
        "samplefunc('python',4)\n",
        "\n",
        "samplefunc('program')"
      ],
      "metadata": {
        "id": "BrkTf_HNJChH",
        "outputId": "900ded21-19cd-4c21-c427-548baaab4e9a",
        "colab": {
          "base_uri": "https://localhost:8080/"
        }
      },
      "execution_count": null,
      "outputs": [
        {
          "output_type": "stream",
          "name": "stdout",
          "text": [
            "pythonpythonpythonpython\n",
            "programprogramprogram\n"
          ]
        }
      ]
    },
    {
      "cell_type": "code",
      "source": [
        "marks = {\"a\":90,\"b\":50,\"c\":60, \"d\":70, \"e\": 80 }\n",
        "\n",
        "\n",
        "\n",
        "def func(d):\n",
        "\n",
        "  return sum([i for i in d.values()])/len(d)\n",
        "\n",
        "\n",
        "\n",
        "if func(marks) == marks[\"d\"]:\n",
        "\n",
        "  print('D is average')\n",
        "\n",
        "\n",
        "\n",
        "elif func(marks) == marks[\"c\"]:\n",
        "\n",
        "  print('C is average')\n",
        "\n",
        "\n",
        "\n",
        "else:\n",
        "\n",
        "  print('None')"
      ],
      "metadata": {
        "id": "f0W8g-KkJm9F",
        "outputId": "0d37ca22-4521-4dfd-f17e-789aa5733c5d",
        "colab": {
          "base_uri": "https://localhost:8080/"
        }
      },
      "execution_count": null,
      "outputs": [
        {
          "output_type": "stream",
          "name": "stdout",
          "text": [
            "D is average\n"
          ]
        }
      ]
    },
    {
      "cell_type": "code",
      "source": [
        "f = lambda x:bool(x%2)\n",
        "\n",
        "print(f(1ee) and f(101))"
      ],
      "metadata": {
        "id": "KQTVaS9OJucO",
        "outputId": "57cd73f3-fc9c-48de-b9e4-08888f6476f0",
        "colab": {
          "base_uri": "https://localhost:8080/",
          "height": 106
        }
      },
      "execution_count": null,
      "outputs": [
        {
          "output_type": "error",
          "ename": "SyntaxError",
          "evalue": "invalid decimal literal (<ipython-input-82-7fb83289b526>, line 3)",
          "traceback": [
            "\u001b[0;36m  File \u001b[0;32m\"<ipython-input-82-7fb83289b526>\"\u001b[0;36m, line \u001b[0;32m3\u001b[0m\n\u001b[0;31m    print(f(1ee) and f(101))\u001b[0m\n\u001b[0m            ^\u001b[0m\n\u001b[0;31mSyntaxError\u001b[0m\u001b[0;31m:\u001b[0m invalid decimal literal\n"
          ]
        }
      ]
    },
    {
      "cell_type": "code",
      "source": [
        "sample=[-4,2,5,-3]\n",
        "\n",
        "def twice(x):\n",
        "\n",
        "  return x*2\n",
        "\n",
        "ans=map(twice, sample)\n",
        "\n",
        "print(list(ans))\n",
        "\n",
        "\n"
      ],
      "metadata": {
        "id": "K7lWfhn7Jz9A",
        "outputId": "997b78a3-1002-4aa2-82ff-8af9c4b21aad",
        "colab": {
          "base_uri": "https://localhost:8080/"
        }
      },
      "execution_count": null,
      "outputs": [
        {
          "output_type": "stream",
          "name": "stdout",
          "text": [
            "[-8, 4, 10, -6]\n"
          ]
        }
      ]
    },
    {
      "cell_type": "code",
      "source": [
        "some_list = [1, 2, 3, 4]\n",
        "\n",
        "output_list = []\n",
        "\n",
        "for x in some_list:\n",
        "\n",
        "  output_list.append(x**3)\n",
        "\n",
        "print(output_list)"
      ],
      "metadata": {
        "id": "2QYEdJ6pKDAs",
        "outputId": "5691b446-5657-4051-9860-2ae79da47a8c",
        "colab": {
          "base_uri": "https://localhost:8080/"
        }
      },
      "execution_count": null,
      "outputs": [
        {
          "output_type": "stream",
          "name": "stdout",
          "text": [
            "[1, 8, 27, 64]\n"
          ]
        }
      ]
    },
    {
      "cell_type": "code",
      "source": [
        "some_list = [1, 2, 3, 4]\n",
        "\n",
        "output_list = []\n",
        "\n",
        "for x in some_list:\n",
        "\n",
        "  output_list.append(x*x*x)\n",
        "\n",
        "print(output_list)"
      ],
      "metadata": {
        "id": "vcujhjz6KqcZ",
        "outputId": "61c3a9d4-7927-4880-c77c-0f3924dfebfd",
        "colab": {
          "base_uri": "https://localhost:8080/"
        }
      },
      "execution_count": null,
      "outputs": [
        {
          "output_type": "stream",
          "name": "stdout",
          "text": [
            "[1, 8, 27, 64]\n"
          ]
        }
      ]
    },
    {
      "cell_type": "code",
      "source": [
        "some_list = [1, 2, 3, 4]\n",
        "\n",
        "output_list = [x*x*x for x in some_list]\n",
        "\n",
        "print (output_list)\n",
        "\n"
      ],
      "metadata": {
        "id": "lzRR124pKusW",
        "outputId": "40a479b9-21b0-4749-9490-02f54ae46c99",
        "colab": {
          "base_uri": "https://localhost:8080/"
        }
      },
      "execution_count": null,
      "outputs": [
        {
          "output_type": "stream",
          "name": "stdout",
          "text": [
            "[1, 8, 27, 64]\n"
          ]
        }
      ]
    },
    {
      "cell_type": "code",
      "source": [
        "some_list = [1, 2, 3, 4]\n",
        "\n",
        "output_list = [x**3 for x in some_list]\n",
        "\n",
        "print (output_list)"
      ],
      "metadata": {
        "id": "Os4vXUPsKxxh",
        "outputId": "55451a2a-986f-4d29-ed5d-b4cb12a0459c",
        "colab": {
          "base_uri": "https://localhost:8080/"
        }
      },
      "execution_count": null,
      "outputs": [
        {
          "output_type": "stream",
          "name": "stdout",
          "text": [
            "[1, 8, 27, 64]\n"
          ]
        }
      ]
    },
    {
      "cell_type": "code",
      "source": [
        "some_list = [\"Python\", \"programming\", \"isn't\", \"too\", \"bad.\"]\n",
        "\n",
        "\n",
        "\n",
        "def joiner_function(input_list, joiner):\n",
        "\n",
        "  return joiner.join(input_list)\n",
        "\n",
        "\n",
        "\n",
        "print(joiner_function(some_list, \"A\"))"
      ],
      "metadata": {
        "id": "9AjFgDGgK5Kq",
        "outputId": "63461dbb-33d0-4294-80b4-b625b927b29d",
        "colab": {
          "base_uri": "https://localhost:8080/"
        }
      },
      "execution_count": null,
      "outputs": [
        {
          "output_type": "stream",
          "name": "stdout",
          "text": [
            "PythonAprogrammingAisn'tAtooAbad.\n"
          ]
        }
      ]
    },
    {
      "cell_type": "code",
      "source": [
        "#Input: A string\n",
        "#Output: A list containing repeated characters\n",
        "#Sample Input:\n",
        "#Engaging\n",
        "#Sample Output:\n",
        "#['g', 'n']"
      ],
      "metadata": {
        "id": "aYL94r16LBsg"
      },
      "execution_count": null,
      "outputs": []
    },
    {
      "cell_type": "markdown",
      "source": [
        "\n",
        "Instruction\n",
        "\n",
        "Jay and Veeru are in the village Rampur, surrounded by dacoits from all sides. Every day, the village receives supplies in trucks. To ensure that the trucks contain legitimate supplies and not dangerous explosives from the dacoits, each truck is given a serial number.\n",
        "\n",
        "The serial number is of the format DDXDDD-DD.\n",
        "\n",
        "'D' denotes a digit from 0-9 (inclusive).\n",
        "\n",
        "'X' denotes a letter from A-Z (all uppercase).\n",
        "\n",
        "\n",
        "\n",
        "To ensure validity of these serial numbers, they have to follow two rules:\n",
        "\n",
        "The sum of all digits in the serial number should be even.\n",
        "The letter should be a vowel, or in the list ['A', 'E', 'I', 'O', 'U', 'Y'].\n",
        "\n",
        "\n",
        "If a truck follows these rules, it is to be labeled as 'valid', otherwise it is to be labeled 'invalid'.\n",
        "\n",
        "\n",
        "\n",
        "----------------------------------------------------------------------\n",
        "\n",
        "Input:\n",
        "\n",
        "A string containing serial number of a truck.\n",
        "\n",
        "\n",
        "\n",
        "Output:\n",
        "\n",
        "A string, either 'valid' or 'invalid'. (Without quotes)\n",
        "\n",
        "\n",
        "\n",
        "----------------------------------------------------------------------\n",
        "\n",
        "Sample input:\n",
        "\n",
        "13E122-32\n",
        "\n",
        "\n",
        "\n",
        "Sample output:\n",
        "\n",
        "valid\n",
        "\n",
        "\n",
        "\n",
        "Explanation:\n",
        "\n",
        "The sum of all the digits is 14 (even), and the letter is a vowel, E. Hence this number is valid.\n",
        "\n",
        "\n",
        "\n",
        "----------------------------------------------------------------------\n",
        "\n",
        "Sample input:\n",
        "\n",
        "15G234-56\n",
        "\n",
        "\n",
        "\n",
        "Sample output:\n",
        "\n",
        "invalid\n",
        "\n",
        "\n",
        "\n",
        "Explanation:\n",
        "\n",
        "The sum of all the digits is 26 (even), but the letter is not a vowel, G. Hence this number is invalid."
      ],
      "metadata": {
        "id": "JHoA-spATHSR"
      }
    },
    {
      "cell_type": "code",
      "source": [
        "string = input()\n",
        "\n",
        "sum = 0\n",
        "\n",
        "for i in string:\n",
        "    # Checking the sum of digits first\n",
        "    if i.isdigit():\n",
        "        sum = sum + int(i)\n",
        "\n",
        "# Applying the 2 rules. The letter is always at the index 2.\n",
        "if (string[2] in 'AEIOUY') and sum%2==0:\n",
        "    print('valid')\n",
        "else:\n",
        "    print('invalid')"
      ],
      "metadata": {
        "id": "1vfxmEEGSJoq"
      },
      "execution_count": null,
      "outputs": []
    },
    {
      "cell_type": "code",
      "source": [
        "# Which is not valid syntax?\n",
        "# *\n",
        "# SELECT * FROM t WHERE col != NULL;\n",
        "# SELECT * FROM t WHERE col IS NOT NULL;\n",
        "# SELECT * FROM t WHERE col <> 1;\n",
        "# SELECT COUNT(*) FROM t;\n",
        "\n",
        "def func(x = []):\n",
        "  x.append(1)\n",
        "  return x\n",
        "print(func())\n",
        "print(func())\n",
        "\n",
        "\n",
        "a = 256\n",
        "b = 256\n",
        "print(a is b)\n",
        "\n",
        "a = 257\n",
        "b = 257\n",
        "print(a is b)\n",
        "\n",
        "print([] == False)\n",
        "\n",
        "print(bool(\"False\"))\n",
        "\n",
        "a = [1,2,3]\n",
        "print(a[::-1] ==  a.reverse())\n",
        "\n",
        "print(\"abc\"*0)\n",
        "\n",
        "x = (i for i in range(3))\n",
        "print(list(x))\n",
        "print(list(x))\n",
        "\n",
        "print(True + True + False)\n",
        "\n",
        "# x = (1,2,[3,4])\n",
        "# x(2).append(5)\n",
        "# print(x)\n",
        "\n",
        "x = None\n",
        "if x == False:\n",
        "  print('False')\n",
        "elif x == None:\n",
        "  print(\"None\")"
      ],
      "metadata": {
        "id": "KBxVD_4LwMtm",
        "outputId": "23da13fd-e5f5-4930-d0c4-8d28ed7d29cf",
        "colab": {
          "base_uri": "https://localhost:8080/"
        }
      },
      "execution_count": null,
      "outputs": [
        {
          "output_type": "stream",
          "name": "stdout",
          "text": [
            "[1]\n",
            "[1, 1]\n",
            "True\n",
            "False\n",
            "False\n",
            "True\n",
            "False\n",
            "\n",
            "[0, 1, 2]\n",
            "[]\n",
            "2\n",
            "None\n"
          ]
        }
      ]
    },
    {
      "cell_type": "code",
      "source": [],
      "metadata": {
        "id": "BQG6-4WzwwzY"
      },
      "execution_count": null,
      "outputs": []
    }
  ]
}