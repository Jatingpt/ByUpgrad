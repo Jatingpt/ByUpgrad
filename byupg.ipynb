{
  "nbformat": 4,
  "nbformat_minor": 0,
  "metadata": {
    "colab": {
      "provenance": [],
      "authorship_tag": "ABX9TyNuUnuW9wPQjncgyJRo5uli",
      "include_colab_link": true
    },
    "kernelspec": {
      "name": "python3",
      "display_name": "Python 3"
    },
    "language_info": {
      "name": "python"
    }
  },
  "cells": [
    {
      "cell_type": "markdown",
      "metadata": {
        "id": "view-in-github",
        "colab_type": "text"
      },
      "source": [
        "<a href=\"https://colab.research.google.com/github/Jatingpt/ByUpgrad/blob/main/byupg.ipynb\" target=\"_parent\"><img src=\"https://colab.research.google.com/assets/colab-badge.svg\" alt=\"Open In Colab\"/></a>"
      ]
    },
    {
      "cell_type": "code",
      "execution_count": null,
      "metadata": {
        "colab": {
          "base_uri": "https://localhost:8080/"
        },
        "id": "-lwcXFu-pDfh",
        "outputId": "f945a2be-0c75-4380-d882-2a1d24095e0e"
      },
      "outputs": [
        {
          "output_type": "stream",
          "name": "stdout",
          "text": [
            "15\n",
            "16\n",
            "10751912\n"
          ]
        }
      ],
      "source": [
        "#input method- take input as a sample 15 and convert into 16 by using input method.\n",
        "a = int(input())\n",
        "output = a + 1\n",
        "print(output)\n",
        "\n",
        "\n",
        "#to find the location of the variable\n",
        "x = 34\n",
        "print(id(x))"
      ]
    },
    {
      "cell_type": "markdown",
      "source": [
        "In this code, integer is assigned the value 10000000000, which is a larger integer. When you print the size of integer using sys.getsizeof(), it returns the value 32 bytes.\n",
        "\n",
        "\n",
        "\n",
        "We can use the maxsize attribute of the sys module to get the minimum and maximum range of integers."
      ],
      "metadata": {
        "id": "BOZTmcX0qfLt"
      }
    },
    {
      "cell_type": "code",
      "source": [
        "#We can get the size of an integer variable using the getsizeof() method of the sys module.\n",
        "import sys\n",
        "x = 23\n",
        "sys.getsizeof(x)\n",
        "\n",
        "\n",
        "import sys\n",
        "integer = 10000000000\n",
        "print(\"The size of the integer variable is: \", sys.getsizeof(integer), 'bytes')\n",
        "\n",
        "max_int = sys.maxsize\n",
        "print(max_int)\n",
        "\n",
        "min_int = sys.maxsize * -1 - 1\n",
        "print(min_int)"
      ],
      "metadata": {
        "colab": {
          "base_uri": "https://localhost:8080/"
        },
        "id": "UsKov-BCpYau",
        "outputId": "a870dd2a-904f-4467-a05d-a79cbe413281"
      },
      "execution_count": null,
      "outputs": [
        {
          "output_type": "stream",
          "name": "stdout",
          "text": [
            "The size of the integer variable is:  32 bytes\n",
            "9223372036854775807\n",
            "-9223372036854775808\n"
          ]
        }
      ]
    },
    {
      "cell_type": "markdown",
      "source": [
        "Here is a brief summary of what you have learnt in the video above.\n",
        "\n",
        "\n",
        "\n",
        "Headings\n",
        "\n",
        "# for the titles\n",
        "## for the main headings\n",
        "### for the subheadings\n",
        "#### for the smaller subheadings\n",
        "##### for the italic subheadings\n",
        "Emphasis\n",
        "\n",
        "__string__ or **string** for bold text\n",
        "_string_ or *string*  for italic text\n",
        "Monospace fonts\n",
        "\n",
        "A back single quotation mark ` on both sides to get monospace fonts\n",
        "Line breaks\n",
        "\n",
        "<br> wherever you want a line break, as the notebook sometimes doesn't give you the required line break where you want it\n",
        "Indenting\n",
        "\n",
        "> to indent the text\n",
        ">> for further indenting it, and so on\n",
        "Bullets and numbering\n",
        "\n",
        "A single dash, i.e. -  followed by two spaces to make bullet points\n",
        "A number and a dot followed by a space, i.e. 1. to make numbered lists\n",
        "Colouring\n",
        "\n",
        "<font color = blue, yellow, red, pink, green, etc.> String </font> to give your font any colour that you want\n",
        "LaTeX Equations\n",
        "\n",
        "$ on both the sides of the text to write LaTeX equations"
      ],
      "metadata": {
        "id": "22o2XwiwxJVV"
      }
    },
    {
      "cell_type": "markdown",
      "source": [
        "Command mode shortcuts\n",
        "\n",
        "Esc: To go into command mode\n",
        "\n",
        "Enter: To go back to edit mode\n",
        "\n",
        "M: To convert a cell to a markdown cell\n",
        "\n",
        "Y: To convert a cell back to a code cell\n",
        "\n",
        "A: To insert a new cell above\n",
        "\n",
        "B: To insert a new cell below\n",
        "\n",
        "D + D: To delete cell\n",
        "\n",
        "Z: Undo the last operation\n",
        "\n",
        "F: To find and replace on your code\n",
        "\n",
        "Shift + Up/Down: To select multiple\n",
        "\n",
        "Space: Scroll notebook downwards\n",
        "\n",
        "Shift + Space: Scroll notebook upwards\n",
        "\n",
        "Edit mode shortcuts\n",
        "\n",
        "Shift + Enter: To execute the code in the current cell and go to the next cell\n",
        "Alt + Enter: To execute the code in the current cell and insert a new cell below\n",
        "Shift + Tab: To get a brief documentation of the object that you have just typed in the coding cell\n",
        "Ctrl + Shift + -: To split the cell at the cursor\n",
        "Shift + M: To merge selected cells"
      ],
      "metadata": {
        "id": "PVf1DnoQw0vL"
      }
    },
    {
      "cell_type": "markdown",
      "source": [
        "##String- We can create string with single or double quotes. Also we can create multiple line string by using triple quotes as well.\n"
      ],
      "metadata": {
        "id": "VJeSWDj_wvMR"
      }
    },
    {
      "cell_type": "code",
      "source": [
        "s = 'hello'\n",
        "t= 'hello world'\n",
        "print(s)\n",
        "print(t)"
      ],
      "metadata": {
        "id": "sv8rmNelpyp-",
        "colab": {
          "base_uri": "https://localhost:8080/"
        },
        "outputId": "a417589a-7f1b-4511-e436-8d8579fab748"
      },
      "execution_count": 1,
      "outputs": [
        {
          "output_type": "stream",
          "name": "stdout",
          "text": [
            "hello\n",
            "hello world\n"
          ]
        }
      ]
    },
    {
      "cell_type": "code",
      "source": [
        "#converting a integer into string and then using it.\n",
        "age = 24\n",
        "age_str = str(age)\n",
        "print('my age is', age_str)"
      ],
      "metadata": {
        "id": "9IDv6llLqR-j",
        "outputId": "8ae1c22f-67a4-4802-a64c-6272545f60b5",
        "colab": {
          "base_uri": "https://localhost:8080/"
        }
      },
      "execution_count": 5,
      "outputs": [
        {
          "output_type": "stream",
          "name": "stdout",
          "text": [
            "my age is 24\n"
          ]
        }
      ]
    },
    {
      "cell_type": "markdown",
      "source": [
        "##**string formatting**\n"
      ],
      "metadata": {
        "id": "yc-cyZDHq_6m"
      }
    },
    {
      "cell_type": "code",
      "source": [
        "name = 'Jatin'\n",
        "age = 29\n",
        "print(f'my name is {name} and i am {age} years old.')\n",
        "\n",
        "goal = 'competition'\n",
        "year = 2025\n",
        "print(f'I will clear the {goal}, at any cost in {year}')"
      ],
      "metadata": {
        "id": "OolXbO7gqqI1",
        "outputId": "63ed2a74-f6c6-4941-b934-480338e3486b",
        "colab": {
          "base_uri": "https://localhost:8080/"
        }
      },
      "execution_count": 9,
      "outputs": [
        {
          "output_type": "stream",
          "name": "stdout",
          "text": [
            "my name is Jatin and i am 29 years old.\n",
            "I will clear the competition, at any cost in 2025\n"
          ]
        }
      ]
    },
    {
      "cell_type": "code",
      "source": [],
      "metadata": {
        "id": "QLtal8IrrXoI"
      },
      "execution_count": null,
      "outputs": []
    }
  ]
}