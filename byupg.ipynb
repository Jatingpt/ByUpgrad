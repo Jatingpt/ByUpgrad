{
  "nbformat": 4,
  "nbformat_minor": 0,
  "metadata": {
    "colab": {
      "provenance": [],
      "authorship_tag": "ABX9TyNyMiLXA2NMM/uY2Wkz+hgP",
      "include_colab_link": true
    },
    "kernelspec": {
      "name": "python3",
      "display_name": "Python 3"
    },
    "language_info": {
      "name": "python"
    }
  },
  "cells": [
    {
      "cell_type": "markdown",
      "metadata": {
        "id": "view-in-github",
        "colab_type": "text"
      },
      "source": [
        "<a href=\"https://colab.research.google.com/github/Jatingpt/ByUpgrad/blob/main/byupg.ipynb\" target=\"_parent\"><img src=\"https://colab.research.google.com/assets/colab-badge.svg\" alt=\"Open In Colab\"/></a>"
      ]
    },
    {
      "cell_type": "code",
      "execution_count": 2,
      "metadata": {
        "colab": {
          "base_uri": "https://localhost:8080/"
        },
        "id": "-lwcXFu-pDfh",
        "outputId": "f945a2be-0c75-4380-d882-2a1d24095e0e"
      },
      "outputs": [
        {
          "output_type": "stream",
          "name": "stdout",
          "text": [
            "15\n",
            "16\n",
            "10751912\n"
          ]
        }
      ],
      "source": [
        "#input method- take input as a sample 15 and convert into 16 by using input method.\n",
        "a = int(input())\n",
        "output = a + 1\n",
        "print(output)\n",
        "\n",
        "\n",
        "#to find the location of the variable\n",
        "x = 34\n",
        "print(id(x))"
      ]
    },
    {
      "cell_type": "markdown",
      "source": [
        "In this code, integer is assigned the value 10000000000, which is a larger integer. When you print the size of integer using sys.getsizeof(), it returns the value 32 bytes.\n",
        "\n",
        "\n",
        "\n",
        "We can use the maxsize attribute of the sys module to get the minimum and maximum range of integers."
      ],
      "metadata": {
        "id": "BOZTmcX0qfLt"
      }
    },
    {
      "cell_type": "code",
      "source": [
        "#We can get the size of an integer variable using the getsizeof() method of the sys module.\n",
        "import sys\n",
        "x = 23\n",
        "sys.getsizeof(x)\n",
        "\n",
        "\n",
        "import sys\n",
        "integer = 10000000000\n",
        "print(\"The size of the integer variable is: \", sys.getsizeof(integer), 'bytes')\n",
        "\n",
        "max_int = sys.maxsize\n",
        "print(max_int)\n",
        "\n",
        "min_int = sys.maxsize * -1 - 1\n",
        "print(min_int)"
      ],
      "metadata": {
        "colab": {
          "base_uri": "https://localhost:8080/"
        },
        "id": "UsKov-BCpYau",
        "outputId": "a870dd2a-904f-4467-a05d-a79cbe413281"
      },
      "execution_count": 7,
      "outputs": [
        {
          "output_type": "stream",
          "name": "stdout",
          "text": [
            "The size of the integer variable is:  32 bytes\n",
            "9223372036854775807\n",
            "-9223372036854775808\n"
          ]
        }
      ]
    },
    {
      "cell_type": "code",
      "source": [],
      "metadata": {
        "id": "sv8rmNelpyp-"
      },
      "execution_count": null,
      "outputs": []
    }
  ]
}