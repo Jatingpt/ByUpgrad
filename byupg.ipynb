{
  "nbformat": 4,
  "nbformat_minor": 0,
  "metadata": {
    "colab": {
      "provenance": [],
      "authorship_tag": "ABX9TyOCoC13nv66k+VCtNxzo2dG",
      "include_colab_link": true
    },
    "kernelspec": {
      "name": "python3",
      "display_name": "Python 3"
    },
    "language_info": {
      "name": "python"
    }
  },
  "cells": [
    {
      "cell_type": "markdown",
      "metadata": {
        "id": "view-in-github",
        "colab_type": "text"
      },
      "source": [
        "<a href=\"https://colab.research.google.com/github/Jatingpt/ByUpgrad/blob/main/byupg.ipynb\" target=\"_parent\"><img src=\"https://colab.research.google.com/assets/colab-badge.svg\" alt=\"Open In Colab\"/></a>"
      ]
    },
    {
      "cell_type": "code",
      "execution_count": null,
      "metadata": {
        "colab": {
          "base_uri": "https://localhost:8080/"
        },
        "id": "-lwcXFu-pDfh",
        "outputId": "20b95157-303c-4a26-9869-5ba402dd26a1"
      },
      "outputs": [
        {
          "output_type": "stream",
          "name": "stdout",
          "text": [
            "89\n",
            "90\n",
            "10751912\n"
          ]
        }
      ],
      "source": [
        "#input method- take input as a sample 15 and convert into 16 by using input method.\n",
        "a = int(input())\n",
        "output = a + 1\n",
        "print(output)\n",
        "\n",
        "\n",
        "#to find the location of the variable\n",
        "x = 34\n",
        "print(id(x))"
      ]
    },
    {
      "cell_type": "code",
      "source": [
        "#upg ques\n",
        "x = int(input())\n",
        "y = int(input())\n",
        "\n",
        "output = x^y + (x+y)^(x-y)  #use ** instead of ^\n",
        "\n",
        "print(output)"
      ],
      "metadata": {
        "id": "Cn-eSgiW79Ym",
        "outputId": "d9773aa8-f11c-494f-f33f-cab97b9b7f0c",
        "colab": {
          "base_uri": "https://localhost:8080/"
        }
      },
      "execution_count": null,
      "outputs": [
        {
          "output_type": "stream",
          "name": "stdout",
          "text": [
            "3\n",
            "3\n",
            "10\n"
          ]
        }
      ]
    },
    {
      "cell_type": "code",
      "source": [
        "#Write a Python program to take a temperature in degrees Celsius as input from a user and convert it to the Fahrenheit scale.\n",
        "#Hint: Temperature in Fahrenheit = (Temperature in Celsius )* (9/5) + 32\n",
        "#Sample Input: -40\n",
        "#Sample Output: -40.0\n",
        "a = int(input())\n",
        "output = a*(9/5)+32\n",
        "print(output)"
      ],
      "metadata": {
        "id": "ZybO3RGm9Bl-"
      },
      "execution_count": null,
      "outputs": []
    },
    {
      "cell_type": "code",
      "source": [
        "#upg coding ques\n",
        "var1=5\n",
        "var2=____(var1)\n",
        "print(var2)"
      ],
      "metadata": {
        "id": "esP381Y16qDi",
        "outputId": "19f35123-d44a-46a5-fdf1-fd893561fac0",
        "colab": {
          "base_uri": "https://localhost:8080/",
          "height": 193
        }
      },
      "execution_count": null,
      "outputs": [
        {
          "output_type": "error",
          "ename": "NameError",
          "evalue": "name '____' is not defined",
          "traceback": [
            "\u001b[0;31m---------------------------------------------------------------------------\u001b[0m",
            "\u001b[0;31mNameError\u001b[0m                                 Traceback (most recent call last)",
            "\u001b[0;32m<ipython-input-4-fe42da59842d>\u001b[0m in \u001b[0;36m<cell line: 0>\u001b[0;34m()\u001b[0m\n\u001b[1;32m      1\u001b[0m \u001b[0;31m#upg coding ques\u001b[0m\u001b[0;34m\u001b[0m\u001b[0;34m\u001b[0m\u001b[0m\n\u001b[1;32m      2\u001b[0m \u001b[0mvar1\u001b[0m\u001b[0;34m=\u001b[0m\u001b[0;36m5\u001b[0m\u001b[0;34m\u001b[0m\u001b[0;34m\u001b[0m\u001b[0m\n\u001b[0;32m----> 3\u001b[0;31m \u001b[0mvar2\u001b[0m\u001b[0;34m=\u001b[0m\u001b[0m____\u001b[0m\u001b[0;34m(\u001b[0m\u001b[0mvar1\u001b[0m\u001b[0;34m)\u001b[0m\u001b[0;34m\u001b[0m\u001b[0;34m\u001b[0m\u001b[0m\n\u001b[0m\u001b[1;32m      4\u001b[0m \u001b[0mprint\u001b[0m\u001b[0;34m(\u001b[0m\u001b[0mvar2\u001b[0m\u001b[0;34m)\u001b[0m\u001b[0;34m\u001b[0m\u001b[0;34m\u001b[0m\u001b[0m\n",
            "\u001b[0;31mNameError\u001b[0m: name '____' is not defined"
          ]
        }
      ]
    },
    {
      "cell_type": "code",
      "source": [
        "#Tuple\n",
        "\n",
        "\n",
        "#dictionary functions- get, item, keys, values, copy, setdefault, update, pop, popitem, clear\n",
        "\n",
        "student_data = {\"Name\": \"Jaiswal\", \"Age\" : 23, \"marks\" : 73}\n",
        "student_data\n",
        "\n",
        "#import the data into json format.\n",
        "import json\n",
        "data = json.dumps(student_data)\n",
        "data\n",
        "\n",
        "#access the value age from tuple\n",
        "student_data[\"Age\"]"
      ],
      "metadata": {
        "id": "FdHaQaQYo9rb",
        "outputId": "8424ff00-a21e-4b47-df4a-7a86fa460f3d",
        "colab": {
          "base_uri": "https://localhost:8080/"
        }
      },
      "execution_count": null,
      "outputs": [
        {
          "output_type": "stream",
          "name": "stdout",
          "text": [
            "\"\n"
          ]
        },
        {
          "output_type": "execute_result",
          "data": {
            "text/plain": [
              "23"
            ]
          },
          "metadata": {},
          "execution_count": 23
        }
      ]
    },
    {
      "cell_type": "code",
      "source": [
        "student_data = {\"Name\": \"Jaiswal\", \"Age\" : 23, \"marks\" : 73}\n",
        "x = student_data.setdefault(\"Age\", 29)\n",
        "x\n",
        "\n",
        "student_data = {\"Name\": \"Jaiswal\", \"Age\" : 23, \"marks\" : 73}\n",
        "\n",
        "#write a python program to sort the dictionary.\n",
        "dic = sorted(student_data)\n",
        "print(dic)\n",
        "\n",
        "#write a program where the key and it's squared values.\n",
        "a = {}\n",
        "for i in range(1,11):\n",
        "  a[i] = i*i\n",
        "print(a)\n",
        "\n",
        "#write a program to multiply all the items in a dictionary.\n",
        "product = 1\n",
        "c = {\"a\":1, \"b\":2, \"c\":3, \"d\":4}\n",
        "for i in c:\n",
        "  product *= c[i]\n",
        "print(product)\n",
        "\n",
        "#write a program to sort a dictionary by its key.\n",
        "c = {\"c\":1, \"b\":2, \"a\":3, \"d\":4}\n",
        "sor = sorted(c.keys())\n",
        "print(sor)"
      ],
      "metadata": {
        "id": "QXRIjc-tsw11",
        "outputId": "1627da9c-ecf0-40a9-daa0-7a8941b23b21",
        "colab": {
          "base_uri": "https://localhost:8080/"
        }
      },
      "execution_count": null,
      "outputs": [
        {
          "output_type": "stream",
          "name": "stdout",
          "text": [
            "['Age', 'Name', 'marks']\n",
            "{1: 1, 2: 4, 3: 9, 4: 16, 5: 25, 6: 36, 7: 49, 8: 64, 9: 81, 10: 100}\n",
            "24\n",
            "['a', 'b', 'c', 'd']\n"
          ]
        }
      ]
    },
    {
      "cell_type": "code",
      "source": [
        "#student_data = {\"Name\": \"Jaiswal\", \"Age\" : 23, \"marks\" : 73}\n",
        "student_data.keys()\n",
        "student_data.values()\n",
        "student_data.get(\"Name\")\n",
        "student_data.items()\n"
      ],
      "metadata": {
        "id": "-v0awmJ6sO9e",
        "outputId": "e40cad72-06f5-4c03-e8e1-ae311fc2697b",
        "colab": {
          "base_uri": "https://localhost:8080/"
        }
      },
      "execution_count": null,
      "outputs": [
        {
          "output_type": "execute_result",
          "data": {
            "text/plain": [
              "dict_items([('Name', 'Jaiswal'), ('Age', 23), ('marks', 73)])"
            ]
          },
          "metadata": {},
          "execution_count": 38
        }
      ]
    },
    {
      "cell_type": "code",
      "source": [
        "student_data = {\"Name\": \"Jaiswal\", \"Age\" : 23, \"marks\" : 73}\n",
        "for i in student_data:\n",
        "   print(i)\n",
        "\n",
        "for i in student_data:\n",
        "  print(student_data[i])"
      ],
      "metadata": {
        "id": "xk2sQ6hFrFu0",
        "outputId": "331622ce-7f9c-4837-cf88-e31522563e67",
        "colab": {
          "base_uri": "https://localhost:8080/"
        }
      },
      "execution_count": null,
      "outputs": [
        {
          "output_type": "stream",
          "name": "stdout",
          "text": [
            "Name\n",
            "Age\n",
            "marks\n",
            "Jaiswal\n",
            "23\n",
            "73\n"
          ]
        }
      ]
    },
    {
      "cell_type": "code",
      "source": [
        "#swaping the elements\n",
        "a = [\"Ross\",\"Rachel\",\"Monica\",\"Joe\"]\n",
        "a[0],a[3] = a[3],a[0]\n",
        "a\n",
        "\n",
        "#writing a program to add a new element on second position.\n",
        "\n",
        "a.insert(1, \"Phebie\")\n",
        "a\n",
        "\n",
        "#write a program to delete a element from the third position.\n",
        "\n",
        "a.pop(2)\n",
        "a\n",
        "\n",
        "#write a program to multiply all numbers from a list.\n",
        "mul = 1\n",
        "b = [1,2,3,4,5]\n",
        "for i in b:\n",
        "  mul *= i\n",
        "print(mul)\n",
        "\n",
        "#write the program to get the largest number from a list.\n",
        "c = [2,4,5,3,5,3,54,3,632,5,32,644]\n",
        "print(max(c))\n",
        "print(min(c))"
      ],
      "metadata": {
        "id": "AFZXpQjQmXeo",
        "outputId": "089fd3cf-6a30-4b9d-d7d7-4f4aaee5aefd",
        "colab": {
          "base_uri": "https://localhost:8080/"
        }
      },
      "execution_count": null,
      "outputs": [
        {
          "output_type": "stream",
          "name": "stdout",
          "text": [
            "120\n",
            "644\n",
            "2\n"
          ]
        }
      ]
    },
    {
      "cell_type": "code",
      "source": [
        "a = int(input())\n",
        "b = int(input())\n",
        "output = (a+b)/2\n",
        "print(output)"
      ],
      "metadata": {
        "id": "eBIqtiPJ1QGW",
        "outputId": "e8bd471f-9cc2-44a2-ff0d-692efd0b4e5c",
        "colab": {
          "base_uri": "https://localhost:8080/"
        }
      },
      "execution_count": null,
      "outputs": [
        {
          "output_type": "stream",
          "name": "stdout",
          "text": [
            "4\n",
            "2\n",
            "3.5\n"
          ]
        }
      ]
    },
    {
      "cell_type": "markdown",
      "source": [
        "In this code, integer is assigned the value 10000000000, which is a larger integer. When you print the size of integer using sys.getsizeof(), it returns the value 32 bytes.\n",
        "\n",
        "\n",
        "\n",
        "We can use the maxsize attribute of the sys module to get the minimum and maximum range of integers."
      ],
      "metadata": {
        "id": "BOZTmcX0qfLt"
      }
    },
    {
      "cell_type": "code",
      "source": [
        "#We can get the size of an integer variable using the getsizeof() method of the sys module.\n",
        "import sys\n",
        "x = 23\n",
        "sys.getsizeof(x)\n",
        "\n",
        "\n",
        "import sys\n",
        "integer = 10000000000\n",
        "print(\"The size of the integer variable is: \", sys.getsizeof(integer), 'bytes')\n",
        "\n",
        "max_int = sys.maxsize\n",
        "print(max_int)\n",
        "\n",
        "min_int = sys.maxsize * -1\n",
        "print(min_int)"
      ],
      "metadata": {
        "colab": {
          "base_uri": "https://localhost:8080/"
        },
        "id": "UsKov-BCpYau",
        "outputId": "c105ef3e-4b12-4941-e828-1e8b58ab3f7e"
      },
      "execution_count": null,
      "outputs": [
        {
          "output_type": "stream",
          "name": "stdout",
          "text": [
            "The size of the integer variable is:  32 bytes\n",
            "9223372036854775807\n",
            "-9223372036854775807\n"
          ]
        }
      ]
    },
    {
      "cell_type": "markdown",
      "source": [
        "Here is a brief summary of what you have learnt in the video above.\n",
        "\n",
        "\n",
        "\n",
        "Headings\n",
        "\n",
        "# for the titles\n",
        "## for the main headings\n",
        "### for the subheadings\n",
        "#### for the smaller subheadings\n",
        "##### for the italic subheadings\n",
        "Emphasis\n",
        "\n",
        "__string__ or **string** for bold text\n",
        "_string_ or *string*  for italic text\n",
        "Monospace fonts\n",
        "\n",
        "A back single quotation mark ` on both sides to get monospace fonts\n",
        "Line breaks\n",
        "\n",
        "<br> wherever you want a line break, as the notebook sometimes doesn't give you the required line break where you want it\n",
        "Indenting\n",
        "\n",
        "> to indent the text\n",
        ">> for further indenting it, and so on\n",
        "Bullets and numbering\n",
        "\n",
        "A single dash, i.e. -  followed by two spaces to make bullet points\n",
        "A number and a dot followed by a space, i.e. 1. to make numbered lists\n",
        "Colouring\n",
        "\n",
        "<font color = blue, yellow, red, pink, green, etc.> String </font> to give your font any colour that you want\n",
        "LaTeX Equations\n",
        "\n",
        "$ on both the sides of the text to write LaTeX equations"
      ],
      "metadata": {
        "id": "22o2XwiwxJVV"
      }
    },
    {
      "cell_type": "markdown",
      "source": [
        "Command mode shortcuts\n",
        "\n",
        "Esc: To go into command mode\n",
        "\n",
        "Enter: To go back to edit mode\n",
        "\n",
        "M: To convert a cell to a markdown cell\n",
        "\n",
        "Y: To convert a cell back to a code cell\n",
        "\n",
        "A: To insert a new cell above\n",
        "\n",
        "B: To insert a new cell below\n",
        "\n",
        "D + D: To delete cell\n",
        "\n",
        "Z: Undo the last operation\n",
        "\n",
        "F: To find and replace on your code\n",
        "\n",
        "Shift + Up/Down: To select multiple\n",
        "\n",
        "Space: Scroll notebook downwards\n",
        "\n",
        "Shift + Space: Scroll notebook upwards\n",
        "\n",
        "Edit mode shortcuts\n",
        "\n",
        "Shift + Enter: To execute the code in the current cell and go to the next cell\n",
        "Alt + Enter: To execute the code in the current cell and insert a new cell below\n",
        "Shift + Tab: To get a brief documentation of the object that you have just typed in the coding cell\n",
        "Ctrl + Shift + -: To split the cell at the cursor\n",
        "Shift + M: To merge selected cells"
      ],
      "metadata": {
        "id": "PVf1DnoQw0vL"
      }
    },
    {
      "cell_type": "markdown",
      "source": [
        "##String- We can create string with single or double quotes. Also we can create multiple line string by using triple quotes as well.\n"
      ],
      "metadata": {
        "id": "VJeSWDj_wvMR"
      }
    },
    {
      "cell_type": "code",
      "source": [
        "s = 'hello'\n",
        "t= 'hello world'\n",
        "print(s)\n",
        "print(t)"
      ],
      "metadata": {
        "id": "sv8rmNelpyp-",
        "colab": {
          "base_uri": "https://localhost:8080/"
        },
        "outputId": "a417589a-7f1b-4511-e436-8d8579fab748"
      },
      "execution_count": null,
      "outputs": [
        {
          "output_type": "stream",
          "name": "stdout",
          "text": [
            "hello\n",
            "hello world\n"
          ]
        }
      ]
    },
    {
      "cell_type": "code",
      "source": [
        "#converting a integer into string and then using it.\n",
        "age = 24\n",
        "age_str = str(age)\n",
        "print('my age is', age_str)"
      ],
      "metadata": {
        "colab": {
          "base_uri": "https://localhost:8080/"
        },
        "id": "9IDv6llLqR-j",
        "outputId": "8ae1c22f-67a4-4802-a64c-6272545f60b5"
      },
      "execution_count": null,
      "outputs": [
        {
          "output_type": "stream",
          "name": "stdout",
          "text": [
            "my age is 24\n"
          ]
        }
      ]
    },
    {
      "cell_type": "markdown",
      "source": [
        "##**string formatting**\n",
        "\n",
        "###**f-strings(f'{}')**\n",
        "### In this example, the variables name and age are directly inserted into the string using f-string formatting.\n",
        "\n",
        "###**The .format() function**\n",
        "\n",
        "The .format() function is a built-in string function for string formatting. .format() and f-strings (formatted string literals) are both used in Python for string formatting, but they have different syntax and characteristics. Here's how they are similar and different:\n",
        "\n",
        "\n",
        "\n",
        "Similarities\n",
        "\n",
        "- Both .format() and f-strings are used for injecting values into string placeholders, making it easier to create dynamic strings.\n",
        "\n",
        "- They allow for reordering, formatting, and inserting values into strings.\n",
        "\n",
        "- They provide formatting capabilities, such as setting decimal places, padding, alignment, and more, using similar syntax within the placeholders.\n",
        "\n",
        "\n",
        "\n",
        "Differences\n",
        "\n",
        "- .format() uses placeholders inside the string marked by curly braces { }, which are then replaced by the values or variables passed to the .format() method.\n",
        "\n",
        "- f-strings use prefixed strings with f or F and incorporate expressions inside curly braces directly within the string.\n",
        "\n",
        "- f-strings are generally faster than the .format() method.\n",
        "\n",
        "- f-strings offer improved readability because variables and expressions are embedded directly within the string, making it easier to understand."
      ],
      "metadata": {
        "id": "yc-cyZDHq_6m"
      }
    },
    {
      "cell_type": "code",
      "source": [
        "#f-string formatting.\n",
        "\n",
        "name = 'Jatin'\n",
        "age = 29\n",
        "print(f'my name is {name} and i am {age} years old.')\n",
        "\n",
        "goal = 'competition'\n",
        "year = 2025\n",
        "print(f'I will clear the {goal}, at any cost in {year}')\n",
        "\n",
        "#.formatting() function\n",
        "\n",
        "print('I am pursuing a course in {}, and i have gained {} from this course' .format('AI and Data Science', 'experience' ))\n",
        "\n"
      ],
      "metadata": {
        "colab": {
          "base_uri": "https://localhost:8080/"
        },
        "id": "OolXbO7gqqI1",
        "outputId": "8ece9b3e-9552-49d9-9388-325b9af067c5"
      },
      "execution_count": null,
      "outputs": [
        {
          "output_type": "stream",
          "name": "stdout",
          "text": [
            "my name is Jatin and i am 29 years old.\n",
            "I will clear the competition, at any cost in 2025\n",
            "I am pursuing a course in AI and Data Science, and i have gained experience from this course\n"
          ]
        }
      ]
    },
    {
      "cell_type": "markdown",
      "source": [
        "##**rstrip and lstrip function in string.**"
      ],
      "metadata": {
        "id": "aodhC1wtePb0"
      }
    },
    {
      "cell_type": "code",
      "source": [
        "#rstrip- to remove the extra spaces and also to remove the characters from a string.\n",
        "a = \"This is my general..  \"\n",
        "print(a)\n",
        "print(a.rstrip())           #space removed"
      ],
      "metadata": {
        "id": "QLtal8IrrXoI",
        "outputId": "d4452dea-b2d2-47a3-baaf-223daa399f1c",
        "colab": {
          "base_uri": "https://localhost:8080/"
        }
      },
      "execution_count": null,
      "outputs": [
        {
          "output_type": "stream",
          "name": "stdout",
          "text": [
            "This is my general..  \n",
            "This is my general..\n"
          ]
        }
      ]
    },
    {
      "cell_type": "code",
      "source": [
        "#rstrip- to remove some special characters in a string.\n",
        "a = '4@'\n",
        "print(a)\n",
        "print(a.rstrip('@'))\n",
        "\n",
        "\n",
        "#lstrip- used to remove the whitespaces from the left side.\n",
        "a = '         hello world'\n",
        "print(a)\n",
        "print(a.lstrip())\n",
        "\n",
        "#also we can apply both rstrip and lstrip at the same time.\n",
        "a = '*****hello#####'\n",
        "print(a)\n",
        "print(a.rstrip('#').lstrip('*'))"
      ],
      "metadata": {
        "id": "oL0DJca5eh9Z",
        "outputId": "49f076eb-690f-424f-bedb-0ba473489725",
        "colab": {
          "base_uri": "https://localhost:8080/"
        }
      },
      "execution_count": null,
      "outputs": [
        {
          "output_type": "stream",
          "name": "stdout",
          "text": [
            "4@\n",
            "4\n",
            "         hello world\n",
            "hello world\n",
            "*****hello#####\n",
            "hello\n"
          ]
        }
      ]
    },
    {
      "cell_type": "code",
      "source": [
        "#count method.\n",
        "a = 'this is a workbook'\n",
        "print(a.count('i'))     #simply count the occurence of i while,\n",
        "print(a.count('i', 5))  #it will check the occurence of i from the index number 5. putput= as we have only one i from 5th location so output is 1."
      ],
      "metadata": {
        "id": "i4KjFxQVe2Jt",
        "outputId": "f81b8c66-5797-4226-de96-dc2fefdf76d8",
        "colab": {
          "base_uri": "https://localhost:8080/"
        }
      },
      "execution_count": null,
      "outputs": [
        {
          "output_type": "stream",
          "name": "stdout",
          "text": [
            "2\n",
            "1\n"
          ]
        }
      ]
    },
    {
      "cell_type": "code",
      "source": [
        "#concatenation and formatting in python.\n",
        "age = 30\n",
        "print('I am '+ str(age) + ' years old')\n",
        "print('I am {0} years old'.format(age))\n",
        "\n",
        "#formatting with the different variables.\n",
        "a = 'Data'\n",
        "b = 'Analysis'\n",
        "c = 'Python'\n",
        "print('{0}, {1}, using {2}'.format(a,b,c))"
      ],
      "metadata": {
        "id": "DXy8jmcVglmp",
        "outputId": "0d0fbff7-159a-4f84-c723-7a990255ea39",
        "colab": {
          "base_uri": "https://localhost:8080/"
        }
      },
      "execution_count": null,
      "outputs": [
        {
          "output_type": "stream",
          "name": "stdout",
          "text": [
            "I am 30 years old\n",
            "I am 30 years old\n",
            "Data, Analysis, using Python\n"
          ]
        }
      ]
    },
    {
      "cell_type": "code",
      "source": [
        "#Notes- to find all the function of the string.\n",
        "help(str)  #will provide the all the list function."
      ],
      "metadata": {
        "id": "OLwGr_ubhPXn",
        "outputId": "c59cc603-3af5-4057-a19f-1e3ef7ea5560",
        "colab": {
          "base_uri": "https://localhost:8080/"
        }
      },
      "execution_count": null,
      "outputs": [
        {
          "output_type": "stream",
          "name": "stdout",
          "text": [
            "Help on class str in module builtins:\n",
            "\n",
            "class str(object)\n",
            " |  str(object='') -> str\n",
            " |  str(bytes_or_buffer[, encoding[, errors]]) -> str\n",
            " |  \n",
            " |  Create a new string object from the given object. If encoding or\n",
            " |  errors is specified, then the object must expose a data buffer\n",
            " |  that will be decoded using the given encoding and error handler.\n",
            " |  Otherwise, returns the result of object.__str__() (if defined)\n",
            " |  or repr(object).\n",
            " |  encoding defaults to sys.getdefaultencoding().\n",
            " |  errors defaults to 'strict'.\n",
            " |  \n",
            " |  Methods defined here:\n",
            " |  \n",
            " |  __add__(self, value, /)\n",
            " |      Return self+value.\n",
            " |  \n",
            " |  __contains__(self, key, /)\n",
            " |      Return key in self.\n",
            " |  \n",
            " |  __eq__(self, value, /)\n",
            " |      Return self==value.\n",
            " |  \n",
            " |  __format__(self, format_spec, /)\n",
            " |      Return a formatted version of the string as described by format_spec.\n",
            " |  \n",
            " |  __ge__(self, value, /)\n",
            " |      Return self>=value.\n",
            " |  \n",
            " |  __getattribute__(self, name, /)\n",
            " |      Return getattr(self, name).\n",
            " |  \n",
            " |  __getitem__(self, key, /)\n",
            " |      Return self[key].\n",
            " |  \n",
            " |  __getnewargs__(...)\n",
            " |  \n",
            " |  __gt__(self, value, /)\n",
            " |      Return self>value.\n",
            " |  \n",
            " |  __hash__(self, /)\n",
            " |      Return hash(self).\n",
            " |  \n",
            " |  __iter__(self, /)\n",
            " |      Implement iter(self).\n",
            " |  \n",
            " |  __le__(self, value, /)\n",
            " |      Return self<=value.\n",
            " |  \n",
            " |  __len__(self, /)\n",
            " |      Return len(self).\n",
            " |  \n",
            " |  __lt__(self, value, /)\n",
            " |      Return self<value.\n",
            " |  \n",
            " |  __mod__(self, value, /)\n",
            " |      Return self%value.\n",
            " |  \n",
            " |  __mul__(self, value, /)\n",
            " |      Return self*value.\n",
            " |  \n",
            " |  __ne__(self, value, /)\n",
            " |      Return self!=value.\n",
            " |  \n",
            " |  __repr__(self, /)\n",
            " |      Return repr(self).\n",
            " |  \n",
            " |  __rmod__(self, value, /)\n",
            " |      Return value%self.\n",
            " |  \n",
            " |  __rmul__(self, value, /)\n",
            " |      Return value*self.\n",
            " |  \n",
            " |  __sizeof__(self, /)\n",
            " |      Return the size of the string in memory, in bytes.\n",
            " |  \n",
            " |  __str__(self, /)\n",
            " |      Return str(self).\n",
            " |  \n",
            " |  capitalize(self, /)\n",
            " |      Return a capitalized version of the string.\n",
            " |      \n",
            " |      More specifically, make the first character have upper case and the rest lower\n",
            " |      case.\n",
            " |  \n",
            " |  casefold(self, /)\n",
            " |      Return a version of the string suitable for caseless comparisons.\n",
            " |  \n",
            " |  center(self, width, fillchar=' ', /)\n",
            " |      Return a centered string of length width.\n",
            " |      \n",
            " |      Padding is done using the specified fill character (default is a space).\n",
            " |  \n",
            " |  count(...)\n",
            " |      S.count(sub[, start[, end]]) -> int\n",
            " |      \n",
            " |      Return the number of non-overlapping occurrences of substring sub in\n",
            " |      string S[start:end].  Optional arguments start and end are\n",
            " |      interpreted as in slice notation.\n",
            " |  \n",
            " |  encode(self, /, encoding='utf-8', errors='strict')\n",
            " |      Encode the string using the codec registered for encoding.\n",
            " |      \n",
            " |      encoding\n",
            " |        The encoding in which to encode the string.\n",
            " |      errors\n",
            " |        The error handling scheme to use for encoding errors.\n",
            " |        The default is 'strict' meaning that encoding errors raise a\n",
            " |        UnicodeEncodeError.  Other possible values are 'ignore', 'replace' and\n",
            " |        'xmlcharrefreplace' as well as any other name registered with\n",
            " |        codecs.register_error that can handle UnicodeEncodeErrors.\n",
            " |  \n",
            " |  endswith(...)\n",
            " |      S.endswith(suffix[, start[, end]]) -> bool\n",
            " |      \n",
            " |      Return True if S ends with the specified suffix, False otherwise.\n",
            " |      With optional start, test S beginning at that position.\n",
            " |      With optional end, stop comparing S at that position.\n",
            " |      suffix can also be a tuple of strings to try.\n",
            " |  \n",
            " |  expandtabs(self, /, tabsize=8)\n",
            " |      Return a copy where all tab characters are expanded using spaces.\n",
            " |      \n",
            " |      If tabsize is not given, a tab size of 8 characters is assumed.\n",
            " |  \n",
            " |  find(...)\n",
            " |      S.find(sub[, start[, end]]) -> int\n",
            " |      \n",
            " |      Return the lowest index in S where substring sub is found,\n",
            " |      such that sub is contained within S[start:end].  Optional\n",
            " |      arguments start and end are interpreted as in slice notation.\n",
            " |      \n",
            " |      Return -1 on failure.\n",
            " |  \n",
            " |  format(...)\n",
            " |      S.format(*args, **kwargs) -> str\n",
            " |      \n",
            " |      Return a formatted version of S, using substitutions from args and kwargs.\n",
            " |      The substitutions are identified by braces ('{' and '}').\n",
            " |  \n",
            " |  format_map(...)\n",
            " |      S.format_map(mapping) -> str\n",
            " |      \n",
            " |      Return a formatted version of S, using substitutions from mapping.\n",
            " |      The substitutions are identified by braces ('{' and '}').\n",
            " |  \n",
            " |  index(...)\n",
            " |      S.index(sub[, start[, end]]) -> int\n",
            " |      \n",
            " |      Return the lowest index in S where substring sub is found,\n",
            " |      such that sub is contained within S[start:end].  Optional\n",
            " |      arguments start and end are interpreted as in slice notation.\n",
            " |      \n",
            " |      Raises ValueError when the substring is not found.\n",
            " |  \n",
            " |  isalnum(self, /)\n",
            " |      Return True if the string is an alpha-numeric string, False otherwise.\n",
            " |      \n",
            " |      A string is alpha-numeric if all characters in the string are alpha-numeric and\n",
            " |      there is at least one character in the string.\n",
            " |  \n",
            " |  isalpha(self, /)\n",
            " |      Return True if the string is an alphabetic string, False otherwise.\n",
            " |      \n",
            " |      A string is alphabetic if all characters in the string are alphabetic and there\n",
            " |      is at least one character in the string.\n",
            " |  \n",
            " |  isascii(self, /)\n",
            " |      Return True if all characters in the string are ASCII, False otherwise.\n",
            " |      \n",
            " |      ASCII characters have code points in the range U+0000-U+007F.\n",
            " |      Empty string is ASCII too.\n",
            " |  \n",
            " |  isdecimal(self, /)\n",
            " |      Return True if the string is a decimal string, False otherwise.\n",
            " |      \n",
            " |      A string is a decimal string if all characters in the string are decimal and\n",
            " |      there is at least one character in the string.\n",
            " |  \n",
            " |  isdigit(self, /)\n",
            " |      Return True if the string is a digit string, False otherwise.\n",
            " |      \n",
            " |      A string is a digit string if all characters in the string are digits and there\n",
            " |      is at least one character in the string.\n",
            " |  \n",
            " |  isidentifier(self, /)\n",
            " |      Return True if the string is a valid Python identifier, False otherwise.\n",
            " |      \n",
            " |      Call keyword.iskeyword(s) to test whether string s is a reserved identifier,\n",
            " |      such as \"def\" or \"class\".\n",
            " |  \n",
            " |  islower(self, /)\n",
            " |      Return True if the string is a lowercase string, False otherwise.\n",
            " |      \n",
            " |      A string is lowercase if all cased characters in the string are lowercase and\n",
            " |      there is at least one cased character in the string.\n",
            " |  \n",
            " |  isnumeric(self, /)\n",
            " |      Return True if the string is a numeric string, False otherwise.\n",
            " |      \n",
            " |      A string is numeric if all characters in the string are numeric and there is at\n",
            " |      least one character in the string.\n",
            " |  \n",
            " |  isprintable(self, /)\n",
            " |      Return True if the string is printable, False otherwise.\n",
            " |      \n",
            " |      A string is printable if all of its characters are considered printable in\n",
            " |      repr() or if it is empty.\n",
            " |  \n",
            " |  isspace(self, /)\n",
            " |      Return True if the string is a whitespace string, False otherwise.\n",
            " |      \n",
            " |      A string is whitespace if all characters in the string are whitespace and there\n",
            " |      is at least one character in the string.\n",
            " |  \n",
            " |  istitle(self, /)\n",
            " |      Return True if the string is a title-cased string, False otherwise.\n",
            " |      \n",
            " |      In a title-cased string, upper- and title-case characters may only\n",
            " |      follow uncased characters and lowercase characters only cased ones.\n",
            " |  \n",
            " |  isupper(self, /)\n",
            " |      Return True if the string is an uppercase string, False otherwise.\n",
            " |      \n",
            " |      A string is uppercase if all cased characters in the string are uppercase and\n",
            " |      there is at least one cased character in the string.\n",
            " |  \n",
            " |  join(self, iterable, /)\n",
            " |      Concatenate any number of strings.\n",
            " |      \n",
            " |      The string whose method is called is inserted in between each given string.\n",
            " |      The result is returned as a new string.\n",
            " |      \n",
            " |      Example: '.'.join(['ab', 'pq', 'rs']) -> 'ab.pq.rs'\n",
            " |  \n",
            " |  ljust(self, width, fillchar=' ', /)\n",
            " |      Return a left-justified string of length width.\n",
            " |      \n",
            " |      Padding is done using the specified fill character (default is a space).\n",
            " |  \n",
            " |  lower(self, /)\n",
            " |      Return a copy of the string converted to lowercase.\n",
            " |  \n",
            " |  lstrip(self, chars=None, /)\n",
            " |      Return a copy of the string with leading whitespace removed.\n",
            " |      \n",
            " |      If chars is given and not None, remove characters in chars instead.\n",
            " |  \n",
            " |  partition(self, sep, /)\n",
            " |      Partition the string into three parts using the given separator.\n",
            " |      \n",
            " |      This will search for the separator in the string.  If the separator is found,\n",
            " |      returns a 3-tuple containing the part before the separator, the separator\n",
            " |      itself, and the part after it.\n",
            " |      \n",
            " |      If the separator is not found, returns a 3-tuple containing the original string\n",
            " |      and two empty strings.\n",
            " |  \n",
            " |  removeprefix(self, prefix, /)\n",
            " |      Return a str with the given prefix string removed if present.\n",
            " |      \n",
            " |      If the string starts with the prefix string, return string[len(prefix):].\n",
            " |      Otherwise, return a copy of the original string.\n",
            " |  \n",
            " |  removesuffix(self, suffix, /)\n",
            " |      Return a str with the given suffix string removed if present.\n",
            " |      \n",
            " |      If the string ends with the suffix string and that suffix is not empty,\n",
            " |      return string[:-len(suffix)]. Otherwise, return a copy of the original\n",
            " |      string.\n",
            " |  \n",
            " |  replace(self, old, new, count=-1, /)\n",
            " |      Return a copy with all occurrences of substring old replaced by new.\n",
            " |      \n",
            " |        count\n",
            " |          Maximum number of occurrences to replace.\n",
            " |          -1 (the default value) means replace all occurrences.\n",
            " |      \n",
            " |      If the optional argument count is given, only the first count occurrences are\n",
            " |      replaced.\n",
            " |  \n",
            " |  rfind(...)\n",
            " |      S.rfind(sub[, start[, end]]) -> int\n",
            " |      \n",
            " |      Return the highest index in S where substring sub is found,\n",
            " |      such that sub is contained within S[start:end].  Optional\n",
            " |      arguments start and end are interpreted as in slice notation.\n",
            " |      \n",
            " |      Return -1 on failure.\n",
            " |  \n",
            " |  rindex(...)\n",
            " |      S.rindex(sub[, start[, end]]) -> int\n",
            " |      \n",
            " |      Return the highest index in S where substring sub is found,\n",
            " |      such that sub is contained within S[start:end].  Optional\n",
            " |      arguments start and end are interpreted as in slice notation.\n",
            " |      \n",
            " |      Raises ValueError when the substring is not found.\n",
            " |  \n",
            " |  rjust(self, width, fillchar=' ', /)\n",
            " |      Return a right-justified string of length width.\n",
            " |      \n",
            " |      Padding is done using the specified fill character (default is a space).\n",
            " |  \n",
            " |  rpartition(self, sep, /)\n",
            " |      Partition the string into three parts using the given separator.\n",
            " |      \n",
            " |      This will search for the separator in the string, starting at the end. If\n",
            " |      the separator is found, returns a 3-tuple containing the part before the\n",
            " |      separator, the separator itself, and the part after it.\n",
            " |      \n",
            " |      If the separator is not found, returns a 3-tuple containing two empty strings\n",
            " |      and the original string.\n",
            " |  \n",
            " |  rsplit(self, /, sep=None, maxsplit=-1)\n",
            " |      Return a list of the substrings in the string, using sep as the separator string.\n",
            " |      \n",
            " |        sep\n",
            " |          The separator used to split the string.\n",
            " |      \n",
            " |          When set to None (the default value), will split on any whitespace\n",
            " |          character (including \\n \\r \\t \\f and spaces) and will discard\n",
            " |          empty strings from the result.\n",
            " |        maxsplit\n",
            " |          Maximum number of splits.\n",
            " |          -1 (the default value) means no limit.\n",
            " |      \n",
            " |      Splitting starts at the end of the string and works to the front.\n",
            " |  \n",
            " |  rstrip(self, chars=None, /)\n",
            " |      Return a copy of the string with trailing whitespace removed.\n",
            " |      \n",
            " |      If chars is given and not None, remove characters in chars instead.\n",
            " |  \n",
            " |  split(self, /, sep=None, maxsplit=-1)\n",
            " |      Return a list of the substrings in the string, using sep as the separator string.\n",
            " |      \n",
            " |        sep\n",
            " |          The separator used to split the string.\n",
            " |      \n",
            " |          When set to None (the default value), will split on any whitespace\n",
            " |          character (including \\n \\r \\t \\f and spaces) and will discard\n",
            " |          empty strings from the result.\n",
            " |        maxsplit\n",
            " |          Maximum number of splits.\n",
            " |          -1 (the default value) means no limit.\n",
            " |      \n",
            " |      Splitting starts at the front of the string and works to the end.\n",
            " |      \n",
            " |      Note, str.split() is mainly useful for data that has been intentionally\n",
            " |      delimited.  With natural text that includes punctuation, consider using\n",
            " |      the regular expression module.\n",
            " |  \n",
            " |  splitlines(self, /, keepends=False)\n",
            " |      Return a list of the lines in the string, breaking at line boundaries.\n",
            " |      \n",
            " |      Line breaks are not included in the resulting list unless keepends is given and\n",
            " |      true.\n",
            " |  \n",
            " |  startswith(...)\n",
            " |      S.startswith(prefix[, start[, end]]) -> bool\n",
            " |      \n",
            " |      Return True if S starts with the specified prefix, False otherwise.\n",
            " |      With optional start, test S beginning at that position.\n",
            " |      With optional end, stop comparing S at that position.\n",
            " |      prefix can also be a tuple of strings to try.\n",
            " |  \n",
            " |  strip(self, chars=None, /)\n",
            " |      Return a copy of the string with leading and trailing whitespace removed.\n",
            " |      \n",
            " |      If chars is given and not None, remove characters in chars instead.\n",
            " |  \n",
            " |  swapcase(self, /)\n",
            " |      Convert uppercase characters to lowercase and lowercase characters to uppercase.\n",
            " |  \n",
            " |  title(self, /)\n",
            " |      Return a version of the string where each word is titlecased.\n",
            " |      \n",
            " |      More specifically, words start with uppercased characters and all remaining\n",
            " |      cased characters have lower case.\n",
            " |  \n",
            " |  translate(self, table, /)\n",
            " |      Replace each character in the string using the given translation table.\n",
            " |      \n",
            " |        table\n",
            " |          Translation table, which must be a mapping of Unicode ordinals to\n",
            " |          Unicode ordinals, strings, or None.\n",
            " |      \n",
            " |      The table must implement lookup/indexing via __getitem__, for instance a\n",
            " |      dictionary or list.  If this operation raises LookupError, the character is\n",
            " |      left untouched.  Characters mapped to None are deleted.\n",
            " |  \n",
            " |  upper(self, /)\n",
            " |      Return a copy of the string converted to uppercase.\n",
            " |  \n",
            " |  zfill(self, width, /)\n",
            " |      Pad a numeric string with zeros on the left, to fill a field of the given width.\n",
            " |      \n",
            " |      The string is never truncated.\n",
            " |  \n",
            " |  ----------------------------------------------------------------------\n",
            " |  Static methods defined here:\n",
            " |  \n",
            " |  __new__(*args, **kwargs)\n",
            " |      Create and return a new object.  See help(type) for accurate signature.\n",
            " |  \n",
            " |  maketrans(...)\n",
            " |      Return a translation table usable for str.translate().\n",
            " |      \n",
            " |      If there is only one argument, it must be a dictionary mapping Unicode\n",
            " |      ordinals (integers) or characters to Unicode ordinals, strings or None.\n",
            " |      Character keys will be then converted to ordinals.\n",
            " |      If there are two arguments, they must be strings of equal length, and\n",
            " |      in the resulting dictionary, each character in x will be mapped to the\n",
            " |      character at the same position in y. If there is a third argument, it\n",
            " |      must be a string, whose characters will be mapped to None in the result.\n",
            "\n"
          ]
        }
      ]
    },
    {
      "cell_type": "code",
      "source": [
        "#Sample Input:\n",
        "\n",
        "#a = bmaunmdbraai\n",
        "\n",
        "#Sample Output:\n",
        "\n",
        "#bandra,mumbai\n",
        "\n",
        "a = \"bmaunmdbraai\"\n",
        "second = a[::2]\n",
        "print(output)\n",
        "first = a[1::2]\n",
        "print(b)\n",
        "print(f\"{first},{second}\")"
      ],
      "metadata": {
        "id": "K2_Chw9SiOGm",
        "outputId": "d933b0e8-14a2-4792-e608-ccb4f447aecb",
        "colab": {
          "base_uri": "https://localhost:8080/"
        }
      },
      "execution_count": null,
      "outputs": [
        {
          "output_type": "stream",
          "name": "stdout",
          "text": [
            "bandra\n",
            "mumbai\n",
            "mumbai,bandra\n"
          ]
        }
      ]
    },
    {
      "cell_type": "code",
      "source": [
        "import ast,sys\n",
        "input_str = sys.stdin.read()\n",
        "#Type your code here\n",
        " print(message1, message2)\n",
        "\n",
        " a = bmaunmdbraai\n",
        " message1 = a[::2]\n",
        " message2 = a[1::2]\n",
        " print(f'{message1},{message2}')"
      ],
      "metadata": {
        "id": "uYVN2iS4jJtr",
        "outputId": "b1b117c2-1058-43f5-ec28-16e974f10a00",
        "colab": {
          "base_uri": "https://localhost:8080/",
          "height": 106
        }
      },
      "execution_count": null,
      "outputs": [
        {
          "output_type": "error",
          "ename": "IndentationError",
          "evalue": "unexpected indent (<ipython-input-42-03c4e1986aa7>, line 4)",
          "traceback": [
            "\u001b[0;36m  File \u001b[0;32m\"<ipython-input-42-03c4e1986aa7>\"\u001b[0;36m, line \u001b[0;32m4\u001b[0m\n\u001b[0;31m    print(message1, message2)\u001b[0m\n\u001b[0m    ^\u001b[0m\n\u001b[0;31mIndentationError\u001b[0m\u001b[0;31m:\u001b[0m unexpected indent\n"
          ]
        }
      ]
    },
    {
      "cell_type": "code",
      "source": [
        "import ast,sys\n",
        "input_str = sys.stdin.read()\n",
        "#Type your code here\n",
        "\n",
        "a = \"bmaunmdbraai\"\n",
        "message1 = a[::2]\n",
        "message2 = a[1::2]\n",
        "print(f'{message1},{message2}')"
      ],
      "metadata": {
        "id": "t7PGoRaLmipI",
        "outputId": "c704f81e-572a-41ce-e28c-b653b050abdb",
        "colab": {
          "base_uri": "https://localhost:8080/"
        }
      },
      "execution_count": null,
      "outputs": [
        {
          "output_type": "stream",
          "name": "stdout",
          "text": [
            "bandra,mumbai\n"
          ]
        }
      ]
    },
    {
      "cell_type": "code",
      "source": [
        "input_str = \"hello\"\n",
        "output_str = \"\".join(dict.fromkeys(input_str))\n",
        "print(output_str)"
      ],
      "metadata": {
        "id": "3PTw9Susmloh",
        "outputId": "9759ef90-fd2b-434b-da15-099d2998460e",
        "colab": {
          "base_uri": "https://localhost:8080/"
        }
      },
      "execution_count": null,
      "outputs": [
        {
          "output_type": "stream",
          "name": "stdout",
          "text": [
            "helo\n"
          ]
        }
      ]
    },
    {
      "cell_type": "code",
      "source": [
        "What will be the output of this code?\n",
        "\n",
        "print(bool(1), bool(-8), bool(1.67), bool(False))\n",
        "\n",
        "#In Python, bool() returns:\n",
        "- False for 0, 0.0, None, False, \"\" (empty string), [] (empty list), {} (empty dictionary), set(), and range(0)."
      ],
      "metadata": {
        "id": "RxqzsGlKwMFt",
        "outputId": "5b7a30e0-f333-4042-bb18-1e9d8e7b8744",
        "colab": {
          "base_uri": "https://localhost:8080/"
        }
      },
      "execution_count": null,
      "outputs": [
        {
          "output_type": "stream",
          "name": "stdout",
          "text": [
            "Object `code` not found.\n",
            "True True True False\n",
            "In Python, bool() returns: False for 0, 0.0, None, False, \"\" (empty string), [] (empty list), {} (empty dictionary), set(), and range(0).\n",
            "True for all other values, including negative numbers and nonzero floats.\")\n"
          ]
        }
      ]
    },
    {
      "cell_type": "markdown",
      "source": [
        "#In Python, bool() returns:\n",
        "- False for 0, 0.0, None, False, \"\" (empty string), [] (empty list), {} (empty dictionary), set(), and range(0).\n",
        "- True for all other values, including negative numbers and nonzero floats."
      ],
      "metadata": {
        "id": "aCz7p0eE-A0t"
      }
    },
    {
      "cell_type": "code",
      "source": [
        "\n",
        "Which of these code lines produces a Boolean True output?\n",
        "\n",
        "len('Python and R are used in data science') > 25\n",
        "len('Python and R are used in data science') < 25"
      ],
      "metadata": {
        "id": "TXWO1nJ94_cY",
        "outputId": "2db988ee-2c32-4ebb-e636-c486bc580d2b",
        "colab": {
          "base_uri": "https://localhost:8080/"
        }
      },
      "execution_count": null,
      "outputs": [
        {
          "output_type": "execute_result",
          "data": {
            "text/plain": [
              "False"
            ]
          },
          "metadata": {},
          "execution_count": 61
        }
      ]
    },
    {
      "cell_type": "code",
      "source": [
        "len('Python and R are used in data science') > 25"
      ],
      "metadata": {
        "id": "Mo9i1tHz-cQw",
        "outputId": "93741e5e-f86b-4ed5-ada4-4381fb9060c8",
        "colab": {
          "base_uri": "https://localhost:8080/"
        }
      },
      "execution_count": null,
      "outputs": [
        {
          "output_type": "execute_result",
          "data": {
            "text/plain": [
              "True"
            ]
          },
          "metadata": {},
          "execution_count": 62
        }
      ]
    },
    {
      "cell_type": "code",
      "source": [
        "print('My name is {} and I am {} years old'.format('John', 30))"
      ],
      "metadata": {
        "id": "olmWqhCd-iWx",
        "outputId": "9219c453-13fc-469e-85f0-72f4b641df19",
        "colab": {
          "base_uri": "https://localhost:8080/"
        }
      },
      "execution_count": null,
      "outputs": [
        {
          "output_type": "stream",
          "name": "stdout",
          "text": [
            "My name is John and I am 30 years old\n"
          ]
        }
      ]
    },
    {
      "cell_type": "code",
      "source": [
        "#print('My name is {John} and I am {30} years old'.format())"
      ],
      "metadata": {
        "id": "n5CDHbp--9Yr"
      },
      "execution_count": null,
      "outputs": []
    },
    {
      "cell_type": "code",
      "source": [
        "print('My name is %s and I am %d years old' % ('John', 30))"
      ],
      "metadata": {
        "id": "tdRNmgVj_CFN",
        "outputId": "8292ce67-4998-4027-fd00-4a9ea39bc03d",
        "colab": {
          "base_uri": "https://localhost:8080/"
        }
      },
      "execution_count": null,
      "outputs": [
        {
          "output_type": "stream",
          "name": "stdout",
          "text": [
            "My name is John and I am 30 years old\n"
          ]
        }
      ]
    },
    {
      "cell_type": "markdown",
      "source": [
        "- Which of these pairs has operators with the same precedence level?\n",
        "\n",
        "Multiplication and division\n",
        "\n",
        "Division and subtraction\n",
        "\n",
        "Addition and multiplication\n",
        "\n",
        "Addition and division\n",
        "\n",
        "** Multiplication and Division have the same precedence level.\n",
        "\n",
        "Operator Precedence (Highest to Lowest in Python):\n",
        "\n",
        "- () → Parentheses\n",
        "\n",
        "- ** → Exponentiation\n",
        "\n",
        "* / // % → Multiplication, Division, Floor Division, Modulus (Same level)\n",
        "+ - → Addition, Subtraction (Same level)\n",
        "\n",
        "So, Multiplication (*) and Division (/) have the same precedence level. 🚀**"
      ],
      "metadata": {
        "id": "n5LPb34JAsme"
      }
    },
    {
      "cell_type": "markdown",
      "source": [
        "#ques\n",
        "\n",
        "\n",
        "Evaluate the following arithmetic expressions and choose the correct option which contains the correct computation:\n",
        "\n",
        "NOTE: You may need to import the math library.\n",
        "\n",
        "- math.sqrt(25) + (7 ** 3) / 2\n",
        "\n",
        "- math.factorial(4) / (2 ** 3) - 1\n",
        "\n",
        "- (10 * (5 - 3) ** 2) / 4\n",
        "- 3 * ((5 / 2) - math.sqrt(9))\n",
        "- 6 * (len('Mathematics') % 3 // 2) + 3 ** 2"
      ],
      "metadata": {
        "id": "f_6GIvzRBh0l"
      }
    },
    {
      "cell_type": "code",
      "source": [
        "\n",
        "#Evaluate the following arithmetic expressions and choose the correct option which contains the correct computation:\n",
        "\n",
        "#NOTE: You may need to import the math library.\n",
        "import math\n",
        "\n",
        "math.sqrt(25) + (7 ** 3) / 2\n",
        "math.factorial(4) / (2 ** 3) - 1\n",
        "(10 * (5 - 3) ** 2) / 4\n",
        "3 * ((5 / 2) - math.sqrt(9))\n",
        "6 * (len('Mathematics') % 3 // 2) + 3 ** 2"
      ],
      "metadata": {
        "id": "rOvmTs1E_G5w",
        "outputId": "8e540750-b936-428e-bbe3-a6a469584e49",
        "colab": {
          "base_uri": "https://localhost:8080/"
        }
      },
      "execution_count": null,
      "outputs": [
        {
          "output_type": "execute_result",
          "data": {
            "text/plain": [
              "15"
            ]
          },
          "metadata": {},
          "execution_count": 67
        }
      ]
    },
    {
      "cell_type": "code",
      "source": [
        "math.sqrt(25) + (7 ** 3) / 2"
      ],
      "metadata": {
        "id": "6-yPj6QcBvYl",
        "outputId": "8159f9d5-1d7c-4c5e-f9f1-cde7f875d26b",
        "colab": {
          "base_uri": "https://localhost:8080/"
        }
      },
      "execution_count": null,
      "outputs": [
        {
          "output_type": "execute_result",
          "data": {
            "text/plain": [
              "176.5"
            ]
          },
          "metadata": {},
          "execution_count": 68
        }
      ]
    },
    {
      "cell_type": "code",
      "source": [
        "#What will be the output of this print statement?\n",
        "\n",
        "print(4%100,4//100,4/100)\n",
        "\n",
        "#Check whether int(14.56) and 44//3 are equal.\n",
        "print(int(14.56) , 44//3)\n",
        "\n",
        "x = 7\n",
        "y = 4\n",
        "z = 3\n",
        "result = (x > y) and (y < z) or (z == 3)\n",
        "print(result)\n",
        "\n",
        "\n",
        "#What will be the output of the following code?\n",
        "\n",
        "a = '0'\n",
        "print(bool(a))"
      ],
      "metadata": {
        "id": "zLbza8YeB5gk",
        "outputId": "1ce9334a-84c9-4892-cbe7-50ee2434c304",
        "colab": {
          "base_uri": "https://localhost:8080/"
        }
      },
      "execution_count": null,
      "outputs": [
        {
          "output_type": "stream",
          "name": "stdout",
          "text": [
            "4 0 0.04\n",
            "14 14\n",
            "True\n",
            "True\n"
          ]
        }
      ]
    },
    {
      "cell_type": "code",
      "source": [
        "def rect(length, breath):\n",
        "  print(length*breath)\n",
        "rect(20,40)"
      ],
      "metadata": {
        "id": "chdtIlQPCHoG",
        "outputId": "02faa9ee-0bb4-4bec-b385-6132b53c5939",
        "colab": {
          "base_uri": "https://localhost:8080/"
        }
      },
      "execution_count": null,
      "outputs": [
        {
          "output_type": "stream",
          "name": "stdout",
          "text": [
            "800\n"
          ]
        }
      ]
    },
    {
      "cell_type": "code",
      "source": [
        "def area(base,height):\n",
        "  print((base*height)/2)\n",
        "area(20,40)"
      ],
      "metadata": {
        "id": "0JOSohYTFgp-",
        "outputId": "13272e10-7ad9-4c18-b209-e261084e993f",
        "colab": {
          "base_uri": "https://localhost:8080/"
        }
      },
      "execution_count": null,
      "outputs": [
        {
          "output_type": "stream",
          "name": "stdout",
          "text": [
            "400.0\n"
          ]
        }
      ]
    },
    {
      "cell_type": "code",
      "source": [
        "base = input()\n",
        "height = input()\n",
        "def area(base,height):\n",
        "    print((base*height)/2)\n",
        "area(20,40)"
      ],
      "metadata": {
        "id": "HR8inrmSGvam",
        "outputId": "deb86b4e-1b9c-4cf7-ac29-e8d9169b569f",
        "colab": {
          "base_uri": "https://localhost:8080/"
        }
      },
      "execution_count": null,
      "outputs": [
        {
          "output_type": "stream",
          "name": "stdout",
          "text": [
            "20\n",
            "40\n",
            "400.0\n"
          ]
        }
      ]
    },
    {
      "cell_type": "markdown",
      "source": [
        "##ques\n",
        "Write a python program to take two inputs from user. You must convert the data type of the inputs to float and then print the division and floor division of converted inputs.\n",
        "\n",
        "\n",
        "\n",
        "Sample input:\n",
        "\n",
        "4\n",
        "\n",
        "5\n",
        "\n",
        "\n",
        "\n",
        "Sample output:\n",
        "\n",
        "Division 0.8\n",
        "\n",
        "Floor Division 0.0"
      ],
      "metadata": {
        "id": "k2vLN4ZyHwat"
      }
    },
    {
      "cell_type": "code",
      "source": [
        "a = float(input())\n",
        "b = float(input())\n",
        "division = a/b\n",
        "floor_division = a//b\n",
        "print(division)\n",
        "print(floor_division)\n"
      ],
      "metadata": {
        "id": "FYtA4kOGHCCk",
        "outputId": "96233363-7c4b-49d5-e803-74b968185523",
        "colab": {
          "base_uri": "https://localhost:8080/"
        }
      },
      "execution_count": null,
      "outputs": [
        {
          "output_type": "stream",
          "name": "stdout",
          "text": [
            "4\n",
            "5\n",
            "0.8\n",
            "0.0\n"
          ]
        }
      ]
    },
    {
      "cell_type": "code",
      "source": [
        "a = input()\n",
        "b = input()\n",
        "division = float(a/b)\n",
        "floor_division = float(a//b)\n",
        "print(division)\n",
        "print(floor_division)"
      ],
      "metadata": {
        "id": "1DXQhl5cIV26",
        "outputId": "fd9ef07b-bce2-4a93-f6b3-a3bd57c7ea60",
        "colab": {
          "base_uri": "https://localhost:8080/",
          "height": 245
        }
      },
      "execution_count": null,
      "outputs": [
        {
          "name": "stdout",
          "output_type": "stream",
          "text": [
            "4\n",
            "5\n"
          ]
        },
        {
          "output_type": "error",
          "ename": "TypeError",
          "evalue": "unsupported operand type(s) for /: 'str' and 'str'",
          "traceback": [
            "\u001b[0;31m---------------------------------------------------------------------------\u001b[0m",
            "\u001b[0;31mTypeError\u001b[0m                                 Traceback (most recent call last)",
            "\u001b[0;32m<ipython-input-84-0f7796c56080>\u001b[0m in \u001b[0;36m<cell line: 0>\u001b[0;34m()\u001b[0m\n\u001b[1;32m      1\u001b[0m \u001b[0ma\u001b[0m \u001b[0;34m=\u001b[0m \u001b[0minput\u001b[0m\u001b[0;34m(\u001b[0m\u001b[0;34m)\u001b[0m\u001b[0;34m\u001b[0m\u001b[0;34m\u001b[0m\u001b[0m\n\u001b[1;32m      2\u001b[0m \u001b[0mb\u001b[0m \u001b[0;34m=\u001b[0m \u001b[0minput\u001b[0m\u001b[0;34m(\u001b[0m\u001b[0;34m)\u001b[0m\u001b[0;34m\u001b[0m\u001b[0;34m\u001b[0m\u001b[0m\n\u001b[0;32m----> 3\u001b[0;31m \u001b[0mdivision\u001b[0m \u001b[0;34m=\u001b[0m \u001b[0mfloat\u001b[0m\u001b[0;34m(\u001b[0m\u001b[0ma\u001b[0m\u001b[0;34m/\u001b[0m\u001b[0mb\u001b[0m\u001b[0;34m)\u001b[0m\u001b[0;34m\u001b[0m\u001b[0;34m\u001b[0m\u001b[0m\n\u001b[0m\u001b[1;32m      4\u001b[0m \u001b[0mfloor_division\u001b[0m \u001b[0;34m=\u001b[0m \u001b[0mfloat\u001b[0m\u001b[0;34m(\u001b[0m\u001b[0ma\u001b[0m\u001b[0;34m//\u001b[0m\u001b[0mb\u001b[0m\u001b[0;34m)\u001b[0m\u001b[0;34m\u001b[0m\u001b[0;34m\u001b[0m\u001b[0m\n\u001b[1;32m      5\u001b[0m \u001b[0mprint\u001b[0m\u001b[0;34m(\u001b[0m\u001b[0mdivision\u001b[0m\u001b[0;34m)\u001b[0m\u001b[0;34m\u001b[0m\u001b[0;34m\u001b[0m\u001b[0m\n",
            "\u001b[0;31mTypeError\u001b[0m: unsupported operand type(s) for /: 'str' and 'str'"
          ]
        }
      ]
    },
    {
      "cell_type": "code",
      "source": [
        "print(\"hi\", end = \" \")\n",
        "print(\"how are you\", end = \" \")"
      ],
      "metadata": {
        "id": "lsFKo2zjI2iO",
        "outputId": "5f1cbf57-a71b-4988-9696-546c33f0fa7f",
        "colab": {
          "base_uri": "https://localhost:8080/"
        }
      },
      "execution_count": null,
      "outputs": [
        {
          "output_type": "stream",
          "name": "stdout",
          "text": [
            "hi how are you "
          ]
        }
      ]
    },
    {
      "cell_type": "code",
      "source": [
        "print(\"hello\")"
      ],
      "metadata": {
        "id": "cboh_8_kXnb7",
        "outputId": "b4f4b9d8-d0b2-4816-fff6-e271952fbbe6",
        "colab": {
          "base_uri": "https://localhost:8080/"
        }
      },
      "execution_count": null,
      "outputs": [
        {
          "output_type": "stream",
          "name": "stdout",
          "text": [
            "hello\n"
          ]
        }
      ]
    },
    {
      "cell_type": "code",
      "source": [
        "a = 100\n",
        "b = 100\n",
        "print(a is b)\n",
        "\n",
        "#and we also check the id(which shows the place of values where python is storing these values)\n",
        "print(id(a))\n",
        "print(id(b))"
      ],
      "metadata": {
        "id": "bGUlDA1kYAqU",
        "outputId": "0dd1b7cd-c823-4fc4-bfe7-d78860e69fe7",
        "colab": {
          "base_uri": "https://localhost:8080/"
        }
      },
      "execution_count": null,
      "outputs": [
        {
          "output_type": "stream",
          "name": "stdout",
          "text": [
            "True\n",
            "10754024\n",
            "10754024\n"
          ]
        }
      ]
    },
    {
      "cell_type": "markdown",
      "source": [
        "###**This difference is coming because at the time of launching python it automatically stores the number from -5 to 256 and whenever we are giving any new number other than that then it will always give false if the values or integer goes beyong 256 and below -5**"
      ],
      "metadata": {
        "id": "LdeBlAssYNcR"
      }
    },
    {
      "cell_type": "code",
      "source": [
        "a = 1000\n",
        "b = 1000\n",
        "print(a is b)\n",
        "\n",
        "print(id(a))\n",
        "print(id(b))"
      ],
      "metadata": {
        "id": "PntN0HGaYIwn",
        "outputId": "73c90e78-45b4-4b76-a7c6-e450cfb1511f",
        "colab": {
          "base_uri": "https://localhost:8080/"
        }
      },
      "execution_count": null,
      "outputs": [
        {
          "output_type": "stream",
          "name": "stdout",
          "text": [
            "False\n",
            "137668618543888\n",
            "137668618542800\n"
          ]
        }
      ]
    },
    {
      "cell_type": "code",
      "source": [
        "#and we also check the id(which shows the place of values where python is storing these values)\n",
        "print(id(a))\n",
        "print(id(b))"
      ],
      "metadata": {
        "id": "P82SfVZyYL7Q",
        "outputId": "d8b2bdf5-abf7-40ac-8e86-11c65c75d231",
        "colab": {
          "base_uri": "https://localhost:8080/"
        }
      },
      "execution_count": null,
      "outputs": [
        {
          "output_type": "stream",
          "name": "stdout",
          "text": [
            "137668618542992\n",
            "137668618546448\n"
          ]
        }
      ]
    },
    {
      "cell_type": "code",
      "source": [
        "#formatting with--  f.string and .format\n",
        "\n",
        "name = \"Jatin\"\n",
        "age = \"30\"\n",
        "print(\"my name is\", name, \"my age is\", age)\n",
        "print(f'my name is {name}, my age is {age}')\n",
        "print(\"my name is {}, my age is {}\".format(name,age))"
      ],
      "metadata": {
        "id": "mYoXw5yHZNzL",
        "outputId": "e53bcd35-1130-41e9-ec67-eb3962748dfd",
        "colab": {
          "base_uri": "https://localhost:8080/"
        }
      },
      "execution_count": null,
      "outputs": [
        {
          "output_type": "stream",
          "name": "stdout",
          "text": [
            "my name is Jatin my age is 30\n",
            "my name is Jatin, my age is 30\n",
            "my name is Jatin, my age is 30\n"
          ]
        }
      ]
    },
    {
      "cell_type": "code",
      "source": [
        "#list"
      ],
      "metadata": {
        "id": "nGga4ESDaTKM"
      },
      "execution_count": null,
      "outputs": []
    },
    {
      "cell_type": "code",
      "source": [
        "#string"
      ],
      "metadata": {
        "id": "m8usaOeNKP9O"
      },
      "execution_count": null,
      "outputs": []
    },
    {
      "cell_type": "markdown",
      "source": [
        "###Tuple is immutable but here we are changing the values of the list which is inside a tuple, so the id is same for both the tuple otherwise the id could have changed."
      ],
      "metadata": {
        "id": "VMdTUV8TLIB3"
      }
    },
    {
      "cell_type": "code",
      "source": [
        "#Tuple\n",
        "a = (1,2,3,[4, 100, 6])\n",
        "a[3][1] = 12\n",
        "a"
      ],
      "metadata": {
        "id": "lKfUDFKWKYhf",
        "outputId": "78496fb0-ed5f-415f-e5fe-96449750f321",
        "colab": {
          "base_uri": "https://localhost:8080/"
        }
      },
      "execution_count": null,
      "outputs": [
        {
          "output_type": "execute_result",
          "data": {
            "text/plain": [
              "(1, 2, 3, [4, 12, 6])"
            ]
          },
          "metadata": {},
          "execution_count": 1
        }
      ]
    },
    {
      "cell_type": "code",
      "source": [
        "id(a)"
      ],
      "metadata": {
        "id": "lVBEyh_BKj6u",
        "outputId": "177b837f-7ccc-42af-c306-77e0fae5e7f7",
        "colab": {
          "base_uri": "https://localhost:8080/"
        }
      },
      "execution_count": null,
      "outputs": [
        {
          "output_type": "execute_result",
          "data": {
            "text/plain": [
              "138960661874464"
            ]
          },
          "metadata": {},
          "execution_count": 2
        }
      ]
    },
    {
      "cell_type": "code",
      "source": [
        "a[3][1] = 23\n",
        "a"
      ],
      "metadata": {
        "id": "DJ912vZqKqSo",
        "outputId": "40b9969c-1932-4177-8370-1bc53d92349b",
        "colab": {
          "base_uri": "https://localhost:8080/"
        }
      },
      "execution_count": null,
      "outputs": [
        {
          "output_type": "execute_result",
          "data": {
            "text/plain": [
              "(1, 2, 3, [4, 23, 6])"
            ]
          },
          "metadata": {},
          "execution_count": 3
        }
      ]
    },
    {
      "cell_type": "code",
      "source": [
        "id(a)"
      ],
      "metadata": {
        "id": "zfx4v5AMK_99",
        "outputId": "ed49b165-104c-4ce3-e27f-bd6d79f72641",
        "colab": {
          "base_uri": "https://localhost:8080/"
        }
      },
      "execution_count": null,
      "outputs": [
        {
          "output_type": "execute_result",
          "data": {
            "text/plain": [
              "138960661874464"
            ]
          },
          "metadata": {},
          "execution_count": 4
        }
      ]
    },
    {
      "cell_type": "code",
      "source": [
        "#Dictionary\n",
        "stu_details = {\"stuid\": [1,2,3,4],\n",
        "               \"name\": [\"om prakash\", \"Rohit\", \"Dipak\", \"Ram\"],\n",
        "               \"sub\": [\"python\", \"sql\", \"Tableau\", \"Power Bi\"]}\n",
        "stu_details"
      ],
      "metadata": {
        "id": "9u1sgWCaLBuf",
        "outputId": "e571f7a3-4a25-42bf-905c-febdbbbf29fd",
        "colab": {
          "base_uri": "https://localhost:8080/"
        }
      },
      "execution_count": null,
      "outputs": [
        {
          "output_type": "execute_result",
          "data": {
            "text/plain": [
              "{'stuid': [1, 2, 3, 4],\n",
              " 'name': ['om prakash', 'Rohit', 'Dipak', 'Ram'],\n",
              " 'sub': ['python', 'sql', 'Tableau', 'Power Bi']}"
            ]
          },
          "metadata": {},
          "execution_count": 6
        }
      ]
    },
    {
      "cell_type": "code",
      "source": [
        "#if we wanted to delete the keys of the dictionary, or can delete the multiple keys by using \"del\" keyword\n",
        "del stu_details[\"stuid\"]                #giving error because i have already deleted it"
      ],
      "metadata": {
        "id": "Byql_DEGM7Qa",
        "outputId": "91a64116-4d0b-44d8-826a-51bd35148fbf",
        "colab": {
          "base_uri": "https://localhost:8080/",
          "height": 158
        }
      },
      "execution_count": null,
      "outputs": [
        {
          "output_type": "error",
          "ename": "KeyError",
          "evalue": "'stuid'",
          "traceback": [
            "\u001b[0;31m---------------------------------------------------------------------------\u001b[0m",
            "\u001b[0;31mKeyError\u001b[0m                                  Traceback (most recent call last)",
            "\u001b[0;32m<ipython-input-12-20d72d74981a>\u001b[0m in \u001b[0;36m<cell line: 0>\u001b[0;34m()\u001b[0m\n\u001b[1;32m      1\u001b[0m \u001b[0;31m#if we wanted to delete the keys of the dictionary, or can delete the multiple keys by using \"del\" keyword\u001b[0m\u001b[0;34m\u001b[0m\u001b[0;34m\u001b[0m\u001b[0m\n\u001b[0;32m----> 2\u001b[0;31m \u001b[0;32mdel\u001b[0m \u001b[0mstu_details\u001b[0m\u001b[0;34m[\u001b[0m\u001b[0;34m\"stuid\"\u001b[0m\u001b[0;34m]\u001b[0m\u001b[0;34m\u001b[0m\u001b[0;34m\u001b[0m\u001b[0m\n\u001b[0m",
            "\u001b[0;31mKeyError\u001b[0m: 'stuid'"
          ]
        }
      ]
    },
    {
      "cell_type": "code",
      "source": [
        "stu_details"
      ],
      "metadata": {
        "id": "5HPXgPGnRdVE",
        "outputId": "c5be1bb4-8212-4853-8a50-b6d5fffad8e5",
        "colab": {
          "base_uri": "https://localhost:8080/"
        }
      },
      "execution_count": null,
      "outputs": [
        {
          "output_type": "execute_result",
          "data": {
            "text/plain": [
              "{'name': ['om prakash', 'Rohit', 'Dipak', 'Ram'],\n",
              " 'sub': ['python', 'sql', 'Tableau', 'Power Bi']}"
            ]
          },
          "metadata": {},
          "execution_count": 9
        }
      ]
    },
    {
      "cell_type": "code",
      "source": [
        "#we can create dictionary like this as well\n",
        "dict({1:2})"
      ],
      "metadata": {
        "id": "jOpYBRvCRgBv",
        "outputId": "5c665939-e0ee-4006-8f1e-d53686c88010",
        "colab": {
          "base_uri": "https://localhost:8080/"
        }
      },
      "execution_count": null,
      "outputs": [
        {
          "output_type": "execute_result",
          "data": {
            "text/plain": [
              "{1: 2}"
            ]
          },
          "metadata": {},
          "execution_count": 10
        }
      ]
    },
    {
      "cell_type": "code",
      "source": [
        "#fromkeys method in dict- when i want to create a new dictionary without knowing the values of the key.\n",
        "new_dict = dict.fromkeys([\"sid\",\"sname\"])\n",
        "new_dict"
      ],
      "metadata": {
        "id": "jywAtGjZSGN5",
        "outputId": "3cd58bb8-6658-4929-95a9-80cb5f8309db",
        "colab": {
          "base_uri": "https://localhost:8080/"
        }
      },
      "execution_count": null,
      "outputs": [
        {
          "output_type": "execute_result",
          "data": {
            "text/plain": [
              "{'sid': None, 'sname': None}"
            ]
          },
          "metadata": {},
          "execution_count": 11
        }
      ]
    },
    {
      "cell_type": "code",
      "source": [
        "#now we can add the values\n",
        "new_dict[\"sid\"] = [1,2,3]\n",
        "new_dict"
      ],
      "metadata": {
        "id": "YrdLd7YMS2Ec",
        "outputId": "39dd5e70-0b36-4fdc-ea63-c0144453e8a3",
        "colab": {
          "base_uri": "https://localhost:8080/"
        }
      },
      "execution_count": null,
      "outputs": [
        {
          "output_type": "execute_result",
          "data": {
            "text/plain": [
              "{'sid': [1, 2, 3], 'sname': None}"
            ]
          },
          "metadata": {},
          "execution_count": 13
        }
      ]
    },
    {
      "cell_type": "code",
      "source": [
        "#to assigning the same values in a dictionary instead of none values;\n",
        "new_dict = dict.fromkeys([\"sid\",\"sname\"], \"2\")\n",
        "new_dict"
      ],
      "metadata": {
        "id": "hLHjyjNbTjb9",
        "outputId": "36cf25fd-92d1-4a47-9654-fa0383fde72c",
        "colab": {
          "base_uri": "https://localhost:8080/"
        }
      },
      "execution_count": null,
      "outputs": [
        {
          "output_type": "execute_result",
          "data": {
            "text/plain": [
              "{'sid': '2', 'sname': '2'}"
            ]
          },
          "metadata": {},
          "execution_count": 14
        }
      ]
    },
    {
      "cell_type": "code",
      "source": [
        "#get and using index can give the same values"
      ],
      "metadata": {
        "id": "nDISH6cCUUvb"
      },
      "execution_count": null,
      "outputs": []
    },
    {
      "cell_type": "code",
      "source": [],
      "metadata": {
        "id": "EjOVbFq2UZ4r"
      },
      "execution_count": null,
      "outputs": []
    },
    {
      "cell_type": "code",
      "source": [
        "new_dict.get(\"sid\")"
      ],
      "metadata": {
        "id": "WqaLWB_kUApY",
        "outputId": "af2b5ba6-6133-4fde-84ef-0d18ea2bb001",
        "colab": {
          "base_uri": "https://localhost:8080/",
          "height": 36
        }
      },
      "execution_count": null,
      "outputs": [
        {
          "output_type": "execute_result",
          "data": {
            "text/plain": [
              "'2'"
            ],
            "application/vnd.google.colaboratory.intrinsic+json": {
              "type": "string"
            }
          },
          "metadata": {},
          "execution_count": 15
        }
      ]
    },
    {
      "cell_type": "code",
      "source": [
        "new_dict[\"sid\"]"
      ],
      "metadata": {
        "id": "Yl-ooV8iUPBd",
        "outputId": "e2b66fec-a69c-4de4-bc50-8d33ddaca629",
        "colab": {
          "base_uri": "https://localhost:8080/",
          "height": 36
        }
      },
      "execution_count": null,
      "outputs": [
        {
          "output_type": "execute_result",
          "data": {
            "text/plain": [
              "'2'"
            ],
            "application/vnd.google.colaboratory.intrinsic+json": {
              "type": "string"
            }
          },
          "metadata": {},
          "execution_count": 16
        }
      ]
    },
    {
      "cell_type": "code",
      "source": [
        "new_dict.items()"
      ],
      "metadata": {
        "id": "-x25doRGUS-J",
        "outputId": "3b771349-b823-4996-dfd9-d1547b300f97",
        "colab": {
          "base_uri": "https://localhost:8080/"
        }
      },
      "execution_count": null,
      "outputs": [
        {
          "output_type": "execute_result",
          "data": {
            "text/plain": [
              "dict_items([('sid', '2'), ('sname', '2')])"
            ]
          },
          "metadata": {},
          "execution_count": 17
        }
      ]
    },
    {
      "cell_type": "code",
      "source": [
        "new_dict.keys()"
      ],
      "metadata": {
        "id": "aud9EUiXUdMT",
        "outputId": "9f265359-51ac-416f-a1e7-a23e101af381",
        "colab": {
          "base_uri": "https://localhost:8080/"
        }
      },
      "execution_count": null,
      "outputs": [
        {
          "output_type": "execute_result",
          "data": {
            "text/plain": [
              "dict_keys(['sid', 'sname'])"
            ]
          },
          "metadata": {},
          "execution_count": 18
        }
      ]
    },
    {
      "cell_type": "code",
      "source": [
        "new_dict.values()"
      ],
      "metadata": {
        "id": "pMohAFA7Uhjo",
        "outputId": "db0c6802-c05c-4782-ed6e-466385605ec2",
        "colab": {
          "base_uri": "https://localhost:8080/"
        }
      },
      "execution_count": null,
      "outputs": [
        {
          "output_type": "execute_result",
          "data": {
            "text/plain": [
              "dict_values(['2', '2'])"
            ]
          },
          "metadata": {},
          "execution_count": 20
        }
      ]
    },
    {
      "cell_type": "code",
      "source": [
        "#deleting by pop method\n",
        "new_dict.pop(\"sname\")  #giving error because i have deleted this"
      ],
      "metadata": {
        "id": "9AQR1hY2UkYz",
        "outputId": "b572ce53-3923-4e36-f637-402289ca58d4",
        "colab": {
          "base_uri": "https://localhost:8080/",
          "height": 158
        }
      },
      "execution_count": null,
      "outputs": [
        {
          "output_type": "error",
          "ename": "KeyError",
          "evalue": "'sname'",
          "traceback": [
            "\u001b[0;31m---------------------------------------------------------------------------\u001b[0m",
            "\u001b[0;31mKeyError\u001b[0m                                  Traceback (most recent call last)",
            "\u001b[0;32m<ipython-input-22-be975d7bfa81>\u001b[0m in \u001b[0;36m<cell line: 0>\u001b[0;34m()\u001b[0m\n\u001b[1;32m      1\u001b[0m \u001b[0;31m#deleting by pop method\u001b[0m\u001b[0;34m\u001b[0m\u001b[0;34m\u001b[0m\u001b[0m\n\u001b[0;32m----> 2\u001b[0;31m \u001b[0mnew_dict\u001b[0m\u001b[0;34m.\u001b[0m\u001b[0mpop\u001b[0m\u001b[0;34m(\u001b[0m\u001b[0;34m\"sname\"\u001b[0m\u001b[0;34m)\u001b[0m\u001b[0;34m\u001b[0m\u001b[0;34m\u001b[0m\u001b[0m\n\u001b[0m",
            "\u001b[0;31mKeyError\u001b[0m: 'sname'"
          ]
        }
      ]
    },
    {
      "cell_type": "code",
      "source": [
        "new_dict"
      ],
      "metadata": {
        "id": "ta8c3EviU61k",
        "outputId": "593f6132-3606-4e29-99f7-2b7f8606a439",
        "colab": {
          "base_uri": "https://localhost:8080/"
        }
      },
      "execution_count": null,
      "outputs": [
        {
          "output_type": "execute_result",
          "data": {
            "text/plain": [
              "{'sid': '2'}"
            ]
          },
          "metadata": {},
          "execution_count": 23
        }
      ]
    },
    {
      "cell_type": "code",
      "source": [
        "new_dict = dict.fromkeys([\"sid\",\"sname\"], \"2\")\n",
        "new_dict"
      ],
      "metadata": {
        "id": "WfV8hG83VR_L",
        "outputId": "f0d77f99-ad0d-4e5d-8e13-290ac156eb49",
        "colab": {
          "base_uri": "https://localhost:8080/"
        }
      },
      "execution_count": null,
      "outputs": [
        {
          "output_type": "execute_result",
          "data": {
            "text/plain": [
              "{'sid': '2', 'sname': '2'}"
            ]
          },
          "metadata": {},
          "execution_count": 24
        }
      ]
    },
    {
      "cell_type": "code",
      "source": [
        "#if we are wanted to capturing the pop values so that we don't want to remove\n",
        "new_dict[\"s_name\"] = new_dict.pop(\"sname\")\n",
        "new_dict"
      ],
      "metadata": {
        "id": "4XFb1v2ZV_G_",
        "outputId": "369455e3-b955-49cf-a54b-81b46564507d",
        "colab": {
          "base_uri": "https://localhost:8080/"
        }
      },
      "execution_count": null,
      "outputs": [
        {
          "output_type": "execute_result",
          "data": {
            "text/plain": [
              "{'sid': '2', 's_name': '2'}"
            ]
          },
          "metadata": {},
          "execution_count": 25
        }
      ]
    },
    {
      "cell_type": "code",
      "source": [
        "#if we wanted to add a new key in the existing dictionary then we can do it by using \"setdefault\"\n",
        "new_dict.setdefault(\"smarks\")         #it will take by default none as values"
      ],
      "metadata": {
        "id": "gplgiYWuWWXC"
      },
      "execution_count": null,
      "outputs": []
    },
    {
      "cell_type": "code",
      "source": [
        "new_dict"
      ],
      "metadata": {
        "id": "gnfZQF3fW_j0",
        "outputId": "c542c13b-020a-404c-8618-05715c0997be",
        "colab": {
          "base_uri": "https://localhost:8080/"
        }
      },
      "execution_count": null,
      "outputs": [
        {
          "output_type": "execute_result",
          "data": {
            "text/plain": [
              "{'sid': '2', 's_name': '2', 'smarks': None}"
            ]
          },
          "metadata": {},
          "execution_count": 27
        }
      ]
    },
    {
      "cell_type": "code",
      "source": [
        "new_dict[\"smarks\"] = 3"
      ],
      "metadata": {
        "id": "iV1wYc_KXAu7"
      },
      "execution_count": null,
      "outputs": []
    },
    {
      "cell_type": "code",
      "source": [
        "new_dict"
      ],
      "metadata": {
        "id": "GyfkBhbcXusR",
        "outputId": "0dac6404-c01c-4108-d1f1-e7fc3feb7c7f",
        "colab": {
          "base_uri": "https://localhost:8080/"
        }
      },
      "execution_count": null,
      "outputs": [
        {
          "output_type": "execute_result",
          "data": {
            "text/plain": [
              "{'sid': '2', 's_name': '2', 'smarks': 3}"
            ]
          },
          "metadata": {},
          "execution_count": 31
        }
      ]
    },
    {
      "cell_type": "code",
      "source": [
        "#update method\n",
        "a = {1:3, 2:4}\n",
        "b = {1:4, 5:6}      #here in 1 is the same key in both the dict but the priority will go to the second because we wanted to update the values.\n",
        "a.update(b)\n",
        "a"
      ],
      "metadata": {
        "id": "g09wYYeeX1k8",
        "outputId": "4adc9e50-5e7c-4ec4-b5c5-eb25fe137621",
        "colab": {
          "base_uri": "https://localhost:8080/"
        }
      },
      "execution_count": null,
      "outputs": [
        {
          "output_type": "execute_result",
          "data": {
            "text/plain": [
              "{1: 4, 2: 4, 5: 6}"
            ]
          },
          "metadata": {},
          "execution_count": 32
        }
      ]
    },
    {
      "cell_type": "markdown",
      "source": [
        "##**Sets**\n",
        "\n",
        "###because of the unsorted behaviour indexing is not done.\n",
        "\n",
        "###- so slicing would not work"
      ],
      "metadata": {
        "id": "Yy48-H0jY0Hx"
      }
    },
    {
      "cell_type": "code",
      "source": [
        "#you can add your knowledge as well whenever i will come to see the work again."
      ],
      "metadata": {
        "id": "K5RfxYh7YW4O"
      },
      "execution_count": null,
      "outputs": []
    },
    {
      "cell_type": "code",
      "source": [
        "a = {1,2,23,3,4,4,4,5,5,5,5,6,7,8}"
      ],
      "metadata": {
        "id": "z3DhN3Z5ZcOX"
      },
      "execution_count": null,
      "outputs": []
    },
    {
      "cell_type": "code",
      "source": [
        "a[1]            #throwing the error. so"
      ],
      "metadata": {
        "id": "UmS7W1UCauoF",
        "outputId": "254ea218-018e-4b99-c69f-8c070de71bb4",
        "colab": {
          "base_uri": "https://localhost:8080/",
          "height": 141
        }
      },
      "execution_count": null,
      "outputs": [
        {
          "output_type": "error",
          "ename": "TypeError",
          "evalue": "'set' object is not subscriptable",
          "traceback": [
            "\u001b[0;31m---------------------------------------------------------------------------\u001b[0m",
            "\u001b[0;31mTypeError\u001b[0m                                 Traceback (most recent call last)",
            "\u001b[0;32m<ipython-input-41-057712df8265>\u001b[0m in \u001b[0;36m<cell line: 0>\u001b[0;34m()\u001b[0m\n\u001b[0;32m----> 1\u001b[0;31m \u001b[0ma\u001b[0m\u001b[0;34m[\u001b[0m\u001b[0;36m1\u001b[0m\u001b[0;34m]\u001b[0m            \u001b[0;31m#throwing the error. so\u001b[0m\u001b[0;34m\u001b[0m\u001b[0;34m\u001b[0m\u001b[0m\n\u001b[0m",
            "\u001b[0;31mTypeError\u001b[0m: 'set' object is not subscriptable"
          ]
        }
      ]
    },
    {
      "cell_type": "markdown",
      "source": [],
      "metadata": {
        "id": "wAyjerEdaSy9"
      }
    },
    {
      "cell_type": "code",
      "source": [
        "#set is the unordered collection of unique data but here the set is ordered......... WHY???\n",
        "\n",
        "#But internally it is unsorted\n",
        "\n",
        "\n",
        "a                       #if we have duplicates values in a list then we can get the distint by typeconversion."
      ],
      "metadata": {
        "id": "vO7uxVzKZgVq",
        "outputId": "b1b5cacd-edc1-470c-cdb2-56dec256185b",
        "colab": {
          "base_uri": "https://localhost:8080/"
        }
      },
      "execution_count": null,
      "outputs": [
        {
          "output_type": "execute_result",
          "data": {
            "text/plain": [
              "{1, 2, 3, 4, 5, 6, 7, 8, 23}"
            ]
          },
          "metadata": {},
          "execution_count": 38
        }
      ]
    },
    {
      "cell_type": "code",
      "source": [
        "#can do, min, max, sorted as well\n",
        "\n",
        "sorted(a, reverse = True)"
      ],
      "metadata": {
        "id": "rjyoYhiiZiyl",
        "outputId": "4e5ca481-731b-46ec-e857-21c1ff52a44f",
        "colab": {
          "base_uri": "https://localhost:8080/"
        }
      },
      "execution_count": null,
      "outputs": [
        {
          "output_type": "execute_result",
          "data": {
            "text/plain": [
              "[23, 8, 7, 6, 5, 4, 3, 2, 1]"
            ]
          },
          "metadata": {},
          "execution_count": 39
        }
      ]
    },
    {
      "cell_type": "code",
      "source": [
        "#functions of sets- add, len, sum, pop(here in set pop will remove the random values), difference, symmetric difference, intersection\n",
        "# isdisjoint(when two sets have no common values), issuperset, union(throwing the values), update(actually doing the union by updating the values)\n",
        "\n",
        "a.add(20)\n",
        "print(a)       #we can add one by one element not the multiple elements at one time\n"
      ],
      "metadata": {
        "id": "-1AjwmH3Z5NB",
        "outputId": "1d996255-fb63-43cc-8ba3-e509d5ff96af",
        "colab": {
          "base_uri": "https://localhost:8080/"
        }
      },
      "execution_count": null,
      "outputs": [
        {
          "output_type": "stream",
          "name": "stdout",
          "text": [
            "{1, 2, 3, 4, 5, 6, 7, 8, 20, 23}\n"
          ]
        }
      ]
    },
    {
      "cell_type": "code",
      "source": [
        "#although set is mutable but it can only store the immutable values.\n",
        "\n",
        "a = {1,2,3,4}\n",
        "#a.add([5,6,7])\n",
        "a.add((5,6,7))\n",
        "a"
      ],
      "metadata": {
        "id": "BXO8ppQPbeQK",
        "outputId": "c7af2d97-01d3-40f9-f324-07d4fd5b6cf3",
        "colab": {
          "base_uri": "https://localhost:8080/"
        }
      },
      "execution_count": null,
      "outputs": [
        {
          "output_type": "execute_result",
          "data": {
            "text/plain": [
              "{(5, 6, 7), 1, 2, 3, 4}"
            ]
          },
          "metadata": {},
          "execution_count": 45
        }
      ]
    },
    {
      "cell_type": "code",
      "source": [
        "a.clear()      #will give the empty set"
      ],
      "metadata": {
        "id": "OVJg4HtTcZ0l"
      },
      "execution_count": null,
      "outputs": []
    },
    {
      "cell_type": "code",
      "source": [
        "a"
      ],
      "metadata": {
        "id": "JXMRFaamcP2D",
        "outputId": "41f6ec4e-3d6f-425a-8dac-56d79080f431",
        "colab": {
          "base_uri": "https://localhost:8080/"
        }
      },
      "execution_count": null,
      "outputs": [
        {
          "output_type": "execute_result",
          "data": {
            "text/plain": [
              "set()"
            ]
          },
          "metadata": {},
          "execution_count": 47
        }
      ]
    },
    {
      "cell_type": "code",
      "source": [
        "set1 = {1,2,3,4,5}\n",
        "set2 = {4,5,6,7}\n",
        "set3 = {6,7,8,9,10}\n",
        "\n",
        "set1.difference(set2)"
      ],
      "metadata": {
        "id": "WnyJBjWacenW",
        "outputId": "1291a6ae-227b-4ed7-b41d-1099672ad860",
        "colab": {
          "base_uri": "https://localhost:8080/"
        }
      },
      "execution_count": null,
      "outputs": [
        {
          "output_type": "execute_result",
          "data": {
            "text/plain": [
              "{1, 2, 3}"
            ]
          },
          "metadata": {},
          "execution_count": 48
        }
      ]
    },
    {
      "cell_type": "code",
      "source": [
        "set1.symmetric_difference(set2)  #will remove the comman elements only"
      ],
      "metadata": {
        "id": "D7yb_JScfQuA",
        "outputId": "abd40b61-be4d-446a-9e9a-743a785f27a5",
        "colab": {
          "base_uri": "https://localhost:8080/"
        }
      },
      "execution_count": null,
      "outputs": [
        {
          "output_type": "execute_result",
          "data": {
            "text/plain": [
              "{1, 2, 3, 6, 7}"
            ]
          },
          "metadata": {},
          "execution_count": 49
        }
      ]
    },
    {
      "cell_type": "code",
      "source": [
        "set1.intersection(set2)"
      ],
      "metadata": {
        "id": "Xc2JbNE1fame",
        "outputId": "e0018a3d-2b92-45e2-d059-9d19f8f59ab8",
        "colab": {
          "base_uri": "https://localhost:8080/"
        }
      },
      "execution_count": null,
      "outputs": [
        {
          "output_type": "execute_result",
          "data": {
            "text/plain": [
              "{4, 5}"
            ]
          },
          "metadata": {},
          "execution_count": 50
        }
      ]
    },
    {
      "cell_type": "code",
      "source": [
        "set1.difference_update(set2)"
      ],
      "metadata": {
        "id": "40WpNRTzfo-X"
      },
      "execution_count": null,
      "outputs": []
    },
    {
      "cell_type": "code",
      "source": [
        "set1          #same as difference"
      ],
      "metadata": {
        "id": "AI4dcZj2gXSx",
        "outputId": "944a9ecd-bc3f-486b-bfb8-7b6b678b87f3",
        "colab": {
          "base_uri": "https://localhost:8080/"
        }
      },
      "execution_count": null,
      "outputs": [
        {
          "output_type": "execute_result",
          "data": {
            "text/plain": [
              "{1, 2, 3}"
            ]
          },
          "metadata": {},
          "execution_count": 52
        }
      ]
    },
    {
      "cell_type": "code",
      "source": [],
      "metadata": {
        "id": "65K6ZpOLgbY9"
      },
      "execution_count": null,
      "outputs": []
    },
    {
      "cell_type": "markdown",
      "source": [
        "###**Frozen set- To create a immutable sets.**"
      ],
      "metadata": {
        "id": "mcLwf51eh-D7"
      }
    },
    {
      "cell_type": "code",
      "source": [
        "set5 = {1,2,3,4,5}\n",
        "froz_set = frozenset(set5)\n",
        "froz_set"
      ],
      "metadata": {
        "id": "Kgn6WHN1iDXO",
        "outputId": "cd286203-f902-413b-bd1f-d7766852e226",
        "colab": {
          "base_uri": "https://localhost:8080/"
        }
      },
      "execution_count": null,
      "outputs": [
        {
          "output_type": "execute_result",
          "data": {
            "text/plain": [
              "frozenset({1, 2, 3, 4, 5})"
            ]
          },
          "metadata": {},
          "execution_count": 2
        }
      ]
    },
    {
      "cell_type": "code",
      "source": [
        "set6 = {4,5,6}\n",
        "set5.intersection(set6)        #Gives the intersection of frozen set as well"
      ],
      "metadata": {
        "id": "7gxF3qDBiO-a",
        "outputId": "ceb30e91-9eab-446f-9fab-07dc1dbf2b48",
        "colab": {
          "base_uri": "https://localhost:8080/",
          "height": 158
        }
      },
      "execution_count": 1,
      "outputs": [
        {
          "output_type": "error",
          "ename": "NameError",
          "evalue": "name 'set5' is not defined",
          "traceback": [
            "\u001b[0;31m---------------------------------------------------------------------------\u001b[0m",
            "\u001b[0;31mNameError\u001b[0m                                 Traceback (most recent call last)",
            "\u001b[0;32m<ipython-input-1-0865b3e1b264>\u001b[0m in \u001b[0;36m<cell line: 0>\u001b[0;34m()\u001b[0m\n\u001b[1;32m      1\u001b[0m \u001b[0mset6\u001b[0m \u001b[0;34m=\u001b[0m \u001b[0;34m{\u001b[0m\u001b[0;36m4\u001b[0m\u001b[0;34m,\u001b[0m\u001b[0;36m5\u001b[0m\u001b[0;34m,\u001b[0m\u001b[0;36m6\u001b[0m\u001b[0;34m}\u001b[0m\u001b[0;34m\u001b[0m\u001b[0;34m\u001b[0m\u001b[0m\n\u001b[0;32m----> 2\u001b[0;31m \u001b[0mset5\u001b[0m\u001b[0;34m.\u001b[0m\u001b[0mintersection\u001b[0m\u001b[0;34m(\u001b[0m\u001b[0mset6\u001b[0m\u001b[0;34m)\u001b[0m        \u001b[0;31m#Gives the intersection of frozen set as well\u001b[0m\u001b[0;34m\u001b[0m\u001b[0;34m\u001b[0m\u001b[0m\n\u001b[0m",
            "\u001b[0;31mNameError\u001b[0m: name 'set5' is not defined"
          ]
        }
      ]
    },
    {
      "cell_type": "code",
      "source": [
        "not(True or False)"
      ],
      "metadata": {
        "id": "l7TPQErwiYNl",
        "outputId": "f6b5b042-4936-4464-d808-5ebe590fc27b",
        "colab": {
          "base_uri": "https://localhost:8080/"
        }
      },
      "execution_count": 3,
      "outputs": [
        {
          "output_type": "execute_result",
          "data": {
            "text/plain": [
              "False"
            ]
          },
          "metadata": {},
          "execution_count": 3
        }
      ]
    },
    {
      "cell_type": "code",
      "source": [
        "list1 = [1,2,3]\n",
        "list1[::-1]\n",
        "list1.reverse()\n",
        "list1 = reversed(list1)"
      ],
      "metadata": {
        "id": "UQbxdO0B_Xdr"
      },
      "execution_count": 4,
      "outputs": []
    },
    {
      "cell_type": "code",
      "source": [
        "list1.append([4, 5])\n",
        "list1.extend([4, 5])\n",
        "list1 += [4, 5]"
      ],
      "metadata": {
        "id": "g0NDrGnt_rkt",
        "outputId": "156148ea-4c6b-4013-c3d1-c6a6701bf328",
        "colab": {
          "base_uri": "https://localhost:8080/",
          "height": 176
        }
      },
      "execution_count": 5,
      "outputs": [
        {
          "output_type": "error",
          "ename": "AttributeError",
          "evalue": "'list_reverseiterator' object has no attribute 'append'",
          "traceback": [
            "\u001b[0;31m---------------------------------------------------------------------------\u001b[0m",
            "\u001b[0;31mAttributeError\u001b[0m                            Traceback (most recent call last)",
            "\u001b[0;32m<ipython-input-5-e52584d5ce8c>\u001b[0m in \u001b[0;36m<cell line: 0>\u001b[0;34m()\u001b[0m\n\u001b[0;32m----> 1\u001b[0;31m \u001b[0mlist1\u001b[0m\u001b[0;34m.\u001b[0m\u001b[0mappend\u001b[0m\u001b[0;34m(\u001b[0m\u001b[0;34m[\u001b[0m\u001b[0;36m4\u001b[0m\u001b[0;34m,\u001b[0m \u001b[0;36m5\u001b[0m\u001b[0;34m]\u001b[0m\u001b[0;34m)\u001b[0m\u001b[0;34m\u001b[0m\u001b[0;34m\u001b[0m\u001b[0m\n\u001b[0m\u001b[1;32m      2\u001b[0m \u001b[0mlist1\u001b[0m\u001b[0;34m.\u001b[0m\u001b[0mextend\u001b[0m\u001b[0;34m(\u001b[0m\u001b[0;34m[\u001b[0m\u001b[0;36m4\u001b[0m\u001b[0;34m,\u001b[0m \u001b[0;36m5\u001b[0m\u001b[0;34m]\u001b[0m\u001b[0;34m)\u001b[0m\u001b[0;34m\u001b[0m\u001b[0;34m\u001b[0m\u001b[0m\n\u001b[1;32m      3\u001b[0m \u001b[0mlist1\u001b[0m \u001b[0;34m+=\u001b[0m \u001b[0;34m[\u001b[0m\u001b[0;36m4\u001b[0m\u001b[0;34m,\u001b[0m \u001b[0;36m5\u001b[0m\u001b[0;34m]\u001b[0m\u001b[0;34m\u001b[0m\u001b[0;34m\u001b[0m\u001b[0m\n",
            "\u001b[0;31mAttributeError\u001b[0m: 'list_reverseiterator' object has no attribute 'append'"
          ]
        }
      ]
    },
    {
      "cell_type": "code",
      "source": [
        "tup = (1,2)\n",
        "tup.add(\"e\")"
      ],
      "metadata": {
        "id": "uxJjwiAt_yWi",
        "outputId": "ba0d3106-6db1-4948-fb0c-f1fbf5feba8e",
        "colab": {
          "base_uri": "https://localhost:8080/",
          "height": 158
        }
      },
      "execution_count": 6,
      "outputs": [
        {
          "output_type": "error",
          "ename": "AttributeError",
          "evalue": "'tuple' object has no attribute 'add'",
          "traceback": [
            "\u001b[0;31m---------------------------------------------------------------------------\u001b[0m",
            "\u001b[0;31mAttributeError\u001b[0m                            Traceback (most recent call last)",
            "\u001b[0;32m<ipython-input-6-b79cc9e20dfe>\u001b[0m in \u001b[0;36m<cell line: 0>\u001b[0;34m()\u001b[0m\n\u001b[1;32m      1\u001b[0m \u001b[0mtup\u001b[0m \u001b[0;34m=\u001b[0m \u001b[0;34m(\u001b[0m\u001b[0;36m1\u001b[0m\u001b[0;34m,\u001b[0m\u001b[0;36m2\u001b[0m\u001b[0;34m)\u001b[0m\u001b[0;34m\u001b[0m\u001b[0;34m\u001b[0m\u001b[0m\n\u001b[0;32m----> 2\u001b[0;31m \u001b[0mtup\u001b[0m\u001b[0;34m.\u001b[0m\u001b[0madd\u001b[0m\u001b[0;34m(\u001b[0m\u001b[0;34m\"e\"\u001b[0m\u001b[0;34m)\u001b[0m\u001b[0;34m\u001b[0m\u001b[0;34m\u001b[0m\u001b[0m\n\u001b[0m",
            "\u001b[0;31mAttributeError\u001b[0m: 'tuple' object has no attribute 'add'"
          ]
        }
      ]
    },
    {
      "cell_type": "code",
      "source": [
        "set1 = {1,2}\n",
        "set1.add(10)"
      ],
      "metadata": {
        "id": "775WBLwJAOkc"
      },
      "execution_count": 7,
      "outputs": []
    },
    {
      "cell_type": "code",
      "source": [
        "#What does set1.add(10) do?\n",
        "#1 point\n",
        "#Removes 10\n",
        "Adds 10 to the set\n",
        "Throws an error\n",
        "Duplicates the set"
      ],
      "metadata": {
        "id": "0udfOHL_AAHI"
      },
      "execution_count": null,
      "outputs": []
    },
    {
      "cell_type": "code",
      "source": [
        "dic = {1:2}\n",
        "dic[4]"
      ],
      "metadata": {
        "id": "s7DlYpkSAbbb",
        "outputId": "6347112c-8801-47e3-d279-8a23d799d4fa",
        "colab": {
          "base_uri": "https://localhost:8080/",
          "height": 158
        }
      },
      "execution_count": 9,
      "outputs": [
        {
          "output_type": "error",
          "ename": "KeyError",
          "evalue": "4",
          "traceback": [
            "\u001b[0;31m---------------------------------------------------------------------------\u001b[0m",
            "\u001b[0;31mKeyError\u001b[0m                                  Traceback (most recent call last)",
            "\u001b[0;32m<ipython-input-9-4d2c30a36eae>\u001b[0m in \u001b[0;36m<cell line: 0>\u001b[0;34m()\u001b[0m\n\u001b[1;32m      1\u001b[0m \u001b[0mdic\u001b[0m \u001b[0;34m=\u001b[0m \u001b[0;34m{\u001b[0m\u001b[0;36m1\u001b[0m\u001b[0;34m:\u001b[0m\u001b[0;36m2\u001b[0m\u001b[0;34m}\u001b[0m\u001b[0;34m\u001b[0m\u001b[0;34m\u001b[0m\u001b[0m\n\u001b[0;32m----> 2\u001b[0;31m \u001b[0mdic\u001b[0m\u001b[0;34m[\u001b[0m\u001b[0;36m4\u001b[0m\u001b[0;34m]\u001b[0m\u001b[0;34m\u001b[0m\u001b[0;34m\u001b[0m\u001b[0m\n\u001b[0m",
            "\u001b[0;31mKeyError\u001b[0m: 4"
          ]
        }
      ]
    },
    {
      "cell_type": "code",
      "source": [
        "\"hello world\".find(\"o\")"
      ],
      "metadata": {
        "id": "phOIz6F2AeXk",
        "outputId": "e4010c95-2a81-4fc5-ea94-9842559b99b8",
        "colab": {
          "base_uri": "https://localhost:8080/"
        }
      },
      "execution_count": 10,
      "outputs": [
        {
          "output_type": "execute_result",
          "data": {
            "text/plain": [
              "4"
            ]
          },
          "metadata": {},
          "execution_count": 10
        }
      ]
    },
    {
      "cell_type": "code",
      "source": [
        "not (True and False)\n"
      ],
      "metadata": {
        "id": "MSOWT051Axjg",
        "outputId": "9a309494-f4be-444e-df78-04d7dc9ae37b",
        "colab": {
          "base_uri": "https://localhost:8080/"
        }
      },
      "execution_count": 11,
      "outputs": [
        {
          "output_type": "execute_result",
          "data": {
            "text/plain": [
              "True"
            ]
          },
          "metadata": {},
          "execution_count": 11
        }
      ]
    },
    {
      "cell_type": "markdown",
      "source": [
        "### **Flow Control and Conditional Statement**"
      ],
      "metadata": {
        "id": "Rd_QnYm2Cszm"
      }
    },
    {
      "cell_type": "code",
      "source": [
        "#if else\n",
        "#for\n",
        "#while\n",
        "marks = int(input(\"Enter your marks: \"))                              #it will not run untill i convert into integer bcz befor it is a string\n",
        "if marks<40: print(\"You have failed the exam.\")\n",
        "\n"
      ],
      "metadata": {
        "id": "lh2QYreMBQzw",
        "outputId": "db567d73-4911-4fc5-9d51-1f828d57827b",
        "colab": {
          "base_uri": "https://localhost:8080/"
        }
      },
      "execution_count": 16,
      "outputs": [
        {
          "output_type": "stream",
          "name": "stdout",
          "text": [
            "Enter your marks: 34\n",
            "You have failed the exam.\n"
          ]
        }
      ]
    },
    {
      "cell_type": "code",
      "source": [
        "marks = int(input(\"Enter your marks: \"))                              #it will not run untill i convert into integer bcz befor it is a string\n",
        "if marks<40:\n",
        "  print(\"You have failed the exam.\")"
      ],
      "metadata": {
        "id": "0KQWCGRGDgKo",
        "outputId": "5357c920-30c0-49b2-8c38-0ea8d8c53d79",
        "colab": {
          "base_uri": "https://localhost:8080/"
        }
      },
      "execution_count": 17,
      "outputs": [
        {
          "output_type": "stream",
          "name": "stdout",
          "text": [
            "Enter your marks: 34\n",
            "You have failed the exam.\n"
          ]
        }
      ]
    },
    {
      "cell_type": "code",
      "source": [
        "marks = int(input(\"Enter your marks: \"))                              #it will not run untill i convert into integer bcz befor it is a string\n",
        "if marks<40:\n",
        "  print(\"You have failed the exam.\")\n",
        "else:\n",
        "  print(\"You passed the exam.\")"
      ],
      "metadata": {
        "id": "drM1hXoUFFJP",
        "outputId": "b8d47e0a-3b78-40b5-b9d6-8dad6575b15b",
        "colab": {
          "base_uri": "https://localhost:8080/"
        }
      },
      "execution_count": 18,
      "outputs": [
        {
          "output_type": "stream",
          "name": "stdout",
          "text": [
            "Enter your marks: 45\n",
            "You passed the exam.\n"
          ]
        }
      ]
    },
    {
      "cell_type": "code",
      "source": [
        "check = int(input(\"Enter the number\"))\n",
        "if check%2 ==0:\n",
        "  print(\"It is a even number.\")\n",
        "else:\n",
        "  print(\"It is a odd number\")"
      ],
      "metadata": {
        "id": "ow2BepgIFn1Q"
      },
      "execution_count": null,
      "outputs": []
    },
    {
      "cell_type": "markdown",
      "source": [
        "### **For Loop**"
      ],
      "metadata": {
        "id": "Nf7JP0QzNz3N"
      }
    },
    {
      "cell_type": "code",
      "source": [
        "#iterate- nothing but it's how we are picking the things or elements.\n",
        "#e.g monkey is eating all the bananas one by one.\n",
        "\n",
        "import time\n",
        "company = \"Upgrad\"\n",
        "for monkey in company:\n",
        "  print(monkey)\n",
        "  time.sleep(1)             #it will sleeping for 1 second to print next iteration."
      ],
      "metadata": {
        "id": "EzWhLUpBNyxX",
        "outputId": "5a95ec11-7505-4b42-cd73-d4b88409acc0",
        "colab": {
          "base_uri": "https://localhost:8080/"
        }
      },
      "execution_count": 19,
      "outputs": [
        {
          "output_type": "stream",
          "name": "stdout",
          "text": [
            "U\n",
            "p\n",
            "g\n",
            "r\n",
            "a\n",
            "d\n"
          ]
        }
      ]
    },
    {
      "cell_type": "code",
      "source": [
        "sales = [2345, 2363, 5844, 6463]\n",
        "for i in sales:\n",
        "  print(i*0.01)"
      ],
      "metadata": {
        "id": "qKT498kXPWSi",
        "outputId": "0a9eb603-530f-45cf-bf8f-d6210f11a028",
        "colab": {
          "base_uri": "https://localhost:8080/"
        }
      },
      "execution_count": 20,
      "outputs": [
        {
          "output_type": "stream",
          "name": "stdout",
          "text": [
            "23.45\n",
            "23.63\n",
            "58.44\n",
            "64.63\n"
          ]
        }
      ]
    },
    {
      "cell_type": "code",
      "source": [
        "#range\n",
        "list(range(0,10))"
      ],
      "metadata": {
        "id": "woLwab6KP76H",
        "outputId": "f067e988-bb8e-405b-e9cf-1e47d9a11d36",
        "colab": {
          "base_uri": "https://localhost:8080/"
        }
      },
      "execution_count": 21,
      "outputs": [
        {
          "output_type": "execute_result",
          "data": {
            "text/plain": [
              "[0, 1, 2, 3, 4, 5, 6, 7, 8, 9]"
            ]
          },
          "metadata": {},
          "execution_count": 21
        }
      ]
    },
    {
      "cell_type": "code",
      "source": [
        "list(range(53,30,-1))"
      ],
      "metadata": {
        "id": "JhdlEo_hQg5e",
        "outputId": "b0e4b3eb-4d07-4246-f15b-dfc06cd8afb7",
        "colab": {
          "base_uri": "https://localhost:8080/"
        }
      },
      "execution_count": 23,
      "outputs": [
        {
          "output_type": "execute_result",
          "data": {
            "text/plain": [
              "[53,\n",
              " 52,\n",
              " 51,\n",
              " 50,\n",
              " 49,\n",
              " 48,\n",
              " 47,\n",
              " 46,\n",
              " 45,\n",
              " 44,\n",
              " 43,\n",
              " 42,\n",
              " 41,\n",
              " 40,\n",
              " 39,\n",
              " 38,\n",
              " 37,\n",
              " 36,\n",
              " 35,\n",
              " 34,\n",
              " 33,\n",
              " 32,\n",
              " 31]"
            ]
          },
          "metadata": {},
          "execution_count": 23
        }
      ]
    },
    {
      "cell_type": "code",
      "source": [
        "sales = [2345, 2363, 5844, 6463]\n",
        "list(range(0,len(sales)))"
      ],
      "metadata": {
        "id": "0vaf1fftQrxo",
        "outputId": "738bd974-b866-4e8f-cce3-f4464f53bda9",
        "colab": {
          "base_uri": "https://localhost:8080/"
        }
      },
      "execution_count": 25,
      "outputs": [
        {
          "output_type": "execute_result",
          "data": {
            "text/plain": [
              "[0, 1, 2, 3]"
            ]
          },
          "metadata": {},
          "execution_count": 25
        }
      ]
    },
    {
      "cell_type": "code",
      "source": [
        "for i in range(0,len(sales)):\n",
        "  print(sales[i])"
      ],
      "metadata": {
        "id": "h_YwPkzcRHa8",
        "outputId": "0bd2db60-de3a-4667-96be-1fe778a69375",
        "colab": {
          "base_uri": "https://localhost:8080/"
        }
      },
      "execution_count": 27,
      "outputs": [
        {
          "output_type": "stream",
          "name": "stdout",
          "text": [
            "2345\n",
            "2363\n",
            "5844\n",
            "6463\n"
          ]
        }
      ]
    },
    {
      "cell_type": "code",
      "source": [
        "#ques is- how can we divide sales and profit.\n",
        "sales = [4565,3233,1212,3321]\n",
        "profit = [122,322,122,223]\n",
        "for i in sales:\n",
        "  for i in profit:\n",
        "    print(sales[i]/profit[i])\n"
      ],
      "metadata": {
        "id": "nbStLlaZRpzz",
        "outputId": "766a03d3-6a1d-4cb7-8d0c-e81afd052e56",
        "colab": {
          "base_uri": "https://localhost:8080/",
          "height": 176
        }
      },
      "execution_count": 33,
      "outputs": [
        {
          "output_type": "error",
          "ename": "IndexError",
          "evalue": "list index out of range",
          "traceback": [
            "\u001b[0;31m---------------------------------------------------------------------------\u001b[0m",
            "\u001b[0;31mIndexError\u001b[0m                                Traceback (most recent call last)",
            "\u001b[0;32m<ipython-input-33-6de8a50db84f>\u001b[0m in \u001b[0;36m<cell line: 0>\u001b[0;34m()\u001b[0m\n\u001b[1;32m      3\u001b[0m \u001b[0;32mfor\u001b[0m \u001b[0mi\u001b[0m \u001b[0;32min\u001b[0m \u001b[0msales\u001b[0m\u001b[0;34m:\u001b[0m\u001b[0;34m\u001b[0m\u001b[0;34m\u001b[0m\u001b[0m\n\u001b[1;32m      4\u001b[0m   \u001b[0;32mfor\u001b[0m \u001b[0mi\u001b[0m \u001b[0;32min\u001b[0m \u001b[0mprofit\u001b[0m\u001b[0;34m:\u001b[0m\u001b[0;34m\u001b[0m\u001b[0;34m\u001b[0m\u001b[0m\n\u001b[0;32m----> 5\u001b[0;31m     \u001b[0mprint\u001b[0m\u001b[0;34m(\u001b[0m\u001b[0msales\u001b[0m\u001b[0;34m[\u001b[0m\u001b[0mi\u001b[0m\u001b[0;34m]\u001b[0m\u001b[0;34m/\u001b[0m\u001b[0mprofit\u001b[0m\u001b[0;34m[\u001b[0m\u001b[0mi\u001b[0m\u001b[0;34m]\u001b[0m\u001b[0;34m)\u001b[0m\u001b[0;34m\u001b[0m\u001b[0;34m\u001b[0m\u001b[0m\n\u001b[0m",
            "\u001b[0;31mIndexError\u001b[0m: list index out of range"
          ]
        }
      ]
    },
    {
      "cell_type": "code",
      "source": [
        "sales = [4565,3233,1212,3321]\n",
        "profit = [122,322,122,223]\n",
        "for i in range(0,len(sales)):\n",
        "  print(sales[i]/profit[i])\n"
      ],
      "metadata": {
        "id": "JZkhb8ivR1gy",
        "outputId": "1fddc214-900e-44b4-c3b4-4a9096ace618",
        "colab": {
          "base_uri": "https://localhost:8080/"
        }
      },
      "execution_count": 34,
      "outputs": [
        {
          "output_type": "stream",
          "name": "stdout",
          "text": [
            "37.41803278688525\n",
            "10.040372670807454\n",
            "9.934426229508198\n",
            "14.89237668161435\n"
          ]
        }
      ]
    },
    {
      "cell_type": "markdown",
      "source": [
        "## **Armstrong numbers**"
      ],
      "metadata": {
        "id": "oqPzmQn7Ua22"
      }
    },
    {
      "cell_type": "code",
      "source": [
        "#if the power of the each number is equals to the power of the total number of elements and if the addition of the number is same so it is a armstrong number.\n",
        "#153 = 1**3 + 5**3+ 3**3 == 153\n",
        "\n",
        "number = input(\"Enter the number: \")\n",
        "length = len(number)\n",
        "result = 0\n",
        "for i in number:\n",
        "  result = result + int(i)**length\n",
        "print(result)\n",
        "if result == int(number):\n",
        "  print(\"It is a armstrong number.\")\n",
        "else:\n",
        "  print(\"It is not a armstrong number.\")"
      ],
      "metadata": {
        "id": "3IHjk5cBTZfv",
        "outputId": "b37e4c13-e969-4cd6-af8b-fd7d72d5fe01",
        "colab": {
          "base_uri": "https://localhost:8080/"
        }
      },
      "execution_count": 36,
      "outputs": [
        {
          "output_type": "stream",
          "name": "stdout",
          "text": [
            "Enter the number: 153\n",
            "153\n",
            "It is a armstrong number.\n"
          ]
        }
      ]
    },
    {
      "cell_type": "code",
      "source": [
        "#while loop-     Works till the condition is true and this is the example of infinite loop.\n",
        "#while 1 == 1:\n",
        "#  print(\"hi\")"
      ],
      "metadata": {
        "id": "4iNXs9p1W0_Y"
      },
      "execution_count": 38,
      "outputs": []
    },
    {
      "cell_type": "code",
      "source": [
        "#normal loop\n",
        "coupan = 5\n",
        "utilized = 0\n",
        "while utilized<coupan:\n",
        "  print(\"total coupan left\", coupan-utilized)\n",
        "  utilized += 1\n",
        "print(\"No coupan left\")"
      ],
      "metadata": {
        "id": "CaL3xBfVa05h",
        "outputId": "6a13e78c-4a70-4992-c8e6-7e446b952a9a",
        "colab": {
          "base_uri": "https://localhost:8080/"
        }
      },
      "execution_count": 40,
      "outputs": [
        {
          "output_type": "stream",
          "name": "stdout",
          "text": [
            "total coupan left 5\n",
            "total coupan left 4\n",
            "total coupan left 3\n",
            "total coupan left 2\n",
            "total coupan left 1\n",
            "No coupan left\n"
          ]
        }
      ]
    },
    {
      "cell_type": "code",
      "source": [
        "number = int(input(\"Enter the number: \"))\n",
        "result = 1\n",
        "while number>0:\n",
        "  result = result*number\n",
        "  number = number-1\n",
        "print(result)"
      ],
      "metadata": {
        "id": "vzTEKCG0cIR_",
        "outputId": "cf0f6808-3568-44a6-8f80-f8205c933449",
        "colab": {
          "base_uri": "https://localhost:8080/"
        }
      },
      "execution_count": 42,
      "outputs": [
        {
          "output_type": "stream",
          "name": "stdout",
          "text": [
            "Enter the number: 5\n",
            "120\n"
          ]
        }
      ]
    },
    {
      "cell_type": "code",
      "source": [
        "number = int(input(\"Enter the number: \"))\n",
        "if number<0:\n",
        "  print(\"Factorial of less than zero is not possible.\")\n",
        "else:\n",
        "  result = 1\n",
        "  while number>0:\n",
        "    result = result*number\n",
        "    number = number-1\n",
        "  print(result)"
      ],
      "metadata": {
        "id": "9V9rXXqcdRMk",
        "outputId": "9886d116-1e50-4fc5-eca5-69aa0d11953e",
        "colab": {
          "base_uri": "https://localhost:8080/"
        }
      },
      "execution_count": 43,
      "outputs": [
        {
          "output_type": "stream",
          "name": "stdout",
          "text": [
            "Enter the number: 5\n",
            "120\n"
          ]
        }
      ]
    },
    {
      "cell_type": "code",
      "source": [],
      "metadata": {
        "id": "JA6VUtR2eIPF"
      },
      "execution_count": null,
      "outputs": []
    }
  ]
}